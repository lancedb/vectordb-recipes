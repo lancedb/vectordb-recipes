{
 "cells": [
  {
   "cell_type": "markdown",
   "metadata": {},
   "source": [
    "## Imagebind demo\n",
    "\n",
    "This notebook runs the gradio interface for the demo app"
   ]
  },
  {
   "cell_type": "code",
   "execution_count": 1,
   "metadata": {},
   "outputs": [],
   "source": [
    "! rm -rf /tmp/lancedb"
   ]
  },
  {
   "cell_type": "code",
   "execution_count": 2,
   "metadata": {},
   "outputs": [
    {
     "name": "stdout",
     "output_type": "stream",
     "text": [
      "Image file downloaded successfully and saved as '/Users/raghavdixit/Desktop/open_source/vectordb-recipes_rd/examples/imagebind_demo/test_inputs/abf47cc4-d979-4aaa-83be-53a2115bf318.jpeg'.\n",
      "Image file downloaded successfully and saved as '/Users/raghavdixit/Desktop/open_source/vectordb-recipes_rd/examples/imagebind_demo/test_inputs/93be928e-522b-4e37-889d-d4efd54b2112.jpeg'.\n",
      "Image file downloaded successfully and saved as '/Users/raghavdixit/Desktop/open_source/vectordb-recipes_rd/examples/imagebind_demo/test_inputs/025deaff-632a-4829-a86c-3de6e326402f.jpeg'.\n",
      "Audio file downloaded successfully and saved as '/Users/raghavdixit/Desktop/open_source/vectordb-recipes_rd/examples/imagebind_demo/test_inputs/bird_audio.wav'.\n",
      "Audio file downloaded successfully and saved as '/Users/raghavdixit/Desktop/open_source/vectordb-recipes_rd/examples/imagebind_demo/test_inputs/dragon-growl-37570.wav'.\n",
      "Audio file downloaded successfully and saved as '/Users/raghavdixit/Desktop/open_source/vectordb-recipes_rd/examples/imagebind_demo/test_inputs/car_audio.wav'.\n",
      "/Users/raghavdixit/Desktop/open_source/vectordb-recipes_rd/.env/lib/python3.10/site-packages/torchvision/transforms/_functional_video.py:6: UserWarning: The 'torchvision.transforms._functional_video' module is deprecated since 0.12 and will be removed in the future. Please use the 'torchvision.transforms.functional' module instead.\n",
      "  warnings.warn(\n",
      "/Users/raghavdixit/Desktop/open_source/vectordb-recipes_rd/.env/lib/python3.10/site-packages/torchvision/transforms/_transforms_video.py:22: UserWarning: The 'torchvision.transforms._transforms_video' module is deprecated since 0.12 and will be removed in the future. Please use the 'torchvision.transforms' module instead.\n",
      "  warnings.warn(\n",
      "Running on local URL:  http://127.0.0.1:7860\n",
      "Running on public URL: https://fa004aa278890e4e7a.gradio.live\n",
      "\n",
      "This share link expires in 72 hours. For free permanent hosting and GPU upgrades, run `gradio deploy` from Terminal to deploy to Spaces (https://huggingface.co/spaces)\n",
      "^C\n",
      "Keyboard interruption in main thread... closing server.\n",
      "Killing tunnel 127.0.0.1:7860 <> https://fa004aa278890e4e7a.gradio.live\n"
     ]
    }
   ],
   "source": [
    "! python3 ./app.py"
   ]
  }
 ],
 "metadata": {
  "kernelspec": {
   "display_name": "Python 3",
   "language": "python",
   "name": "python3"
  },
  "language_info": {
   "codemirror_mode": {
    "name": "ipython",
    "version": 3
   },
   "file_extension": ".py",
   "mimetype": "text/x-python",
   "name": "python",
   "nbconvert_exporter": "python",
   "pygments_lexer": "ipython3",
   "version": "3.10.13"
  }
 },
 "nbformat": 4,
 "nbformat_minor": 2
}

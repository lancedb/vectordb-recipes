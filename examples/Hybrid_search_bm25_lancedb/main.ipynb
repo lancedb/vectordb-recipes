{
 "cells": [
  {
   "cell_type": "markdown",
   "metadata": {
    "id": "nQHAWIkmK08L"
   },
   "source": [
    "# **Hybrid Search**\n",
    "**BM25** is a sophisticated ranking function used in information retrieval. Acting like a highly efficient librarian, it excels in navigating through extensive collections of documents. Its effectiveness lies in term Frequency: Evaluating how often search terms appear in each document. Document Length Normalization: Ensuring a fair chance for both short and long documents in search results. Bias-Free Information Retrieval: Ideal for large data sets where unbiased results are critical. About LanceDB (VectorDB) LanceDB extends our search capabilities beyond mere keyword matching. It brings in a layer of contextual understanding, interpreting the semantics of search queries to provide results that align with the intended meaning\n",
    "\n",
    "**Hybrid Search Approach** - Our hybrid search system synergizes BM25's keyword-focused precision with LanceDB's semantic understanding. This duo delivers nuanced, comprehensive search results, perfect for complex and varied datasets."
   ]
  },
  {
   "cell_type": "markdown",
   "metadata": {
    "id": "NhXas2ftK08N"
   },
   "source": [
    "## Installing all the dependencies"
   ]
  },
  {
   "cell_type": "code",
   "execution_count": 10,
   "metadata": {
    "id": "RRYSu48huSUW"
   },
   "outputs": [],
   "source": [
    "!pip -q install langchain huggingface_hub  langchain_openai lancedb openai  tiktoken  rank_bm25 pypdf"
   ]
  },
  {
   "cell_type": "code",
   "execution_count": 2,
   "metadata": {
    "id": "dNA4TsHpu6OM"
   },
   "outputs": [],
   "source": [
    "# pass openai api key\n",
    "import os\n",
    "\n",
    "os.environ[\"OPENAI_API_KEY\"] = \"sk-\""
   ]
  },
  {
   "cell_type": "markdown",
   "metadata": {
    "id": "IC9MvzU04XLL"
   },
   "source": [
    "### OpenSource Models\n",
    "https://github.com/lancedb/vectordb-recipes/blob/main/tutorials/chatbot_using_Llama2_&_lanceDB\n",
    "\n",
    "You can also compare your results with normal retriever vs ensemble retriever"
   ]
  },
  {
   "cell_type": "markdown",
   "metadata": {
    "id": "gJq7RFOw3ULM"
   },
   "source": [
    "## Hybrid Search"
   ]
  },
  {
   "cell_type": "markdown",
   "metadata": {
    "id": "HqwsGJDhvAQ5"
   },
   "source": [
    "**BM25 Retriever** - Sparse retriever\n",
    "\n",
    "**Embeddings** - Dense retrievers Lancedb\n",
    "\n",
    "`Hybrid search = Sparse + Dense retriever`"
   ]
  },
  {
   "cell_type": "markdown",
   "metadata": {
    "id": "smNHWeu_K08P"
   },
   "source": [
    "## Load the data"
   ]
  },
  {
   "cell_type": "code",
   "execution_count": 3,
   "metadata": {
    "colab": {
     "base_uri": "https://localhost:8080/"
    },
    "id": "s4hg4oaS0ssW",
    "outputId": "cfaf7b6a-b704-47be-b107-497e2f371519"
   },
   "outputs": [
    {
     "name": "stdout",
     "output_type": "stream",
     "text": [
      "--2024-01-23 21:19:49--  https://pdf.usaid.gov/pdf_docs/PA00TBCT.pdf\n",
      "Resolving pdf.usaid.gov (pdf.usaid.gov)... 23.1.203.79, 2600:1408:7:1b8::1923, 2600:1408:7:1b4::1923\n",
      "Connecting to pdf.usaid.gov (pdf.usaid.gov)|23.1.203.79|:443... connected.\n",
      "HTTP request sent, awaiting response... 200 OK\n",
      "Length: 6419525 (6.1M) [application/pdf]\n",
      "Saving to: ‘PA00TBCT.pdf’\n",
      "\n",
      "PA00TBCT.pdf        100%[===================>]   6.12M  26.3MB/s    in 0.2s    \n",
      "\n",
      "2024-01-23 21:19:49 (26.3 MB/s) - ‘PA00TBCT.pdf’ saved [6419525/6419525]\n",
      "\n"
     ]
    }
   ],
   "source": [
    "# download the pdf\n",
    "!wget https://pdf.usaid.gov/pdf_docs/PA00TBCT.pdf"
   ]
  },
  {
   "cell_type": "code",
   "execution_count": 6,
   "metadata": {
    "id": "xbWHSFWXK08P"
   },
   "outputs": [],
   "source": [
    "# load single pdf\n",
    "from langchain.document_loaders import PyPDFLoader\n",
    "\n",
    "loader = PyPDFLoader(\"/content/PA00TBCT.pdf\")\n",
    "pages = loader.load_and_split()"
   ]
  },
  {
   "cell_type": "markdown",
   "metadata": {
    "id": "bQDbbOWRK08Q"
   },
   "source": [
    "## Importing all the libraries"
   ]
  },
  {
   "cell_type": "code",
   "execution_count": 11,
   "metadata": {
    "id": "7gWOeb1KK08Q"
   },
   "outputs": [],
   "source": [
    "from langchain.vectorstores import LanceDB\n",
    "import lancedb\n",
    "from langchain.retrievers import BM25Retriever, EnsembleRetriever\n",
    "from langchain.schema import Document\n",
    "from langchain.embeddings.openai import OpenAIEmbeddings\n",
    "from langchain.document_loaders import PyPDFLoader\n",
    "from langchain_openai import ChatOpenAI\n",
    "from langchain.chains import RetrievalQA"
   ]
  },
  {
   "cell_type": "markdown",
   "metadata": {
    "id": "sRpdAIugK08Q"
   },
   "source": [
    "## Initialize Embeddings"
   ]
  },
  {
   "cell_type": "code",
   "execution_count": 12,
   "metadata": {
    "colab": {
     "base_uri": "https://localhost:8080/"
    },
    "id": "vTFiRfioK08Q",
    "outputId": "48d8d688-28fb-438c-be1b-c8ec1694b5c9"
   },
   "outputs": [
    {
     "name": "stderr",
     "output_type": "stream",
     "text": [
      "/usr/local/lib/python3.10/dist-packages/langchain_core/_api/deprecation.py:117: LangChainDeprecationWarning: The class `langchain_community.embeddings.openai.OpenAIEmbeddings` was deprecated in langchain-community 0.1.0 and will be removed in 0.2.0. An updated version of the class exists in the langchain-openai package and should be used instead. To use it run `pip install -U langchain-openai` and import as `from langchain_openai import OpenAIEmbeddings`.\n",
      "  warn_deprecated(\n"
     ]
    }
   ],
   "source": [
    "# Initialize embeddings\n",
    "embedding = OpenAIEmbeddings()"
   ]
  },
  {
   "cell_type": "markdown",
   "metadata": {
    "id": "7JBAAIUfK08Q"
   },
   "source": [
    "## Initialize the BM25"
   ]
  },
  {
   "cell_type": "code",
   "execution_count": 13,
   "metadata": {
    "colab": {
     "base_uri": "https://localhost:8080/"
    },
    "id": "FSnrZoVjK08Q",
    "outputId": "ce3b94b5-0ac3-40f8-8973-42ac0eb6f03d"
   },
   "outputs": [
    {
     "name": "stdout",
     "output_type": "stream",
     "text": [
      "type of bm25 <class 'langchain_community.retrievers.bm25.BM25Retriever'>\n"
     ]
    }
   ],
   "source": [
    "# Initialize the BM25 retriever\n",
    "bm25_retriever = BM25Retriever.from_documents(pages)\n",
    "bm25_retriever.k = 2  # Retrieve top 2 results\n",
    "\n",
    "print(\"type of bm25\", type(bm25_retriever))"
   ]
  },
  {
   "cell_type": "markdown",
   "metadata": {
    "id": "KQ7gKiwxK08R"
   },
   "source": [
    "## Initialize the database"
   ]
  },
  {
   "cell_type": "code",
   "execution_count": 14,
   "metadata": {
    "id": "sbW5Mmv-K08R"
   },
   "outputs": [],
   "source": [
    "db = lancedb.connect(\"/tmp/lancedb\")\n",
    "table = db.create_table(\n",
    "    \"pandas_docs\",\n",
    "    data=[\n",
    "        {\n",
    "            \"vector\": embedding.embed_query(\"Hello World\"),\n",
    "            \"text\": \"Hello World\",\n",
    "            \"id\": \"1\",\n",
    "        }\n",
    "    ],\n",
    "    mode=\"overwrite\",\n",
    ")\n",
    "# docsearch = LanceDB.from_texts(doc_list, embedding, connection=table)\n",
    "# retriever_lancedb = docsearch.as_retriever(search_kwargs={\"k\": 2})"
   ]
  },
  {
   "cell_type": "markdown",
   "metadata": {
    "id": "ELjUfEyXK08R"
   },
   "source": [
    "## Instantiate the retriever"
   ]
  },
  {
   "cell_type": "code",
   "execution_count": 15,
   "metadata": {
    "id": "OqqpYi8IK08R"
   },
   "outputs": [],
   "source": [
    "# Initialize LanceDB retriever\n",
    "docsearch = LanceDB.from_documents(pages, embedding, connection=table)\n",
    "retriever_lancedb = docsearch.as_retriever(search_kwargs={\"k\": 2})\n",
    "\n",
    "# Initialize the ensemble retriever\n",
    "ensemble_retriever = EnsembleRetriever(\n",
    "    retrievers=[bm25_retriever, retriever_lancedb], weights=[0.2, 0.8]\n",
    ")"
   ]
  },
  {
   "cell_type": "markdown",
   "metadata": {
    "id": "T3KdbcfzK08R"
   },
   "source": [
    "## Query"
   ]
  },
  {
   "cell_type": "code",
   "execution_count": 16,
   "metadata": {
    "colab": {
     "base_uri": "https://localhost:8080/"
    },
    "id": "pSdnMrR0ujeA",
    "outputId": "85bcbc47-99f4-4853-bd44-3aace2a4f090"
   },
   "outputs": [
    {
     "data": {
      "text/plain": [
       "[Document(page_content='Food and Nutrition Handbook for Extension Workers34guidelines for selecting energy-giving foods, body-building foods \\nand protective foods. Pregnant women especially need foods rich in \\niron and vitamin A in addition to the balanced diet. Iron needs are \\nhighly increased partly due to the need to build reserves for child \\nup to six months after birth before initiating complementary food \\nintake.\\n• Pregnant women need to take foods rich in calcium, e.g., milk and mukene (silver fish) partly to take care of the increased requirement \\nfor building the foetus skeletal structure.\\n• Pregnant women have higher needs for nutrients generally and \\nshould take snacks in between meals.\\nIn addition, pregnant women should be educated to strictly observe the \\nfollowing:\\n1. Take the required amounts of iron and folic acid supplements to \\nprevent anaemia.\\n2. Sleep under an insecticide-treated mosquito net.\\n3. Visit the nearest health facility at least four (4) times for antenatal \\ncare. This will enable them access a number of services that prepare \\nthem to deliver a healthy baby.\\n4. Deliver in a healthy facility with the help of a skilled health worker.\\n5. Get deworming pills, IPT and tetanus vaccine from a health facility.6. Avoid excessive workloads therefore community and family support \\nmechanisms should be encouraged.\\n7. Pregnant women should limit intake of alcohol, cigarettes. These \\ncause negative effects on the foetus.\\n8. Should strictly take drugs on advice of the health personnel as some \\nof them are potentially harmful to the unborn child.\\n9. Avoid negative cultural practices that reduce the intake of nutritious \\nfoods or impact negatively on their health such as:\\n• Not consuming chicken and eggs.\\n• Pregnant women not defecating in toilets/pit latrines.', metadata={'vector': array([ 0.00717631, -0.01044433, -0.00710961, ..., -0.01461939,\n",
       "        -0.0017824 , -0.00031492], dtype=float32), 'id': '848637ea-71cd-44dc-9c72-b184db9d756d', '_distance': 0.2443300187587738}),\n",
       " Document(page_content='Food and Nutrition Handbook for Extension Workers35Nutrition \\tfor\\tbreastfeeding \\tmothers\\nNutritional requirements during breastfeeding are higher than during \\npregnancy because the mother has to produce enough milk to sustain a baby (bigger than the foetus) for the first six months and beyond. Breast -\\nfeeding women need to eat a wide variety of foods.\\nNutrition guidelines for pregnant women as well apply here but a \\nlactating mother needs to eat much more; that is to say one extra meal (five meals in total).\\nBreastfeeding mothers should also take a lot of fluids to cater for the \\nhigh amounts of water used to make breast milk. They should avoid self-medication, smoking and alcohol to prevent intoxicating the baby.\\nBreastfeeding mothers should avoid stress and have enough rest.KEY MESSAGES \\n• Ensure that a pregnant mother has a balanced diet, with a vari-\\nety of foods from the food groups, and has one additional meal \\nin addition to the 3 meals she receives daily. The fourth meal \\ncaters to her physiological needs.\\n• Pregnant women should take iron and folate tablets daily in addition to foods rich in iron, calcium and vitamin A.\\nKEY MESSAGES \\n• Ensure that a breastfeeding mother take a balanced diet and in addition to 3 meals daily receives 2 extra meals a day to main -\\ntain her health and that of her baby.\\n• A pregnant woman and breastfeeding mother should eat a variety of foods from the main food groups daily.', metadata={'vector': array([-0.00474496, -0.00134019, -0.00624883, ..., -0.01645179,\n",
       "        -0.00843981,  0.0003867 ], dtype=float32), 'id': '07e42761-7d25-4f38-bcc8-60fcba6a3d6b', '_distance': 0.24486035108566284}),\n",
       " Document(page_content='Food and Nutrition Handbook for Extension Workers33CHAPTER FOUR\\nESSENTIAL NUTRITION ACTIONS IN \\nAGRICULTURE\\nThe Ministry of Agriculture, Animal Industry and Fisheries shares a \\nrole in executing essential nutrition actions. Those areas where the \\nministry of agriculture can contribute towards nutrition improvement are:\\n• Promoting control of anaemia.\\n• Promoting production and consumption of iron-rich foods.\\n• Promoting production and consumption of vitamin A-rich foods.\\n• Promoting consumption of iodized salt.\\n• Promoting vitamin A supplementation.\\n• Ensuring adequate intake of quality food for the household mem -\\nbers.\\n• Reduction of women workload in agriculture.\\nTherefore, consistent with these actions, the Ministry is concerned with nutrition for pregnant mothers, breastfeeding mothers and children below five years.\\nNutrition \\tfor\\tpregnant \\twomen\\nIt is necessary that a woman is well nourished before pregnancy so that by the time she conceives, the body has sufficient capacity to meet both her and the baby’s needs. A malnourished woman may fail to deliver baby alive or if she does, the baby is likely to be underweight (the normal range is 2.5–4.5 kg at birth). One of the leading causes of maternal death at childbirth is insufficient blood.\\nDuring pregnancy women have high nutrient needs because they have \\nto build foetus tissue, build reserves for breast milk and also cater for \\ntheir own nutritional needs. On average women should gain 8\\n–12 kg in \\nthe course of pregnancy. Pregnant women need to eat more food rather \\nthan decrease the intake.\\n• Pregnant women need to consume balanced diet following the', metadata={'source': '/content/PA00TBCT.pdf', 'page': 44}),\n",
       " Document(page_content='Food and Nutrition Handbook for Extension Workers20Prevalence \\tof\\tmalnutrition \\tin\\tUganda\\nMalnutrition is one of the main public health and economic and devel -\\nopment problems facing Uganda. Children below the age of five years \\nand women in reproductive age including pregnant women and lactating \\nmothers are mostly affected (UDHS 2011). Children below the age of 5 years suffer mostly from under nutrition with:\\n• 33% of these children suffer from chronic undernutrition (they are \\nstunted)\\n• 14% are underweight (body weight too light for their age)\\n• 49% suffer from iron deficiency anaemia (lack of iron/blood)\\n• 60% suffer from different forms of iodine deficiency disorders (IDD) \\nLikewise women in reproductive age (15 –49 years) also suffer from \\nmalnutrition:\\n• 52% of pregnant women and lactating mothers have vitamin A defi-\\nciency\\n• 23% suffered from iron deficiency anaemia\\n \\nFigure\\t1.\\tSummary \\tof\\ttypes\\tand\\tcategories \\tof\\tmalnutrition', metadata={'source': '/content/PA00TBCT.pdf', 'page': 31})]"
      ]
     },
     "execution_count": 16,
     "metadata": {},
     "output_type": "execute_result"
    }
   ],
   "source": [
    "# Example customer query\n",
    "query = \"what nutrition needed for pregnant women ?\"\n",
    "\n",
    "\n",
    "# Retrieve relevant documents/products\n",
    "docs = ensemble_retriever.get_relevant_documents(query)\n",
    "\n",
    "# Extract and print only the page content from each document\n",
    "# for doc in docs:\n",
    "#     print(doc.page_content)\n",
    "\n",
    "docs"
   ]
  },
  {
   "cell_type": "markdown",
   "metadata": {
    "id": "1DIpWoPOvykU"
   },
   "source": [
    "## Ask questions on this retriever doc"
   ]
  },
  {
   "cell_type": "code",
   "execution_count": 18,
   "metadata": {
    "colab": {
     "base_uri": "https://localhost:8080/",
     "height": 70
    },
    "id": "dxISRtkPuw1e",
    "outputId": "be75a901-bac0-4410-d8e4-8a2eb9bd29e8"
   },
   "outputs": [
    {
     "data": {
      "application/vnd.google.colaboratory.intrinsic+json": {
       "type": "string"
      },
      "text/plain": [
       "'Pregnant women need a balanced diet that includes a variety of foods from all food groups. They should consume foods rich in iron, calcium, and vitamin A. It is also important for pregnant women to take iron and folate supplements to prevent anemia. Additionally, pregnant women should have regular snacks in between meals to meet their increased nutrient needs. They should avoid excessive workloads, limit intake of alcohol and cigarettes, and strictly follow the advice of healthcare professionals regarding medication. Pregnant women should also practice good hygiene and avoid negative cultural practices that may impact their health.'"
      ]
     },
     "execution_count": 18,
     "metadata": {},
     "output_type": "execute_result"
    }
   ],
   "source": [
    "llm = ChatOpenAI(openai_api_key=os.environ[\"OPENAI_API_KEY\"])\n",
    "\n",
    "qa = RetrievalQA.from_chain_type(\n",
    "    llm=llm, chain_type=\"stuff\", retriever=ensemble_retriever\n",
    ")\n",
    "\n",
    "\n",
    "query = \"what nutrition is needed for pregnant women  \"\n",
    "qa.run(query)"
   ]
  },
  {
   "cell_type": "code",
   "execution_count": 19,
   "metadata": {
    "colab": {
     "base_uri": "https://localhost:8080/",
     "height": 105
    },
    "id": "dkGU_jKf2k6G",
    "outputId": "b4c3efcd-aa33-4440-ea36-1bfa92022a75"
   },
   "outputs": [
    {
     "data": {
      "application/vnd.google.colaboratory.intrinsic+json": {
       "type": "string"
      },
      "text/plain": [
       "\"For building strong bones and teeth, the following foods are important:\\n\\n1. Calcium: Dairy products such as milk, cheese, and yogurt are excellent sources of calcium. Other sources include fish with edible bones (such as canned salmon or sardines), tofu, almonds, and leafy green vegetables like kale and broccoli.\\n\\n2. Vitamin D: Vitamin D helps the body absorb calcium and is crucial for bone health. Food sources of vitamin D include fatty fish like salmon and mackerel, egg yolks, and fortified foods like milk and orange juice. The body can also produce vitamin D when the skin is exposed to sunlight.\\n\\n3. Phosphorus: Phosphorus works together with calcium to build strong bones and teeth. Good sources of phosphorus include dairy products, meat, fish, poultry, whole grains, and nuts.\\n\\n4. Vitamin K: Vitamin K plays a role in bone metabolism and helps with the formation of osteocalcin, a protein that is necessary for bone strength. Good sources of vitamin K include leafy green vegetables like spinach and kale, broccoli, and Brussels sprouts.\\n\\n5. Magnesium: Magnesium is involved in the formation of bone crystals and helps regulate calcium levels in the body. Food sources of magnesium include nuts, seeds, whole grains, legumes, and leafy green vegetables.\\n\\nIt's important to note that a balanced diet that includes a variety of nutrient-rich foods is essential for overall bone health. Consulting with a healthcare professional or registered dietitian can provide personalized guidance on meeting your specific nutrient needs.\""
      ]
     },
     "execution_count": 19,
     "metadata": {},
     "output_type": "execute_result"
    }
   ],
   "source": [
    "query = \"which food needed for building strong bones and teeth ? which Vitamin & minerals importat for this? \"\n",
    "qa.run(query)"
   ]
  },
  {
   "cell_type": "markdown",
   "metadata": {
    "id": "XNZdNIUM2etT"
   },
   "source": [
    "## Bonus\n",
    "### FTS is another important feature for extracting all info .. if any one word is matching"
   ]
  },
  {
   "cell_type": "markdown",
   "metadata": {
    "id": "vhnitNN7GqY-"
   },
   "source": [
    "**Usecase** : E-Commerce Product Search\n",
    "\n",
    "**Context**: Customers searching for products on an e-commerce website.\n",
    "\n",
    "Application: When a customer types a query (like \"fitness t-shirt\"), the system uses the ensemble retriever to find the most relevant products from the product descriptions. The BM25 component helps capture keyword-based matches, while the dense vector retriever (LanceDB) understands the semantic context of the query."
   ]
  },
  {
   "cell_type": "code",
   "execution_count": 20,
   "metadata": {
    "colab": {
     "base_uri": "https://localhost:8080/"
    },
    "id": "kQS-HZJsuzUX",
    "outputId": "cdaa2df4-0bd6-4a8a-aabb-a2027df365e0"
   },
   "outputs": [
    {
     "name": "stdout",
     "output_type": "stream",
     "text": [
      "Requirement already satisfied: tantivy==0.20.1 in /usr/local/lib/python3.10/dist-packages (0.20.1)\n"
     ]
    }
   ],
   "source": [
    "!pip install tantivy==0.20.1"
   ]
  },
  {
   "cell_type": "markdown",
   "metadata": {
    "id": "yh1IdakP4yOa"
   },
   "source": [
    "read more about fts https://lancedb.github.io/lancedb/fts/"
   ]
  },
  {
   "cell_type": "code",
   "execution_count": 21,
   "metadata": {
    "colab": {
     "base_uri": "https://localhost:8080/"
    },
    "id": "EEvixPQiarAo",
    "outputId": "a36a8780-da8c-451b-f537-5c856195eff9"
   },
   "outputs": [
    {
     "name": "stdout",
     "output_type": "stream",
     "text": [
      "['Frodo was a happy puppy']\n"
     ]
    }
   ],
   "source": [
    "# example of FTS. when you want to serch whole text\n",
    "import lancedb\n",
    "\n",
    "uri = \"data/sample-lancedb\"\n",
    "db = lancedb.connect(uri)\n",
    "\n",
    "table = db.create_table(\n",
    "    \"my_tableasd\",\n",
    "    data=[\n",
    "        {\"vector\": [3.1, 4.1], \"text\": \"Frodo was a happy puppy\"},\n",
    "        {\"vector\": [5.9, 26.5], \"text\": \"There are several kittens playing\"},\n",
    "    ],\n",
    ")\n",
    "\n",
    "\n",
    "table.create_fts_index(\"text\")\n",
    "\n",
    "\n",
    "x = table.search(\"puppy\").limit(10).select([\"text\"]).to_list()\n",
    "\n",
    "\n",
    "texts = [item[\"text\"] for item in x]\n",
    "print(texts)"
   ]
  },
  {
   "cell_type": "code",
   "execution_count": 21,
   "metadata": {
    "id": "2zWO0EI2MYCd"
   },
   "outputs": [],
   "source": []
  }
 ],
 "metadata": {
  "colab": {
   "provenance": []
  },
  "kernelspec": {
   "display_name": "Python 3 (ipykernel)",
   "language": "python",
   "name": "python3"
  },
  "language_info": {
   "codemirror_mode": {
    "name": "ipython",
    "version": 3
   },
   "file_extension": ".py",
   "mimetype": "text/x-python",
   "name": "python",
   "nbconvert_exporter": "python",
   "pygments_lexer": "ipython3",
   "version": "3.12.1"
  }
 },
 "nbformat": 4,
 "nbformat_minor": 0
}

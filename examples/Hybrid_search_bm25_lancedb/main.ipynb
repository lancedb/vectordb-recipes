{
 "cells": [
  {
   "cell_type": "markdown",
   "metadata": {},
   "source": [
    "# **Hybrid Search**\n",
    "**BM25** is a sophisticated ranking function used in information retrieval. Acting like a highly efficient librarian, it excels in navigating through extensive collections of documents. Its effectiveness lies in term Frequency: Evaluating how often search terms appear in each document. Document Length Normalization: Ensuring a fair chance for both short and long documents in search results. Bias-Free Information Retrieval: Ideal for large data sets where unbiased results are critical. About LanceDB (VectorDB) LanceDB extends our search capabilities beyond mere keyword matching. It brings in a layer of contextual understanding, interpreting the semantics of search queries to provide results that align with the intended meaning\n",
    "\n",
    "**Hybrid Search Approach** - Our hybrid search system synergizes BM25's keyword-focused precision with LanceDB's semantic understanding. This duo delivers nuanced, comprehensive search results, perfect for complex and varied datasets."
   ]
  },
  {
   "cell_type": "markdown",
   "metadata": {},
   "source": [
    "## Installing all the dependencies"
   ]
  },
  {
   "cell_type": "code",
   "execution_count": null,
   "metadata": {
    "colab": {
     "base_uri": "https://localhost:8080/"
    },
    "id": "RRYSu48huSUW",
    "outputId": "aed7c019-14c8-49db-80aa-2413fe712526"
   },
   "outputs": [
    {
     "name": "stdout",
     "output_type": "stream",
     "text": [
      "\u001b[2K     \u001b[90m━━━━━━━━━━━━━━━━━━━━━━━━━━━━━━━━━━━━━━━━\u001b[0m \u001b[32m2.0/2.0 MB\u001b[0m \u001b[31m18.1 MB/s\u001b[0m eta \u001b[36m0:00:00\u001b[0m\n",
      "\u001b[2K     \u001b[90m━━━━━━━━━━━━━━━━━━━━━━━━━━━━━━━━━━━━━━━━\u001b[0m \u001b[32m78.4/78.4 kB\u001b[0m \u001b[31m10.0 MB/s\u001b[0m eta \u001b[36m0:00:00\u001b[0m\n",
      "\u001b[2K     \u001b[90m━━━━━━━━━━━━━━━━━━━━━━━━━━━━━━━━━━━━━━━━\u001b[0m \u001b[32m221.4/221.4 kB\u001b[0m \u001b[31m24.4 MB/s\u001b[0m eta \u001b[36m0:00:00\u001b[0m\n",
      "\u001b[2K     \u001b[90m━━━━━━━━━━━━━━━━━━━━━━━━━━━━━━━━━━━━━━━━\u001b[0m \u001b[32m2.0/2.0 MB\u001b[0m \u001b[31m63.1 MB/s\u001b[0m eta \u001b[36m0:00:00\u001b[0m\n",
      "\u001b[2K     \u001b[90m━━━━━━━━━━━━━━━━━━━━━━━━━━━━━━━━━━━━━━━━\u001b[0m \u001b[32m277.6/277.6 kB\u001b[0m \u001b[31m28.2 MB/s\u001b[0m eta \u001b[36m0:00:00\u001b[0m\n",
      "\u001b[2K     \u001b[90m━━━━━━━━━━━━━━━━━━━━━━━━━━━━━━━━━━━━━━━━\u001b[0m \u001b[32m181.5/181.5 kB\u001b[0m \u001b[31m17.8 MB/s\u001b[0m eta \u001b[36m0:00:00\u001b[0m\n",
      "\u001b[2K     \u001b[90m━━━━━━━━━━━━━━━━━━━━━━━━━━━━━━━━━━━━━━━━\u001b[0m \u001b[32m48.2/48.2 kB\u001b[0m \u001b[31m6.1 MB/s\u001b[0m eta \u001b[36m0:00:00\u001b[0m\n",
      "\u001b[2K     \u001b[90m━━━━━━━━━━━━━━━━━━━━━━━━━━━━━━━━━━━━━━━━\u001b[0m \u001b[32m19.2/19.2 MB\u001b[0m \u001b[31m58.2 MB/s\u001b[0m eta \u001b[36m0:00:00\u001b[0m\n",
      "\u001b[2K     \u001b[90m━━━━━━━━━━━━━━━━━━━━━━━━━━━━━━━━━━━━━━━━\u001b[0m \u001b[32m38.0/38.0 MB\u001b[0m \u001b[31m16.3 MB/s\u001b[0m eta \u001b[36m0:00:00\u001b[0m\n",
      "\u001b[2K     \u001b[90m━━━━━━━━━━━━━━━━━━━━━━━━━━━━━━━━━━━━━━━━\u001b[0m \u001b[32m75.0/75.0 kB\u001b[0m \u001b[31m9.4 MB/s\u001b[0m eta \u001b[36m0:00:00\u001b[0m\n",
      "\u001b[2K     \u001b[90m━━━━━━━━━━━━━━━━━━━━━━━━━━━━━━━━━━━━━━━━\u001b[0m \u001b[32m49.4/49.4 kB\u001b[0m \u001b[31m7.4 MB/s\u001b[0m eta \u001b[36m0:00:00\u001b[0m\n",
      "\u001b[2K     \u001b[90m━━━━━━━━━━━━━━━━━━━━━━━━━━━━━━━━━━━━━━━━\u001b[0m \u001b[32m76.9/76.9 kB\u001b[0m \u001b[31m11.8 MB/s\u001b[0m eta \u001b[36m0:00:00\u001b[0m\n",
      "\u001b[2K     \u001b[90m━━━━━━━━━━━━━━━━━━━━━━━━━━━━━━━━━━━━━━━━\u001b[0m \u001b[32m58.3/58.3 kB\u001b[0m \u001b[31m8.7 MB/s\u001b[0m eta \u001b[36m0:00:00\u001b[0m\n",
      "\u001b[2K     \u001b[90m━━━━━━━━━━━━━━━━━━━━━━━━━━━━━━━━━━━━━━━━\u001b[0m \u001b[32m98.7/98.7 kB\u001b[0m \u001b[31m14.2 MB/s\u001b[0m eta \u001b[36m0:00:00\u001b[0m\n",
      "\u001b[?25h\u001b[31mERROR: pip's dependency resolver does not currently take into account all the packages that are installed. This behaviour is the source of the following dependency conflicts.\n",
      "llmx 0.0.15a0 requires cohere, which is not installed.\n",
      "ibis-framework 6.2.0 requires pyarrow<13,>=2, but you have pyarrow 14.0.1 which is incompatible.\n",
      "pandas-gbq 0.17.9 requires pyarrow<10.0dev,>=3.0.0, but you have pyarrow 14.0.1 which is incompatible.\u001b[0m\u001b[31m\n",
      "\u001b[0m"
     ]
    }
   ],
   "source": [
    "!pip -q install langchain huggingface_hub   lancedb openai  tiktoken  rank_bm25 pypdf"
   ]
  },
  {
   "cell_type": "code",
   "execution_count": null,
   "metadata": {
    "id": "dNA4TsHpu6OM"
   },
   "outputs": [],
   "source": [
    "# pass openai api key\n",
    "import os\n",
    "os.environ[\"OPENAI_API_KEY\"] = \"sk-your api key\""
   ]
  },
  {
   "cell_type": "markdown",
   "metadata": {
    "id": "IC9MvzU04XLL"
   },
   "source": [
    "### OpenSource Models\n",
    "https://github.com/lancedb/vectordb-recipes/blob/main/tutorials/chatbot_using_Llama2_&_lanceDB\n",
    "\n",
    "You can also compare your results with normal retriever vs ensemble retriever"
   ]
  },
  {
   "cell_type": "markdown",
   "metadata": {
    "id": "gJq7RFOw3ULM"
   },
   "source": [
    "## Hybrid Search"
   ]
  },
  {
   "cell_type": "markdown",
   "metadata": {
    "id": "HqwsGJDhvAQ5"
   },
   "source": [
    "**BM25 Retriever** - Sparse retriever\n",
    "\n",
    "**Embeddings** - Dense retrievers Lancedb\n",
    "\n",
    "`Hybrid search = Sparse + Dense retriever`"
   ]
  },
  {
   "cell_type": "markdown",
   "metadata": {},
   "source": [
    "## Load the data"
   ]
  },
  {
   "cell_type": "code",
   "execution_count": null,
   "metadata": {
    "colab": {
     "base_uri": "https://localhost:8080/"
    },
    "id": "s4hg4oaS0ssW",
    "outputId": "17acd44e-51be-4658-a9c3-8927b2028ccb"
   },
   "outputs": [
    {
     "name": "stdout",
     "output_type": "stream",
     "text": [
      "--2023-12-08 10:04:09--  https://pdf.usaid.gov/pdf_docs/PA00TBCT.pdf\n",
      "Resolving pdf.usaid.gov (pdf.usaid.gov)... 184.29.214.144, 2600:1406:5e00:180::1923, 2600:1406:5e00:1a4::1923\n",
      "Connecting to pdf.usaid.gov (pdf.usaid.gov)|184.29.214.144|:443... connected.\n",
      "HTTP request sent, awaiting response... 200 OK\n",
      "Length: 6419525 (6.1M) [application/pdf]\n",
      "Saving to: ‘PA00TBCT.pdf.1’\n",
      "\n",
      "PA00TBCT.pdf.1      100%[===================>]   6.12M  16.9MB/s    in 0.4s    \n",
      "\n",
      "2023-12-08 10:04:10 (16.9 MB/s) - ‘PA00TBCT.pdf.1’ saved [6419525/6419525]\n",
      "\n"
     ]
    }
   ],
   "source": [
    "# download the pdf\n",
    "!wget https://pdf.usaid.gov/pdf_docs/PA00TBCT.pdf"
   ]
  },
  {
   "cell_type": "code",
   "execution_count": null,
   "metadata": {},
   "outputs": [],
   "source": [
    "# load single pdf\n",
    "loader = PyPDFLoader(\"/content/PA00TBCT.pdf\")\n",
    "pages = loader.load_and_split()"
   ]
  },
  {
   "cell_type": "markdown",
   "metadata": {},
   "source": [
    "## Importing all the libraries"
   ]
  },
  {
   "cell_type": "code",
   "execution_count": null,
   "metadata": {},
   "outputs": [],
   "source": [
    "from langchain.vectorstores import LanceDB\n",
    "import lancedb\n",
    "from langchain.retrievers import BM25Retriever, EnsembleRetriever\n",
    "from langchain.schema import Document\n",
    "from langchain.embeddings.openai import OpenAIEmbeddings\n",
    "from langchain.document_loaders import PyPDFLoader\n",
    "from langchain_openai import ChatOpenAI\n",
    "from langchain.chains import RetrievalQA"
   ]
  },
  {
   "cell_type": "markdown",
   "metadata": {},
   "source": [
    "## Initialize Embeddings"
   ]
  },
  {
   "cell_type": "code",
   "execution_count": null,
   "metadata": {},
   "outputs": [],
   "source": [
    "# Initialize embeddings\n",
    "embedding = OpenAIEmbeddings()"
   ]
  },
  {
   "cell_type": "markdown",
   "metadata": {},
   "source": [
    "## Initialize the BM25"
   ]
  },
  {
   "cell_type": "code",
   "execution_count": null,
   "metadata": {},
   "outputs": [],
   "source": [
    "# Initialize the BM25 retriever\n",
    "bm25_retriever = BM25Retriever.from_documents(pages)\n",
    "bm25_retriever.k =  2  # Retrieve top 2 results\n",
    "\n",
    "print(\"type of bm25\",type(bm25_retriever))"
   ]
  },
  {
   "cell_type": "markdown",
   "metadata": {},
   "source": [
    "## Initialize the database"
   ]
  },
  {
   "cell_type": "code",
   "execution_count": null,
   "metadata": {},
   "outputs": [],
   "source": [
    "db = lancedb.connect('/tmp/lancedb')\n",
    "table = db.create_table(\"pandas_docs\", data=[\n",
    "    {\"vector\": embedding.embed_query(\"Hello World\"), \"text\": \"Hello World\", \"id\": \"1\"}\n",
    "], mode=\"overwrite\")\n",
    "# docsearch = LanceDB.from_texts(doc_list, embedding, connection=table)\n",
    "# retriever_lancedb = docsearch.as_retriever(search_kwargs={\"k\": 2})\n"
   ]
  },
  {
   "cell_type": "markdown",
   "metadata": {},
   "source": [
    "## Instantiate the retriever"
   ]
  },
  {
   "cell_type": "code",
   "execution_count": null,
   "metadata": {},
   "outputs": [],
   "source": [
    "# Initialize LanceDB retriever\n",
    "docsearch = LanceDB.from_documents(pages, embedding, connection=table)\n",
    "retriever_lancedb = docsearch.as_retriever(search_kwargs={\"k\": 2})\n",
    "\n",
    "# Initialize the ensemble retriever\n",
    "ensemble_retriever = EnsembleRetriever(retrievers=[bm25_retriever, retriever_lancedb],\n",
    "                                       weights=[0.2, 0.8])"
   ]
  },
  {
   "cell_type": "markdown",
   "metadata": {},
   "source": [
    "## Query"
   ]
  },
  {
   "cell_type": "code",
   "execution_count": null,
   "metadata": {
    "colab": {
     "base_uri": "https://localhost:8080/"
    },
    "id": "pSdnMrR0ujeA",
    "outputId": "315275c5-0b5a-4e1e-bd05-100f2125b8d6"
   },
   "outputs": [
    {
     "name": "stdout",
     "output_type": "stream",
     "text": [
      "type of bm25 <class 'langchain.retrievers.bm25.BM25Retriever'>\n"
     ]
    },
    {
     "data": {
      "text/plain": [
       "[Document(page_content='Food and Nutrition Handbook for Extension Workers34guidelines for selecting energy-giving foods, body-building foods \\nand protective foods. Pregnant women especially need foods rich in \\niron and vitamin A in addition to the balanced diet. Iron needs are \\nhighly increased partly due to the need to build reserves for child \\nup to six months after birth before initiating complementary food \\nintake.\\n• Pregnant women need to take foods rich in calcium, e.g., milk and mukene (silver fish) partly to take care of the increased requirement \\nfor building the foetus skeletal structure.\\n• Pregnant women have higher needs for nutrients generally and \\nshould take snacks in between meals.\\nIn addition, pregnant women should be educated to strictly observe the \\nfollowing:\\n1. Take the required amounts of iron and folic acid supplements to \\nprevent anaemia.\\n2. Sleep under an insecticide-treated mosquito net.\\n3. Visit the nearest health facility at least four (4) times for antenatal \\ncare. This will enable them access a number of services that prepare \\nthem to deliver a healthy baby.\\n4. Deliver in a healthy facility with the help of a skilled health worker.\\n5. Get deworming pills, IPT and tetanus vaccine from a health facility.6. Avoid excessive workloads therefore community and family support \\nmechanisms should be encouraged.\\n7. Pregnant women should limit intake of alcohol, cigarettes. These \\ncause negative effects on the foetus.\\n8. Should strictly take drugs on advice of the health personnel as some \\nof them are potentially harmful to the unborn child.\\n9. Avoid negative cultural practices that reduce the intake of nutritious \\nfoods or impact negatively on their health such as:\\n• Not consuming chicken and eggs.\\n• Pregnant women not defecating in toilets/pit latrines.', metadata={'vector': array([ 0.00713358, -0.01045369, -0.00710024, ..., -0.0146005 ,\n",
       "        -0.00187506, -0.00026272], dtype=float32), 'id': 'a9f562f8-2ec3-4020-80e6-eade4bac7a2c', '_distance': 0.2443476915359497}),\n",
       " Document(page_content='Food and Nutrition Handbook for Extension Workers35Nutrition \\tfor\\tbreastfeeding \\tmothers\\nNutritional requirements during breastfeeding are higher than during \\npregnancy because the mother has to produce enough milk to sustain a baby (bigger than the foetus) for the first six months and beyond. Breast -\\nfeeding women need to eat a wide variety of foods.\\nNutrition guidelines for pregnant women as well apply here but a \\nlactating mother needs to eat much more; that is to say one extra meal (five meals in total).\\nBreastfeeding mothers should also take a lot of fluids to cater for the \\nhigh amounts of water used to make breast milk. They should avoid self-medication, smoking and alcohol to prevent intoxicating the baby.\\nBreastfeeding mothers should avoid stress and have enough rest.KEY MESSAGES \\n• Ensure that a pregnant mother has a balanced diet, with a vari-\\nety of foods from the food groups, and has one additional meal \\nin addition to the 3 meals she receives daily. The fourth meal \\ncaters to her physiological needs.\\n• Pregnant women should take iron and folate tablets daily in addition to foods rich in iron, calcium and vitamin A.\\nKEY MESSAGES \\n• Ensure that a breastfeeding mother take a balanced diet and in addition to 3 meals daily receives 2 extra meals a day to main -\\ntain her health and that of her baby.\\n• A pregnant woman and breastfeeding mother should eat a variety of foods from the main food groups daily.', metadata={'vector': array([-0.00477041, -0.00140001, -0.00624172, ..., -0.0164631 ,\n",
       "        -0.00838062,  0.00037593], dtype=float32), 'id': '9ec03c04-f25a-45de-97db-a28cbd8a502f', '_distance': 0.24478532373905182}),\n",
       " Document(page_content='Food and Nutrition Handbook for Extension Workers33CHAPTER FOUR\\nESSENTIAL NUTRITION ACTIONS IN \\nAGRICULTURE\\nThe Ministry of Agriculture, Animal Industry and Fisheries shares a \\nrole in executing essential nutrition actions. Those areas where the \\nministry of agriculture can contribute towards nutrition improvement are:\\n• Promoting control of anaemia.\\n• Promoting production and consumption of iron-rich foods.\\n• Promoting production and consumption of vitamin A-rich foods.\\n• Promoting consumption of iodized salt.\\n• Promoting vitamin A supplementation.\\n• Ensuring adequate intake of quality food for the household mem -\\nbers.\\n• Reduction of women workload in agriculture.\\nTherefore, consistent with these actions, the Ministry is concerned with nutrition for pregnant mothers, breastfeeding mothers and children below five years.\\nNutrition \\tfor\\tpregnant \\twomen\\nIt is necessary that a woman is well nourished before pregnancy so that by the time she conceives, the body has sufficient capacity to meet both her and the baby’s needs. A malnourished woman may fail to deliver baby alive or if she does, the baby is likely to be underweight (the normal range is 2.5–4.5 kg at birth). One of the leading causes of maternal death at childbirth is insufficient blood.\\nDuring pregnancy women have high nutrient needs because they have \\nto build foetus tissue, build reserves for breast milk and also cater for \\ntheir own nutritional needs. On average women should gain 8\\n–12 kg in \\nthe course of pregnancy. Pregnant women need to eat more food rather \\nthan decrease the intake.\\n• Pregnant women need to consume balanced diet following the', metadata={'source': '/content/PA00TBCT.pdf', 'page': 44}),\n",
       " Document(page_content='Food and Nutrition Handbook for Extension Workers20Prevalence \\tof\\tmalnutrition \\tin\\tUganda\\nMalnutrition is one of the main public health and economic and devel -\\nopment problems facing Uganda. Children below the age of five years \\nand women in reproductive age including pregnant women and lactating \\nmothers are mostly affected (UDHS 2011). Children below the age of 5 years suffer mostly from under nutrition with:\\n• 33% of these children suffer from chronic undernutrition (they are \\nstunted)\\n• 14% are underweight (body weight too light for their age)\\n• 49% suffer from iron deficiency anaemia (lack of iron/blood)\\n• 60% suffer from different forms of iodine deficiency disorders (IDD) \\nLikewise women in reproductive age (15 –49 years) also suffer from \\nmalnutrition:\\n• 52% of pregnant women and lactating mothers have vitamin A defi-\\nciency\\n• 23% suffered from iron deficiency anaemia\\n \\nFigure\\t1.\\tSummary \\tof\\ttypes\\tand\\tcategories \\tof\\tmalnutrition', metadata={'source': '/content/PA00TBCT.pdf', 'page': 31})]"
      ]
     },
     "execution_count": 5,
     "metadata": {},
     "output_type": "execute_result"
    }
   ],
   "source": [
    "# Example customer query\n",
    "query = \"what nutrition needed for pregnant women ?\"\n",
    "\n",
    "\n",
    "# Retrieve relevant documents/products\n",
    "docs = ensemble_retriever.get_relevant_documents(query)\n",
    "\n",
    "# Extract and print only the page content from each document\n",
    "# for doc in docs:\n",
    "#     print(doc.page_content)\n",
    "\n",
    "docs"
   ]
  },
  {
   "cell_type": "markdown",
   "metadata": {
    "id": "1DIpWoPOvykU"
   },
   "source": [
    "## Ask questions on this retriever doc"
   ]
  },
  {
   "cell_type": "code",
   "execution_count": null,
   "metadata": {
    "colab": {
     "base_uri": "https://localhost:8080/",
     "height": 122
    },
    "id": "dxISRtkPuw1e",
    "outputId": "b44f6fb7-0b50-41b4-dbc1-e2bb33ae936e"
   },
   "outputs": [
    {
     "data": {
      "application/vnd.google.colaboratory.intrinsic+json": {
       "type": "string"
      },
      "text/plain": [
       "\"Pregnant women need to consume a balanced diet that includes a variety of foods from the main food groups. They should also have one additional meal in addition to the three meals they receive daily. Some specific nutrients that are important for pregnant women include:\\n\\n1. Iron: Pregnant women should consume foods rich in iron, such as lean meats, poultry, fish, beans, and leafy green vegetables. They may also need to take iron supplements as prescribed by a healthcare professional.\\n\\n2. Folate: Pregnant women should take folate tablets daily in addition to consuming foods rich in folate, such as dark leafy greens, citrus fruits, beans, and fortified grains.\\n\\n3. Calcium: Foods rich in calcium, such as milk, yogurt, cheese, and fortified plant-based milk alternatives, are important for the development of the baby's skeletal structure.\\n\\n4. Vitamin A: Pregnant women should consume foods rich in vitamin A, such as carrots, sweet potatoes, spinach, and mangoes. They may also need to take vitamin A supplements as prescribed.\\n\\nIt's important for pregnant women to consult with a healthcare professional or a registered dietitian for personalized advice and guidance on their specific nutritional needs during pregnancy.\""
      ]
     },
     "execution_count": 10,
     "metadata": {},
     "output_type": "execute_result"
    }
   ],
   "source": [
    "llm = ChatOpenAI(openai_api_key=\"sk-\")\n",
    "\n",
    "qa = RetrievalQA.from_chain_type(llm=llm, chain_type=\"stuff\", retriever=ensemble_retriever)\n",
    "\n",
    "\n",
    "query = \"what nutrition needed for pregnant women  \"\n",
    "qa.run(query)\n"
   ]
  },
  {
   "cell_type": "code",
   "execution_count": null,
   "metadata": {
    "colab": {
     "base_uri": "https://localhost:8080/",
     "height": 122
    },
    "id": "dkGU_jKf2k6G",
    "outputId": "80488dd6-99c9-43e8-e79e-65bc6df69ae8"
   },
   "outputs": [
    {
     "data": {
      "application/vnd.google.colaboratory.intrinsic+json": {
       "type": "string"
      },
      "text/plain": [
       "\"The foods that are important for building strong bones and teeth are:\\n\\n1. Calcium: Milk and milk products, fish with bones (such as sardines), dark green vegetables (such as broccoli and kale).\\n\\n2. Vitamin D: Sun exposure is the primary source, but it can also be found in vitamin D-fortified milk, eggs, fish-liver oils, and fatty fish like herring, mackerel, and salmon.\\n\\n3. Vitamin K: Vegetables such as spinach, lettuce, cauliflower, and cabbage, broccoli, fish, liver, meat, and eggs.\\n\\n4. Magnesium: Legumes, whole-grain cereals, nuts, and dark-green vegetables, as well as meat, seafood, and dairy products.\\n\\n5. Fluoride: Seafood, tea, coffee, soybeans, and sodium fluoride (which is often added to the water supply).\\n\\n6. Iron: Red meat, organ meats, whole-wheat products, shellfish, nuts, and dried fruit.\\n\\nIt's important to note that these nutrients work together and are best obtained through a balanced diet.\""
      ]
     },
     "execution_count": 13,
     "metadata": {},
     "output_type": "execute_result"
    }
   ],
   "source": [
    "query = \"which food needed for building strong bones and teeth ? which Vitamin & minerals importat for this? \"\n",
    "qa.run(query)\n"
   ]
  },
  {
   "cell_type": "markdown",
   "metadata": {
    "id": "XNZdNIUM2etT"
   },
   "source": [
    "## Bonus\n",
    "### FTS is another important feature for extracting all info .. if any one word is matching"
   ]
  },
  {
   "cell_type": "markdown",
   "metadata": {
    "id": "vhnitNN7GqY-"
   },
   "source": [
    "**Usecase** : E-Commerce Product Search\n",
    "\n",
    "**Context**: Customers searching for products on an e-commerce website.\n",
    "\n",
    "Application: When a customer types a query (like \"fitness t-shirt\"), the system uses the ensemble retriever to find the most relevant products from the product descriptions. The BM25 component helps capture keyword-based matches, while the dense vector retriever (LanceDB) understands the semantic context of the query."
   ]
  },
  {
   "cell_type": "code",
   "execution_count": null,
   "metadata": {
    "id": "kQS-HZJsuzUX"
   },
   "outputs": [],
   "source": [
    "!pip install tantivy==0.20.1"
   ]
  },
  {
   "cell_type": "markdown",
   "metadata": {
    "id": "yh1IdakP4yOa"
   },
   "source": [
    "read more about fts https://lancedb.github.io/lancedb/fts/"
   ]
  },
  {
   "cell_type": "code",
   "execution_count": null,
   "metadata": {
    "id": "EEvixPQiarAo"
   },
   "outputs": [],
   "source": [
    "#example of FTS. when you want to serch whole text\n",
    "import lancedb\n",
    "\n",
    "uri = \"data/sample-lancedb\"\n",
    "db = lancedb.connect(uri)\n",
    "\n",
    "table = db.create_table(\"my_tableasd\",\n",
    "            data=[{\"vector\": [3.1, 4.1], \"text\": \"Frodo was a happy puppy\"},\n",
    "                  {\"vector\": [5.9, 26.5], \"text\": \"There are several kittens playing\"}])\n",
    "\n",
    "\n",
    "table.create_fts_index(\"text\")\n",
    "\n",
    "\n",
    "x= table.search(\"puppy\").limit(10).select([\"text\"]).to_list()\n",
    "\n",
    "\n",
    "texts = [item['text'] for item in x]\n",
    "print(texts)"
   ]
  }
 ],
 "metadata": {
  "colab": {
   "provenance": []
  },
  "kernelspec": {
   "display_name": "Python 3 (ipykernel)",
   "language": "python",
   "name": "python3"
  },
  "language_info": {
   "codemirror_mode": {
    "name": "ipython",
    "version": 3
   },
   "file_extension": ".py",
   "mimetype": "text/x-python",
   "name": "python",
   "nbconvert_exporter": "python",
   "pygments_lexer": "ipython3",
   "version": "3.12.1"
  }
 },
 "nbformat": 4,
 "nbformat_minor": 4
}

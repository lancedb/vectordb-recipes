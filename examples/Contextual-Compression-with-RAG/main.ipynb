{
 "cells": [
  {
   "cell_type": "markdown",
   "id": "5254bc18-fa57-4865-b2d6-db1cb4f411bf",
   "metadata": {
    "id": "5254bc18-fa57-4865-b2d6-db1cb4f411bf"
   },
   "source": [
    "# Contextual Compression and Filtering in RAG"
   ]
  },
  {
   "cell_type": "markdown",
   "id": "c72fdaec-8061-47ac-9b48-dcb3ae1cdd4c",
   "metadata": {
    "id": "c72fdaec-8061-47ac-9b48-dcb3ae1cdd4c"
   },
   "source": [
    "### Installing dependencies"
   ]
  },
  {
   "cell_type": "code",
   "execution_count": 1,
   "id": "e8b87ed8-7b08-484a-a7a3-6ea54b0dce99",
   "metadata": {
    "id": "e8b87ed8-7b08-484a-a7a3-6ea54b0dce99",
    "outputId": "1c4157ae-5622-40b3-800b-c31f818f2229",
    "colab": {
     "base_uri": "https://localhost:8080/"
    }
   },
   "outputs": [
    {
     "output_type": "stream",
     "name": "stdout",
     "text": [
      "\u001b[2K     \u001b[90m━━━━━━━━━━━━━━━━━━━━━━━━━━━━━━━━━━━━━━━━\u001b[0m \u001b[32m803.6/803.6 kB\u001b[0m \u001b[31m4.3 MB/s\u001b[0m eta \u001b[36m0:00:00\u001b[0m\n",
      "\u001b[2K     \u001b[90m━━━━━━━━━━━━━━━━━━━━━━━━━━━━━━━━━━━━━━━━\u001b[0m \u001b[32m330.1/330.1 kB\u001b[0m \u001b[31m18.0 MB/s\u001b[0m eta \u001b[36m0:00:00\u001b[0m\n",
      "\u001b[2K     \u001b[90m━━━━━━━━━━━━━━━━━━━━━━━━━━━━━━━━━━━━━━━━\u001b[0m \u001b[32m87.4/87.4 kB\u001b[0m \u001b[31m7.9 MB/s\u001b[0m eta \u001b[36m0:00:00\u001b[0m\n",
      "\u001b[2K     \u001b[90m━━━━━━━━━━━━━━━━━━━━━━━━━━━━━━━━━━━━━━━━\u001b[0m \u001b[32m283.9/283.9 kB\u001b[0m \u001b[31m16.0 MB/s\u001b[0m eta \u001b[36m0:00:00\u001b[0m\n",
      "\u001b[2K     \u001b[90m━━━━━━━━━━━━━━━━━━━━━━━━━━━━━━━━━━━━━━━━\u001b[0m \u001b[32m8.4/8.4 MB\u001b[0m \u001b[31m48.1 MB/s\u001b[0m eta \u001b[36m0:00:00\u001b[0m\n",
      "\u001b[2K     \u001b[90m━━━━━━━━━━━━━━━━━━━━━━━━━━━━━━━━━━━━━━━━\u001b[0m \u001b[32m86.0/86.0 kB\u001b[0m \u001b[31m8.0 MB/s\u001b[0m eta \u001b[36m0:00:00\u001b[0m\n",
      "\u001b[?25h  Preparing metadata (setup.py) ... \u001b[?25l\u001b[?25hdone\n",
      "\u001b[2K     \u001b[90m━━━━━━━━━━━━━━━━━━━━━━━━━━━━━━━━━━━━━━━━\u001b[0m \u001b[32m1.6/1.6 MB\u001b[0m \u001b[31m11.0 MB/s\u001b[0m eta \u001b[36m0:00:00\u001b[0m\n",
      "\u001b[2K     \u001b[90m━━━━━━━━━━━━━━━━━━━━━━━━━━━━━━━━━━━━━━━━\u001b[0m \u001b[32m229.6/229.6 kB\u001b[0m \u001b[31m16.0 MB/s\u001b[0m eta \u001b[36m0:00:00\u001b[0m\n",
      "\u001b[2K     \u001b[90m━━━━━━━━━━━━━━━━━━━━━━━━━━━━━━━━━━━━━━━━\u001b[0m \u001b[32m49.3/49.3 kB\u001b[0m \u001b[31m2.8 MB/s\u001b[0m eta \u001b[36m0:00:00\u001b[0m\n",
      "\u001b[2K     \u001b[90m━━━━━━━━━━━━━━━━━━━━━━━━━━━━━━━━━━━━━━━━\u001b[0m \u001b[32m18.6/18.6 MB\u001b[0m \u001b[31m17.5 MB/s\u001b[0m eta \u001b[36m0:00:00\u001b[0m\n",
      "\u001b[2K     \u001b[90m━━━━━━━━━━━━━━━━━━━━━━━━━━━━━━━━━━━━━━━━\u001b[0m \u001b[32m38.3/38.3 MB\u001b[0m \u001b[31m10.2 MB/s\u001b[0m eta \u001b[36m0:00:00\u001b[0m\n",
      "\u001b[2K     \u001b[90m━━━━━━━━━━━━━━━━━━━━━━━━━━━━━━━━━━━━━━━━\u001b[0m \u001b[32m1.3/1.3 MB\u001b[0m \u001b[31m31.7 MB/s\u001b[0m eta \u001b[36m0:00:00\u001b[0m\n",
      "\u001b[2K     \u001b[90m━━━━━━━━━━━━━━━━━━━━━━━━━━━━━━━━━━━━━━━━\u001b[0m \u001b[32m49.4/49.4 kB\u001b[0m \u001b[31m4.1 MB/s\u001b[0m eta \u001b[36m0:00:00\u001b[0m\n",
      "\u001b[2K     \u001b[90m━━━━━━━━━━━━━━━━━━━━━━━━━━━━━━━━━━━━━━━━\u001b[0m \u001b[32m98.7/98.7 kB\u001b[0m \u001b[31m8.2 MB/s\u001b[0m eta \u001b[36m0:00:00\u001b[0m\n",
      "\u001b[?25h  Building wheel for sentence-transformers (setup.py) ... \u001b[?25l\u001b[?25hdone\n",
      "\u001b[31mERROR: pip's dependency resolver does not currently take into account all the packages that are installed. This behaviour is the source of the following dependency conflicts.\n",
      "ibis-framework 7.1.0 requires pyarrow<15,>=2, but you have pyarrow 15.0.0 which is incompatible.\u001b[0m\u001b[31m\n",
      "\u001b[0m"
     ]
    }
   ],
   "source": [
    "!pip install -qU langchain huggingface_hub lancedb pypdf python-dotenv transformers sentence-transformers"
   ]
  },
  {
   "cell_type": "markdown",
   "id": "f931aad1-b0b7-4873-892e-586fff5b27ab",
   "metadata": {
    "id": "f931aad1-b0b7-4873-892e-586fff5b27ab"
   },
   "source": [
    "### Importing libraries"
   ]
  },
  {
   "cell_type": "code",
   "execution_count": 2,
   "id": "96b1065d-f22c-45f3-8286-2d93a54086b8",
   "metadata": {
    "id": "96b1065d-f22c-45f3-8286-2d93a54086b8"
   },
   "outputs": [],
   "source": [
    "from langchain.llms import HuggingFaceHub\n",
    "from langchain.document_loaders import PyPDFLoader\n",
    "from langchain.vectorstores import Chroma\n",
    "from langchain.text_splitter import RecursiveCharacterTextSplitter\n",
    "from langchain.embeddings import SentenceTransformerEmbeddings\n",
    "from langchain.prompts import PromptTemplate\n",
    "from dotenv import load_dotenv\n",
    "from langchain.llms import OpenAI\n",
    "import lancedb\n",
    "from langchain.retrievers import ContextualCompressionRetriever\n",
    "from langchain.retrievers.document_compressors import LLMChainExtractor\n",
    "from getpass import getpass\n",
    "import os\n",
    "from langchain.embeddings import OpenAIEmbeddings\n",
    "from langchain.retrievers.document_compressors import EmbeddingsFilter\n",
    "from langchain.document_transformers import EmbeddingsRedundantFilter\n",
    "from langchain.retrievers.document_compressors import DocumentCompressorPipeline"
   ]
  },
  {
   "cell_type": "code",
   "execution_count": 4,
   "id": "6a6c70ab-a66e-4913-a063-70f059f46699",
   "metadata": {
    "id": "6a6c70ab-a66e-4913-a063-70f059f46699",
    "outputId": "0567b5ae-ef6c-4dbf-e6f8-ff7c07c47c45",
    "colab": {
     "base_uri": "https://localhost:8080/"
    }
   },
   "outputs": [
    {
     "name": "stdout",
     "output_type": "stream",
     "text": [
      "Enter HuggingFace Hub Token:··········\n"
     ]
    }
   ],
   "source": [
    "import os\n",
    "from getpass import getpass\n",
    "\n",
    "os.environ[\"HUGGINGFACEHUB_API_TOKEN\"] = getpass(\"Enter HuggingFace Hub Token:\")"
   ]
  },
  {
   "cell_type": "markdown",
   "id": "807b9dbb-70c9-4dd0-b578-937c5dc497f7",
   "metadata": {
    "id": "807b9dbb-70c9-4dd0-b578-937c5dc497f7"
   },
   "source": [
    "### Load the data"
   ]
  },
  {
   "cell_type": "code",
   "source": [
    "!wget https://www.centralvalleysd.org/Downloads/Science_Glossary.pdf"
   ],
   "metadata": {
    "id": "7MBmbHc-VjlS",
    "outputId": "bdc0aeca-a33a-4c79-f64a-5a7a3ab2ea98",
    "colab": {
     "base_uri": "https://localhost:8080/"
    }
   },
   "id": "7MBmbHc-VjlS",
   "execution_count": 6,
   "outputs": [
    {
     "output_type": "stream",
     "name": "stdout",
     "text": [
      "--2024-01-23 21:59:56--  https://www.centralvalleysd.org/Downloads/Science_Glossary.pdf\n",
      "Resolving www.centralvalleysd.org (www.centralvalleysd.org)... 104.17.151.77, 104.16.209.8, 2606:4700::6811:974d, ...\n",
      "Connecting to www.centralvalleysd.org (www.centralvalleysd.org)|104.17.151.77|:443... connected.\n",
      "HTTP request sent, awaiting response... 200 OK\n",
      "Length: 40104 (39K) [application/pdf]\n",
      "Saving to: ‘Science_Glossary.pdf’\n",
      "\n",
      "Science_Glossary.pd 100%[===================>]  39.16K  --.-KB/s    in 0.001s  \n",
      "\n",
      "2024-01-23 21:59:56 (40.9 MB/s) - ‘Science_Glossary.pdf’ saved [40104/40104]\n",
      "\n"
     ]
    }
   ]
  },
  {
   "cell_type": "code",
   "execution_count": 7,
   "id": "627249f2-3861-4ad9-8dc3-f0a53cc9336d",
   "metadata": {
    "id": "627249f2-3861-4ad9-8dc3-f0a53cc9336d",
    "outputId": "fb57733b-5f2f-4143-8c09-18d1bc830492",
    "colab": {
     "base_uri": "https://localhost:8080/"
    }
   },
   "outputs": [
    {
     "output_type": "stream",
     "name": "stdout",
     "text": [
      "7\n",
      "SCIENCE GLOSSARY \n",
      " \n",
      "Abiotic:   A nonliving factor or element (e.g., light, w ater, heat, rock, energy, mineral). \n",
      " \n",
      "Acid deposition:  Precipitation w ith a pH less than 5.6 that form s in the atmosphere w hen certain pollutants mix \n",
      "with water vapor. \n",
      " \n",
      "Allele:   Any of a set of possible forms of a gene. \n",
      " \n",
      "Biochemical conversion:  The changing of organic matter into other chemical forms. \n",
      " \n",
      "Biological diversity:  The variety and complexity of species present a nd interacting in an ecosystem and the relative \n",
      "abundance of each. \n",
      " \n",
      "Biomass conversion: The changing of organic matter that has been produced by photosynthesis into useful liquid, gas \n",
      "or fuel. \n",
      " \n",
      "Biomedical technology: The application of health care theories  to develop methods, products and tools to maintain or \n",
      "improve homeostasis. \n",
      " \n",
      "Biomes:   A community of living organisms of a single major ecological region. \n",
      " \n",
      "Biotechnology:   The w ays that humans apply biological concepts  to produce products and provide services. \n",
      " \n",
      "Biotic:   An environmental factor related to or produced by living organisms. \n",
      " \n",
      "Carbon chemistry:  The science of the composition, structure, pr operties and reactions of carbon based matter, \n",
      "especially of atomic and molecular systems; sometimes referred to as organic chemistry.  \n",
      " \n",
      "Closing the loop:  A link in the circular chain of recycling events th at promotes the use of products made w ith \n",
      "recycled materials. \n",
      " \n",
      "Commodities:  Economic goods or products before they are processed and/or given a brand name, such as a \n",
      "product of agriculture. \n",
      " 1\n"
     ]
    }
   ],
   "source": [
    "loader = PyPDFLoader(\"Science_Glossary.pdf\")\n",
    "documents = loader.load()\n",
    "print(len(documents))\n",
    "print(documents[0].page_content)"
   ]
  },
  {
   "cell_type": "markdown",
   "id": "7a13a069-8194-405b-b797-58aaec0ee3d6",
   "metadata": {
    "id": "7a13a069-8194-405b-b797-58aaec0ee3d6"
   },
   "source": [
    "### Split texts"
   ]
  },
  {
   "cell_type": "code",
   "execution_count": 8,
   "id": "a0935ff9-ec5e-4af3-8194-694d6e09f14b",
   "metadata": {
    "id": "a0935ff9-ec5e-4af3-8194-694d6e09f14b",
    "outputId": "76c54912-3b84-4671-b0f4-1b800e6d12bf",
    "colab": {
     "base_uri": "https://localhost:8080/"
    }
   },
   "outputs": [
    {
     "output_type": "stream",
     "name": "stdout",
     "text": [
      "22\n",
      "page_content='SCIENCE GLOSSARY \\n \\nAbiotic:   A nonliving factor or element (e.g., light, w ater, heat, rock, energy, mineral). \\n \\nAcid deposition:  Precipitation w ith a pH less than 5.6 that form s in the atmosphere w hen certain pollutants mix \\nwith water vapor. \\n \\nAllele:   Any of a set of possible forms of a gene. \\n \\nBiochemical conversion:  The changing of organic matter into other chemical forms. \\n \\nBiological diversity:  The variety and complexity of species present a nd interacting in an ecosystem and the relative \\nabundance of each. \\n \\nBiomass conversion: The changing of organic matter that has been produced by photosynthesis into useful liquid, gas \\nor fuel.' metadata={'source': 'Science_Glossary.pdf', 'page': 0}\n"
     ]
    }
   ],
   "source": [
    "text_splitter = RecursiveCharacterTextSplitter(chunk_size=700, chunk_overlap=70)\n",
    "final_doc = text_splitter.split_documents(documents)\n",
    "print(len(final_doc))\n",
    "print(final_doc[0])"
   ]
  },
  {
   "cell_type": "markdown",
   "id": "34ffcd9c-ce11-4e48-b382-ba3856e112fb",
   "metadata": {
    "id": "34ffcd9c-ce11-4e48-b382-ba3856e112fb"
   },
   "source": [
    "### Embeddings"
   ]
  },
  {
   "cell_type": "code",
   "execution_count": 9,
   "id": "f8934f57-45d0-4e50-89ad-0cb2fc0d5b25",
   "metadata": {
    "id": "f8934f57-45d0-4e50-89ad-0cb2fc0d5b25",
    "outputId": "4c183ea1-c9c8-4aae-e12a-15c9bf74e2db",
    "colab": {
     "base_uri": "https://localhost:8080/",
     "height": 353,
     "referenced_widgets": [
      "07cba02e93c04bfa805a123e017c6aae",
      "a07908318bc54559b6bb17f89dc77a2d",
      "f29bad8147314d748e5e3079e01b3138",
      "de5a21f77e32439fb6d202a68a351dc2",
      "b280e59d8848498cba95f9b8c896c819",
      "092881d18dff4e3ab9c129b9c0c1538f",
      "18fc3cd001da4907b216c6cba2b643d7",
      "ea1dc054aff64eeba78a9c9f1f534cd2",
      "364ad52d3fb1414687ae8b4020cf0a97",
      "244c5408676948e4add6c83b22b7d0e6",
      "355aced509154b8fa0d2ab350dff2448",
      "b779892a719d4761ab75f693734ffb25",
      "7ba93d568ca94f6b8e09f596e76ca28c",
      "df268975b0e24f4db83b4df48bdb76eb",
      "aaaa619e7b834082a6a4878c719902a7",
      "dcfd5e21c1634ddc9b05cfd80559addd",
      "8cfbebca24c6450b800059a8f155ba08",
      "ba0537d1b75c46ae9b72727ad44388ba",
      "1f8e402d73104798b24513c0383eec98",
      "70c21be584d74da49696161928fe255a",
      "e85b03ff5e7a4505b7c775a0f71f663f",
      "47a883afe9454c98a2f8aa16ba235b9d",
      "f854bac2ce754c6b98794c0aef9b3157",
      "c3d09742c6df4cca9c3d301853106eb8",
      "ab43d8aa567445e3b5bb26bda6d1866d",
      "3e575fb9bc13452aba996fb6c1f8ff7c",
      "e3449d38070546e8854882184583d062",
      "b2e122786ab440fca7e1ce5bd2fe77d7",
      "b7868714d5464632ba735f360b468d0e",
      "34056901c3fa4fe6b6d84c01bfd8fcbf",
      "2a77fc19fe684e87bbce6b1f34bc63f8",
      "1a1b6088160a4f1e8fcccb8bbb09ad45",
      "cdf3f380ee4446a486205e7ed1a882c2",
      "99f5c5d80bca47d4978c89a3b3a3a677",
      "362146dbcd5f41ecb3250e525ad0fdb6",
      "f6d4324d58344c059a70d697b89f66a2",
      "1ec16fabfeeb42df8526318d8ea9aae8",
      "5593168e626342559bb15bd0e7914e50",
      "654669250f544efbaeb78c962615a477",
      "c820449b80e14c34bc69548f60aa2d49",
      "bb1c10da12274ba386cfcab1644b0af8",
      "2b7daed8c6114c22923ec7e695b79dd5",
      "f95879b03a3b4eb98c45b8b45dbb0866",
      "57e6a2f1576d44eeb90bd2a3810a16bc",
      "021bb86c9d6545cea2034dfa0c2a773c",
      "4cba92caae4f4308adbc7c57c1a5d214",
      "afee3411bb0949c399c96b00570c6d9b",
      "fcb7178d79fd4129b7050c902debb3be",
      "f10a6624a64a49ce92eebcca1bd29f2b",
      "ecaee7abfc53408f8de9ecb783be0cd6",
      "919e77de41234055930b35f6af449b6c",
      "48a9a610904945a5a96f9e3b4ed2d6bf",
      "fb5640dcb2fc43d19d5978bea19cb2a3",
      "61c4e915e13f444b9c80b8267ab1c79c",
      "41ef5432bd4d48a48c6e6f9821631dfb"
     ]
    }
   },
   "outputs": [
    {
     "output_type": "stream",
     "name": "stderr",
     "text": [
      "/usr/local/lib/python3.10/dist-packages/huggingface_hub/utils/_token.py:88: UserWarning: \n",
      "The secret `HF_TOKEN` does not exist in your Colab secrets.\n",
      "To authenticate with the Hugging Face Hub, create a token in your settings tab (https://huggingface.co/settings/tokens), set it as secret in your Google Colab and restart your session.\n",
      "You will be able to reuse this secret in all of your notebooks.\n",
      "Please note that authentication is recommended but still optional to access public models or datasets.\n",
      "  warnings.warn(\n"
     ]
    },
    {
     "output_type": "display_data",
     "data": {
      "text/plain": [
       ".gitattributes:   0%|          | 0.00/1.52k [00:00<?, ?B/s]"
      ],
      "application/vnd.jupyter.widget-view+json": {
       "version_major": 2,
       "version_minor": 0,
       "model_id": "07cba02e93c04bfa805a123e017c6aae"
      }
     },
     "metadata": {}
    },
    {
     "output_type": "display_data",
     "data": {
      "text/plain": [
       "README.md:   0%|          | 0.00/3.77k [00:00<?, ?B/s]"
      ],
      "application/vnd.jupyter.widget-view+json": {
       "version_major": 2,
       "version_minor": 0,
       "model_id": "b779892a719d4761ab75f693734ffb25"
      }
     },
     "metadata": {}
    },
    {
     "output_type": "display_data",
     "data": {
      "text/plain": [
       "config.json:   0%|          | 0.00/808 [00:00<?, ?B/s]"
      ],
      "application/vnd.jupyter.widget-view+json": {
       "version_major": 2,
       "version_minor": 0,
       "model_id": "f854bac2ce754c6b98794c0aef9b3157"
      }
     },
     "metadata": {}
    },
    {
     "output_type": "display_data",
     "data": {
      "text/plain": [
       "pytorch_model.bin:   0%|          | 0.00/438M [00:00<?, ?B/s]"
      ],
      "application/vnd.jupyter.widget-view+json": {
       "version_major": 2,
       "version_minor": 0,
       "model_id": "99f5c5d80bca47d4978c89a3b3a3a677"
      }
     },
     "metadata": {}
    },
    {
     "output_type": "display_data",
     "data": {
      "text/plain": [
       "tokenizer.json:   0%|          | 0.00/712k [00:00<?, ?B/s]"
      ],
      "application/vnd.jupyter.widget-view+json": {
       "version_major": 2,
       "version_minor": 0,
       "model_id": "021bb86c9d6545cea2034dfa0c2a773c"
      }
     },
     "metadata": {}
    },
    {
     "output_type": "stream",
     "name": "stderr",
     "text": [
      "WARNING:sentence_transformers.SentenceTransformer:No sentence-transformers model found with name /root/.cache/torch/sentence_transformers/llmware_industry-bert-insurance-v0.1. Creating a new one with MEAN pooling.\n",
      "/usr/local/lib/python3.10/dist-packages/torch/_utils.py:831: UserWarning: TypedStorage is deprecated. It will be removed in the future and UntypedStorage will be the only storage class. This should only matter to you if you are using storages directly.  To access UntypedStorage directly, use tensor.untyped_storage() instead of tensor.storage()\n",
      "  return self.fget.__get__(instance, owner)()\n"
     ]
    }
   ],
   "source": [
    "embeddings = SentenceTransformerEmbeddings(\n",
    "    model_name=\"llmware/industry-bert-insurance-v0.1\"\n",
    ")"
   ]
  },
  {
   "cell_type": "markdown",
   "id": "b07db212-a314-4f00-a6b1-37fb1c6457cd",
   "metadata": {
    "id": "b07db212-a314-4f00-a6b1-37fb1c6457cd"
   },
   "source": [
    "### Load the LLM"
   ]
  },
  {
   "cell_type": "code",
   "execution_count": 10,
   "id": "387d5d94-b66d-455b-9bb1-f62a9aaf1a7a",
   "metadata": {
    "id": "387d5d94-b66d-455b-9bb1-f62a9aaf1a7a",
    "outputId": "1ac39b2c-3639-41f9-f8d6-7595c708c0ba",
    "colab": {
     "base_uri": "https://localhost:8080/"
    }
   },
   "outputs": [
    {
     "output_type": "stream",
     "name": "stderr",
     "text": [
      "/usr/local/lib/python3.10/dist-packages/huggingface_hub/utils/_deprecation.py:131: FutureWarning: 'InferenceApi' (from 'huggingface_hub.inference_api') is deprecated and will be removed from version '1.0'. `InferenceApi` client is deprecated in favor of the more feature-complete `InferenceClient`. Check out this guide to learn how to convert your script to use it: https://huggingface.co/docs/huggingface_hub/guides/inference#legacy-inferenceapi-client.\n",
      "  warnings.warn(warning_message, FutureWarning)\n"
     ]
    }
   ],
   "source": [
    "repo_id = \"llmware/bling-sheared-llama-1.3b-0.1\"\n",
    "llm = HuggingFaceHub(\n",
    "    repo_id=repo_id, model_kwargs={\"temperature\": 0.3, \"max_length\": 500}\n",
    ")"
   ]
  },
  {
   "cell_type": "code",
   "execution_count": 11,
   "id": "92e8431c-03e0-4a22-b934-2f3a076f25b2",
   "metadata": {
    "id": "92e8431c-03e0-4a22-b934-2f3a076f25b2"
   },
   "outputs": [],
   "source": [
    "def pretty_print_docs(docs):\n",
    "    print(\n",
    "        f\"\\n{'-'* 100}\\n\".join(\n",
    "            [f\"Document{i+1}:\\n\\n\" + d.page_content for i, d in enumerate(docs)]\n",
    "        )\n",
    "    )"
   ]
  },
  {
   "cell_type": "markdown",
   "id": "d5f17af2-5b32-4e22-971b-eaf7e09a04a0",
   "metadata": {
    "id": "d5f17af2-5b32-4e22-971b-eaf7e09a04a0"
   },
   "source": [
    "### Instantiate VectorStore (LanceDB)"
   ]
  },
  {
   "cell_type": "code",
   "execution_count": 12,
   "id": "09ce605a-93ab-4734-8784-3b57dd330722",
   "metadata": {
    "id": "09ce605a-93ab-4734-8784-3b57dd330722"
   },
   "outputs": [],
   "source": [
    "import lancedb\n",
    "\n",
    "context_data = lancedb.connect(\"./.lancedb\")\n",
    "table = context_data.create_table(\n",
    "    \"context\",\n",
    "    data=[\n",
    "        {\n",
    "            \"vector\": embeddings.embed_query(\"Hello World\"),\n",
    "            \"text\": \"Hello World\",\n",
    "            \"id\": \"1\",\n",
    "        }\n",
    "    ],\n",
    "    mode=\"overwrite\",\n",
    ")"
   ]
  },
  {
   "cell_type": "markdown",
   "id": "b0ea8f72-5f32-4c79-a76a-123cae04041e",
   "metadata": {
    "id": "b0ea8f72-5f32-4c79-a76a-123cae04041e"
   },
   "source": [
    "### Retriever"
   ]
  },
  {
   "cell_type": "code",
   "execution_count": 14,
   "id": "9f600c90-86b1-4f56-9741-372f8c1e3146",
   "metadata": {
    "id": "9f600c90-86b1-4f56-9741-372f8c1e3146"
   },
   "outputs": [],
   "source": [
    "# initialize the retriever\n",
    "from langchain_community.vectorstores import LanceDB\n",
    "\n",
    "database = LanceDB.from_documents(final_doc, embeddings, connection=table)"
   ]
  },
  {
   "cell_type": "code",
   "execution_count": 15,
   "id": "24279bd0-0bc6-4a80-b297-0ec2f8717642",
   "metadata": {
    "id": "24279bd0-0bc6-4a80-b297-0ec2f8717642"
   },
   "outputs": [],
   "source": [
    "retriever_d = database.as_retriever(search_kwargs={\"k\": 3})"
   ]
  },
  {
   "cell_type": "code",
   "execution_count": 16,
   "id": "3f3b0406-f2ff-4ca4-bfaa-6063d3cfd249",
   "metadata": {
    "id": "3f3b0406-f2ff-4ca4-bfaa-6063d3cfd249",
    "outputId": "eef8e29c-6dd9-429c-d49d-f120d209c668",
    "colab": {
     "base_uri": "https://localhost:8080/"
    }
   },
   "outputs": [
    {
     "output_type": "stream",
     "name": "stdout",
     "text": [
      "Document1:\n",
      "\n",
      "body of w ater; also called a drainage basin. \n",
      "  \n",
      "Wetlands: Lands w here w ater saturation is the domi nant factor determining the nature of the soil \n",
      "development and the plant and animal communities (e.g., sloughs, estuaries, marshes). \n",
      " \n",
      " \n",
      " 7\n",
      "----------------------------------------------------------------------------------------------------\n",
      "Document2:\n",
      "\n",
      "developed state. \n",
      " \n",
      "Endangered species:   A species that is in danger of extinction throughout all or a significant portion of its range. \n",
      " \n",
      "Engineering:  The application of scientific, physical, mechan ical and mathematical principles to design \n",
      "processes, products and structures that improve the quality of life. \n",
      " \n",
      "Environment:  The total of the surroundings (air, w ater, soil, vege tation, people, w ildlife) influencing each living \n",
      "being’s existence, including physical, biological a nd all other factors; the surroundings of a plant \n",
      "or animals including other plants or animals, climate and location. \n",
      " 2\n",
      "----------------------------------------------------------------------------------------------------\n",
      "Document3:\n",
      "\n",
      "Scale:  Relates concepts and ideas to one another by  some measurement (e.g., quantitative, numeral, \n",
      "abstract, ideological); provides a measure of siz e and/or incremental change. \n",
      " \n",
      "Science:   Search for understanding the natural w orld using inquiry and experimentation.  \n",
      " \n",
      "Shredder:  Through chew ing and/or grinding, microorganisms feed on non-w oody coarse particulate matter, \n",
      "primarily leaves. \n",
      " \n",
      "Stream order:  Energy and nutrient flow  that increases as w ater moves tow ard the oceans (e.g., the smallest \n",
      "stream (primary) that ends w hen rivers flow  into oceans). \n",
      " \n",
      "Succession:   The series of changes that occur in an ecosystem w ith the passing of time.\n"
     ]
    }
   ],
   "source": [
    "docs = retriever_d.get_relevant_documents(query=\"What is Wetlands?\")\n",
    "pretty_print_docs(docs)"
   ]
  },
  {
   "cell_type": "markdown",
   "id": "3e6dd9e2-26c5-4db5-b900-69455da86a55",
   "metadata": {
    "id": "3e6dd9e2-26c5-4db5-b900-69455da86a55"
   },
   "source": [
    "### Compressor"
   ]
  },
  {
   "cell_type": "code",
   "execution_count": 17,
   "id": "fe7799d1-5f00-4b99-8fc2-f1054cbb9c23",
   "metadata": {
    "id": "fe7799d1-5f00-4b99-8fc2-f1054cbb9c23"
   },
   "outputs": [],
   "source": [
    "# creating the compressor\n",
    "compressor = LLMChainExtractor.from_llm(llm=llm)\n",
    "\n",
    "# compressor retriver = base retriever + compressor\n",
    "compression_retriever = ContextualCompressionRetriever(\n",
    "    base_retriever=retriever_d, base_compressor=compressor\n",
    ")"
   ]
  },
  {
   "cell_type": "code",
   "execution_count": 18,
   "id": "545a5c95-4676-44e0-8878-29c3be3c970d",
   "metadata": {
    "id": "545a5c95-4676-44e0-8878-29c3be3c970d",
    "outputId": "ceb30f46-fc03-4083-c65d-18e37a1e9a9e",
    "colab": {
     "base_uri": "https://localhost:8080/"
    }
   },
   "outputs": [
    {
     "output_type": "stream",
     "name": "stdout",
     "text": [
      "Given the following question and context, extract any part of the context *AS IS* that is relevant to answer the question. If none of the context is relevant return NO_OUTPUT. \n",
      "\n",
      "Remember, *DO NOT* edit the extracted parts of the context.\n",
      "\n",
      "> Question: {question}\n",
      "> Context:\n",
      ">>>\n",
      "{context}\n",
      ">>>\n",
      "Extracted relevant parts:\n"
     ]
    }
   ],
   "source": [
    "print(compressor.llm_chain.prompt.template)"
   ]
  },
  {
   "cell_type": "code",
   "execution_count": 19,
   "id": "287004b8-9d32-4c44-a038-889d826e5799",
   "metadata": {
    "id": "287004b8-9d32-4c44-a038-889d826e5799",
    "outputId": "5e87304d-0cf0-4ba0-a508-625b6adc2018",
    "colab": {
     "base_uri": "https://localhost:8080/"
    }
   },
   "outputs": [
    {
     "output_type": "stream",
     "name": "stdout",
     "text": [
      "··········\n",
      "Document1:\n",
      "\n",
      "developed state. \n",
      " \n",
      "Endangered species:   A species that is in danger of extinction throughout all or a significant portion of its range. \n",
      " \n",
      "Engineering:  The application of scientific, physical, mechan ical and mathematical principles to design \n",
      "processes, products and structures that improve the quality of life. \n",
      " \n",
      "Environment:  The total of the surroundings (air, w ater, soil, vege tation, people, w ildlife) influencing each living \n",
      "being’s existence, including physical, biological a nd all other factors; the surroundings of a plant \n",
      "or animals including other plants or animals, climate and location. \n",
      " 2\n",
      "----------------------------------------------------------------------------------------------------\n",
      "Document2:\n",
      "\n",
      "Niche (ecological) : The role played by an organism in an ecosystem; its food preferences, requirements for shelter, \n",
      "special behaviors and the timing of its activities  (e.g., nocturnal, diurnal), interaction w ith other \n",
      "organisms and its habitat. \n",
      " \n",
      "Nonpoint source pollution: Contamination that originates from ma ny locations that all discharge into a location (e.g., a lake, \n",
      "stream, land area). \n",
      " \n",
      "Nonrenew able resources: Substances (e.g., oil, gas, coal, copper, gol d) that, once used, cannot be replaced in this geological \n",
      "age. \n",
      " \n",
      "Nova:  A variable star that suddenly increases in bright ness to several times its normal magnitude and\n",
      "----------------------------------------------------------------------------------------------------\n",
      "Document3:\n",
      "\n",
      "and age relationships of rock units and the occu rrences of structural features, mineral deposits \n",
      "and fossil localities).  \n",
      " \n",
      "Groundw ater:   Water that infiltrates the soil and is located in underground reservoirs called aquifers. \n",
      " \n",
      "Hazardous w aste: A solid that, because of its quantity or concentr ation or its physical, chemical or infectious \n",
      "characteristics, may cause or pose a substantial present or potential haz ard to human health or \n",
      "the environment w hen improperly treated, stored , transported or disposed of, or otherw ise \n",
      "managed. \n",
      " \n",
      "Homeostasis:   The tendency for a system to remain in a state of equilibrium by resisting change. \n",
      " \n",
      " 3\n"
     ]
    }
   ],
   "source": [
    "os.environ[\"OPENAI_API_KEY \"] = getpass()\n",
    "embdeddings_filter = EmbeddingsFilter(embeddings=embeddings)\n",
    "compression_retriever_filter = ContextualCompressionRetriever(\n",
    "    base_retriever=retriever_d, base_compressor=embdeddings_filter\n",
    ")\n",
    "\n",
    "compressed_docs = compression_retriever_filter.get_relevant_documents(\n",
    "    query=\"What is the Environment?\"\n",
    ")\n",
    "pretty_print_docs(compressed_docs)"
   ]
  },
  {
   "cell_type": "markdown",
   "id": "fba3d435-4ab7-4792-85df-d39a1a5ea8ae",
   "metadata": {
    "id": "fba3d435-4ab7-4792-85df-d39a1a5ea8ae"
   },
   "source": [
    "### Retrieve answer from Compressed Data"
   ]
  },
  {
   "cell_type": "code",
   "execution_count": 20,
   "id": "d010a946-e53a-467c-aac6-69c454d48d13",
   "metadata": {
    "id": "d010a946-e53a-467c-aac6-69c454d48d13",
    "outputId": "dd2157de-7d1f-492c-cf4b-2749ef23f0ef",
    "colab": {
     "base_uri": "https://localhost:8080/"
    }
   },
   "outputs": [
    {
     "output_type": "stream",
     "name": "stdout",
     "text": [
      "\n",
      "\n",
      "\u001b[1m> Entering new RetrievalQA chain...\u001b[0m\n"
     ]
    },
    {
     "output_type": "stream",
     "name": "stderr",
     "text": [
      "/usr/local/lib/python3.10/dist-packages/langchain_core/_api/deprecation.py:117: LangChainDeprecationWarning: The function `__call__` was deprecated in LangChain 0.1.0 and will be removed in 0.2.0. Use invoke instead.\n",
      "  warn_deprecated(\n"
     ]
    },
    {
     "output_type": "stream",
     "name": "stdout",
     "text": [
      "\n",
      "\u001b[1m> Finished chain.\u001b[0m\n"
     ]
    },
    {
     "output_type": "execute_result",
     "data": {
      "text/plain": [
       "{'query': 'What is Environment?', 'result': ' Environment'}"
      ]
     },
     "metadata": {},
     "execution_count": 20
    }
   ],
   "source": [
    "from langchain.chains import RetrievalQA\n",
    "\n",
    "qa = RetrievalQA.from_chain_type(\n",
    "    llm=llm, chain_type=\"stuff\", retriever=compression_retriever_filter, verbose=True\n",
    ")\n",
    "# Ask Question\n",
    "qa(\"What is Environment?\")"
   ]
  },
  {
   "cell_type": "markdown",
   "id": "2052e24a-1f50-408d-bf10-df1c2a4b5af6",
   "metadata": {
    "id": "2052e24a-1f50-408d-bf10-df1c2a4b5af6"
   },
   "source": [
    "# Pipeline"
   ]
  },
  {
   "cell_type": "code",
   "execution_count": 21,
   "id": "cb8d3941-fd91-47ad-80ef-863df0242b38",
   "metadata": {
    "id": "cb8d3941-fd91-47ad-80ef-863df0242b38",
    "outputId": "7e34fe30-6b28-425e-bc4f-3b76a5628795",
    "colab": {
     "base_uri": "https://localhost:8080/"
    }
   },
   "outputs": [
    {
     "output_type": "stream",
     "name": "stdout",
     "text": [
      "base_compressor=DocumentCompressorPipeline(transformers=[EmbeddingsRedundantFilter(embeddings=HuggingFaceEmbeddings(client=SentenceTransformer(\n",
      "  (0): Transformer({'max_seq_length': 512, 'do_lower_case': False}) with Transformer model: BertModel \n",
      "  (1): Pooling({'word_embedding_dimension': 768, 'pooling_mode_cls_token': False, 'pooling_mode_mean_tokens': True, 'pooling_mode_max_tokens': False, 'pooling_mode_mean_sqrt_len_tokens': False})\n",
      "), model_name='llmware/industry-bert-insurance-v0.1', cache_folder=None, model_kwargs={}, encode_kwargs={}, multi_process=False), similarity_fn=<function cosine_similarity at 0x7d6af0ae2b00>, similarity_threshold=0.95), EmbeddingsFilter(embeddings=HuggingFaceEmbeddings(client=SentenceTransformer(\n",
      "  (0): Transformer({'max_seq_length': 512, 'do_lower_case': False}) with Transformer model: BertModel \n",
      "  (1): Pooling({'word_embedding_dimension': 768, 'pooling_mode_cls_token': False, 'pooling_mode_mean_tokens': True, 'pooling_mode_max_tokens': False, 'pooling_mode_mean_sqrt_len_tokens': False})\n",
      "), model_name='llmware/industry-bert-insurance-v0.1', cache_folder=None, model_kwargs={}, encode_kwargs={}, multi_process=False), similarity_fn=<function cosine_similarity at 0x7d6af0ae2b00>, k=5, similarity_threshold=None)]) base_retriever=VectorStoreRetriever(tags=['LanceDB', 'HuggingFaceEmbeddings'], vectorstore=<langchain_community.vectorstores.lancedb.LanceDB object at 0x7d6a1c313730>, search_kwargs={'k': 3})\n",
      "Document1:\n",
      "\n",
      "developed state. \n",
      " \n",
      "Endangered species:   A species that is in danger of extinction throughout all or a significant portion of its range. \n",
      " \n",
      "Engineering:  The application of scientific, physical, mechan ical and mathematical principles to design \n",
      "processes, products and structures that improve the quality of life. \n",
      " \n",
      "Environment:  The total of the surroundings (air, w ater, soil, vege tation, people, w ildlife) influencing each living \n",
      "being’s existence, including physical, biological a nd all other factors; the surroundings of a plant \n",
      "or animals including other plants or animals, climate and location. \n",
      " 2\n",
      "----------------------------------------------------------------------------------------------------\n",
      "Document2:\n",
      "\n",
      "Niche (ecological) : The role played by an organism in an ecosystem; its food preferences, requirements for shelter, \n",
      "special behaviors and the timing of its activities  (e.g., nocturnal, diurnal), interaction w ith other \n",
      "organisms and its habitat. \n",
      " \n",
      "Nonpoint source pollution: Contamination that originates from ma ny locations that all discharge into a location (e.g., a lake, \n",
      "stream, land area). \n",
      " \n",
      "Nonrenew able resources: Substances (e.g., oil, gas, coal, copper, gol d) that, once used, cannot be replaced in this geological \n",
      "age. \n",
      " \n",
      "Nova:  A variable star that suddenly increases in bright ness to several times its normal magnitude and\n",
      "----------------------------------------------------------------------------------------------------\n",
      "Document3:\n",
      "\n",
      "and age relationships of rock units and the occu rrences of structural features, mineral deposits \n",
      "and fossil localities).  \n",
      " \n",
      "Groundw ater:   Water that infiltrates the soil and is located in underground reservoirs called aquifers. \n",
      " \n",
      "Hazardous w aste: A solid that, because of its quantity or concentr ation or its physical, chemical or infectious \n",
      "characteristics, may cause or pose a substantial present or potential haz ard to human health or \n",
      "the environment w hen improperly treated, stored , transported or disposed of, or otherw ise \n",
      "managed. \n",
      " \n",
      "Homeostasis:   The tendency for a system to remain in a state of equilibrium by resisting change. \n",
      " \n",
      " 3\n"
     ]
    }
   ],
   "source": [
    "redundant_filter = EmbeddingsRedundantFilter(embeddings=embeddings)\n",
    "relevant_filter = EmbeddingsFilter(embeddings=embeddings, k=5)\n",
    "\n",
    "# creating the pipeline\n",
    "compressed_pipeline = DocumentCompressorPipeline(\n",
    "    transformers=[redundant_filter, relevant_filter]\n",
    ")\n",
    "\n",
    "# compressor retriever\n",
    "comp_pipe_retrieve = ContextualCompressionRetriever(\n",
    "    base_retriever=retriever_d, base_compressor=compressed_pipeline\n",
    ")\n",
    "\n",
    "# print the prompt\n",
    "print(comp_pipe_retrieve)\n",
    "\n",
    "# Get relevant documents\n",
    "compressed_docs = comp_pipe_retrieve.get_relevant_documents(\n",
    "    query=\"What is Environment?\"\n",
    ")\n",
    "pretty_print_docs(compressed_docs)"
   ]
  },
  {
   "cell_type": "code",
   "execution_count": 23,
   "id": "49da9c3f-c7ed-4a2c-821c-05c9c4d6c561",
   "metadata": {
    "id": "49da9c3f-c7ed-4a2c-821c-05c9c4d6c561",
    "outputId": "7ef923fd-af7f-4fa3-ec21-0e6ebffb8935",
    "colab": {
     "base_uri": "https://localhost:8080/"
    }
   },
   "outputs": [
    {
     "output_type": "stream",
     "name": "stdout",
     "text": [
      "Document1:\n",
      "\n",
      "developed state. \n",
      " \n",
      "Endangered species:   A species that is in danger of extinction throughout all or a significant portion of its range. \n",
      " \n",
      "Engineering:  The application of scientific, physical, mechan ical and mathematical principles to design \n",
      "processes, products and structures that improve the quality of life. \n",
      " \n",
      "Environment:  The total of the surroundings (air, w ater, soil, vege tation, people, w ildlife) influencing each living \n",
      "being’s existence, including physical, biological a nd all other factors; the surroundings of a plant \n",
      "or animals including other plants or animals, climate and location. \n",
      " 2\n",
      "----------------------------------------------------------------------------------------------------\n",
      "Document2:\n",
      "\n",
      "Niche (ecological) : The role played by an organism in an ecosystem; its food preferences, requirements for shelter, \n",
      "special behaviors and the timing of its activities  (e.g., nocturnal, diurnal), interaction w ith other \n",
      "organisms and its habitat. \n",
      " \n",
      "Nonpoint source pollution: Contamination that originates from ma ny locations that all discharge into a location (e.g., a lake, \n",
      "stream, land area). \n",
      " \n",
      "Nonrenew able resources: Substances (e.g., oil, gas, coal, copper, gol d) that, once used, cannot be replaced in this geological \n",
      "age. \n",
      " \n",
      "Nova:  A variable star that suddenly increases in bright ness to several times its normal magnitude and\n",
      "----------------------------------------------------------------------------------------------------\n",
      "Document3:\n",
      "\n",
      "and age relationships of rock units and the occu rrences of structural features, mineral deposits \n",
      "and fossil localities).  \n",
      " \n",
      "Groundw ater:   Water that infiltrates the soil and is located in underground reservoirs called aquifers. \n",
      " \n",
      "Hazardous w aste: A solid that, because of its quantity or concentr ation or its physical, chemical or infectious \n",
      "characteristics, may cause or pose a substantial present or potential haz ard to human health or \n",
      "the environment w hen improperly treated, stored , transported or disposed of, or otherw ise \n",
      "managed. \n",
      " \n",
      "Homeostasis:   The tendency for a system to remain in a state of equilibrium by resisting change. \n",
      " \n",
      " 3\n"
     ]
    }
   ],
   "source": [
    "compressed_docs = comp_pipe_retrieve.get_relevant_documents(\n",
    "    query=\"What is Environment?\"\n",
    ")\n",
    "pretty_print_docs(compressed_docs)"
   ]
  },
  {
   "cell_type": "code",
   "execution_count": 24,
   "id": "9afff673-d096-4bd5-b4fb-867cec1c9bda",
   "metadata": {
    "id": "9afff673-d096-4bd5-b4fb-867cec1c9bda",
    "outputId": "f2ed240d-f416-4fd1-9570-97c4d2ddebbd",
    "colab": {
     "base_uri": "https://localhost:8080/"
    }
   },
   "outputs": [
    {
     "output_type": "stream",
     "name": "stdout",
     "text": [
      "Document1:\n",
      "\n",
      "and age relationships of rock units and the occu rrences of structural features, mineral deposits \n",
      "and fossil localities).  \n",
      " \n",
      "Groundw ater:   Water that infiltrates the soil and is located in underground reservoirs called aquifers. \n",
      " \n",
      "Hazardous w aste: A solid that, because of its quantity or concentr ation or its physical, chemical or infectious \n",
      "characteristics, may cause or pose a substantial present or potential haz ard to human health or \n",
      "the environment w hen improperly treated, stored , transported or disposed of, or otherw ise \n",
      "managed. \n",
      " \n",
      "Homeostasis:   The tendency for a system to remain in a state of equilibrium by resisting change. \n",
      " \n",
      " 3\n",
      "----------------------------------------------------------------------------------------------------\n",
      "Document2:\n",
      "\n",
      "tunnels, containers of various types). \n",
      " \n",
      "Radioactive isotope:  An atom that gives off nuclear radiation and has the same number of protons (atomic number) as \n",
      "another atom but a different number of neutrons. \n",
      " \n",
      "Recycling :  Collecting and reprocessing a resource or product to make into new  products. \n",
      " \n",
      "Regulation:  A rule or order issued by an executive authorit y or regulatory agency of a government and having \n",
      "the force of law . \n",
      " \n",
      "Renew able: A naturally occurring raw  material or form of energy that w ill be replenished through natural \n",
      "ecological cycles or sound management practices (e.g., the sun, w ind, w ater, trees).\n",
      "----------------------------------------------------------------------------------------------------\n",
      "Document3:\n",
      "\n",
      "Hydrology:  The scientific study of the properties, distribution and effects of w ater on the earth’s surface, in \n",
      "the soil and underlying rocks and in the atmosphere. \n",
      " \n",
      "Hypothesis:   An assertion subject to verification or proof as  a premise from w hich a conclusion is draw n. \n",
      " \n",
      "Incinerating:   Burning to ashes; reducing to ashes. \n",
      " \n",
      "Information technology:   The technical means that humans create to store and transmit information. \n",
      " \n",
      "Inquiry:   A systematic process for using know ledge and skills to acquire and apply new  know ledge. \n",
      " \n",
      "Instructional technology:  Any mechanical aid (including com puter technology) used to assist in or enhance the process of \n",
      "teaching and learning.\n"
     ]
    }
   ],
   "source": [
    "compressed_docs = comp_pipe_retrieve.get_relevant_documents(\n",
    "    query=\"What is Hazardous waste?\"\n",
    ")\n",
    "pretty_print_docs(compressed_docs)"
   ]
  },
  {
   "cell_type": "code",
   "source": [],
   "metadata": {
    "id": "BIHovhVbWfKA"
   },
   "id": "BIHovhVbWfKA",
   "execution_count": null,
   "outputs": []
  }
 ],
 "metadata": {
  "kernelspec": {
   "display_name": "Python 3 (ipykernel)",
   "language": "python",
   "name": "python3"
  },
  "language_info": {
   "codemirror_mode": {
    "name": "ipython",
    "version": 3
   },
   "file_extension": ".py",
   "mimetype": "text/x-python",
   "name": "python",
   "nbconvert_exporter": "python",
   "pygments_lexer": "ipython3",
   "version": "3.12.1"
  },
  "colab": {
   "provenance": []
  },
  "widgets": {
   "application/vnd.jupyter.widget-state+json": {
    "07cba02e93c04bfa805a123e017c6aae": {
     "model_module": "@jupyter-widgets/controls",
     "model_name": "HBoxModel",
     "model_module_version": "1.5.0",
     "state": {
      "_dom_classes": [],
      "_model_module": "@jupyter-widgets/controls",
      "_model_module_version": "1.5.0",
      "_model_name": "HBoxModel",
      "_view_count": null,
      "_view_module": "@jupyter-widgets/controls",
      "_view_module_version": "1.5.0",
      "_view_name": "HBoxView",
      "box_style": "",
      "children": [
       "IPY_MODEL_a07908318bc54559b6bb17f89dc77a2d",
       "IPY_MODEL_f29bad8147314d748e5e3079e01b3138",
       "IPY_MODEL_de5a21f77e32439fb6d202a68a351dc2"
      ],
      "layout": "IPY_MODEL_b280e59d8848498cba95f9b8c896c819"
     }
    },
    "a07908318bc54559b6bb17f89dc77a2d": {
     "model_module": "@jupyter-widgets/controls",
     "model_name": "HTMLModel",
     "model_module_version": "1.5.0",
     "state": {
      "_dom_classes": [],
      "_model_module": "@jupyter-widgets/controls",
      "_model_module_version": "1.5.0",
      "_model_name": "HTMLModel",
      "_view_count": null,
      "_view_module": "@jupyter-widgets/controls",
      "_view_module_version": "1.5.0",
      "_view_name": "HTMLView",
      "description": "",
      "description_tooltip": null,
      "layout": "IPY_MODEL_092881d18dff4e3ab9c129b9c0c1538f",
      "placeholder": "​",
      "style": "IPY_MODEL_18fc3cd001da4907b216c6cba2b643d7",
      "value": ".gitattributes: 100%"
     }
    },
    "f29bad8147314d748e5e3079e01b3138": {
     "model_module": "@jupyter-widgets/controls",
     "model_name": "FloatProgressModel",
     "model_module_version": "1.5.0",
     "state": {
      "_dom_classes": [],
      "_model_module": "@jupyter-widgets/controls",
      "_model_module_version": "1.5.0",
      "_model_name": "FloatProgressModel",
      "_view_count": null,
      "_view_module": "@jupyter-widgets/controls",
      "_view_module_version": "1.5.0",
      "_view_name": "ProgressView",
      "bar_style": "success",
      "description": "",
      "description_tooltip": null,
      "layout": "IPY_MODEL_ea1dc054aff64eeba78a9c9f1f534cd2",
      "max": 1519,
      "min": 0,
      "orientation": "horizontal",
      "style": "IPY_MODEL_364ad52d3fb1414687ae8b4020cf0a97",
      "value": 1519
     }
    },
    "de5a21f77e32439fb6d202a68a351dc2": {
     "model_module": "@jupyter-widgets/controls",
     "model_name": "HTMLModel",
     "model_module_version": "1.5.0",
     "state": {
      "_dom_classes": [],
      "_model_module": "@jupyter-widgets/controls",
      "_model_module_version": "1.5.0",
      "_model_name": "HTMLModel",
      "_view_count": null,
      "_view_module": "@jupyter-widgets/controls",
      "_view_module_version": "1.5.0",
      "_view_name": "HTMLView",
      "description": "",
      "description_tooltip": null,
      "layout": "IPY_MODEL_244c5408676948e4add6c83b22b7d0e6",
      "placeholder": "​",
      "style": "IPY_MODEL_355aced509154b8fa0d2ab350dff2448",
      "value": " 1.52k/1.52k [00:00&lt;00:00, 65.8kB/s]"
     }
    },
    "b280e59d8848498cba95f9b8c896c819": {
     "model_module": "@jupyter-widgets/base",
     "model_name": "LayoutModel",
     "model_module_version": "1.2.0",
     "state": {
      "_model_module": "@jupyter-widgets/base",
      "_model_module_version": "1.2.0",
      "_model_name": "LayoutModel",
      "_view_count": null,
      "_view_module": "@jupyter-widgets/base",
      "_view_module_version": "1.2.0",
      "_view_name": "LayoutView",
      "align_content": null,
      "align_items": null,
      "align_self": null,
      "border": null,
      "bottom": null,
      "display": null,
      "flex": null,
      "flex_flow": null,
      "grid_area": null,
      "grid_auto_columns": null,
      "grid_auto_flow": null,
      "grid_auto_rows": null,
      "grid_column": null,
      "grid_gap": null,
      "grid_row": null,
      "grid_template_areas": null,
      "grid_template_columns": null,
      "grid_template_rows": null,
      "height": null,
      "justify_content": null,
      "justify_items": null,
      "left": null,
      "margin": null,
      "max_height": null,
      "max_width": null,
      "min_height": null,
      "min_width": null,
      "object_fit": null,
      "object_position": null,
      "order": null,
      "overflow": null,
      "overflow_x": null,
      "overflow_y": null,
      "padding": null,
      "right": null,
      "top": null,
      "visibility": null,
      "width": null
     }
    },
    "092881d18dff4e3ab9c129b9c0c1538f": {
     "model_module": "@jupyter-widgets/base",
     "model_name": "LayoutModel",
     "model_module_version": "1.2.0",
     "state": {
      "_model_module": "@jupyter-widgets/base",
      "_model_module_version": "1.2.0",
      "_model_name": "LayoutModel",
      "_view_count": null,
      "_view_module": "@jupyter-widgets/base",
      "_view_module_version": "1.2.0",
      "_view_name": "LayoutView",
      "align_content": null,
      "align_items": null,
      "align_self": null,
      "border": null,
      "bottom": null,
      "display": null,
      "flex": null,
      "flex_flow": null,
      "grid_area": null,
      "grid_auto_columns": null,
      "grid_auto_flow": null,
      "grid_auto_rows": null,
      "grid_column": null,
      "grid_gap": null,
      "grid_row": null,
      "grid_template_areas": null,
      "grid_template_columns": null,
      "grid_template_rows": null,
      "height": null,
      "justify_content": null,
      "justify_items": null,
      "left": null,
      "margin": null,
      "max_height": null,
      "max_width": null,
      "min_height": null,
      "min_width": null,
      "object_fit": null,
      "object_position": null,
      "order": null,
      "overflow": null,
      "overflow_x": null,
      "overflow_y": null,
      "padding": null,
      "right": null,
      "top": null,
      "visibility": null,
      "width": null
     }
    },
    "18fc3cd001da4907b216c6cba2b643d7": {
     "model_module": "@jupyter-widgets/controls",
     "model_name": "DescriptionStyleModel",
     "model_module_version": "1.5.0",
     "state": {
      "_model_module": "@jupyter-widgets/controls",
      "_model_module_version": "1.5.0",
      "_model_name": "DescriptionStyleModel",
      "_view_count": null,
      "_view_module": "@jupyter-widgets/base",
      "_view_module_version": "1.2.0",
      "_view_name": "StyleView",
      "description_width": ""
     }
    },
    "ea1dc054aff64eeba78a9c9f1f534cd2": {
     "model_module": "@jupyter-widgets/base",
     "model_name": "LayoutModel",
     "model_module_version": "1.2.0",
     "state": {
      "_model_module": "@jupyter-widgets/base",
      "_model_module_version": "1.2.0",
      "_model_name": "LayoutModel",
      "_view_count": null,
      "_view_module": "@jupyter-widgets/base",
      "_view_module_version": "1.2.0",
      "_view_name": "LayoutView",
      "align_content": null,
      "align_items": null,
      "align_self": null,
      "border": null,
      "bottom": null,
      "display": null,
      "flex": null,
      "flex_flow": null,
      "grid_area": null,
      "grid_auto_columns": null,
      "grid_auto_flow": null,
      "grid_auto_rows": null,
      "grid_column": null,
      "grid_gap": null,
      "grid_row": null,
      "grid_template_areas": null,
      "grid_template_columns": null,
      "grid_template_rows": null,
      "height": null,
      "justify_content": null,
      "justify_items": null,
      "left": null,
      "margin": null,
      "max_height": null,
      "max_width": null,
      "min_height": null,
      "min_width": null,
      "object_fit": null,
      "object_position": null,
      "order": null,
      "overflow": null,
      "overflow_x": null,
      "overflow_y": null,
      "padding": null,
      "right": null,
      "top": null,
      "visibility": null,
      "width": null
     }
    },
    "364ad52d3fb1414687ae8b4020cf0a97": {
     "model_module": "@jupyter-widgets/controls",
     "model_name": "ProgressStyleModel",
     "model_module_version": "1.5.0",
     "state": {
      "_model_module": "@jupyter-widgets/controls",
      "_model_module_version": "1.5.0",
      "_model_name": "ProgressStyleModel",
      "_view_count": null,
      "_view_module": "@jupyter-widgets/base",
      "_view_module_version": "1.2.0",
      "_view_name": "StyleView",
      "bar_color": null,
      "description_width": ""
     }
    },
    "244c5408676948e4add6c83b22b7d0e6": {
     "model_module": "@jupyter-widgets/base",
     "model_name": "LayoutModel",
     "model_module_version": "1.2.0",
     "state": {
      "_model_module": "@jupyter-widgets/base",
      "_model_module_version": "1.2.0",
      "_model_name": "LayoutModel",
      "_view_count": null,
      "_view_module": "@jupyter-widgets/base",
      "_view_module_version": "1.2.0",
      "_view_name": "LayoutView",
      "align_content": null,
      "align_items": null,
      "align_self": null,
      "border": null,
      "bottom": null,
      "display": null,
      "flex": null,
      "flex_flow": null,
      "grid_area": null,
      "grid_auto_columns": null,
      "grid_auto_flow": null,
      "grid_auto_rows": null,
      "grid_column": null,
      "grid_gap": null,
      "grid_row": null,
      "grid_template_areas": null,
      "grid_template_columns": null,
      "grid_template_rows": null,
      "height": null,
      "justify_content": null,
      "justify_items": null,
      "left": null,
      "margin": null,
      "max_height": null,
      "max_width": null,
      "min_height": null,
      "min_width": null,
      "object_fit": null,
      "object_position": null,
      "order": null,
      "overflow": null,
      "overflow_x": null,
      "overflow_y": null,
      "padding": null,
      "right": null,
      "top": null,
      "visibility": null,
      "width": null
     }
    },
    "355aced509154b8fa0d2ab350dff2448": {
     "model_module": "@jupyter-widgets/controls",
     "model_name": "DescriptionStyleModel",
     "model_module_version": "1.5.0",
     "state": {
      "_model_module": "@jupyter-widgets/controls",
      "_model_module_version": "1.5.0",
      "_model_name": "DescriptionStyleModel",
      "_view_count": null,
      "_view_module": "@jupyter-widgets/base",
      "_view_module_version": "1.2.0",
      "_view_name": "StyleView",
      "description_width": ""
     }
    },
    "b779892a719d4761ab75f693734ffb25": {
     "model_module": "@jupyter-widgets/controls",
     "model_name": "HBoxModel",
     "model_module_version": "1.5.0",
     "state": {
      "_dom_classes": [],
      "_model_module": "@jupyter-widgets/controls",
      "_model_module_version": "1.5.0",
      "_model_name": "HBoxModel",
      "_view_count": null,
      "_view_module": "@jupyter-widgets/controls",
      "_view_module_version": "1.5.0",
      "_view_name": "HBoxView",
      "box_style": "",
      "children": [
       "IPY_MODEL_7ba93d568ca94f6b8e09f596e76ca28c",
       "IPY_MODEL_df268975b0e24f4db83b4df48bdb76eb",
       "IPY_MODEL_aaaa619e7b834082a6a4878c719902a7"
      ],
      "layout": "IPY_MODEL_dcfd5e21c1634ddc9b05cfd80559addd"
     }
    },
    "7ba93d568ca94f6b8e09f596e76ca28c": {
     "model_module": "@jupyter-widgets/controls",
     "model_name": "HTMLModel",
     "model_module_version": "1.5.0",
     "state": {
      "_dom_classes": [],
      "_model_module": "@jupyter-widgets/controls",
      "_model_module_version": "1.5.0",
      "_model_name": "HTMLModel",
      "_view_count": null,
      "_view_module": "@jupyter-widgets/controls",
      "_view_module_version": "1.5.0",
      "_view_name": "HTMLView",
      "description": "",
      "description_tooltip": null,
      "layout": "IPY_MODEL_8cfbebca24c6450b800059a8f155ba08",
      "placeholder": "​",
      "style": "IPY_MODEL_ba0537d1b75c46ae9b72727ad44388ba",
      "value": "README.md: 100%"
     }
    },
    "df268975b0e24f4db83b4df48bdb76eb": {
     "model_module": "@jupyter-widgets/controls",
     "model_name": "FloatProgressModel",
     "model_module_version": "1.5.0",
     "state": {
      "_dom_classes": [],
      "_model_module": "@jupyter-widgets/controls",
      "_model_module_version": "1.5.0",
      "_model_name": "FloatProgressModel",
      "_view_count": null,
      "_view_module": "@jupyter-widgets/controls",
      "_view_module_version": "1.5.0",
      "_view_name": "ProgressView",
      "bar_style": "success",
      "description": "",
      "description_tooltip": null,
      "layout": "IPY_MODEL_1f8e402d73104798b24513c0383eec98",
      "max": 3765,
      "min": 0,
      "orientation": "horizontal",
      "style": "IPY_MODEL_70c21be584d74da49696161928fe255a",
      "value": 3765
     }
    },
    "aaaa619e7b834082a6a4878c719902a7": {
     "model_module": "@jupyter-widgets/controls",
     "model_name": "HTMLModel",
     "model_module_version": "1.5.0",
     "state": {
      "_dom_classes": [],
      "_model_module": "@jupyter-widgets/controls",
      "_model_module_version": "1.5.0",
      "_model_name": "HTMLModel",
      "_view_count": null,
      "_view_module": "@jupyter-widgets/controls",
      "_view_module_version": "1.5.0",
      "_view_name": "HTMLView",
      "description": "",
      "description_tooltip": null,
      "layout": "IPY_MODEL_e85b03ff5e7a4505b7c775a0f71f663f",
      "placeholder": "​",
      "style": "IPY_MODEL_47a883afe9454c98a2f8aa16ba235b9d",
      "value": " 3.77k/3.77k [00:00&lt;00:00, 30.0kB/s]"
     }
    },
    "dcfd5e21c1634ddc9b05cfd80559addd": {
     "model_module": "@jupyter-widgets/base",
     "model_name": "LayoutModel",
     "model_module_version": "1.2.0",
     "state": {
      "_model_module": "@jupyter-widgets/base",
      "_model_module_version": "1.2.0",
      "_model_name": "LayoutModel",
      "_view_count": null,
      "_view_module": "@jupyter-widgets/base",
      "_view_module_version": "1.2.0",
      "_view_name": "LayoutView",
      "align_content": null,
      "align_items": null,
      "align_self": null,
      "border": null,
      "bottom": null,
      "display": null,
      "flex": null,
      "flex_flow": null,
      "grid_area": null,
      "grid_auto_columns": null,
      "grid_auto_flow": null,
      "grid_auto_rows": null,
      "grid_column": null,
      "grid_gap": null,
      "grid_row": null,
      "grid_template_areas": null,
      "grid_template_columns": null,
      "grid_template_rows": null,
      "height": null,
      "justify_content": null,
      "justify_items": null,
      "left": null,
      "margin": null,
      "max_height": null,
      "max_width": null,
      "min_height": null,
      "min_width": null,
      "object_fit": null,
      "object_position": null,
      "order": null,
      "overflow": null,
      "overflow_x": null,
      "overflow_y": null,
      "padding": null,
      "right": null,
      "top": null,
      "visibility": null,
      "width": null
     }
    },
    "8cfbebca24c6450b800059a8f155ba08": {
     "model_module": "@jupyter-widgets/base",
     "model_name": "LayoutModel",
     "model_module_version": "1.2.0",
     "state": {
      "_model_module": "@jupyter-widgets/base",
      "_model_module_version": "1.2.0",
      "_model_name": "LayoutModel",
      "_view_count": null,
      "_view_module": "@jupyter-widgets/base",
      "_view_module_version": "1.2.0",
      "_view_name": "LayoutView",
      "align_content": null,
      "align_items": null,
      "align_self": null,
      "border": null,
      "bottom": null,
      "display": null,
      "flex": null,
      "flex_flow": null,
      "grid_area": null,
      "grid_auto_columns": null,
      "grid_auto_flow": null,
      "grid_auto_rows": null,
      "grid_column": null,
      "grid_gap": null,
      "grid_row": null,
      "grid_template_areas": null,
      "grid_template_columns": null,
      "grid_template_rows": null,
      "height": null,
      "justify_content": null,
      "justify_items": null,
      "left": null,
      "margin": null,
      "max_height": null,
      "max_width": null,
      "min_height": null,
      "min_width": null,
      "object_fit": null,
      "object_position": null,
      "order": null,
      "overflow": null,
      "overflow_x": null,
      "overflow_y": null,
      "padding": null,
      "right": null,
      "top": null,
      "visibility": null,
      "width": null
     }
    },
    "ba0537d1b75c46ae9b72727ad44388ba": {
     "model_module": "@jupyter-widgets/controls",
     "model_name": "DescriptionStyleModel",
     "model_module_version": "1.5.0",
     "state": {
      "_model_module": "@jupyter-widgets/controls",
      "_model_module_version": "1.5.0",
      "_model_name": "DescriptionStyleModel",
      "_view_count": null,
      "_view_module": "@jupyter-widgets/base",
      "_view_module_version": "1.2.0",
      "_view_name": "StyleView",
      "description_width": ""
     }
    },
    "1f8e402d73104798b24513c0383eec98": {
     "model_module": "@jupyter-widgets/base",
     "model_name": "LayoutModel",
     "model_module_version": "1.2.0",
     "state": {
      "_model_module": "@jupyter-widgets/base",
      "_model_module_version": "1.2.0",
      "_model_name": "LayoutModel",
      "_view_count": null,
      "_view_module": "@jupyter-widgets/base",
      "_view_module_version": "1.2.0",
      "_view_name": "LayoutView",
      "align_content": null,
      "align_items": null,
      "align_self": null,
      "border": null,
      "bottom": null,
      "display": null,
      "flex": null,
      "flex_flow": null,
      "grid_area": null,
      "grid_auto_columns": null,
      "grid_auto_flow": null,
      "grid_auto_rows": null,
      "grid_column": null,
      "grid_gap": null,
      "grid_row": null,
      "grid_template_areas": null,
      "grid_template_columns": null,
      "grid_template_rows": null,
      "height": null,
      "justify_content": null,
      "justify_items": null,
      "left": null,
      "margin": null,
      "max_height": null,
      "max_width": null,
      "min_height": null,
      "min_width": null,
      "object_fit": null,
      "object_position": null,
      "order": null,
      "overflow": null,
      "overflow_x": null,
      "overflow_y": null,
      "padding": null,
      "right": null,
      "top": null,
      "visibility": null,
      "width": null
     }
    },
    "70c21be584d74da49696161928fe255a": {
     "model_module": "@jupyter-widgets/controls",
     "model_name": "ProgressStyleModel",
     "model_module_version": "1.5.0",
     "state": {
      "_model_module": "@jupyter-widgets/controls",
      "_model_module_version": "1.5.0",
      "_model_name": "ProgressStyleModel",
      "_view_count": null,
      "_view_module": "@jupyter-widgets/base",
      "_view_module_version": "1.2.0",
      "_view_name": "StyleView",
      "bar_color": null,
      "description_width": ""
     }
    },
    "e85b03ff5e7a4505b7c775a0f71f663f": {
     "model_module": "@jupyter-widgets/base",
     "model_name": "LayoutModel",
     "model_module_version": "1.2.0",
     "state": {
      "_model_module": "@jupyter-widgets/base",
      "_model_module_version": "1.2.0",
      "_model_name": "LayoutModel",
      "_view_count": null,
      "_view_module": "@jupyter-widgets/base",
      "_view_module_version": "1.2.0",
      "_view_name": "LayoutView",
      "align_content": null,
      "align_items": null,
      "align_self": null,
      "border": null,
      "bottom": null,
      "display": null,
      "flex": null,
      "flex_flow": null,
      "grid_area": null,
      "grid_auto_columns": null,
      "grid_auto_flow": null,
      "grid_auto_rows": null,
      "grid_column": null,
      "grid_gap": null,
      "grid_row": null,
      "grid_template_areas": null,
      "grid_template_columns": null,
      "grid_template_rows": null,
      "height": null,
      "justify_content": null,
      "justify_items": null,
      "left": null,
      "margin": null,
      "max_height": null,
      "max_width": null,
      "min_height": null,
      "min_width": null,
      "object_fit": null,
      "object_position": null,
      "order": null,
      "overflow": null,
      "overflow_x": null,
      "overflow_y": null,
      "padding": null,
      "right": null,
      "top": null,
      "visibility": null,
      "width": null
     }
    },
    "47a883afe9454c98a2f8aa16ba235b9d": {
     "model_module": "@jupyter-widgets/controls",
     "model_name": "DescriptionStyleModel",
     "model_module_version": "1.5.0",
     "state": {
      "_model_module": "@jupyter-widgets/controls",
      "_model_module_version": "1.5.0",
      "_model_name": "DescriptionStyleModel",
      "_view_count": null,
      "_view_module": "@jupyter-widgets/base",
      "_view_module_version": "1.2.0",
      "_view_name": "StyleView",
      "description_width": ""
     }
    },
    "f854bac2ce754c6b98794c0aef9b3157": {
     "model_module": "@jupyter-widgets/controls",
     "model_name": "HBoxModel",
     "model_module_version": "1.5.0",
     "state": {
      "_dom_classes": [],
      "_model_module": "@jupyter-widgets/controls",
      "_model_module_version": "1.5.0",
      "_model_name": "HBoxModel",
      "_view_count": null,
      "_view_module": "@jupyter-widgets/controls",
      "_view_module_version": "1.5.0",
      "_view_name": "HBoxView",
      "box_style": "",
      "children": [
       "IPY_MODEL_c3d09742c6df4cca9c3d301853106eb8",
       "IPY_MODEL_ab43d8aa567445e3b5bb26bda6d1866d",
       "IPY_MODEL_3e575fb9bc13452aba996fb6c1f8ff7c"
      ],
      "layout": "IPY_MODEL_e3449d38070546e8854882184583d062"
     }
    },
    "c3d09742c6df4cca9c3d301853106eb8": {
     "model_module": "@jupyter-widgets/controls",
     "model_name": "HTMLModel",
     "model_module_version": "1.5.0",
     "state": {
      "_dom_classes": [],
      "_model_module": "@jupyter-widgets/controls",
      "_model_module_version": "1.5.0",
      "_model_name": "HTMLModel",
      "_view_count": null,
      "_view_module": "@jupyter-widgets/controls",
      "_view_module_version": "1.5.0",
      "_view_name": "HTMLView",
      "description": "",
      "description_tooltip": null,
      "layout": "IPY_MODEL_b2e122786ab440fca7e1ce5bd2fe77d7",
      "placeholder": "​",
      "style": "IPY_MODEL_b7868714d5464632ba735f360b468d0e",
      "value": "config.json: 100%"
     }
    },
    "ab43d8aa567445e3b5bb26bda6d1866d": {
     "model_module": "@jupyter-widgets/controls",
     "model_name": "FloatProgressModel",
     "model_module_version": "1.5.0",
     "state": {
      "_dom_classes": [],
      "_model_module": "@jupyter-widgets/controls",
      "_model_module_version": "1.5.0",
      "_model_name": "FloatProgressModel",
      "_view_count": null,
      "_view_module": "@jupyter-widgets/controls",
      "_view_module_version": "1.5.0",
      "_view_name": "ProgressView",
      "bar_style": "success",
      "description": "",
      "description_tooltip": null,
      "layout": "IPY_MODEL_34056901c3fa4fe6b6d84c01bfd8fcbf",
      "max": 808,
      "min": 0,
      "orientation": "horizontal",
      "style": "IPY_MODEL_2a77fc19fe684e87bbce6b1f34bc63f8",
      "value": 808
     }
    },
    "3e575fb9bc13452aba996fb6c1f8ff7c": {
     "model_module": "@jupyter-widgets/controls",
     "model_name": "HTMLModel",
     "model_module_version": "1.5.0",
     "state": {
      "_dom_classes": [],
      "_model_module": "@jupyter-widgets/controls",
      "_model_module_version": "1.5.0",
      "_model_name": "HTMLModel",
      "_view_count": null,
      "_view_module": "@jupyter-widgets/controls",
      "_view_module_version": "1.5.0",
      "_view_name": "HTMLView",
      "description": "",
      "description_tooltip": null,
      "layout": "IPY_MODEL_1a1b6088160a4f1e8fcccb8bbb09ad45",
      "placeholder": "​",
      "style": "IPY_MODEL_cdf3f380ee4446a486205e7ed1a882c2",
      "value": " 808/808 [00:00&lt;00:00, 28.4kB/s]"
     }
    },
    "e3449d38070546e8854882184583d062": {
     "model_module": "@jupyter-widgets/base",
     "model_name": "LayoutModel",
     "model_module_version": "1.2.0",
     "state": {
      "_model_module": "@jupyter-widgets/base",
      "_model_module_version": "1.2.0",
      "_model_name": "LayoutModel",
      "_view_count": null,
      "_view_module": "@jupyter-widgets/base",
      "_view_module_version": "1.2.0",
      "_view_name": "LayoutView",
      "align_content": null,
      "align_items": null,
      "align_self": null,
      "border": null,
      "bottom": null,
      "display": null,
      "flex": null,
      "flex_flow": null,
      "grid_area": null,
      "grid_auto_columns": null,
      "grid_auto_flow": null,
      "grid_auto_rows": null,
      "grid_column": null,
      "grid_gap": null,
      "grid_row": null,
      "grid_template_areas": null,
      "grid_template_columns": null,
      "grid_template_rows": null,
      "height": null,
      "justify_content": null,
      "justify_items": null,
      "left": null,
      "margin": null,
      "max_height": null,
      "max_width": null,
      "min_height": null,
      "min_width": null,
      "object_fit": null,
      "object_position": null,
      "order": null,
      "overflow": null,
      "overflow_x": null,
      "overflow_y": null,
      "padding": null,
      "right": null,
      "top": null,
      "visibility": null,
      "width": null
     }
    },
    "b2e122786ab440fca7e1ce5bd2fe77d7": {
     "model_module": "@jupyter-widgets/base",
     "model_name": "LayoutModel",
     "model_module_version": "1.2.0",
     "state": {
      "_model_module": "@jupyter-widgets/base",
      "_model_module_version": "1.2.0",
      "_model_name": "LayoutModel",
      "_view_count": null,
      "_view_module": "@jupyter-widgets/base",
      "_view_module_version": "1.2.0",
      "_view_name": "LayoutView",
      "align_content": null,
      "align_items": null,
      "align_self": null,
      "border": null,
      "bottom": null,
      "display": null,
      "flex": null,
      "flex_flow": null,
      "grid_area": null,
      "grid_auto_columns": null,
      "grid_auto_flow": null,
      "grid_auto_rows": null,
      "grid_column": null,
      "grid_gap": null,
      "grid_row": null,
      "grid_template_areas": null,
      "grid_template_columns": null,
      "grid_template_rows": null,
      "height": null,
      "justify_content": null,
      "justify_items": null,
      "left": null,
      "margin": null,
      "max_height": null,
      "max_width": null,
      "min_height": null,
      "min_width": null,
      "object_fit": null,
      "object_position": null,
      "order": null,
      "overflow": null,
      "overflow_x": null,
      "overflow_y": null,
      "padding": null,
      "right": null,
      "top": null,
      "visibility": null,
      "width": null
     }
    },
    "b7868714d5464632ba735f360b468d0e": {
     "model_module": "@jupyter-widgets/controls",
     "model_name": "DescriptionStyleModel",
     "model_module_version": "1.5.0",
     "state": {
      "_model_module": "@jupyter-widgets/controls",
      "_model_module_version": "1.5.0",
      "_model_name": "DescriptionStyleModel",
      "_view_count": null,
      "_view_module": "@jupyter-widgets/base",
      "_view_module_version": "1.2.0",
      "_view_name": "StyleView",
      "description_width": ""
     }
    },
    "34056901c3fa4fe6b6d84c01bfd8fcbf": {
     "model_module": "@jupyter-widgets/base",
     "model_name": "LayoutModel",
     "model_module_version": "1.2.0",
     "state": {
      "_model_module": "@jupyter-widgets/base",
      "_model_module_version": "1.2.0",
      "_model_name": "LayoutModel",
      "_view_count": null,
      "_view_module": "@jupyter-widgets/base",
      "_view_module_version": "1.2.0",
      "_view_name": "LayoutView",
      "align_content": null,
      "align_items": null,
      "align_self": null,
      "border": null,
      "bottom": null,
      "display": null,
      "flex": null,
      "flex_flow": null,
      "grid_area": null,
      "grid_auto_columns": null,
      "grid_auto_flow": null,
      "grid_auto_rows": null,
      "grid_column": null,
      "grid_gap": null,
      "grid_row": null,
      "grid_template_areas": null,
      "grid_template_columns": null,
      "grid_template_rows": null,
      "height": null,
      "justify_content": null,
      "justify_items": null,
      "left": null,
      "margin": null,
      "max_height": null,
      "max_width": null,
      "min_height": null,
      "min_width": null,
      "object_fit": null,
      "object_position": null,
      "order": null,
      "overflow": null,
      "overflow_x": null,
      "overflow_y": null,
      "padding": null,
      "right": null,
      "top": null,
      "visibility": null,
      "width": null
     }
    },
    "2a77fc19fe684e87bbce6b1f34bc63f8": {
     "model_module": "@jupyter-widgets/controls",
     "model_name": "ProgressStyleModel",
     "model_module_version": "1.5.0",
     "state": {
      "_model_module": "@jupyter-widgets/controls",
      "_model_module_version": "1.5.0",
      "_model_name": "ProgressStyleModel",
      "_view_count": null,
      "_view_module": "@jupyter-widgets/base",
      "_view_module_version": "1.2.0",
      "_view_name": "StyleView",
      "bar_color": null,
      "description_width": ""
     }
    },
    "1a1b6088160a4f1e8fcccb8bbb09ad45": {
     "model_module": "@jupyter-widgets/base",
     "model_name": "LayoutModel",
     "model_module_version": "1.2.0",
     "state": {
      "_model_module": "@jupyter-widgets/base",
      "_model_module_version": "1.2.0",
      "_model_name": "LayoutModel",
      "_view_count": null,
      "_view_module": "@jupyter-widgets/base",
      "_view_module_version": "1.2.0",
      "_view_name": "LayoutView",
      "align_content": null,
      "align_items": null,
      "align_self": null,
      "border": null,
      "bottom": null,
      "display": null,
      "flex": null,
      "flex_flow": null,
      "grid_area": null,
      "grid_auto_columns": null,
      "grid_auto_flow": null,
      "grid_auto_rows": null,
      "grid_column": null,
      "grid_gap": null,
      "grid_row": null,
      "grid_template_areas": null,
      "grid_template_columns": null,
      "grid_template_rows": null,
      "height": null,
      "justify_content": null,
      "justify_items": null,
      "left": null,
      "margin": null,
      "max_height": null,
      "max_width": null,
      "min_height": null,
      "min_width": null,
      "object_fit": null,
      "object_position": null,
      "order": null,
      "overflow": null,
      "overflow_x": null,
      "overflow_y": null,
      "padding": null,
      "right": null,
      "top": null,
      "visibility": null,
      "width": null
     }
    },
    "cdf3f380ee4446a486205e7ed1a882c2": {
     "model_module": "@jupyter-widgets/controls",
     "model_name": "DescriptionStyleModel",
     "model_module_version": "1.5.0",
     "state": {
      "_model_module": "@jupyter-widgets/controls",
      "_model_module_version": "1.5.0",
      "_model_name": "DescriptionStyleModel",
      "_view_count": null,
      "_view_module": "@jupyter-widgets/base",
      "_view_module_version": "1.2.0",
      "_view_name": "StyleView",
      "description_width": ""
     }
    },
    "99f5c5d80bca47d4978c89a3b3a3a677": {
     "model_module": "@jupyter-widgets/controls",
     "model_name": "HBoxModel",
     "model_module_version": "1.5.0",
     "state": {
      "_dom_classes": [],
      "_model_module": "@jupyter-widgets/controls",
      "_model_module_version": "1.5.0",
      "_model_name": "HBoxModel",
      "_view_count": null,
      "_view_module": "@jupyter-widgets/controls",
      "_view_module_version": "1.5.0",
      "_view_name": "HBoxView",
      "box_style": "",
      "children": [
       "IPY_MODEL_362146dbcd5f41ecb3250e525ad0fdb6",
       "IPY_MODEL_f6d4324d58344c059a70d697b89f66a2",
       "IPY_MODEL_1ec16fabfeeb42df8526318d8ea9aae8"
      ],
      "layout": "IPY_MODEL_5593168e626342559bb15bd0e7914e50"
     }
    },
    "362146dbcd5f41ecb3250e525ad0fdb6": {
     "model_module": "@jupyter-widgets/controls",
     "model_name": "HTMLModel",
     "model_module_version": "1.5.0",
     "state": {
      "_dom_classes": [],
      "_model_module": "@jupyter-widgets/controls",
      "_model_module_version": "1.5.0",
      "_model_name": "HTMLModel",
      "_view_count": null,
      "_view_module": "@jupyter-widgets/controls",
      "_view_module_version": "1.5.0",
      "_view_name": "HTMLView",
      "description": "",
      "description_tooltip": null,
      "layout": "IPY_MODEL_654669250f544efbaeb78c962615a477",
      "placeholder": "​",
      "style": "IPY_MODEL_c820449b80e14c34bc69548f60aa2d49",
      "value": "pytorch_model.bin: 100%"
     }
    },
    "f6d4324d58344c059a70d697b89f66a2": {
     "model_module": "@jupyter-widgets/controls",
     "model_name": "FloatProgressModel",
     "model_module_version": "1.5.0",
     "state": {
      "_dom_classes": [],
      "_model_module": "@jupyter-widgets/controls",
      "_model_module_version": "1.5.0",
      "_model_name": "FloatProgressModel",
      "_view_count": null,
      "_view_module": "@jupyter-widgets/controls",
      "_view_module_version": "1.5.0",
      "_view_name": "ProgressView",
      "bar_style": "success",
      "description": "",
      "description_tooltip": null,
      "layout": "IPY_MODEL_bb1c10da12274ba386cfcab1644b0af8",
      "max": 437998385,
      "min": 0,
      "orientation": "horizontal",
      "style": "IPY_MODEL_2b7daed8c6114c22923ec7e695b79dd5",
      "value": 437998385
     }
    },
    "1ec16fabfeeb42df8526318d8ea9aae8": {
     "model_module": "@jupyter-widgets/controls",
     "model_name": "HTMLModel",
     "model_module_version": "1.5.0",
     "state": {
      "_dom_classes": [],
      "_model_module": "@jupyter-widgets/controls",
      "_model_module_version": "1.5.0",
      "_model_name": "HTMLModel",
      "_view_count": null,
      "_view_module": "@jupyter-widgets/controls",
      "_view_module_version": "1.5.0",
      "_view_name": "HTMLView",
      "description": "",
      "description_tooltip": null,
      "layout": "IPY_MODEL_f95879b03a3b4eb98c45b8b45dbb0866",
      "placeholder": "​",
      "style": "IPY_MODEL_57e6a2f1576d44eeb90bd2a3810a16bc",
      "value": " 438M/438M [00:11&lt;00:00, 30.8MB/s]"
     }
    },
    "5593168e626342559bb15bd0e7914e50": {
     "model_module": "@jupyter-widgets/base",
     "model_name": "LayoutModel",
     "model_module_version": "1.2.0",
     "state": {
      "_model_module": "@jupyter-widgets/base",
      "_model_module_version": "1.2.0",
      "_model_name": "LayoutModel",
      "_view_count": null,
      "_view_module": "@jupyter-widgets/base",
      "_view_module_version": "1.2.0",
      "_view_name": "LayoutView",
      "align_content": null,
      "align_items": null,
      "align_self": null,
      "border": null,
      "bottom": null,
      "display": null,
      "flex": null,
      "flex_flow": null,
      "grid_area": null,
      "grid_auto_columns": null,
      "grid_auto_flow": null,
      "grid_auto_rows": null,
      "grid_column": null,
      "grid_gap": null,
      "grid_row": null,
      "grid_template_areas": null,
      "grid_template_columns": null,
      "grid_template_rows": null,
      "height": null,
      "justify_content": null,
      "justify_items": null,
      "left": null,
      "margin": null,
      "max_height": null,
      "max_width": null,
      "min_height": null,
      "min_width": null,
      "object_fit": null,
      "object_position": null,
      "order": null,
      "overflow": null,
      "overflow_x": null,
      "overflow_y": null,
      "padding": null,
      "right": null,
      "top": null,
      "visibility": null,
      "width": null
     }
    },
    "654669250f544efbaeb78c962615a477": {
     "model_module": "@jupyter-widgets/base",
     "model_name": "LayoutModel",
     "model_module_version": "1.2.0",
     "state": {
      "_model_module": "@jupyter-widgets/base",
      "_model_module_version": "1.2.0",
      "_model_name": "LayoutModel",
      "_view_count": null,
      "_view_module": "@jupyter-widgets/base",
      "_view_module_version": "1.2.0",
      "_view_name": "LayoutView",
      "align_content": null,
      "align_items": null,
      "align_self": null,
      "border": null,
      "bottom": null,
      "display": null,
      "flex": null,
      "flex_flow": null,
      "grid_area": null,
      "grid_auto_columns": null,
      "grid_auto_flow": null,
      "grid_auto_rows": null,
      "grid_column": null,
      "grid_gap": null,
      "grid_row": null,
      "grid_template_areas": null,
      "grid_template_columns": null,
      "grid_template_rows": null,
      "height": null,
      "justify_content": null,
      "justify_items": null,
      "left": null,
      "margin": null,
      "max_height": null,
      "max_width": null,
      "min_height": null,
      "min_width": null,
      "object_fit": null,
      "object_position": null,
      "order": null,
      "overflow": null,
      "overflow_x": null,
      "overflow_y": null,
      "padding": null,
      "right": null,
      "top": null,
      "visibility": null,
      "width": null
     }
    },
    "c820449b80e14c34bc69548f60aa2d49": {
     "model_module": "@jupyter-widgets/controls",
     "model_name": "DescriptionStyleModel",
     "model_module_version": "1.5.0",
     "state": {
      "_model_module": "@jupyter-widgets/controls",
      "_model_module_version": "1.5.0",
      "_model_name": "DescriptionStyleModel",
      "_view_count": null,
      "_view_module": "@jupyter-widgets/base",
      "_view_module_version": "1.2.0",
      "_view_name": "StyleView",
      "description_width": ""
     }
    },
    "bb1c10da12274ba386cfcab1644b0af8": {
     "model_module": "@jupyter-widgets/base",
     "model_name": "LayoutModel",
     "model_module_version": "1.2.0",
     "state": {
      "_model_module": "@jupyter-widgets/base",
      "_model_module_version": "1.2.0",
      "_model_name": "LayoutModel",
      "_view_count": null,
      "_view_module": "@jupyter-widgets/base",
      "_view_module_version": "1.2.0",
      "_view_name": "LayoutView",
      "align_content": null,
      "align_items": null,
      "align_self": null,
      "border": null,
      "bottom": null,
      "display": null,
      "flex": null,
      "flex_flow": null,
      "grid_area": null,
      "grid_auto_columns": null,
      "grid_auto_flow": null,
      "grid_auto_rows": null,
      "grid_column": null,
      "grid_gap": null,
      "grid_row": null,
      "grid_template_areas": null,
      "grid_template_columns": null,
      "grid_template_rows": null,
      "height": null,
      "justify_content": null,
      "justify_items": null,
      "left": null,
      "margin": null,
      "max_height": null,
      "max_width": null,
      "min_height": null,
      "min_width": null,
      "object_fit": null,
      "object_position": null,
      "order": null,
      "overflow": null,
      "overflow_x": null,
      "overflow_y": null,
      "padding": null,
      "right": null,
      "top": null,
      "visibility": null,
      "width": null
     }
    },
    "2b7daed8c6114c22923ec7e695b79dd5": {
     "model_module": "@jupyter-widgets/controls",
     "model_name": "ProgressStyleModel",
     "model_module_version": "1.5.0",
     "state": {
      "_model_module": "@jupyter-widgets/controls",
      "_model_module_version": "1.5.0",
      "_model_name": "ProgressStyleModel",
      "_view_count": null,
      "_view_module": "@jupyter-widgets/base",
      "_view_module_version": "1.2.0",
      "_view_name": "StyleView",
      "bar_color": null,
      "description_width": ""
     }
    },
    "f95879b03a3b4eb98c45b8b45dbb0866": {
     "model_module": "@jupyter-widgets/base",
     "model_name": "LayoutModel",
     "model_module_version": "1.2.0",
     "state": {
      "_model_module": "@jupyter-widgets/base",
      "_model_module_version": "1.2.0",
      "_model_name": "LayoutModel",
      "_view_count": null,
      "_view_module": "@jupyter-widgets/base",
      "_view_module_version": "1.2.0",
      "_view_name": "LayoutView",
      "align_content": null,
      "align_items": null,
      "align_self": null,
      "border": null,
      "bottom": null,
      "display": null,
      "flex": null,
      "flex_flow": null,
      "grid_area": null,
      "grid_auto_columns": null,
      "grid_auto_flow": null,
      "grid_auto_rows": null,
      "grid_column": null,
      "grid_gap": null,
      "grid_row": null,
      "grid_template_areas": null,
      "grid_template_columns": null,
      "grid_template_rows": null,
      "height": null,
      "justify_content": null,
      "justify_items": null,
      "left": null,
      "margin": null,
      "max_height": null,
      "max_width": null,
      "min_height": null,
      "min_width": null,
      "object_fit": null,
      "object_position": null,
      "order": null,
      "overflow": null,
      "overflow_x": null,
      "overflow_y": null,
      "padding": null,
      "right": null,
      "top": null,
      "visibility": null,
      "width": null
     }
    },
    "57e6a2f1576d44eeb90bd2a3810a16bc": {
     "model_module": "@jupyter-widgets/controls",
     "model_name": "DescriptionStyleModel",
     "model_module_version": "1.5.0",
     "state": {
      "_model_module": "@jupyter-widgets/controls",
      "_model_module_version": "1.5.0",
      "_model_name": "DescriptionStyleModel",
      "_view_count": null,
      "_view_module": "@jupyter-widgets/base",
      "_view_module_version": "1.2.0",
      "_view_name": "StyleView",
      "description_width": ""
     }
    },
    "021bb86c9d6545cea2034dfa0c2a773c": {
     "model_module": "@jupyter-widgets/controls",
     "model_name": "HBoxModel",
     "model_module_version": "1.5.0",
     "state": {
      "_dom_classes": [],
      "_model_module": "@jupyter-widgets/controls",
      "_model_module_version": "1.5.0",
      "_model_name": "HBoxModel",
      "_view_count": null,
      "_view_module": "@jupyter-widgets/controls",
      "_view_module_version": "1.5.0",
      "_view_name": "HBoxView",
      "box_style": "",
      "children": [
       "IPY_MODEL_4cba92caae4f4308adbc7c57c1a5d214",
       "IPY_MODEL_afee3411bb0949c399c96b00570c6d9b",
       "IPY_MODEL_fcb7178d79fd4129b7050c902debb3be"
      ],
      "layout": "IPY_MODEL_f10a6624a64a49ce92eebcca1bd29f2b"
     }
    },
    "4cba92caae4f4308adbc7c57c1a5d214": {
     "model_module": "@jupyter-widgets/controls",
     "model_name": "HTMLModel",
     "model_module_version": "1.5.0",
     "state": {
      "_dom_classes": [],
      "_model_module": "@jupyter-widgets/controls",
      "_model_module_version": "1.5.0",
      "_model_name": "HTMLModel",
      "_view_count": null,
      "_view_module": "@jupyter-widgets/controls",
      "_view_module_version": "1.5.0",
      "_view_name": "HTMLView",
      "description": "",
      "description_tooltip": null,
      "layout": "IPY_MODEL_ecaee7abfc53408f8de9ecb783be0cd6",
      "placeholder": "​",
      "style": "IPY_MODEL_919e77de41234055930b35f6af449b6c",
      "value": "tokenizer.json: 100%"
     }
    },
    "afee3411bb0949c399c96b00570c6d9b": {
     "model_module": "@jupyter-widgets/controls",
     "model_name": "FloatProgressModel",
     "model_module_version": "1.5.0",
     "state": {
      "_dom_classes": [],
      "_model_module": "@jupyter-widgets/controls",
      "_model_module_version": "1.5.0",
      "_model_name": "FloatProgressModel",
      "_view_count": null,
      "_view_module": "@jupyter-widgets/controls",
      "_view_module_version": "1.5.0",
      "_view_name": "ProgressView",
      "bar_style": "success",
      "description": "",
      "description_tooltip": null,
      "layout": "IPY_MODEL_48a9a610904945a5a96f9e3b4ed2d6bf",
      "max": 711648,
      "min": 0,
      "orientation": "horizontal",
      "style": "IPY_MODEL_fb5640dcb2fc43d19d5978bea19cb2a3",
      "value": 711648
     }
    },
    "fcb7178d79fd4129b7050c902debb3be": {
     "model_module": "@jupyter-widgets/controls",
     "model_name": "HTMLModel",
     "model_module_version": "1.5.0",
     "state": {
      "_dom_classes": [],
      "_model_module": "@jupyter-widgets/controls",
      "_model_module_version": "1.5.0",
      "_model_name": "HTMLModel",
      "_view_count": null,
      "_view_module": "@jupyter-widgets/controls",
      "_view_module_version": "1.5.0",
      "_view_name": "HTMLView",
      "description": "",
      "description_tooltip": null,
      "layout": "IPY_MODEL_61c4e915e13f444b9c80b8267ab1c79c",
      "placeholder": "​",
      "style": "IPY_MODEL_41ef5432bd4d48a48c6e6f9821631dfb",
      "value": " 712k/712k [00:00&lt;00:00, 5.86MB/s]"
     }
    },
    "f10a6624a64a49ce92eebcca1bd29f2b": {
     "model_module": "@jupyter-widgets/base",
     "model_name": "LayoutModel",
     "model_module_version": "1.2.0",
     "state": {
      "_model_module": "@jupyter-widgets/base",
      "_model_module_version": "1.2.0",
      "_model_name": "LayoutModel",
      "_view_count": null,
      "_view_module": "@jupyter-widgets/base",
      "_view_module_version": "1.2.0",
      "_view_name": "LayoutView",
      "align_content": null,
      "align_items": null,
      "align_self": null,
      "border": null,
      "bottom": null,
      "display": null,
      "flex": null,
      "flex_flow": null,
      "grid_area": null,
      "grid_auto_columns": null,
      "grid_auto_flow": null,
      "grid_auto_rows": null,
      "grid_column": null,
      "grid_gap": null,
      "grid_row": null,
      "grid_template_areas": null,
      "grid_template_columns": null,
      "grid_template_rows": null,
      "height": null,
      "justify_content": null,
      "justify_items": null,
      "left": null,
      "margin": null,
      "max_height": null,
      "max_width": null,
      "min_height": null,
      "min_width": null,
      "object_fit": null,
      "object_position": null,
      "order": null,
      "overflow": null,
      "overflow_x": null,
      "overflow_y": null,
      "padding": null,
      "right": null,
      "top": null,
      "visibility": null,
      "width": null
     }
    },
    "ecaee7abfc53408f8de9ecb783be0cd6": {
     "model_module": "@jupyter-widgets/base",
     "model_name": "LayoutModel",
     "model_module_version": "1.2.0",
     "state": {
      "_model_module": "@jupyter-widgets/base",
      "_model_module_version": "1.2.0",
      "_model_name": "LayoutModel",
      "_view_count": null,
      "_view_module": "@jupyter-widgets/base",
      "_view_module_version": "1.2.0",
      "_view_name": "LayoutView",
      "align_content": null,
      "align_items": null,
      "align_self": null,
      "border": null,
      "bottom": null,
      "display": null,
      "flex": null,
      "flex_flow": null,
      "grid_area": null,
      "grid_auto_columns": null,
      "grid_auto_flow": null,
      "grid_auto_rows": null,
      "grid_column": null,
      "grid_gap": null,
      "grid_row": null,
      "grid_template_areas": null,
      "grid_template_columns": null,
      "grid_template_rows": null,
      "height": null,
      "justify_content": null,
      "justify_items": null,
      "left": null,
      "margin": null,
      "max_height": null,
      "max_width": null,
      "min_height": null,
      "min_width": null,
      "object_fit": null,
      "object_position": null,
      "order": null,
      "overflow": null,
      "overflow_x": null,
      "overflow_y": null,
      "padding": null,
      "right": null,
      "top": null,
      "visibility": null,
      "width": null
     }
    },
    "919e77de41234055930b35f6af449b6c": {
     "model_module": "@jupyter-widgets/controls",
     "model_name": "DescriptionStyleModel",
     "model_module_version": "1.5.0",
     "state": {
      "_model_module": "@jupyter-widgets/controls",
      "_model_module_version": "1.5.0",
      "_model_name": "DescriptionStyleModel",
      "_view_count": null,
      "_view_module": "@jupyter-widgets/base",
      "_view_module_version": "1.2.0",
      "_view_name": "StyleView",
      "description_width": ""
     }
    },
    "48a9a610904945a5a96f9e3b4ed2d6bf": {
     "model_module": "@jupyter-widgets/base",
     "model_name": "LayoutModel",
     "model_module_version": "1.2.0",
     "state": {
      "_model_module": "@jupyter-widgets/base",
      "_model_module_version": "1.2.0",
      "_model_name": "LayoutModel",
      "_view_count": null,
      "_view_module": "@jupyter-widgets/base",
      "_view_module_version": "1.2.0",
      "_view_name": "LayoutView",
      "align_content": null,
      "align_items": null,
      "align_self": null,
      "border": null,
      "bottom": null,
      "display": null,
      "flex": null,
      "flex_flow": null,
      "grid_area": null,
      "grid_auto_columns": null,
      "grid_auto_flow": null,
      "grid_auto_rows": null,
      "grid_column": null,
      "grid_gap": null,
      "grid_row": null,
      "grid_template_areas": null,
      "grid_template_columns": null,
      "grid_template_rows": null,
      "height": null,
      "justify_content": null,
      "justify_items": null,
      "left": null,
      "margin": null,
      "max_height": null,
      "max_width": null,
      "min_height": null,
      "min_width": null,
      "object_fit": null,
      "object_position": null,
      "order": null,
      "overflow": null,
      "overflow_x": null,
      "overflow_y": null,
      "padding": null,
      "right": null,
      "top": null,
      "visibility": null,
      "width": null
     }
    },
    "fb5640dcb2fc43d19d5978bea19cb2a3": {
     "model_module": "@jupyter-widgets/controls",
     "model_name": "ProgressStyleModel",
     "model_module_version": "1.5.0",
     "state": {
      "_model_module": "@jupyter-widgets/controls",
      "_model_module_version": "1.5.0",
      "_model_name": "ProgressStyleModel",
      "_view_count": null,
      "_view_module": "@jupyter-widgets/base",
      "_view_module_version": "1.2.0",
      "_view_name": "StyleView",
      "bar_color": null,
      "description_width": ""
     }
    },
    "61c4e915e13f444b9c80b8267ab1c79c": {
     "model_module": "@jupyter-widgets/base",
     "model_name": "LayoutModel",
     "model_module_version": "1.2.0",
     "state": {
      "_model_module": "@jupyter-widgets/base",
      "_model_module_version": "1.2.0",
      "_model_name": "LayoutModel",
      "_view_count": null,
      "_view_module": "@jupyter-widgets/base",
      "_view_module_version": "1.2.0",
      "_view_name": "LayoutView",
      "align_content": null,
      "align_items": null,
      "align_self": null,
      "border": null,
      "bottom": null,
      "display": null,
      "flex": null,
      "flex_flow": null,
      "grid_area": null,
      "grid_auto_columns": null,
      "grid_auto_flow": null,
      "grid_auto_rows": null,
      "grid_column": null,
      "grid_gap": null,
      "grid_row": null,
      "grid_template_areas": null,
      "grid_template_columns": null,
      "grid_template_rows": null,
      "height": null,
      "justify_content": null,
      "justify_items": null,
      "left": null,
      "margin": null,
      "max_height": null,
      "max_width": null,
      "min_height": null,
      "min_width": null,
      "object_fit": null,
      "object_position": null,
      "order": null,
      "overflow": null,
      "overflow_x": null,
      "overflow_y": null,
      "padding": null,
      "right": null,
      "top": null,
      "visibility": null,
      "width": null
     }
    },
    "41ef5432bd4d48a48c6e6f9821631dfb": {
     "model_module": "@jupyter-widgets/controls",
     "model_name": "DescriptionStyleModel",
     "model_module_version": "1.5.0",
     "state": {
      "_model_module": "@jupyter-widgets/controls",
      "_model_module_version": "1.5.0",
      "_model_name": "DescriptionStyleModel",
      "_view_count": null,
      "_view_module": "@jupyter-widgets/base",
      "_view_module_version": "1.2.0",
      "_view_name": "StyleView",
      "description_width": ""
     }
    }
   }
  }
 },
 "nbformat": 4,
 "nbformat_minor": 5
}
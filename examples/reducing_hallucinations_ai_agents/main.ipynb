{
 "cells": [
  {
   "cell_type": "markdown",
   "metadata": {
    "id": "dh28jVtATQbX"
   },
   "source": [
    "# Reducing Hallucinations from AI Agents using Long-Term Memory\n",
    "### Introduction to Critique-Based Contexting with OpenAI, LangChain, and LanceDB\n",
    "AI agents can help simplify and automate tedious workflows. By going through this notebook, we'll introduce how you can reduce hallucinations from AI agents by using critique-based contexting with a fitness trainer agent example."
   ]
  },
  {
   "cell_type": "markdown",
   "metadata": {
    "id": "qsnz2_w_TQbb"
   },
   "source": [
    "### Installing dependencies"
   ]
  },
  {
   "cell_type": "code",
   "execution_count": 3,
   "metadata": {
    "colab": {
     "base_uri": "https://localhost:8080/"
    },
    "id": "40qw2MppTQbb",
    "outputId": "c1ba87f3-b9da-4e37-d419-9328492942d8"
   },
   "outputs": [
    {
     "output_type": "stream",
     "name": "stdout",
     "text": [
      "Collecting openai==0.28\n",
      "  Downloading openai-0.28.0-py3-none-any.whl (76 kB)\n",
      "\u001b[2K     \u001b[90m━━━━━━━━━━━━━━━━━━━━━━━━━━━━━━━━━━━━━━━━\u001b[0m \u001b[32m76.5/76.5 kB\u001b[0m \u001b[31m1.6 MB/s\u001b[0m eta \u001b[36m0:00:00\u001b[0m\n",
      "\u001b[?25hCollecting langchain==0.0.354\n",
      "  Downloading langchain-0.0.354-py3-none-any.whl (803 kB)\n",
      "\u001b[2K     \u001b[90m━━━━━━━━━━━━━━━━━━━━━━━━━━━━━━━━━━━━━━━━\u001b[0m \u001b[32m803.3/803.3 kB\u001b[0m \u001b[31m21.3 MB/s\u001b[0m eta \u001b[36m0:00:00\u001b[0m\n",
      "\u001b[?25hCollecting google-search-results\n",
      "  Downloading google_search_results-2.4.2.tar.gz (18 kB)\n",
      "  Preparing metadata (setup.py) ... \u001b[?25l\u001b[?25hdone\n",
      "Collecting lancedb\n",
      "  Downloading lancedb-0.5.0-py3-none-any.whl (87 kB)\n",
      "\u001b[2K     \u001b[90m━━━━━━━━━━━━━━━━━━━━━━━━━━━━━━━━━━━━━━━━\u001b[0m \u001b[32m87.4/87.4 kB\u001b[0m \u001b[31m9.4 MB/s\u001b[0m eta \u001b[36m0:00:00\u001b[0m\n",
      "\u001b[?25hCollecting python-dotenv\n",
      "  Downloading python_dotenv-1.0.1-py3-none-any.whl (19 kB)\n",
      "Requirement already satisfied: requests>=2.20 in /usr/local/lib/python3.10/dist-packages (from openai==0.28) (2.31.0)\n",
      "Requirement already satisfied: tqdm in /usr/local/lib/python3.10/dist-packages (from openai==0.28) (4.66.1)\n",
      "Requirement already satisfied: aiohttp in /usr/local/lib/python3.10/dist-packages (from openai==0.28) (3.9.1)\n",
      "Requirement already satisfied: PyYAML>=5.3 in /usr/local/lib/python3.10/dist-packages (from langchain==0.0.354) (6.0.1)\n",
      "Requirement already satisfied: SQLAlchemy<3,>=1.4 in /usr/local/lib/python3.10/dist-packages (from langchain==0.0.354) (2.0.24)\n",
      "Requirement already satisfied: async-timeout<5.0.0,>=4.0.0 in /usr/local/lib/python3.10/dist-packages (from langchain==0.0.354) (4.0.3)\n",
      "Collecting dataclasses-json<0.7,>=0.5.7 (from langchain==0.0.354)\n",
      "  Downloading dataclasses_json-0.6.3-py3-none-any.whl (28 kB)\n",
      "Collecting jsonpatch<2.0,>=1.33 (from langchain==0.0.354)\n",
      "  Downloading jsonpatch-1.33-py2.py3-none-any.whl (12 kB)\n",
      "Collecting langchain-community<0.1,>=0.0.8 (from langchain==0.0.354)\n",
      "  Downloading langchain_community-0.0.14-py3-none-any.whl (1.6 MB)\n",
      "\u001b[2K     \u001b[90m━━━━━━━━━━━━━━━━━━━━━━━━━━━━━━━━━━━━━━━━\u001b[0m \u001b[32m1.6/1.6 MB\u001b[0m \u001b[31m51.8 MB/s\u001b[0m eta \u001b[36m0:00:00\u001b[0m\n",
      "\u001b[?25hCollecting langchain-core<0.2,>=0.1.5 (from langchain==0.0.354)\n",
      "  Downloading langchain_core-0.1.14-py3-none-any.whl (229 kB)\n",
      "\u001b[2K     \u001b[90m━━━━━━━━━━━━━━━━━━━━━━━━━━━━━━━━━━━━━━━━\u001b[0m \u001b[32m229.5/229.5 kB\u001b[0m \u001b[31m21.8 MB/s\u001b[0m eta \u001b[36m0:00:00\u001b[0m\n",
      "\u001b[?25hCollecting langsmith<0.1.0,>=0.0.77 (from langchain==0.0.354)\n",
      "  Downloading langsmith-0.0.83-py3-none-any.whl (49 kB)\n",
      "\u001b[2K     \u001b[90m━━━━━━━━━━━━━━━━━━━━━━━━━━━━━━━━━━━━━━━━\u001b[0m \u001b[32m49.3/49.3 kB\u001b[0m \u001b[31m4.9 MB/s\u001b[0m eta \u001b[36m0:00:00\u001b[0m\n",
      "\u001b[?25hRequirement already satisfied: numpy<2,>=1 in /usr/local/lib/python3.10/dist-packages (from langchain==0.0.354) (1.23.5)\n",
      "Requirement already satisfied: pydantic<3,>=1 in /usr/local/lib/python3.10/dist-packages (from langchain==0.0.354) (1.10.13)\n",
      "Requirement already satisfied: tenacity<9.0.0,>=8.1.0 in /usr/local/lib/python3.10/dist-packages (from langchain==0.0.354) (8.2.3)\n",
      "Collecting deprecation (from lancedb)\n",
      "  Downloading deprecation-2.1.0-py2.py3-none-any.whl (11 kB)\n",
      "Collecting pylance==0.9.6 (from lancedb)\n",
      "  Downloading pylance-0.9.6-cp38-abi3-manylinux_2_17_x86_64.manylinux2014_x86_64.whl (18.6 MB)\n",
      "\u001b[2K     \u001b[90m━━━━━━━━━━━━━━━━━━━━━━━━━━━━━━━━━━━━━━━━\u001b[0m \u001b[32m18.6/18.6 MB\u001b[0m \u001b[31m57.9 MB/s\u001b[0m eta \u001b[36m0:00:00\u001b[0m\n",
      "\u001b[?25hCollecting ratelimiter~=1.0 (from lancedb)\n",
      "  Downloading ratelimiter-1.2.0.post0-py3-none-any.whl (6.6 kB)\n",
      "Collecting retry>=0.9.2 (from lancedb)\n",
      "  Downloading retry-0.9.2-py2.py3-none-any.whl (8.0 kB)\n",
      "Requirement already satisfied: attrs>=21.3.0 in /usr/local/lib/python3.10/dist-packages (from lancedb) (23.2.0)\n",
      "Collecting semver>=3.0 (from lancedb)\n",
      "  Downloading semver-3.0.2-py3-none-any.whl (17 kB)\n",
      "Requirement already satisfied: cachetools in /usr/local/lib/python3.10/dist-packages (from lancedb) (5.3.2)\n",
      "Requirement already satisfied: click>=8.1.7 in /usr/local/lib/python3.10/dist-packages (from lancedb) (8.1.7)\n",
      "Collecting overrides>=0.7 (from lancedb)\n",
      "  Downloading overrides-7.6.0-py3-none-any.whl (17 kB)\n",
      "Collecting pyarrow>=12 (from pylance==0.9.6->lancedb)\n",
      "  Downloading pyarrow-15.0.0-cp310-cp310-manylinux_2_28_x86_64.whl (38.3 MB)\n",
      "\u001b[2K     \u001b[90m━━━━━━━━━━━━━━━━━━━━━━━━━━━━━━━━━━━━━━━━\u001b[0m \u001b[32m38.3/38.3 MB\u001b[0m \u001b[31m14.4 MB/s\u001b[0m eta \u001b[36m0:00:00\u001b[0m\n",
      "\u001b[?25hRequirement already satisfied: multidict<7.0,>=4.5 in /usr/local/lib/python3.10/dist-packages (from aiohttp->openai==0.28) (6.0.4)\n",
      "Requirement already satisfied: yarl<2.0,>=1.0 in /usr/local/lib/python3.10/dist-packages (from aiohttp->openai==0.28) (1.9.4)\n",
      "Requirement already satisfied: frozenlist>=1.1.1 in /usr/local/lib/python3.10/dist-packages (from aiohttp->openai==0.28) (1.4.1)\n",
      "Requirement already satisfied: aiosignal>=1.1.2 in /usr/local/lib/python3.10/dist-packages (from aiohttp->openai==0.28) (1.3.1)\n",
      "Collecting marshmallow<4.0.0,>=3.18.0 (from dataclasses-json<0.7,>=0.5.7->langchain==0.0.354)\n",
      "  Downloading marshmallow-3.20.2-py3-none-any.whl (49 kB)\n",
      "\u001b[2K     \u001b[90m━━━━━━━━━━━━━━━━━━━━━━━━━━━━━━━━━━━━━━━━\u001b[0m \u001b[32m49.4/49.4 kB\u001b[0m \u001b[31m5.9 MB/s\u001b[0m eta \u001b[36m0:00:00\u001b[0m\n",
      "\u001b[?25hCollecting typing-inspect<1,>=0.4.0 (from dataclasses-json<0.7,>=0.5.7->langchain==0.0.354)\n",
      "  Downloading typing_inspect-0.9.0-py3-none-any.whl (8.8 kB)\n",
      "Collecting jsonpointer>=1.9 (from jsonpatch<2.0,>=1.33->langchain==0.0.354)\n",
      "  Downloading jsonpointer-2.4-py2.py3-none-any.whl (7.8 kB)\n",
      "Requirement already satisfied: anyio<5,>=3 in /usr/local/lib/python3.10/dist-packages (from langchain-core<0.2,>=0.1.5->langchain==0.0.354) (3.7.1)\n",
      "Requirement already satisfied: packaging<24.0,>=23.2 in /usr/local/lib/python3.10/dist-packages (from langchain-core<0.2,>=0.1.5->langchain==0.0.354) (23.2)\n",
      "Requirement already satisfied: typing-extensions>=4.2.0 in /usr/local/lib/python3.10/dist-packages (from pydantic<3,>=1->langchain==0.0.354) (4.5.0)\n",
      "Requirement already satisfied: charset-normalizer<4,>=2 in /usr/local/lib/python3.10/dist-packages (from requests>=2.20->openai==0.28) (3.3.2)\n",
      "Requirement already satisfied: idna<4,>=2.5 in /usr/local/lib/python3.10/dist-packages (from requests>=2.20->openai==0.28) (3.6)\n",
      "Requirement already satisfied: urllib3<3,>=1.21.1 in /usr/local/lib/python3.10/dist-packages (from requests>=2.20->openai==0.28) (2.0.7)\n",
      "Requirement already satisfied: certifi>=2017.4.17 in /usr/local/lib/python3.10/dist-packages (from requests>=2.20->openai==0.28) (2023.11.17)\n",
      "Requirement already satisfied: decorator>=3.4.2 in /usr/local/lib/python3.10/dist-packages (from retry>=0.9.2->lancedb) (4.4.2)\n",
      "Collecting py<2.0.0,>=1.4.26 (from retry>=0.9.2->lancedb)\n",
      "  Downloading py-1.11.0-py2.py3-none-any.whl (98 kB)\n",
      "\u001b[2K     \u001b[90m━━━━━━━━━━━━━━━━━━━━━━━━━━━━━━━━━━━━━━━━\u001b[0m \u001b[32m98.7/98.7 kB\u001b[0m \u001b[31m10.8 MB/s\u001b[0m eta \u001b[36m0:00:00\u001b[0m\n",
      "\u001b[?25hRequirement already satisfied: greenlet!=0.4.17 in /usr/local/lib/python3.10/dist-packages (from SQLAlchemy<3,>=1.4->langchain==0.0.354) (3.0.3)\n",
      "Requirement already satisfied: sniffio>=1.1 in /usr/local/lib/python3.10/dist-packages (from anyio<5,>=3->langchain-core<0.2,>=0.1.5->langchain==0.0.354) (1.3.0)\n",
      "Requirement already satisfied: exceptiongroup in /usr/local/lib/python3.10/dist-packages (from anyio<5,>=3->langchain-core<0.2,>=0.1.5->langchain==0.0.354) (1.2.0)\n",
      "Collecting mypy-extensions>=0.3.0 (from typing-inspect<1,>=0.4.0->dataclasses-json<0.7,>=0.5.7->langchain==0.0.354)\n",
      "  Downloading mypy_extensions-1.0.0-py3-none-any.whl (4.7 kB)\n",
      "Building wheels for collected packages: google-search-results\n",
      "  Building wheel for google-search-results (setup.py) ... \u001b[?25l\u001b[?25hdone\n",
      "  Created wheel for google-search-results: filename=google_search_results-2.4.2-py3-none-any.whl size=32003 sha256=4aa2ba1f551eb442521e7c712b95a862c1b94e7e16ad26fb78f62e2a7c6378c9\n",
      "  Stored in directory: /root/.cache/pip/wheels/d3/b2/c3/03302d12bb44a2cdff3c9371f31b72c0c4e84b8d2285eeac53\n",
      "Successfully built google-search-results\n",
      "Installing collected packages: ratelimiter, semver, python-dotenv, pyarrow, py, overrides, mypy-extensions, marshmallow, jsonpointer, deprecation, typing-inspect, retry, pylance, langsmith, jsonpatch, google-search-results, openai, langchain-core, lancedb, dataclasses-json, langchain-community, langchain\n",
      "  Attempting uninstall: pyarrow\n",
      "    Found existing installation: pyarrow 10.0.1\n",
      "    Uninstalling pyarrow-10.0.1:\n",
      "      Successfully uninstalled pyarrow-10.0.1\n",
      "\u001b[31mERROR: pip's dependency resolver does not currently take into account all the packages that are installed. This behaviour is the source of the following dependency conflicts.\n",
      "llmx 0.0.15a0 requires cohere, which is not installed.\n",
      "llmx 0.0.15a0 requires tiktoken, which is not installed.\n",
      "ibis-framework 7.1.0 requires pyarrow<15,>=2, but you have pyarrow 15.0.0 which is incompatible.\u001b[0m\u001b[31m\n",
      "\u001b[0mSuccessfully installed dataclasses-json-0.6.3 deprecation-2.1.0 google-search-results-2.4.2 jsonpatch-1.33 jsonpointer-2.4 lancedb-0.5.0 langchain-0.0.354 langchain-community-0.0.14 langchain-core-0.1.14 langsmith-0.0.83 marshmallow-3.20.2 mypy-extensions-1.0.0 openai-0.28.0 overrides-7.6.0 py-1.11.0 pyarrow-15.0.0 pylance-0.9.6 python-dotenv-1.0.1 ratelimiter-1.2.0.post0 retry-0.9.2 semver-3.0.2 typing-inspect-0.9.0\n"
     ]
    }
   ],
   "source": [
    "!pip install openai==0.28 langchain==0.0.354 google-search-results lancedb python-dotenv"
   ]
  },
  {
   "cell_type": "markdown",
   "metadata": {
    "id": "55YGOMBaTQbc"
   },
   "source": [
    "### Importing libraries"
   ]
  },
  {
   "cell_type": "code",
   "execution_count": 4,
   "metadata": {
    "id": "0Hle9B9nTQbd"
   },
   "outputs": [],
   "source": [
    "from langchain.agents import load_tools\n",
    "from langchain.agents import initialize_agent\n",
    "from langchain.agents import AgentType\n",
    "from langchain.chat_models import ChatOpenAI"
   ]
  },
  {
   "cell_type": "markdown",
   "metadata": {
    "id": "74QsuNO4TQbd"
   },
   "source": [
    "Now let's import our environment variables via `load_dotenv()`."
   ]
  },
  {
   "cell_type": "code",
   "execution_count": 5,
   "metadata": {
    "colab": {
     "base_uri": "https://localhost:8080/"
    },
    "id": "IA4GyAbRTQbd",
    "outputId": "6072dfe3-8013-460f-f584-8e097f169867"
   },
   "outputs": [
    {
     "output_type": "execute_result",
     "data": {
      "text/plain": [
       "False"
      ]
     },
     "metadata": {},
     "execution_count": 5
    }
   ],
   "source": [
    "from dotenv import load_dotenv\n",
    "\n",
    "load_dotenv()"
   ]
  },
  {
   "cell_type": "markdown",
   "metadata": {
    "id": "BJ4iBqZ9TQbe"
   },
   "source": [
    "We now specify and connect to the path `data/agent-lancedb` to store our vector database."
   ]
  },
  {
   "cell_type": "code",
   "execution_count": 6,
   "metadata": {
    "id": "zwzrQpF-TQbe"
   },
   "outputs": [],
   "source": [
    "import lancedb\n",
    "\n",
    "db = lancedb.connect(\"data/agent-lancedb\")"
   ]
  },
  {
   "cell_type": "markdown",
   "metadata": {
    "id": "40GelwHLTQbf"
   },
   "source": [
    "To create embeddings out of the text, we'll call the OpenAI embeddings API (ada2 text embeddings model) to get embeddings."
   ]
  },
  {
   "cell_type": "code",
   "execution_count": 22,
   "metadata": {
    "id": "jXfgGYh-TQbf"
   },
   "outputs": [],
   "source": [
    "import openai\n",
    "import os\n",
    "\n",
    "openai.api_key = \"sk-\"  # PASTE YOUR KEY HERE\n",
    "\n",
    "\n",
    "def embed_func(c):\n",
    "    rs = openai.Embedding.create(input=c, engine=\"text-embedding-ada-002\")\n",
    "    return [record[\"embedding\"] for record in rs[\"data\"]]"
   ]
  },
  {
   "cell_type": "markdown",
   "metadata": {
    "id": "R5XypTB6TQbf"
   },
   "source": [
    "Now, we'll create a `LangChain` tool that allows our agent to insert critiques, which uses a `pydantic` schema to guide the agent on what kind of results to insert.\n",
    "\n",
    "In LanceDB the primary abstraction you'll use to work with your data is a **Table**.  \n",
    "A Table is designed to store large numbers of columns and huge quantities of data! For those interested, a LanceDB is columnar-based, and uses Lance, an open data format to store data.\n",
    "\n",
    "This tool will create a Table if it does not exist and store the relevant information (the embedding, actions, and critiques)."
   ]
  },
  {
   "cell_type": "markdown",
   "metadata": {
    "id": "YfNVwoZ4TQbg"
   },
   "source": [
    "### Considering the image below\n",
    "1. ideation step gets a predefined number of output proposals (ideas) from the LLM.\n",
    "\n",
    "2. critiques all of the ideas looking for possible flaws in the proposals and picking the most appropriate suggestion.\n",
    "\n",
    "3. resolve, the LLM tries to improve the best idea from the [2] critique step. The output here constitutes the final answer.\n",
    "\n",
    "![image](https://miro.medium.com/v2/resize:fit:1400/1*dMfLxIR-s8osxkVUbORtGg.png)"
   ]
  },
  {
   "cell_type": "markdown",
   "metadata": {
    "id": "T42MpKkHTQbg"
   },
   "source": [
    "### Function to take input"
   ]
  },
  {
   "cell_type": "code",
   "execution_count": 23,
   "metadata": {
    "id": "SxsPAHKXTQbg"
   },
   "outputs": [],
   "source": [
    "from langchain.tools import tool\n",
    "from pydantic import BaseModel, Field\n",
    "\n",
    "\n",
    "class InsertCritiquesInput(BaseModel):\n",
    "    info: str = Field(\n",
    "        description=\"should be demographics or interests or other information about the exercise request provided by the user\"\n",
    "    )\n",
    "    actions: str = Field(\n",
    "        description=\"numbered list of langchain agent actions taken (searched for, gave this response, etc.)\"\n",
    "    )\n",
    "    critique: str = Field(\n",
    "        description=\"negative constructive feedback on the actions you took, limitations, potential biases, and more\"\n",
    "    )\n",
    "\n",
    "\n",
    "@tool(\"insert_critiques\", args_schema=InsertCritiquesInput)\n",
    "def insert_critiques(info: str, actions: str, critique: str) -> str:\n",
    "    \"Insert actions and critiques for similar exercise requests in the future.\" \"\"\n",
    "    table_name = \"exercise-routine\"\n",
    "    if table_name not in db.table_names():\n",
    "        tbl = db.create_table(\n",
    "            table_name,\n",
    "            [{\"vector\": embed_func(info)[0], \"actions\": actions, \"critique\": critique}],\n",
    "        )\n",
    "    else:\n",
    "        tbl = db.open_table(table_name)\n",
    "        tbl.add(\n",
    "            [{\"vector\": embed_func(info)[0], \"actions\": actions, \"critique\": critique}]\n",
    "        )\n",
    "    return \"Inserted and done.\""
   ]
  },
  {
   "cell_type": "markdown",
   "metadata": {
    "id": "JeuYUpFaTQbg"
   },
   "source": [
    "Similarly, let's create a tool for retrieving critiques. We'll retrieve the actions and critiques from the top 5 most similar user inputs."
   ]
  },
  {
   "cell_type": "markdown",
   "metadata": {
    "id": "Eqdy1EPhTQbg"
   },
   "source": [
    "### Retrieve Input"
   ]
  },
  {
   "cell_type": "code",
   "execution_count": 24,
   "metadata": {
    "id": "vOcLmd5aTQbg"
   },
   "outputs": [],
   "source": [
    "class RetrieveCritiquesInput(BaseModel):\n",
    "    query: str = Field(\n",
    "        description=\"should be demographics or interests or other information about the exercise request provided by the user\"\n",
    "    )\n",
    "\n",
    "\n",
    "@tool(\"retrieve_critiques\", args_schema=RetrieveCritiquesInput)\n",
    "def retrieve_critiques(query: str) -> str:\n",
    "    \"Retrieve actions and critiques for similar exercise requests.\" \"\"\n",
    "    table_name = \"exercise-routine\"\n",
    "    if table_name in db.table_names():\n",
    "        tbl = db.open_table(table_name)\n",
    "        results = (\n",
    "            tbl.search(embed_func(query)[0])\n",
    "            .limit(5)\n",
    "            .select([\"actions\", \"critique\"])\n",
    "            .to_pandas()\n",
    "        )\n",
    "        results_list = results.drop(\"vector\", axis=1).values.tolist()\n",
    "        return (\n",
    "            \"Continue with the list with relevant actions and critiques which are in the format [[action, critique], ...]:\\n\"\n",
    "            + str(results_list)\n",
    "        )\n",
    "    else:\n",
    "        return \"No info, but continue.\""
   ]
  },
  {
   "cell_type": "markdown",
   "metadata": {
    "id": "MbwyaX8TTQbg"
   },
   "source": [
    "Let's now use LangChain to load our tools in. This includes our custom tools as well as a Google Search tool that uses SerpApi. We will use OpenAI's `gpt-3.5-turbo-0613` as our LLM.\n",
    "Note: You need to sign up on serpapi and paste the API key here"
   ]
  },
  {
   "cell_type": "code",
   "execution_count": 25,
   "metadata": {
    "id": "ChNa7HxiTQbh"
   },
   "outputs": [],
   "source": [
    "os.environ[\"SERPAPI_API_KEY\"] = \"..\"\n",
    "\n",
    "llm = ChatOpenAI(temperature=0, model=\"gpt-3.5-turbo-0613\")\n",
    "tools = load_tools([\"serpapi\"], llm=llm)\n",
    "tools.extend([insert_critiques, retrieve_critiques])"
   ]
  },
  {
   "cell_type": "markdown",
   "metadata": {
    "id": "vHimH62LTQbh"
   },
   "source": [
    "Before we run our agent, let's create a function that defines our prompt that we pass in to the agent, which allows us to pass in client information."
   ]
  },
  {
   "cell_type": "markdown",
   "metadata": {
    "id": "VqFrb6FpTQbh"
   },
   "source": [
    "### Create Prompt Function"
   ]
  },
  {
   "cell_type": "code",
   "execution_count": 26,
   "metadata": {
    "id": "k7TTbWIYTQbh"
   },
   "outputs": [],
   "source": [
    "def create_prompt(info: str) -> str:\n",
    "    prompt_start = (\n",
    "        \"Please execute actions as a fitness trainer based on the information about the user and their interests below.\\n\\n\"\n",
    "        + \"Info from the user:\\n\\n\"\n",
    "    )\n",
    "    prompt_end = (\n",
    "        \"\\n\\n1. Retrieve using user info and review the past actions and critiques if there is any\\n\"\n",
    "        + \"2. Keep past actions and critiques in mind while researching for an exercise routine with steps which we respond to the user\\n\"\n",
    "        + \"3. Before returning the response, it is of upmost importance to insert the actions you took (numbered list: searched for, found this, etc.) and critiques (negative feedback: limitations, potential biases, and more) into the database for getting better exercise routines in the future. \\n\"\n",
    "    )\n",
    "    return prompt_start + info + prompt_end"
   ]
  },
  {
   "cell_type": "markdown",
   "metadata": {
    "id": "uWuMPzLvTQbh"
   },
   "source": [
    "### Run Agent\n",
    "\n",
    "Finally, let's create our run_agent function. We'll use the `STRUCTURED_CHAT_ZERO_SHOT_REACT_DESCRIPTION` agent in order to allow us to use multi-input tools (since we need to add client input, actions, and critiques as arguments)."
   ]
  },
  {
   "cell_type": "code",
   "execution_count": 27,
   "metadata": {
    "id": "O0B_ZtUqTQbh"
   },
   "outputs": [],
   "source": [
    "def run_agent(info):\n",
    "    agent = initialize_agent(\n",
    "        tools,\n",
    "        llm,\n",
    "        agent=AgentType.STRUCTURED_CHAT_ZERO_SHOT_REACT_DESCRIPTION,\n",
    "        verbose=True,\n",
    "    )\n",
    "    agent.run(input=create_prompt(info))"
   ]
  },
  {
   "cell_type": "markdown",
   "metadata": {
    "id": "-vwCYjXvTQbh"
   },
   "source": [
    "Let's run. Feel free to use your own input!\n",
    "\n",
    "Notice that in the first run there wouldn't be any critiques yet, since the database is empty. After the first run, critiques should appear. The provided output is the result of a particular run after a few runs."
   ]
  },
  {
   "cell_type": "code",
   "execution_count": 29,
   "metadata": {
    "colab": {
     "base_uri": "https://localhost:8080/"
    },
    "id": "yQIAiuK7TQbh",
    "outputId": "957e7a10-498a-4708-aee6-2762006d0c7f"
   },
   "outputs": [
    {
     "output_type": "stream",
     "name": "stdout",
     "text": [
      "\n",
      "\n",
      "\u001b[1m> Entering new AgentExecutor chain...\u001b[0m\n",
      "\u001b[32;1m\u001b[1;3mThought: I need to retrieve any past actions and critiques related to fitness training for users with similar demographics and interests. Then, I can use that information to research and provide an exercise routine for Tevin. Finally, I will insert the actions and critiques into the database for future reference.\n",
      "\n",
      "Action:\n",
      "```\n",
      "{\n",
      "  \"action\": \"retrieve_critiques\",\n",
      "  \"action_input\": \"19 year old university student, running\"\n",
      "}\n",
      "```\n",
      "\n",
      "\u001b[0m\n",
      "Observation: \u001b[38;5;200m\u001b[1;3mNo info, but continue.\u001b[0m\n",
      "Thought:\u001b[32;1m\u001b[1;3mI couldn't find any past actions and critiques related to fitness training for users with similar demographics and interests. I will proceed with researching and providing an exercise routine for Tevin.\n",
      "\n",
      "Action:\n",
      "```\n",
      "{\n",
      "  \"action\": \"Search\",\n",
      "  \"action_input\": \"exercise routine for running\"\n",
      "}\n",
      "```\u001b[0m\n",
      "Observation: \u001b[36;1m\u001b[1;3m['Said training involves six exercises: chest press, pull down, back extension, leg press, abdominal flexion, and either hip abduction or ...', 'These quick, effective 30-minute running workouts build endurance, increase speed, and burn calories. Try a hill workout, a ladder workout, ...', '1. Squats ... Squats are an effective and challenging workout that targets every muscle in your legs. Stand with your feet hip-width apart, and then drop your ...', '10 strength exercises to improve your running · Press-ups · Dumbbell row · Tricep dips · Step-ups · Squats · Walking lunges · Single-leg ...', 'Give Your Runs Some Muscle · 1. Plank · 2. Squat · 3. Lateral Box Push-Ups · 4. Elevated Split Squat · 5. Bicycle Crunch · 6. Single-Leg Glute Bridge.', '5 Strength Exercises for Runners · 1. Split Squats Start with one foot forward and elevate your rear foot on a step, chair, or bench. · 2.', 'To become a strong runner, you have to do more than just run. Here are 8 different running workouts to make you a stronger and more well-rounded runned.', 'The 7 Best Strength Training Exercises for Runners · 1. Reverse Lunge · 2. Walking Lunge · 3. Single-Arm Standing Cable Row · 4. Single-Leg ...', 'The ultimate strength training guide for runners · 1. Walkouts · 2. Mountain climbers · 3. Reverse lunges · 4. Squats · 5. Glute bridges · 6.', 'Main workout Break up your run every 5 to 8 minutes and do a mini circuit training with three bodyweight exercises (one exercise per muscle group). Routine: 2 ...']\u001b[0m\n",
      "Thought:\u001b[32;1m\u001b[1;3mI found several exercise routines that can help improve running performance. Here are some steps you can follow:\n",
      "\n",
      "1. Warm up: Start with a 5-10 minute brisk walk or light jog to warm up your muscles and increase blood flow.\n",
      "\n",
      "2. Squats: Squats are an effective exercise that targets every muscle in your legs. Stand with your feet hip-width apart, then drop your hips back and down as if you're sitting into a chair. Keep your chest up and your knees in line with your toes. Push through your heels to return to the starting position. Do 3 sets of 10-12 reps.\n",
      "\n",
      "3. Lunges: Lunges are great for strengthening your leg muscles and improving stability. Start by standing with your feet hip-width apart. Take a big step forward with your right foot and lower your body down until your right knee is at a 90-degree angle. Push through your right heel to return to the starting position. Repeat on the other side. Do 3 sets of 10-12 reps on each leg.\n",
      "\n",
      "4. Plank: Planks are a fantastic exercise for core strength, which is important for maintaining good running form. Start in a push-up position, then lower down onto your forearms. Keep your body in a straight line from head to toe, engaging your core muscles. Hold this position for 30-60 seconds, then rest and repeat for 3 sets.\n",
      "\n",
      "5. Push-ups: Push-ups are a compound exercise that works multiple muscle groups, including your chest, shoulders, and triceps. Start in a high plank position with your hands slightly wider than shoulder-width apart. Lower your body down by bending your elbows, then push back up to the starting position. If regular push-ups are too challenging, you can modify by doing them on your knees. Aim for 3 sets of 10-12 reps.\n",
      "\n",
      "6. Glute bridges: Glute bridges target your glutes and hamstrings, which are important for power and stability while running. Lie on your back with your knees bent and feet flat on the ground. Lift your hips up towards the ceiling, squeezing your glutes at the top. Lower back down and repeat for 3 sets of 10-12 reps.\n",
      "\n",
      "Remember to listen to your body and start with weights and intensities that are appropriate for your fitness level. It's also important to incorporate rest days into your routine to allow your muscles to recover. Stay hydrated and fuel your body with nutritious foods to support your training.\n",
      "\n",
      "I hope this exercise routine helps you improve your running performance! Let me know if you have any other questions.\n",
      "\n",
      "Action:\n",
      "```\n",
      "{\n",
      "  \"action\": \"insert_critiques\",\n",
      "  \"action_input\": {\n",
      "    \"info\": \"19 year old university student, running\",\n",
      "    \"actions\": \"Searched for exercise routine for running\",\n",
      "    \"critique\": \"None\"\n",
      "  }\n",
      "}\n",
      "```\u001b[0m\n",
      "Observation: \u001b[33;1m\u001b[1;3mInserted and done.\u001b[0m\n",
      "Thought:\u001b[32;1m\u001b[1;3mI have provided an exercise routine for Tevin based on his interests and demographics. I have also inserted the actions I took and the lack of critiques into the database for future reference.\n",
      "\n",
      "Action:\n",
      "```\n",
      "{\n",
      "  \"action\": \"Final Answer\",\n",
      "  \"action_input\": \"Here is an exercise routine for you, Tevin:\\n\\n1. Warm up: Start with a 5-10 minute brisk walk or light jog to warm up your muscles and increase blood flow.\\n\\n2. Squats: Squats are an effective exercise that targets every muscle in your legs. Stand with your feet hip-width apart, then drop your hips back and down as if you're sitting into a chair. Keep your chest up and your knees in line with your toes. Push through your heels to return to the starting position. Do 3 sets of 10-12 reps.\\n\\n3. Lunges: Lunges are great for strengthening your leg muscles and improving stability. Start by standing with your feet hip-width apart. Take a big step forward with your right foot and lower your body down until your right knee is at a 90-degree angle. Push through your right heel to return to the starting position. Repeat on the other side. Do 3 sets of 10-12 reps on each leg.\\n\\n4. Plank: Planks are a fantastic exercise for core strength, which is important for maintaining good running form. Start in a push-up position, then lower down onto your forearms. Keep your body in a straight line from head to toe, engaging your core muscles. Hold this position for 30-60 seconds, then rest and repeat for 3 sets.\\n\\n5. Push-ups: Push-ups are a compound exercise that works multiple muscle groups, including your chest, shoulders, and triceps. Start in a high plank position with your hands slightly wider than shoulder-width apart. Lower your body down by bending your elbows, then push back up to the starting position. If regular push-ups are too challenging, you can modify by doing them on your knees. Aim for 3 sets of 10-12 reps.\\n\\n6. Glute bridges: Glute bridges target your glutes and hamstrings, which are important for power and stability while running. Lie on your back with your knees bent and feet flat on the ground. Lift your hips up towards the ceiling, squeezing your glutes at the top. Lower back down and repeat for 3 sets of 10-12 reps.\\n\\nRemember to listen to your body and start with weights and intensities that are appropriate for your fitness level. It's also important to incorporate rest days into your routine to allow your muscles to recover. Stay hydrated and fuel your body with nutritious foods to support your training.\\n\\nI hope this exercise routine helps you improve your running performance! Let me know if you have any other questions.\"\n",
      "}\n",
      "```\n",
      "\u001b[0m\n",
      "\n",
      "\u001b[1m> Finished chain.\u001b[0m\n"
     ]
    }
   ],
   "source": [
    "run_agent(\n",
    "    \"My name is Tevin, I'm a 19 year old university student at CMU. I love running.\"\n",
    ")"
   ]
  },
  {
   "cell_type": "code",
   "source": [],
   "metadata": {
    "id": "MBBD-nUFjxie"
   },
   "execution_count": null,
   "outputs": []
  }
 ],
 "metadata": {
  "kernelspec": {
   "display_name": "Python 3 (ipykernel)",
   "language": "python",
   "name": "python3"
  },
  "language_info": {
   "codemirror_mode": {
    "name": "ipython",
    "version": 3
   },
   "file_extension": ".py",
   "mimetype": "text/x-python",
   "name": "python",
   "nbconvert_exporter": "python",
   "pygments_lexer": "ipython3",
   "version": "3.12.1"
  },
  "colab": {
   "provenance": []
  }
 },
 "nbformat": 4,
 "nbformat_minor": 0
}
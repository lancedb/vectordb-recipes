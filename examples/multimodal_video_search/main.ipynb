{
 "cells": [
  {
   "cell_type": "markdown",
   "id": "c11fde21",
   "metadata": {},
   "source": [
    "# Multimodal video search using CLIP and LanceDB\r\n",
    "We used LanceDB to store frames every thirty seconds and the title of 13000+ videos, 5 random from each top category from the Youtube 8M dataset.\r\n",
    "Then, we used the CLIP model to embed frames and titles together. With LanceDB, we can perform embedding, keyword, and SQL search on these videosjpg)"
   ]
  },
  {
   "cell_type": "markdown",
   "id": "e647a892-de71-4842-a26d-035d628792d3",
   "metadata": {},
   "source": [
    "### Install dependencies"
   ]
  },
  {
   "cell_type": "code",
   "execution_count": null,
   "id": "69fb1627",
   "metadata": {},
   "outputs": [],
   "source": [
    "!pip install --quiet -U lancedb\n",
    "!pip install --quiet gradio transformers torch torchvision duckdb\n",
    "!pip install tantivy@git+https://github.com/quickwit-oss/tantivy-py#164adc87e1a033117001cf70e38c82a53014d985"
   ]
  },
  {
   "cell_type": "markdown",
   "id": "2d53ade3",
   "metadata": {},
   "source": [
    "## First run setup: Download data and pre-process"
   ]
  },
  {
   "cell_type": "code",
   "execution_count": null,
   "id": "9b7e97f9",
   "metadata": {},
   "outputs": [],
   "source": [
    "import duckdb\n",
    "import lancedb"
   ]
  },
  {
   "cell_type": "code",
   "execution_count": null,
   "id": "5ba75742",
   "metadata": {},
   "outputs": [],
   "source": [
    "!wget https://vectordb-recipes.s3.us-west-2.amazonaws.com/multimodal_video_lance.tar.gz\n",
    "!tar -xvf multimodal_video_lance.tar.gz\n",
    "!mkdir -p data/video-lancedb\n",
    "!mv multimodal_video.lance data/video-lancedb/"
   ]
  },
  {
   "cell_type": "markdown",
   "id": "e2fcbf61",
   "metadata": {},
   "source": [
    "## Create / Open LanceDB Table"
   ]
  },
  {
   "cell_type": "code",
   "execution_count": null,
   "id": "b3317a3c",
   "metadata": {},
   "outputs": [],
   "source": [
    "db = lancedb.connect(\"data/video-lancedb\")\n",
    "tbl = db.open_table(\"multimodal_video\")"
   ]
  },
  {
   "cell_type": "markdown",
   "id": "3c6c7dfb-3504-4875-8f8b-a857bbb56727",
   "metadata": {},
   "source": [
    "## Create CLIP embedding function for the text\r\n",
    "![clip](https://miro.medium.com/v2/resize:fit:3662/1*tg7akErlMSyCLQxrMtQIYw.png)\r\n",
    "*CLIP model Architecuture.*"
   ]
  },
  {
   "cell_type": "code",
   "execution_count": null,
   "id": "f8331d87",
   "metadata": {},
   "outputs": [],
   "source": [
    "from transformers import CLIPModel, CLIPProcessor, CLIPTokenizerFast\n",
    "\n",
    "MODEL_ID = \"openai/clip-vit-base-patch32\"\n",
    "\n",
    "tokenizer = CLIPTokenizerFast.from_pretrained(MODEL_ID)\n",
    "model = CLIPModel.from_pretrained(MODEL_ID)\n",
    "processor = CLIPProcessor.from_pretrained(MODEL_ID)\n",
    "\n",
    "def embed_func(query):\n",
    "    inputs = tokenizer([query], padding=True, return_tensors=\"pt\")\n",
    "    text_features = model.get_text_features(**inputs)\n",
    "    return text_features.detach().numpy()[0]"
   ]
  },
  {
   "cell_type": "markdown",
   "id": "7e26207b-20ce-41b6-8fe7-6050582881cc",
   "metadata": {},
   "source": [
    "## Search functions for Gradio"
   ]
  },
  {
   "cell_type": "code",
   "execution_count": 1,
   "id": "9f9e75a8-8e19-487c-8bab-bd2ffc9cbb06",
   "metadata": {},
   "outputs": [],
   "source": [
    "def find_video_vectors(query):\n",
    "    emb = embed_func(query)\n",
    "    code = (\n",
    "        \"import lancedb\\n\"\n",
    "        \"db = lancedb.connect('data/video-lancedb')\\n\"\n",
    "        \"tbl = db.open_table('multimodal_video')\\n\\n\"\n",
    "        f\"embedding = embed_func('{query}')\\n\"\n",
    "        \"tbl.search(embedding).limit(9).to_pandas()\"\n",
    "    )\n",
    "    return (_extract(tbl.search(emb).limit(9).to_pandas()), code)\n",
    "\n",
    "#function to find the search for the video keywords from lancedb\n",
    "def find_video_keywords(query):\n",
    "    code = (\n",
    "        \"import lancedb\\n\"\n",
    "        \"db = lancedb.connect('data/video-lancedb')\\n\"\n",
    "        \"tbl = db.open_table('multimodal_video')\\n\\n\"\n",
    "        f\"tbl.search('{query}').limit(9).to_pandas()\"\n",
    "    )\n",
    "    return (_extract(tbl.search(query).limit(9).to_pandas()), code)\n",
    "\n",
    "#create a SQL command to retrieve the video from the db\n",
    "def find_video_sql(query):\n",
    "    code = (\n",
    "        \"import lancedb\\n\"\n",
    "        \"import duckdb\\n\"\n",
    "        \"db = lancedb.connect('data/video-lancedb')\\n\"\n",
    "        \"tbl = db.open_table('multimodal_video')\\n\\n\"\n",
    "        \"videos = tbl.to_lance()\\n\"\n",
    "        f\"duckdb.sql('{query}').to_pandas()\"\n",
    "    )\n",
    "    videos = tbl.to_lance()\n",
    "    return (_extract(duckdb.sql(query).to_pandas()), code)\n",
    "\n",
    "#extract the video from the df\n",
    "def _extract(df):\n",
    "    video_id_col = \"video_id\"\n",
    "    start_time_col = \"start_time\"\n",
    "    grid_html = '<div style=\"display: grid; grid-template-columns: repeat(3, 1fr); grid-gap: 20px;\">'\n",
    "\n",
    "    for _, row in df.iterrows():\n",
    "        iframe_code = f'<iframe width=\"100%\" height=\"315\" src=\"https://www.youtube.com/embed/{row[video_id_col]}?start={str(row[start_time_col])}\" title=\"YouTube video player\" frameborder=\"0\" allow=\"accelerometer; autoplay; clipboard-write; encrypted-media; gyroscope; picture-in-picture\" allowfullscreen></iframe>'\n",
    "        grid_html += f'<div style=\"width: 100%;\">{iframe_code}</div>'\n",
    "\n",
    "    grid_html += '</div>'\n",
    "    return grid_html"
   ]
  },
  {
   "cell_type": "code",
   "execution_count": null,
   "id": "10b8de6d",
   "metadata": {},
   "outputs": [],
   "source": [
    "def find_video_vectors(query):\n",
    "    emb = embed_func(query)\n",
    "    code = (\n",
    "        \"import lancedb\\n\"\n",
    "        \"db = lancedb.connect('data/video-lancedb')\\n\"\n",
    "        \"tbl = db.open_table('multimodal_video')\\n\\n\"\n",
    "        f\"embedding = embed_func('{query}')\\n\"\n",
    "        \"tbl.search(embedding).limit(9).to_pandas()\"\n",
    "    )\n",
    "    return (_extract(tbl.search(emb).limit(9).to_pandas()), code)\n",
    "\n",
    "def find_video_keywords(query):\n",
    "    code = (\n",
    "        \"import lancedb\\n\"\n",
    "        \"db = lancedb.connect('data/video-lancedb')\\n\"\n",
    "        \"tbl = db.open_table('multimodal_video')\\n\\n\"\n",
    "        f\"tbl.search('{query}').limit(9).to_pandas()\"\n",
    "    )\n",
    "    return (_extract(tbl.search(query).limit(9).to_pandas()), code)\n",
    "\n",
    "def find_video_sql(query):\n",
    "    code = (\n",
    "        \"import lancedb\\n\"\n",
    "        \"import duckdb\\n\"\n",
    "        \"db = lancedb.connect('data/video-lancedb')\\n\"\n",
    "        \"tbl = db.open_table('multimodal_video')\\n\\n\"\n",
    "        \"videos = tbl.to_lance()\\n\"\n",
    "        f\"duckdb.sql('{query}').to_pandas()\"\n",
    "    )    \n",
    "    videos = tbl.to_lance()\n",
    "    return (_extract(duckdb.sql(query).to_pandas()), code)\n",
    "\n",
    "def _extract(df):\n",
    "    video_id_col = \"video_id\"\n",
    "    start_time_col = \"start_time\"\n",
    "    grid_html = '<div style=\"display: grid; grid-template-columns: repeat(3, 1fr); grid-gap: 20px;\">'\n",
    "\n",
    "    for _, row in df.iterrows():\n",
    "        iframe_code = f'<iframe width=\"100%\" height=\"315\" src=\"https://www.youtube.com/embed/{row[video_id_col]}?start={str(row[start_time_col])}\" title=\"YouTube video player\" frameborder=\"0\" allow=\"accelerometer; autoplay; clipboard-write; encrypted-media; gyroscope; picture-in-picture\" allowfullscreen></iframe>'\n",
    "        grid_html += f'<div style=\"width: 100%;\">{iframe_code}</div>'\n",
    "\n",
    "    grid_html += '</div>'\n",
    "    return grid_html"
   ]
  },
  {
   "cell_type": "markdown",
   "id": "4e3a8ac6-2266-4cf1-bce6-28c473328022",
   "metadata": {},
   "source": [
    "## Setup Gradio interface\n",
    "![gradio](data:image/png;base64,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)"
   ]
  },
  {
   "cell_type": "code",
   "execution_count": null,
   "id": "b6f40300",
   "metadata": {},
   "outputs": [],
   "source": [
    "import gradio as gr\n",
    "\n",
    "with gr.Blocks() as demo:\n",
    "    gr.Markdown('''\n",
    "            # Multimodal video search using CLIP and LanceDB\n",
    "            We used LanceDB to store frames every thirty seconds and the title of 13000+ videos, 5 random from each top category from the Youtube 8M dataset. \n",
    "            Then, we used the CLIP model to embed frames and titles together. With LanceDB, we can perform embedding, keyword, and SQL search on these videos.\n",
    "            ''')\n",
    "    with gr.Row():\n",
    "        with gr.Tab(\"Embeddings\"):\n",
    "            vector_query = gr.Textbox(value=\"retro gaming\", show_label=False)\n",
    "            b1 = gr.Button(\"Submit\")\n",
    "        with gr.Tab(\"Keywords\"):\n",
    "            keyword_query = gr.Textbox(value=\"ninja turtles\", show_label=False)\n",
    "            b2 = gr.Button(\"Submit\")\n",
    "        with gr.Tab(\"SQL\"):\n",
    "            sql_query = gr.Textbox(value=\"SELECT DISTINCT video_id, * from videos WHERE start_time > 0 LIMIT 9\", show_label=False)\n",
    "            b3 = gr.Button(\"Submit\")\n",
    "    with gr.Row():\n",
    "        code = gr.Code(label=\"Code\", language=\"python\")\n",
    "    with gr.Row():\n",
    "        gallery = gr.HTML()\n",
    "        \n",
    "    b1.click(find_video_vectors, inputs=vector_query, outputs=[gallery, code])\n",
    "    b2.click(find_video_keywords, inputs=keyword_query, outputs=[gallery, code])\n",
    "    b3.click(find_video_sql, inputs=sql_query, outputs=[gallery, code])\n",
    "    \n",
    "demo.launch()"
   ]
  }
 ],
 "metadata": {
  "kernelspec": {
   "display_name": "Python 3 (ipykernel)",
   "language": "python",
   "name": "python3"
  },
  "language_info": {
   "codemirror_mode": {
    "name": "ipython",
    "version": 3
   },
   "file_extension": ".py",
   "mimetype": "text/x-python",
   "name": "python",
   "nbconvert_exporter": "python",
   "pygments_lexer": "ipython3",
   "version": "3.12.1"
  },
  "vscode": {
   "interpreter": {
    "hash": "511a7c77cb034b09af5465c01316a0f4bb20176d139e60e6d7915f9a637a5037"
   }
  }
 },
 "nbformat": 4,
 "nbformat_minor": 5
}

{
 "cells": [
  {
   "cell_type": "markdown",
   "metadata": {
    "id": "81VDUp0E-ImU"
   },
   "source": [
    "#**RAG Fusion - The New Star of Search Technology**"
   ]
  },
  {
   "cell_type": "code",
   "execution_count": null,
   "metadata": {
    "id": "Q0OqC7ShJ9Zk"
   },
   "outputs": [],
   "source": [
    "# Installing the required dependencies\n",
    "!pip install langchain openai lancedb pypdf tiktoken"
   ]
  },
  {
   "cell_type": "code",
   "execution_count": 48,
   "metadata": {
    "id": "UifWm31durQd"
   },
   "outputs": [],
   "source": [
    "import os\n",
    "\n",
    "os.environ[\"OPENAI_API_KEY\"] = \"sk-\""
   ]
  },
  {
   "cell_type": "code",
   "execution_count": 49,
   "metadata": {
    "id": "WoWutL3GKEDi"
   },
   "outputs": [],
   "source": [
    "# Importing Required Dependencies\n",
    "import openai\n",
    "from langchain.llms import OpenAI\n",
    "from langchain.embeddings import OpenAIEmbeddings\n",
    "from langchain_community.vectorstores import LanceDB\n",
    "import tiktoken"
   ]
  },
  {
   "cell_type": "code",
   "execution_count": 50,
   "metadata": {
    "colab": {
     "base_uri": "https://localhost:8080/"
    },
    "id": "1Tu4KwOwsVGJ",
    "outputId": "84e8e008-2b78-4f37-a8b1-898891081e74"
   },
   "outputs": [
    {
     "name": "stdout",
     "output_type": "stream",
     "text": [
      "--2024-01-14 17:19:12--  https://ncert.nic.in/ncerts/l/leph202.pdf\n",
      "Resolving ncert.nic.in (ncert.nic.in)... 164.100.166.133\n",
      "Connecting to ncert.nic.in (ncert.nic.in)|164.100.166.133|:443... connected.\n",
      "HTTP request sent, awaiting response... 200 OK\n",
      "Length: 3530023 (3.4M) [application/pdf]\n",
      "Saving to: ‘doc.pdf’\n",
      "\n",
      "doc.pdf             100%[===================>]   3.37M  1.93MB/s    in 1.7s    \n",
      "\n",
      "2024-01-14 17:19:15 (1.93 MB/s) - ‘doc.pdf’ saved [3530023/3530023]\n",
      "\n"
     ]
    }
   ],
   "source": [
    "# Downloading the files\n",
    "!wget https://ncert.nic.in/ncerts/l/leph202.pdf -O doc.pdf"
   ]
  },
  {
   "cell_type": "markdown",
   "metadata": {
    "id": "cX2lxQew_Oy7"
   },
   "source": [
    "Splitting our documents into chunks."
   ]
  },
  {
   "cell_type": "code",
   "execution_count": 51,
   "metadata": {
    "id": "HeGxztMcukx8"
   },
   "outputs": [],
   "source": [
    "from langchain.text_splitter import RecursiveCharacterTextSplitter\n",
    "from langchain.document_loaders import PyPDFLoader\n",
    "\n",
    "# Load the  pdf\n",
    "pdf_folder_path = \"/content/doc.pdf\"\n",
    "\n",
    "loader = PyPDFLoader(pdf_folder_path)\n",
    "docs = loader.load_and_split()\n",
    "\n",
    "text_splitter = RecursiveCharacterTextSplitter(\n",
    "    chunk_size=500,\n",
    "    chunk_overlap=50,\n",
    ")\n",
    "documents = text_splitter.split_documents(docs)"
   ]
  },
  {
   "cell_type": "code",
   "execution_count": 52,
   "metadata": {
    "id": "QF5fjxQYzEYN"
   },
   "outputs": [],
   "source": [
    "embeddings = OpenAIEmbeddings()"
   ]
  },
  {
   "cell_type": "markdown",
   "metadata": {
    "id": "eTk-rbff_brP"
   },
   "source": [
    "###Using **LANCE DB** vector store for store and retreive embeddings."
   ]
  },
  {
   "cell_type": "code",
   "execution_count": 53,
   "metadata": {
    "id": "9WL6efEUv1wV"
   },
   "outputs": [],
   "source": [
    "from langchain.vectorstores import LanceDB\n",
    "import lancedb\n",
    "\n",
    "# lancedb as vectorstore\n",
    "db = lancedb.connect(\"/tmp/lancedb\")\n",
    "table = db.create_table(\n",
    "    \"documents\",\n",
    "    data=[\n",
    "        {\n",
    "            \"vector\": embeddings.embed_query(\"Hello World\"),\n",
    "            \"text\": \"Hello World\",\n",
    "            \"id\": \"1\",\n",
    "        }\n",
    "    ],\n",
    "    mode=\"overwrite\",\n",
    ")\n",
    "vector_store = LanceDB.from_documents(documents, embeddings, connection=table)"
   ]
  },
  {
   "cell_type": "code",
   "execution_count": 54,
   "metadata": {
    "colab": {
     "base_uri": "https://localhost:8080/",
     "height": 423
    },
    "id": "-LExcRU-sxxb",
    "outputId": "445630b9-2136-4065-9fa0-5b2a9694b665"
   },
   "outputs": [
    {
     "data": {
      "text/html": [
       "\n",
       "  <div id=\"df-16badf2f-e535-4a27-b12b-d2388ffe3a80\" class=\"colab-df-container\">\n",
       "    <div>\n",
       "<style scoped>\n",
       "    .dataframe tbody tr th:only-of-type {\n",
       "        vertical-align: middle;\n",
       "    }\n",
       "\n",
       "    .dataframe tbody tr th {\n",
       "        vertical-align: top;\n",
       "    }\n",
       "\n",
       "    .dataframe thead th {\n",
       "        text-align: right;\n",
       "    }\n",
       "</style>\n",
       "<table border=\"1\" class=\"dataframe\">\n",
       "  <thead>\n",
       "    <tr style=\"text-align: right;\">\n",
       "      <th></th>\n",
       "      <th>vector</th>\n",
       "      <th>text</th>\n",
       "      <th>id</th>\n",
       "    </tr>\n",
       "  </thead>\n",
       "  <tbody>\n",
       "    <tr>\n",
       "      <th>0</th>\n",
       "      <td>[-0.0070581236, 0.0034781466, -0.00699448, -0....</td>\n",
       "      <td>Hello World</td>\n",
       "      <td>1</td>\n",
       "    </tr>\n",
       "    <tr>\n",
       "      <th>1</th>\n",
       "      <td>[0.020712305, 0.019299496, 0.004311731, -0.001...</td>\n",
       "      <td>351Wave Optics\\nChapter Ten\\nWAVE OPTICS\\n10.1...</td>\n",
       "      <td>6b886395-afcc-44ce-94f6-e540c8c22c37</td>\n",
       "    </tr>\n",
       "    <tr>\n",
       "      <th>2</th>\n",
       "      <td>[0.008747051, 0.016323444, 0.003442918, -0.003...</td>\n",
       "      <td>the tremendous popularity of this book, the co...</td>\n",
       "      <td>977cd192-8a7c-49c0-94df-07387e81f768</td>\n",
       "    </tr>\n",
       "    <tr>\n",
       "      <th>3</th>\n",
       "      <td>[0.007830143, 0.010499509, -0.007494, -0.00330...</td>\n",
       "      <td>would be less in the second medium. This is in...</td>\n",
       "      <td>6bc8a7fb-f25d-449e-aa78-8b54bae5be69</td>\n",
       "    </tr>\n",
       "    <tr>\n",
       "      <th>4</th>\n",
       "      <td>[0.016653322, -0.006793313, -0.0043315454, -0....</td>\n",
       "      <td>© NCERT \\nnot to be republished</td>\n",
       "      <td>32ee65ad-acb0-4829-b248-d7920a151bed</td>\n",
       "    </tr>\n",
       "    <tr>\n",
       "      <th>...</th>\n",
       "      <td>...</td>\n",
       "      <td>...</td>\n",
       "      <td>...</td>\n",
       "    </tr>\n",
       "    <tr>\n",
       "      <th>190</th>\n",
       "      <td>[0.025289346, 0.0011775766, -0.013505305, 0.01...</td>\n",
       "      <td>of the obstacle. Explain wh y?\\n(d)Two student...</td>\n",
       "      <td>ebdcd954-2c9c-435e-aa5e-8a00d628c401</td>\n",
       "    </tr>\n",
       "    <tr>\n",
       "      <th>191</th>\n",
       "      <td>[0.012682365, 0.0014918466, -0.016420325, -0.0...</td>\n",
       "      <td>385Wave Optics\\nobstacles, how is it that the ...</td>\n",
       "      <td>a53fc037-8657-466c-a5eb-7d9b9e39e003</td>\n",
       "    </tr>\n",
       "    <tr>\n",
       "      <th>192</th>\n",
       "      <td>[0.012329977, -0.0045882817, -0.00632002, 0.00...</td>\n",
       "      <td>justification?\\n10.18 Two towers on top of two...</td>\n",
       "      <td>12fea4e4-7e6d-429e-b4ed-af22c60e155d</td>\n",
       "    </tr>\n",
       "    <tr>\n",
       "      <th>193</th>\n",
       "      <td>[0.020282593, 0.006688379, 3.619097e-05, -0.00...</td>\n",
       "      <td>mm from the centre of the screen. Find the wid...</td>\n",
       "      <td>6d3fd553-980b-43db-8f9c-7102cd51e822</td>\n",
       "    </tr>\n",
       "    <tr>\n",
       "      <th>194</th>\n",
       "      <td>[0.026210565, 0.00031032052, -0.0021122552, 0....</td>\n",
       "      <td>What is the justification of this principle?\\n...</td>\n",
       "      <td>bd713b89-1a60-42e5-bb49-9f0cf43ce7b9</td>\n",
       "    </tr>\n",
       "  </tbody>\n",
       "</table>\n",
       "<p>195 rows × 3 columns</p>\n",
       "</div>\n",
       "    <div class=\"colab-df-buttons\">\n",
       "\n",
       "  <div class=\"colab-df-container\">\n",
       "    <button class=\"colab-df-convert\" onclick=\"convertToInteractive('df-16badf2f-e535-4a27-b12b-d2388ffe3a80')\"\n",
       "            title=\"Convert this dataframe to an interactive table.\"\n",
       "            style=\"display:none;\">\n",
       "\n",
       "  <svg xmlns=\"http://www.w3.org/2000/svg\" height=\"24px\" viewBox=\"0 -960 960 960\">\n",
       "    <path d=\"M120-120v-720h720v720H120Zm60-500h600v-160H180v160Zm220 220h160v-160H400v160Zm0 220h160v-160H400v160ZM180-400h160v-160H180v160Zm440 0h160v-160H620v160ZM180-180h160v-160H180v160Zm440 0h160v-160H620v160Z\"/>\n",
       "  </svg>\n",
       "    </button>\n",
       "\n",
       "  <style>\n",
       "    .colab-df-container {\n",
       "      display:flex;\n",
       "      gap: 12px;\n",
       "    }\n",
       "\n",
       "    .colab-df-convert {\n",
       "      background-color: #E8F0FE;\n",
       "      border: none;\n",
       "      border-radius: 50%;\n",
       "      cursor: pointer;\n",
       "      display: none;\n",
       "      fill: #1967D2;\n",
       "      height: 32px;\n",
       "      padding: 0 0 0 0;\n",
       "      width: 32px;\n",
       "    }\n",
       "\n",
       "    .colab-df-convert:hover {\n",
       "      background-color: #E2EBFA;\n",
       "      box-shadow: 0px 1px 2px rgba(60, 64, 67, 0.3), 0px 1px 3px 1px rgba(60, 64, 67, 0.15);\n",
       "      fill: #174EA6;\n",
       "    }\n",
       "\n",
       "    .colab-df-buttons div {\n",
       "      margin-bottom: 4px;\n",
       "    }\n",
       "\n",
       "    [theme=dark] .colab-df-convert {\n",
       "      background-color: #3B4455;\n",
       "      fill: #D2E3FC;\n",
       "    }\n",
       "\n",
       "    [theme=dark] .colab-df-convert:hover {\n",
       "      background-color: #434B5C;\n",
       "      box-shadow: 0px 1px 3px 1px rgba(0, 0, 0, 0.15);\n",
       "      filter: drop-shadow(0px 1px 2px rgba(0, 0, 0, 0.3));\n",
       "      fill: #FFFFFF;\n",
       "    }\n",
       "  </style>\n",
       "\n",
       "    <script>\n",
       "      const buttonEl =\n",
       "        document.querySelector('#df-16badf2f-e535-4a27-b12b-d2388ffe3a80 button.colab-df-convert');\n",
       "      buttonEl.style.display =\n",
       "        google.colab.kernel.accessAllowed ? 'block' : 'none';\n",
       "\n",
       "      async function convertToInteractive(key) {\n",
       "        const element = document.querySelector('#df-16badf2f-e535-4a27-b12b-d2388ffe3a80');\n",
       "        const dataTable =\n",
       "          await google.colab.kernel.invokeFunction('convertToInteractive',\n",
       "                                                    [key], {});\n",
       "        if (!dataTable) return;\n",
       "\n",
       "        const docLinkHtml = 'Like what you see? Visit the ' +\n",
       "          '<a target=\"_blank\" href=https://colab.research.google.com/notebooks/data_table.ipynb>data table notebook</a>'\n",
       "          + ' to learn more about interactive tables.';\n",
       "        element.innerHTML = '';\n",
       "        dataTable['output_type'] = 'display_data';\n",
       "        await google.colab.output.renderOutput(dataTable, element);\n",
       "        const docLink = document.createElement('div');\n",
       "        docLink.innerHTML = docLinkHtml;\n",
       "        element.appendChild(docLink);\n",
       "      }\n",
       "    </script>\n",
       "  </div>\n",
       "\n",
       "\n",
       "<div id=\"df-08445676-073e-472d-88e3-7c6f9d687c30\">\n",
       "  <button class=\"colab-df-quickchart\" onclick=\"quickchart('df-08445676-073e-472d-88e3-7c6f9d687c30')\"\n",
       "            title=\"Suggest charts\"\n",
       "            style=\"display:none;\">\n",
       "\n",
       "<svg xmlns=\"http://www.w3.org/2000/svg\" height=\"24px\"viewBox=\"0 0 24 24\"\n",
       "     width=\"24px\">\n",
       "    <g>\n",
       "        <path d=\"M19 3H5c-1.1 0-2 .9-2 2v14c0 1.1.9 2 2 2h14c1.1 0 2-.9 2-2V5c0-1.1-.9-2-2-2zM9 17H7v-7h2v7zm4 0h-2V7h2v10zm4 0h-2v-4h2v4z\"/>\n",
       "    </g>\n",
       "</svg>\n",
       "  </button>\n",
       "\n",
       "<style>\n",
       "  .colab-df-quickchart {\n",
       "      --bg-color: #E8F0FE;\n",
       "      --fill-color: #1967D2;\n",
       "      --hover-bg-color: #E2EBFA;\n",
       "      --hover-fill-color: #174EA6;\n",
       "      --disabled-fill-color: #AAA;\n",
       "      --disabled-bg-color: #DDD;\n",
       "  }\n",
       "\n",
       "  [theme=dark] .colab-df-quickchart {\n",
       "      --bg-color: #3B4455;\n",
       "      --fill-color: #D2E3FC;\n",
       "      --hover-bg-color: #434B5C;\n",
       "      --hover-fill-color: #FFFFFF;\n",
       "      --disabled-bg-color: #3B4455;\n",
       "      --disabled-fill-color: #666;\n",
       "  }\n",
       "\n",
       "  .colab-df-quickchart {\n",
       "    background-color: var(--bg-color);\n",
       "    border: none;\n",
       "    border-radius: 50%;\n",
       "    cursor: pointer;\n",
       "    display: none;\n",
       "    fill: var(--fill-color);\n",
       "    height: 32px;\n",
       "    padding: 0;\n",
       "    width: 32px;\n",
       "  }\n",
       "\n",
       "  .colab-df-quickchart:hover {\n",
       "    background-color: var(--hover-bg-color);\n",
       "    box-shadow: 0 1px 2px rgba(60, 64, 67, 0.3), 0 1px 3px 1px rgba(60, 64, 67, 0.15);\n",
       "    fill: var(--button-hover-fill-color);\n",
       "  }\n",
       "\n",
       "  .colab-df-quickchart-complete:disabled,\n",
       "  .colab-df-quickchart-complete:disabled:hover {\n",
       "    background-color: var(--disabled-bg-color);\n",
       "    fill: var(--disabled-fill-color);\n",
       "    box-shadow: none;\n",
       "  }\n",
       "\n",
       "  .colab-df-spinner {\n",
       "    border: 2px solid var(--fill-color);\n",
       "    border-color: transparent;\n",
       "    border-bottom-color: var(--fill-color);\n",
       "    animation:\n",
       "      spin 1s steps(1) infinite;\n",
       "  }\n",
       "\n",
       "  @keyframes spin {\n",
       "    0% {\n",
       "      border-color: transparent;\n",
       "      border-bottom-color: var(--fill-color);\n",
       "      border-left-color: var(--fill-color);\n",
       "    }\n",
       "    20% {\n",
       "      border-color: transparent;\n",
       "      border-left-color: var(--fill-color);\n",
       "      border-top-color: var(--fill-color);\n",
       "    }\n",
       "    30% {\n",
       "      border-color: transparent;\n",
       "      border-left-color: var(--fill-color);\n",
       "      border-top-color: var(--fill-color);\n",
       "      border-right-color: var(--fill-color);\n",
       "    }\n",
       "    40% {\n",
       "      border-color: transparent;\n",
       "      border-right-color: var(--fill-color);\n",
       "      border-top-color: var(--fill-color);\n",
       "    }\n",
       "    60% {\n",
       "      border-color: transparent;\n",
       "      border-right-color: var(--fill-color);\n",
       "    }\n",
       "    80% {\n",
       "      border-color: transparent;\n",
       "      border-right-color: var(--fill-color);\n",
       "      border-bottom-color: var(--fill-color);\n",
       "    }\n",
       "    90% {\n",
       "      border-color: transparent;\n",
       "      border-bottom-color: var(--fill-color);\n",
       "    }\n",
       "  }\n",
       "</style>\n",
       "\n",
       "  <script>\n",
       "    async function quickchart(key) {\n",
       "      const quickchartButtonEl =\n",
       "        document.querySelector('#' + key + ' button');\n",
       "      quickchartButtonEl.disabled = true;  // To prevent multiple clicks.\n",
       "      quickchartButtonEl.classList.add('colab-df-spinner');\n",
       "      try {\n",
       "        const charts = await google.colab.kernel.invokeFunction(\n",
       "            'suggestCharts', [key], {});\n",
       "      } catch (error) {\n",
       "        console.error('Error during call to suggestCharts:', error);\n",
       "      }\n",
       "      quickchartButtonEl.classList.remove('colab-df-spinner');\n",
       "      quickchartButtonEl.classList.add('colab-df-quickchart-complete');\n",
       "    }\n",
       "    (() => {\n",
       "      let quickchartButtonEl =\n",
       "        document.querySelector('#df-08445676-073e-472d-88e3-7c6f9d687c30 button');\n",
       "      quickchartButtonEl.style.display =\n",
       "        google.colab.kernel.accessAllowed ? 'block' : 'none';\n",
       "    })();\n",
       "  </script>\n",
       "</div>\n",
       "\n",
       "    </div>\n",
       "  </div>\n"
      ],
      "text/plain": [
       "                                                vector  \\\n",
       "0    [-0.0070581236, 0.0034781466, -0.00699448, -0....   \n",
       "1    [0.020712305, 0.019299496, 0.004311731, -0.001...   \n",
       "2    [0.008747051, 0.016323444, 0.003442918, -0.003...   \n",
       "3    [0.007830143, 0.010499509, -0.007494, -0.00330...   \n",
       "4    [0.016653322, -0.006793313, -0.0043315454, -0....   \n",
       "..                                                 ...   \n",
       "190  [0.025289346, 0.0011775766, -0.013505305, 0.01...   \n",
       "191  [0.012682365, 0.0014918466, -0.016420325, -0.0...   \n",
       "192  [0.012329977, -0.0045882817, -0.00632002, 0.00...   \n",
       "193  [0.020282593, 0.006688379, 3.619097e-05, -0.00...   \n",
       "194  [0.026210565, 0.00031032052, -0.0021122552, 0....   \n",
       "\n",
       "                                                  text  \\\n",
       "0                                          Hello World   \n",
       "1    351Wave Optics\\nChapter Ten\\nWAVE OPTICS\\n10.1...   \n",
       "2    the tremendous popularity of this book, the co...   \n",
       "3    would be less in the second medium. This is in...   \n",
       "4                      © NCERT \\nnot to be republished   \n",
       "..                                                 ...   \n",
       "190  of the obstacle. Explain wh y?\\n(d)Two student...   \n",
       "191  385Wave Optics\\nobstacles, how is it that the ...   \n",
       "192  justification?\\n10.18 Two towers on top of two...   \n",
       "193  mm from the centre of the screen. Find the wid...   \n",
       "194  What is the justification of this principle?\\n...   \n",
       "\n",
       "                                       id  \n",
       "0                                       1  \n",
       "1    6b886395-afcc-44ce-94f6-e540c8c22c37  \n",
       "2    977cd192-8a7c-49c0-94df-07387e81f768  \n",
       "3    6bc8a7fb-f25d-449e-aa78-8b54bae5be69  \n",
       "4    32ee65ad-acb0-4829-b248-d7920a151bed  \n",
       "..                                    ...  \n",
       "190  ebdcd954-2c9c-435e-aa5e-8a00d628c401  \n",
       "191  a53fc037-8657-466c-a5eb-7d9b9e39e003  \n",
       "192  12fea4e4-7e6d-429e-b4ed-af22c60e155d  \n",
       "193  6d3fd553-980b-43db-8f9c-7102cd51e822  \n",
       "194  bd713b89-1a60-42e5-bb49-9f0cf43ce7b9  \n",
       "\n",
       "[195 rows x 3 columns]"
      ]
     },
     "execution_count": 54,
     "metadata": {},
     "output_type": "execute_result"
    }
   ],
   "source": [
    "# Data stored in vector database in table form.\n",
    "table.to_pandas()"
   ]
  },
  {
   "cell_type": "markdown",
   "metadata": {
    "id": "yUCb44G7AAV7"
   },
   "source": [
    "Generating different queries relevant to the original query given by user."
   ]
  },
  {
   "cell_type": "code",
   "execution_count": 36,
   "metadata": {
    "id": "bA03C3rZbLxI"
   },
   "outputs": [],
   "source": [
    "def generate_queries_chatgpt(original_query):\n",
    "    response = openai.chat.completions.create(\n",
    "        model=\"gpt-3.5-turbo\",\n",
    "        messages=[\n",
    "            {\n",
    "                \"role\": \"system\",\n",
    "                \"content\": \"You are a helpful assistant that generates multiple search queries based on a single input query.\",\n",
    "            },\n",
    "            {\n",
    "                \"role\": \"user\",\n",
    "                \"content\": f\"Generate multiple search queries related to: {original_query}\",\n",
    "            },\n",
    "            {\"role\": \"user\", \"content\": \"OUTPUT (4 queries):\"},\n",
    "        ],\n",
    "    )\n",
    "    generated_queries = response.choices[0].message.content.strip().split(\"\\n\")\n",
    "    return generated_queries"
   ]
  },
  {
   "cell_type": "markdown",
   "metadata": {
    "id": "6GpXiCqgAZKr"
   },
   "source": [
    "Search relevant documents related to query in vector store."
   ]
  },
  {
   "cell_type": "code",
   "execution_count": 37,
   "metadata": {
    "id": "ozMgE8U41Kej"
   },
   "outputs": [],
   "source": [
    "def vector_search(query):\n",
    "    search_results = {}\n",
    "    retrieved_docs = vector_store.similarity_search(query)\n",
    "    for i in retrieved_docs:\n",
    "        search_results[i.page_content] = i.metadata[\"_distance\"]\n",
    "    search_results = {\n",
    "        doc: score for doc, score in sorted(search_results.items(), key=lambda x: x[1])\n",
    "    }\n",
    "    return search_results"
   ]
  },
  {
   "cell_type": "markdown",
   "metadata": {
    "id": "GQrEWBBvAkeV"
   },
   "source": [
    "##Major Component of the RAG Fusion - **Reciprocal Rank Fusion Algorithm**\n",
    ">This algorithm ranks documents on the basis of similarity to the query."
   ]
  },
  {
   "cell_type": "code",
   "execution_count": 38,
   "metadata": {
    "id": "Km_gu8jDBKoz"
   },
   "outputs": [],
   "source": [
    "def reciprocal_rank_fusion(\n",
    "    search_results_dict, k=60\n",
    "):  # k=60 taken for optimum results according to paper.\n",
    "    fused_scores = {}\n",
    "    print(\"Initial individual search result ranks:\")\n",
    "    for query, doc_scores in search_results_dict.items():\n",
    "        print(f\"For query '{query}': {doc_scores}\")\n",
    "\n",
    "    for query, doc_scores in search_results_dict.items():\n",
    "        for rank, (doc, score) in enumerate(\n",
    "            sorted(doc_scores.items(), key=lambda x: x[1])\n",
    "        ):\n",
    "            if doc not in fused_scores:\n",
    "                fused_scores[doc] = 0\n",
    "            previous_score = fused_scores[doc]\n",
    "            fused_scores[doc] += 1 / (rank + k)\n",
    "            print(\n",
    "                f\"Updating score for {doc} from {previous_score} to {fused_scores[doc]} based on rank {rank} in query '{query}'\"\n",
    "            )\n",
    "\n",
    "    reranked_results = {\n",
    "        doc: score\n",
    "        for doc, score in sorted(fused_scores.items(), key=lambda x: x[1], reverse=True)\n",
    "    }\n",
    "    print(\"Final reranked results:\", reranked_results)\n",
    "    return reranked_results"
   ]
  },
  {
   "cell_type": "markdown",
   "metadata": {
    "id": "P-DC5M6sBJrH"
   },
   "source": [
    "Generating output based on the reranked documents."
   ]
  },
  {
   "cell_type": "code",
   "execution_count": 39,
   "metadata": {
    "id": "ijlZeMy0E76a"
   },
   "outputs": [],
   "source": [
    "def generate_output(original_query, reranked_results):\n",
    "    reranked_docs = [i for i in reranked_results.keys()]\n",
    "    context = \"\\n\".join(reranked_docs)\n",
    "    response = openai.chat.completions.create(\n",
    "        model=\"gpt-3.5-turbo\",\n",
    "        messages=[\n",
    "            {\n",
    "                \"role\": \"system\",\n",
    "                \"content\": \"You are a helpful assistant that answers user's questions based on the context provided.\\nDo not make up an answer if you do not know it, stay within the bounds of the context provided, if you don't know the answer, say that you don't have enough information on the topic!\",\n",
    "            },\n",
    "            {\"role\": \"user\", \"content\": f\"CONTEXT: {context}\\nQUERY: {original_query}\"},\n",
    "            {\"role\": \"user\", \"content\": \"ANSWER:\"},\n",
    "        ],\n",
    "    )\n",
    "\n",
    "    response = response.choices[0].message.content.strip()\n",
    "    return response"
   ]
  },
  {
   "cell_type": "markdown",
   "metadata": {
    "id": "p3tb2qdsBmqt"
   },
   "source": [
    "Now on to the final generation part with respect to queries given by user."
   ]
  },
  {
   "cell_type": "code",
   "execution_count": 55,
   "metadata": {
    "id": "_yg7OK7aBS-n"
   },
   "outputs": [],
   "source": [
    "original_query = \"Huygens Principle\"\n",
    "generated_queries = generate_queries_chatgpt(original_query)"
   ]
  },
  {
   "cell_type": "code",
   "execution_count": 56,
   "metadata": {
    "colab": {
     "base_uri": "https://localhost:8080/"
    },
    "id": "6C2b4yafDavx",
    "outputId": "5c1412a2-48f2-4b54-e84a-d5c6a562772c"
   },
   "outputs": [
    {
     "data": {
      "text/plain": [
       "['1. What is Huygens principle and how does it apply to wave propagation?',\n",
       " '2. Key contributions of Huygens principle in the field of optics.',\n",
       " '3. Examples of real-world phenomena that can be explained using Huygens principle.',\n",
       " '4. How does Huygens principle relate to the diffraction and interference of light?']"
      ]
     },
     "execution_count": 56,
     "metadata": {},
     "output_type": "execute_result"
    }
   ],
   "source": [
    "generated_queries"
   ]
  },
  {
   "cell_type": "code",
   "execution_count": 57,
   "metadata": {
    "id": "BKpja3KMDaop"
   },
   "outputs": [],
   "source": [
    "# Vector Search and document retreival for all the generated queries.\n",
    "all_results = {}\n",
    "for query in generated_queries:\n",
    "    search_results = vector_search(query)\n",
    "    all_results[query] = search_results"
   ]
  },
  {
   "cell_type": "code",
   "execution_count": 58,
   "metadata": {
    "colab": {
     "base_uri": "https://localhost:8080/"
    },
    "id": "EQYwX2ZcEH3G",
    "outputId": "411b4450-524e-4987-e5bd-0b780651b3b0"
   },
   "outputs": [
    {
     "name": "stdout",
     "output_type": "stream",
     "text": [
      "Initial individual search result ranks:\n",
      "For query '1. What is Huygens principle and how does it apply to wave propagation?': {'Physics\\n354small portion of the sphere can be considered as a plane and we have\\nwhat is known as a plane wave  [Fig. 10.1(b)].\\nNow, if we know the shape of the wavefront at t = 0, then Huygens\\nprinciple allows us to determine the shape of the wavefront at a later\\ntime τ. Thus, Huygens principle is essentially a geometrical construction,\\nwhich given the shape of the wafefront at any time allows us to determine\\nthe shape of the wavefront at a later time. Let us consider a diverging': 0.24516336619853973, 'consistent with experiment?\\n10.13 You have lear nt in the text how Huygens’ principle leads to the laws\\nof reflection and refraction. Use the same principle to deduce directly\\nthat a point object placed in front of a plane mirror produces a\\nvirtual image whose distance from the mirror is equal to the object\\ndistance fr om the mirr or.\\n10.14 Let us list some of the factors, which could possibly influence the\\nspeed of wave propagation:\\n(i)nature of the source.\\n(ii)direction of propagation.': 0.25220927596092224, '355Wave Optics\\n10.3 REFRACTION  AND REFLECTION  OF\\nPLANE WAVES USING  HUYGENS\\nPRINCIPLE\\n10.3.1  Refraction of a plane wave\\nWe will now use Huygens principle to derive the laws of\\nrefraction. Let PP ′ represent the surface separating medium\\n1 and medium 2, as shown in Fig. 10.4. Let v1 and v2\\nrepresent the speed of light in medium 1 and medium 2,\\nrespectively. W e assume a plane wavefr ont AB pr opagating\\nin the direction A ′A incident on the interface at an angle i': 0.2757498621940613, 'In this chapter we will first discuss the original formulation of the\\nHuygens principle  and derive the laws of reflection and refraction. In\\nSections 10.4 and 10.5 , we will discuss the phenomenon of interference\\nwhich is based on the principle of superposition. In Sec tion 10.6 we\\nwill discuss the phenomenon of diffraction which is based on Huygens-\\nFresnel principle. Finally in Sec tion 10.7 we will discuss the\\nphenomenon of polari sation which is based on the fact that the light': 0.28217455744743347}\n",
      "For query '2. Key contributions of Huygens principle in the field of optics.': {'in Chapter 9, can also be understood on the basis of W ave Optics. Then\\nwe described Y oung’s double slit experiment which was a tur ning point\\nin the study of optics. Finally, we described some associated points such\\nas diffraction, resolution, polarisation, and validity of ray optics. In the\\nnext chapter , you will see how new experiments led to new theories at\\nthe turn of the century around 1900 A.D.\\nSUMMARY\\n1.Huygens’ principle tells us that each point on a wavefront is a source': 0.2528194785118103, 'In this chapter we will first discuss the original formulation of the\\nHuygens principle  and derive the laws of reflection and refraction. In\\nSections 10.4 and 10.5 , we will discuss the phenomenon of interference\\nwhich is based on the principle of superposition. In Sec tion 10.6 we\\nwill discuss the phenomenon of diffraction which is based on Huygens-\\nFresnel principle. Finally in Sec tion 10.7 we will discuss the\\nphenomenon of polari sation which is based on the fact that the light': 0.29769569635391235, 'consistent with experiment?\\n10.13 You have lear nt in the text how Huygens’ principle leads to the laws\\nof reflection and refraction. Use the same principle to deduce directly\\nthat a point object placed in front of a plane mirror produces a\\nvirtual image whose distance from the mirror is equal to the object\\ndistance fr om the mirr or.\\n10.14 Let us list some of the factors, which could possibly influence the\\nspeed of wave propagation:\\n(i)nature of the source.\\n(ii)direction of propagation.': 0.30073925852775574, 'Physics\\n354small portion of the sphere can be considered as a plane and we have\\nwhat is known as a plane wave  [Fig. 10.1(b)].\\nNow, if we know the shape of the wavefront at t = 0, then Huygens\\nprinciple allows us to determine the shape of the wavefront at a later\\ntime τ. Thus, Huygens principle is essentially a geometrical construction,\\nwhich given the shape of the wafefront at any time allows us to determine\\nthe shape of the wavefront at a later time. Let us consider a diverging': 0.32442352175712585}\n",
      "For query '3. Examples of real-world phenomena that can be explained using Huygens principle.': {'consistent with experiment?\\n10.13 You have lear nt in the text how Huygens’ principle leads to the laws\\nof reflection and refraction. Use the same principle to deduce directly\\nthat a point object placed in front of a plane mirror produces a\\nvirtual image whose distance from the mirror is equal to the object\\ndistance fr om the mirr or.\\n10.14 Let us list some of the factors, which could possibly influence the\\nspeed of wave propagation:\\n(i)nature of the source.\\n(ii)direction of propagation.': 0.27874845266342163, 'Physics\\n354small portion of the sphere can be considered as a plane and we have\\nwhat is known as a plane wave  [Fig. 10.1(b)].\\nNow, if we know the shape of the wavefront at t = 0, then Huygens\\nprinciple allows us to determine the shape of the wavefront at a later\\ntime τ. Thus, Huygens principle is essentially a geometrical construction,\\nwhich given the shape of the wafefront at any time allows us to determine\\nthe shape of the wavefront at a later time. Let us consider a diverging': 0.30126991868019104, 'In this chapter we will first discuss the original formulation of the\\nHuygens principle  and derive the laws of reflection and refraction. In\\nSections 10.4 and 10.5 , we will discuss the phenomenon of interference\\nwhich is based on the principle of superposition. In Sec tion 10.6 we\\nwill discuss the phenomenon of diffraction which is based on Huygens-\\nFresnel principle. Finally in Sec tion 10.7 we will discuss the\\nphenomenon of polari sation which is based on the fact that the light': 0.3015878200531006, 'in Chapter 9, can also be understood on the basis of W ave Optics. Then\\nwe described Y oung’s double slit experiment which was a tur ning point\\nin the study of optics. Finally, we described some associated points such\\nas diffraction, resolution, polarisation, and validity of ray optics. In the\\nnext chapter , you will see how new experiments led to new theories at\\nthe turn of the century around 1900 A.D.\\nSUMMARY\\n1.Huygens’ principle tells us that each point on a wavefront is a source': 0.3165384531021118}\n",
      "For query '4. How does Huygens principle relate to the diffraction and interference of light?': {'In this chapter we will first discuss the original formulation of the\\nHuygens principle  and derive the laws of reflection and refraction. In\\nSections 10.4 and 10.5 , we will discuss the phenomenon of interference\\nwhich is based on the principle of superposition. In Sec tion 10.6 we\\nwill discuss the phenomenon of diffraction which is based on Huygens-\\nFresnel principle. Finally in Sec tion 10.7 we will discuss the\\nphenomenon of polari sation which is based on the fact that the light': 0.23012229800224304, 'consistent with experiment?\\n10.13 You have lear nt in the text how Huygens’ principle leads to the laws\\nof reflection and refraction. Use the same principle to deduce directly\\nthat a point object placed in front of a plane mirror produces a\\nvirtual image whose distance from the mirror is equal to the object\\ndistance fr om the mirr or.\\n10.14 Let us list some of the factors, which could possibly influence the\\nspeed of wave propagation:\\n(i)nature of the source.\\n(ii)direction of propagation.': 0.2587537169456482, 'in Chapter 9, can also be understood on the basis of W ave Optics. Then\\nwe described Y oung’s double slit experiment which was a tur ning point\\nin the study of optics. Finally, we described some associated points such\\nas diffraction, resolution, polarisation, and validity of ray optics. In the\\nnext chapter , you will see how new experiments led to new theories at\\nthe turn of the century around 1900 A.D.\\nSUMMARY\\n1.Huygens’ principle tells us that each point on a wavefront is a source': 0.27164384722709656, 'Physics\\n382is the same measured along any ray. This principle leads to the well\\nknown laws of reflection and refraction.\\n3.The principle of superposition of waves applies whenever two or more\\nsources of light illuminate the same point. When we consider the\\nintensity of light due to these sources at the given point, there is an\\ninterference term in addition to the sum of the individual intensities.\\nBut this term is important only if it has a non-zero average, which': 0.2889702618122101}\n",
      "Updating score for Physics\n",
      "354small portion of the sphere can be considered as a plane and we have\n",
      "what is known as a plane wave  [Fig. 10.1(b)].\n",
      "Now, if we know the shape of the wavefront at t = 0, then Huygens\n",
      "principle allows us to determine the shape of the wavefront at a later\n",
      "time τ. Thus, Huygens principle is essentially a geometrical construction,\n",
      "which given the shape of the wafefront at any time allows us to determine\n",
      "the shape of the wavefront at a later time. Let us consider a diverging from 0 to 0.016666666666666666 based on rank 0 in query '1. What is Huygens principle and how does it apply to wave propagation?'\n",
      "Updating score for consistent with experiment?\n",
      "10.13 You have lear nt in the text how Huygens’ principle leads to the laws\n",
      "of reflection and refraction. Use the same principle to deduce directly\n",
      "that a point object placed in front of a plane mirror produces a\n",
      "virtual image whose distance from the mirror is equal to the object\n",
      "distance fr om the mirr or.\n",
      "10.14 Let us list some of the factors, which could possibly influence the\n",
      "speed of wave propagation:\n",
      "(i)nature of the source.\n",
      "(ii)direction of propagation. from 0 to 0.01639344262295082 based on rank 1 in query '1. What is Huygens principle and how does it apply to wave propagation?'\n",
      "Updating score for 355Wave Optics\n",
      "10.3 REFRACTION  AND REFLECTION  OF\n",
      "PLANE WAVES USING  HUYGENS\n",
      "PRINCIPLE\n",
      "10.3.1  Refraction of a plane wave\n",
      "We will now use Huygens principle to derive the laws of\n",
      "refraction. Let PP ′ represent the surface separating medium\n",
      "1 and medium 2, as shown in Fig. 10.4. Let v1 and v2\n",
      "represent the speed of light in medium 1 and medium 2,\n",
      "respectively. W e assume a plane wavefr ont AB pr opagating\n",
      "in the direction A ′A incident on the interface at an angle i from 0 to 0.016129032258064516 based on rank 2 in query '1. What is Huygens principle and how does it apply to wave propagation?'\n",
      "Updating score for In this chapter we will first discuss the original formulation of the\n",
      "Huygens principle  and derive the laws of reflection and refraction. In\n",
      "Sections 10.4 and 10.5 , we will discuss the phenomenon of interference\n",
      "which is based on the principle of superposition. In Sec tion 10.6 we\n",
      "will discuss the phenomenon of diffraction which is based on Huygens-\n",
      "Fresnel principle. Finally in Sec tion 10.7 we will discuss the\n",
      "phenomenon of polari sation which is based on the fact that the light from 0 to 0.015873015873015872 based on rank 3 in query '1. What is Huygens principle and how does it apply to wave propagation?'\n",
      "Updating score for in Chapter 9, can also be understood on the basis of W ave Optics. Then\n",
      "we described Y oung’s double slit experiment which was a tur ning point\n",
      "in the study of optics. Finally, we described some associated points such\n",
      "as diffraction, resolution, polarisation, and validity of ray optics. In the\n",
      "next chapter , you will see how new experiments led to new theories at\n",
      "the turn of the century around 1900 A.D.\n",
      "SUMMARY\n",
      "1.Huygens’ principle tells us that each point on a wavefront is a source from 0 to 0.016666666666666666 based on rank 0 in query '2. Key contributions of Huygens principle in the field of optics.'\n",
      "Updating score for In this chapter we will first discuss the original formulation of the\n",
      "Huygens principle  and derive the laws of reflection and refraction. In\n",
      "Sections 10.4 and 10.5 , we will discuss the phenomenon of interference\n",
      "which is based on the principle of superposition. In Sec tion 10.6 we\n",
      "will discuss the phenomenon of diffraction which is based on Huygens-\n",
      "Fresnel principle. Finally in Sec tion 10.7 we will discuss the\n",
      "phenomenon of polari sation which is based on the fact that the light from 0.015873015873015872 to 0.032266458495966696 based on rank 1 in query '2. Key contributions of Huygens principle in the field of optics.'\n",
      "Updating score for consistent with experiment?\n",
      "10.13 You have lear nt in the text how Huygens’ principle leads to the laws\n",
      "of reflection and refraction. Use the same principle to deduce directly\n",
      "that a point object placed in front of a plane mirror produces a\n",
      "virtual image whose distance from the mirror is equal to the object\n",
      "distance fr om the mirr or.\n",
      "10.14 Let us list some of the factors, which could possibly influence the\n",
      "speed of wave propagation:\n",
      "(i)nature of the source.\n",
      "(ii)direction of propagation. from 0.01639344262295082 to 0.03252247488101534 based on rank 2 in query '2. Key contributions of Huygens principle in the field of optics.'\n",
      "Updating score for Physics\n",
      "354small portion of the sphere can be considered as a plane and we have\n",
      "what is known as a plane wave  [Fig. 10.1(b)].\n",
      "Now, if we know the shape of the wavefront at t = 0, then Huygens\n",
      "principle allows us to determine the shape of the wavefront at a later\n",
      "time τ. Thus, Huygens principle is essentially a geometrical construction,\n",
      "which given the shape of the wafefront at any time allows us to determine\n",
      "the shape of the wavefront at a later time. Let us consider a diverging from 0.016666666666666666 to 0.032539682539682535 based on rank 3 in query '2. Key contributions of Huygens principle in the field of optics.'\n",
      "Updating score for consistent with experiment?\n",
      "10.13 You have lear nt in the text how Huygens’ principle leads to the laws\n",
      "of reflection and refraction. Use the same principle to deduce directly\n",
      "that a point object placed in front of a plane mirror produces a\n",
      "virtual image whose distance from the mirror is equal to the object\n",
      "distance fr om the mirr or.\n",
      "10.14 Let us list some of the factors, which could possibly influence the\n",
      "speed of wave propagation:\n",
      "(i)nature of the source.\n",
      "(ii)direction of propagation. from 0.03252247488101534 to 0.049189141547682 based on rank 0 in query '3. Examples of real-world phenomena that can be explained using Huygens principle.'\n",
      "Updating score for Physics\n",
      "354small portion of the sphere can be considered as a plane and we have\n",
      "what is known as a plane wave  [Fig. 10.1(b)].\n",
      "Now, if we know the shape of the wavefront at t = 0, then Huygens\n",
      "principle allows us to determine the shape of the wavefront at a later\n",
      "time τ. Thus, Huygens principle is essentially a geometrical construction,\n",
      "which given the shape of the wafefront at any time allows us to determine\n",
      "the shape of the wavefront at a later time. Let us consider a diverging from 0.032539682539682535 to 0.04893312516263336 based on rank 1 in query '3. Examples of real-world phenomena that can be explained using Huygens principle.'\n",
      "Updating score for In this chapter we will first discuss the original formulation of the\n",
      "Huygens principle  and derive the laws of reflection and refraction. In\n",
      "Sections 10.4 and 10.5 , we will discuss the phenomenon of interference\n",
      "which is based on the principle of superposition. In Sec tion 10.6 we\n",
      "will discuss the phenomenon of diffraction which is based on Huygens-\n",
      "Fresnel principle. Finally in Sec tion 10.7 we will discuss the\n",
      "phenomenon of polari sation which is based on the fact that the light from 0.032266458495966696 to 0.04839549075403121 based on rank 2 in query '3. Examples of real-world phenomena that can be explained using Huygens principle.'\n",
      "Updating score for in Chapter 9, can also be understood on the basis of W ave Optics. Then\n",
      "we described Y oung’s double slit experiment which was a tur ning point\n",
      "in the study of optics. Finally, we described some associated points such\n",
      "as diffraction, resolution, polarisation, and validity of ray optics. In the\n",
      "next chapter , you will see how new experiments led to new theories at\n",
      "the turn of the century around 1900 A.D.\n",
      "SUMMARY\n",
      "1.Huygens’ principle tells us that each point on a wavefront is a source from 0.016666666666666666 to 0.032539682539682535 based on rank 3 in query '3. Examples of real-world phenomena that can be explained using Huygens principle.'\n",
      "Updating score for In this chapter we will first discuss the original formulation of the\n",
      "Huygens principle  and derive the laws of reflection and refraction. In\n",
      "Sections 10.4 and 10.5 , we will discuss the phenomenon of interference\n",
      "which is based on the principle of superposition. In Sec tion 10.6 we\n",
      "will discuss the phenomenon of diffraction which is based on Huygens-\n",
      "Fresnel principle. Finally in Sec tion 10.7 we will discuss the\n",
      "phenomenon of polari sation which is based on the fact that the light from 0.04839549075403121 to 0.06506215742069787 based on rank 0 in query '4. How does Huygens principle relate to the diffraction and interference of light?'\n",
      "Updating score for consistent with experiment?\n",
      "10.13 You have lear nt in the text how Huygens’ principle leads to the laws\n",
      "of reflection and refraction. Use the same principle to deduce directly\n",
      "that a point object placed in front of a plane mirror produces a\n",
      "virtual image whose distance from the mirror is equal to the object\n",
      "distance fr om the mirr or.\n",
      "10.14 Let us list some of the factors, which could possibly influence the\n",
      "speed of wave propagation:\n",
      "(i)nature of the source.\n",
      "(ii)direction of propagation. from 0.049189141547682 to 0.06558258417063283 based on rank 1 in query '4. How does Huygens principle relate to the diffraction and interference of light?'\n",
      "Updating score for in Chapter 9, can also be understood on the basis of W ave Optics. Then\n",
      "we described Y oung’s double slit experiment which was a tur ning point\n",
      "in the study of optics. Finally, we described some associated points such\n",
      "as diffraction, resolution, polarisation, and validity of ray optics. In the\n",
      "next chapter , you will see how new experiments led to new theories at\n",
      "the turn of the century around 1900 A.D.\n",
      "SUMMARY\n",
      "1.Huygens’ principle tells us that each point on a wavefront is a source from 0.032539682539682535 to 0.04866871479774705 based on rank 2 in query '4. How does Huygens principle relate to the diffraction and interference of light?'\n",
      "Updating score for Physics\n",
      "382is the same measured along any ray. This principle leads to the well\n",
      "known laws of reflection and refraction.\n",
      "3.The principle of superposition of waves applies whenever two or more\n",
      "sources of light illuminate the same point. When we consider the\n",
      "intensity of light due to these sources at the given point, there is an\n",
      "interference term in addition to the sum of the individual intensities.\n",
      "But this term is important only if it has a non-zero average, which from 0 to 0.015873015873015872 based on rank 3 in query '4. How does Huygens principle relate to the diffraction and interference of light?'\n",
      "Final reranked results: {'consistent with experiment?\\n10.13 You have lear nt in the text how Huygens’ principle leads to the laws\\nof reflection and refraction. Use the same principle to deduce directly\\nthat a point object placed in front of a plane mirror produces a\\nvirtual image whose distance from the mirror is equal to the object\\ndistance fr om the mirr or.\\n10.14 Let us list some of the factors, which could possibly influence the\\nspeed of wave propagation:\\n(i)nature of the source.\\n(ii)direction of propagation.': 0.06558258417063283, 'In this chapter we will first discuss the original formulation of the\\nHuygens principle  and derive the laws of reflection and refraction. In\\nSections 10.4 and 10.5 , we will discuss the phenomenon of interference\\nwhich is based on the principle of superposition. In Sec tion 10.6 we\\nwill discuss the phenomenon of diffraction which is based on Huygens-\\nFresnel principle. Finally in Sec tion 10.7 we will discuss the\\nphenomenon of polari sation which is based on the fact that the light': 0.06506215742069787, 'Physics\\n354small portion of the sphere can be considered as a plane and we have\\nwhat is known as a plane wave  [Fig. 10.1(b)].\\nNow, if we know the shape of the wavefront at t = 0, then Huygens\\nprinciple allows us to determine the shape of the wavefront at a later\\ntime τ. Thus, Huygens principle is essentially a geometrical construction,\\nwhich given the shape of the wafefront at any time allows us to determine\\nthe shape of the wavefront at a later time. Let us consider a diverging': 0.04893312516263336, 'in Chapter 9, can also be understood on the basis of W ave Optics. Then\\nwe described Y oung’s double slit experiment which was a tur ning point\\nin the study of optics. Finally, we described some associated points such\\nas diffraction, resolution, polarisation, and validity of ray optics. In the\\nnext chapter , you will see how new experiments led to new theories at\\nthe turn of the century around 1900 A.D.\\nSUMMARY\\n1.Huygens’ principle tells us that each point on a wavefront is a source': 0.04866871479774705, '355Wave Optics\\n10.3 REFRACTION  AND REFLECTION  OF\\nPLANE WAVES USING  HUYGENS\\nPRINCIPLE\\n10.3.1  Refraction of a plane wave\\nWe will now use Huygens principle to derive the laws of\\nrefraction. Let PP ′ represent the surface separating medium\\n1 and medium 2, as shown in Fig. 10.4. Let v1 and v2\\nrepresent the speed of light in medium 1 and medium 2,\\nrespectively. W e assume a plane wavefr ont AB pr opagating\\nin the direction A ′A incident on the interface at an angle i': 0.016129032258064516, 'Physics\\n382is the same measured along any ray. This principle leads to the well\\nknown laws of reflection and refraction.\\n3.The principle of superposition of waves applies whenever two or more\\nsources of light illuminate the same point. When we consider the\\nintensity of light due to these sources at the given point, there is an\\ninterference term in addition to the sum of the individual intensities.\\nBut this term is important only if it has a non-zero average, which': 0.015873015873015872}\n"
     ]
    }
   ],
   "source": [
    "# Documents reranked accordig to RRF.\n",
    "reranked_results = reciprocal_rank_fusion(all_results)"
   ]
  },
  {
   "cell_type": "code",
   "execution_count": 59,
   "metadata": {
    "id": "6o8KPAIaEmVo"
   },
   "outputs": [],
   "source": [
    "final_output = generate_output(original_query, reranked_results)"
   ]
  },
  {
   "cell_type": "code",
   "execution_count": 60,
   "metadata": {
    "colab": {
     "base_uri": "https://localhost:8080/",
     "height": 72
    },
    "id": "gJxHR_mwF_CT",
    "outputId": "25f3dc69-d409-4c90-c9f1-887edd8049a0"
   },
   "outputs": [
    {
     "data": {
      "application/vnd.google.colaboratory.intrinsic+json": {
       "type": "string"
      },
      "text/plain": [
       "\"Huygens' principle is a principle of wave propagation that states that each point on a wavefront can be thought of as a source of secondary wavelets that spread out in all directions. These secondary wavelets combine together to form the shape of the wavefront at a later time. It can be used to explain phenomena such as reflection, refraction, interference, diffraction, and polarization.\""
      ]
     },
     "execution_count": 60,
     "metadata": {},
     "output_type": "execute_result"
    }
   ],
   "source": [
    "final_output"
   ]
  },
  {
   "cell_type": "code",
   "execution_count": null,
   "metadata": {
    "id": "CNAwyt5vGC5p"
   },
   "outputs": [],
   "source": []
  },
  {
   "cell_type": "code",
   "execution_count": null,
   "metadata": {
    "id": "DJ8WdRe9smJH"
   },
   "outputs": [],
   "source": []
  }
 ],
 "metadata": {
  "colab": {
   "provenance": []
  },
  "kernelspec": {
   "display_name": "Python 3 (ipykernel)",
   "language": "python",
   "name": "python3"
  },
  "language_info": {
   "codemirror_mode": {
    "name": "ipython",
    "version": 3
   },
   "file_extension": ".py",
   "mimetype": "text/x-python",
   "name": "python",
   "nbconvert_exporter": "python",
   "pygments_lexer": "ipython3",
   "version": "3.11.5"
  }
 },
 "nbformat": 4,
 "nbformat_minor": 1
}

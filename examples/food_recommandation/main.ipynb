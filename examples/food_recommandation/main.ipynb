{
 "cells": [
  {
   "cell_type": "code",
   "execution_count": null,
   "metadata": {},
   "outputs": [],
   "source": [
    "#install packages\n",
    "!pip install pandas\n",
    "!pip install lancedb"
   ]
  },
  {
   "cell_type": "code",
   "execution_count": 1,
   "metadata": {},
   "outputs": [
    {
     "name": "stderr",
     "output_type": "stream",
     "text": [
      "/home/akashdesai/anaconda3/envs/qdrant_music/lib/python3.10/site-packages/tqdm/auto.py:21: TqdmWarning: IProgress not found. Please update jupyter and ipywidgets. See https://ipywidgets.readthedocs.io/en/stable/user_install.html\n",
      "  from .autonotebook import tqdm as notebook_tqdm\n"
     ]
    }
   ],
   "source": [
    "import os\n",
    "import time\n",
    "import lancedb\n",
    "import getpass\n",
    "import pandas as pd\n",
    "from lancedb.pydantic import LanceModel, Vector\n",
    "from lancedb.embeddings import EmbeddingFunctionRegistry"
   ]
  },
  {
   "cell_type": "markdown",
   "metadata": {},
   "source": [
    "Download the food recommnation data from kaggle\n",
    "https://www.kaggle.com/datasets/schemersays/food-recommendation-system"
   ]
  },
  {
   "cell_type": "code",
   "execution_count": 2,
   "metadata": {},
   "outputs": [],
   "source": [
    "# we are loading data  & nerging into single file\n",
    "\n",
    "df = pd.read_csv(\"main_food.csv\")\n",
    "df_rating = pd.read_csv(\"ratings.csv\")"
   ]
  },
  {
   "cell_type": "code",
   "execution_count": 3,
   "metadata": {},
   "outputs": [],
   "source": [
    "main_df = pd.merge(df_rating, df, on='Food_ID', how='inner')\n",
    "main_df.to_csv('main_df.csv')"
   ]
  },
  {
   "cell_type": "markdown",
   "metadata": {},
   "source": [
    "Lets open main_df csv"
   ]
  },
  {
   "cell_type": "code",
   "execution_count": 4,
   "metadata": {},
   "outputs": [],
   "source": [
    "df = pd.read_csv(\"main_df.csv\")"
   ]
  },
  {
   "cell_type": "code",
   "execution_count": 5,
   "metadata": {},
   "outputs": [
    {
     "data": {
      "text/html": [
       "<div>\n",
       "<style scoped>\n",
       "    .dataframe tbody tr th:only-of-type {\n",
       "        vertical-align: middle;\n",
       "    }\n",
       "\n",
       "    .dataframe tbody tr th {\n",
       "        vertical-align: top;\n",
       "    }\n",
       "\n",
       "    .dataframe thead th {\n",
       "        text-align: right;\n",
       "    }\n",
       "</style>\n",
       "<table border=\"1\" class=\"dataframe\">\n",
       "  <thead>\n",
       "    <tr style=\"text-align: right;\">\n",
       "      <th></th>\n",
       "      <th>Unnamed: 0</th>\n",
       "      <th>User_ID</th>\n",
       "      <th>Food_ID</th>\n",
       "      <th>Rating</th>\n",
       "      <th>Name</th>\n",
       "      <th>C_Type</th>\n",
       "      <th>Veg_Non</th>\n",
       "      <th>Describe</th>\n",
       "    </tr>\n",
       "  </thead>\n",
       "  <tbody>\n",
       "    <tr>\n",
       "      <th>0</th>\n",
       "      <td>0</td>\n",
       "      <td>1.0</td>\n",
       "      <td>88.0</td>\n",
       "      <td>4.0</td>\n",
       "      <td>peri peri chicken satay</td>\n",
       "      <td>Snack</td>\n",
       "      <td>non-veg</td>\n",
       "      <td>boneless skinless chicken thigh (trimmed), sal...</td>\n",
       "    </tr>\n",
       "    <tr>\n",
       "      <th>1</th>\n",
       "      <td>1</td>\n",
       "      <td>1.0</td>\n",
       "      <td>46.0</td>\n",
       "      <td>3.0</td>\n",
       "      <td>steam bunny chicken bao</td>\n",
       "      <td>Japanese</td>\n",
       "      <td>non-veg</td>\n",
       "      <td>buns, all purpose white flour, dry yeast, suga...</td>\n",
       "    </tr>\n",
       "    <tr>\n",
       "      <th>2</th>\n",
       "      <td>2</td>\n",
       "      <td>1.0</td>\n",
       "      <td>24.0</td>\n",
       "      <td>5.0</td>\n",
       "      <td>green lentil dessert fudge</td>\n",
       "      <td>Dessert</td>\n",
       "      <td>veg</td>\n",
       "      <td>whole moong beans, cow ghee, raisins, whole mi...</td>\n",
       "    </tr>\n",
       "    <tr>\n",
       "      <th>3</th>\n",
       "      <td>3</td>\n",
       "      <td>1.0</td>\n",
       "      <td>25.0</td>\n",
       "      <td>4.0</td>\n",
       "      <td>cashew nut cookies</td>\n",
       "      <td>Dessert</td>\n",
       "      <td>veg</td>\n",
       "      <td>cashew paste, ghee, khaand (a sweetening agent...</td>\n",
       "    </tr>\n",
       "    <tr>\n",
       "      <th>4</th>\n",
       "      <td>4</td>\n",
       "      <td>2.0</td>\n",
       "      <td>49.0</td>\n",
       "      <td>1.0</td>\n",
       "      <td>christmas tree pizza</td>\n",
       "      <td>Italian</td>\n",
       "      <td>veg</td>\n",
       "      <td>pizza dough (2 boules), red pepper, red onion,...</td>\n",
       "    </tr>\n",
       "  </tbody>\n",
       "</table>\n",
       "</div>"
      ],
      "text/plain": [
       "   Unnamed: 0  User_ID  Food_ID  Rating                        Name    C_Type  \\\n",
       "0           0      1.0     88.0     4.0     peri peri chicken satay     Snack   \n",
       "1           1      1.0     46.0     3.0     steam bunny chicken bao  Japanese   \n",
       "2           2      1.0     24.0     5.0  green lentil dessert fudge   Dessert   \n",
       "3           3      1.0     25.0     4.0          cashew nut cookies   Dessert   \n",
       "4           4      2.0     49.0     1.0        christmas tree pizza   Italian   \n",
       "\n",
       "   Veg_Non                                           Describe  \n",
       "0  non-veg  boneless skinless chicken thigh (trimmed), sal...  \n",
       "1  non-veg  buns, all purpose white flour, dry yeast, suga...  \n",
       "2      veg  whole moong beans, cow ghee, raisins, whole mi...  \n",
       "3      veg  cashew paste, ghee, khaand (a sweetening agent...  \n",
       "4      veg  pizza dough (2 boules), red pepper, red onion,...  "
      ]
     },
     "execution_count": 5,
     "metadata": {},
     "output_type": "execute_result"
    }
   ],
   "source": [
    "df.head()"
   ]
  },
  {
   "cell_type": "code",
   "execution_count": 7,
   "metadata": {},
   "outputs": [],
   "source": [
    "# We are adding all important columns into the text column to enhance full-text search (FTS) and overall search performance.\n",
    "df['text'] = df.apply(lambda row: f\"{row['Name']} {row['C_Type']} {row['Veg_Non']}: {row['Describe']}\", axis=1)"
   ]
  },
  {
   "cell_type": "code",
   "execution_count": 8,
   "metadata": {},
   "outputs": [
    {
     "data": {
      "text/plain": [
       "'peri peri chicken satay Snack non-veg: boneless skinless chicken thigh (trimmed), salt and pepper, yogurt, chilli powder, ginger garlic paste, coriander leaves, oil to fry, peri peri sauce, potato fries'"
      ]
     },
     "execution_count": 8,
     "metadata": {},
     "output_type": "execute_result"
    }
   ],
   "source": [
    "# just chcking our text data\n",
    "df['text'][0]"
   ]
  },
  {
   "cell_type": "code",
   "execution_count": 9,
   "metadata": {},
   "outputs": [
    {
     "data": {
      "text/html": [
       "<div>\n",
       "<style scoped>\n",
       "    .dataframe tbody tr th:only-of-type {\n",
       "        vertical-align: middle;\n",
       "    }\n",
       "\n",
       "    .dataframe tbody tr th {\n",
       "        vertical-align: top;\n",
       "    }\n",
       "\n",
       "    .dataframe thead th {\n",
       "        text-align: right;\n",
       "    }\n",
       "</style>\n",
       "<table border=\"1\" class=\"dataframe\">\n",
       "  <thead>\n",
       "    <tr style=\"text-align: right;\">\n",
       "      <th></th>\n",
       "      <th>Unnamed: 0</th>\n",
       "      <th>User_ID</th>\n",
       "      <th>Food_ID</th>\n",
       "      <th>Rating</th>\n",
       "      <th>Name</th>\n",
       "      <th>C_Type</th>\n",
       "      <th>Veg_Non</th>\n",
       "      <th>Describe</th>\n",
       "      <th>text</th>\n",
       "    </tr>\n",
       "  </thead>\n",
       "  <tbody>\n",
       "    <tr>\n",
       "      <th>0</th>\n",
       "      <td>0</td>\n",
       "      <td>1.0</td>\n",
       "      <td>88.0</td>\n",
       "      <td>4.0</td>\n",
       "      <td>peri peri chicken satay</td>\n",
       "      <td>Snack</td>\n",
       "      <td>non-veg</td>\n",
       "      <td>boneless skinless chicken thigh (trimmed), sal...</td>\n",
       "      <td>peri peri chicken satay Snack non-veg: boneles...</td>\n",
       "    </tr>\n",
       "    <tr>\n",
       "      <th>1</th>\n",
       "      <td>1</td>\n",
       "      <td>1.0</td>\n",
       "      <td>46.0</td>\n",
       "      <td>3.0</td>\n",
       "      <td>steam bunny chicken bao</td>\n",
       "      <td>Japanese</td>\n",
       "      <td>non-veg</td>\n",
       "      <td>buns, all purpose white flour, dry yeast, suga...</td>\n",
       "      <td>steam bunny chicken bao Japanese non-veg: buns...</td>\n",
       "    </tr>\n",
       "    <tr>\n",
       "      <th>2</th>\n",
       "      <td>2</td>\n",
       "      <td>1.0</td>\n",
       "      <td>24.0</td>\n",
       "      <td>5.0</td>\n",
       "      <td>green lentil dessert fudge</td>\n",
       "      <td>Dessert</td>\n",
       "      <td>veg</td>\n",
       "      <td>whole moong beans, cow ghee, raisins, whole mi...</td>\n",
       "      <td>green lentil dessert fudge Dessert veg: whole ...</td>\n",
       "    </tr>\n",
       "    <tr>\n",
       "      <th>3</th>\n",
       "      <td>3</td>\n",
       "      <td>1.0</td>\n",
       "      <td>25.0</td>\n",
       "      <td>4.0</td>\n",
       "      <td>cashew nut cookies</td>\n",
       "      <td>Dessert</td>\n",
       "      <td>veg</td>\n",
       "      <td>cashew paste, ghee, khaand (a sweetening agent...</td>\n",
       "      <td>cashew nut cookies Dessert veg: cashew paste, ...</td>\n",
       "    </tr>\n",
       "    <tr>\n",
       "      <th>4</th>\n",
       "      <td>4</td>\n",
       "      <td>2.0</td>\n",
       "      <td>49.0</td>\n",
       "      <td>1.0</td>\n",
       "      <td>christmas tree pizza</td>\n",
       "      <td>Italian</td>\n",
       "      <td>veg</td>\n",
       "      <td>pizza dough (2 boules), red pepper, red onion,...</td>\n",
       "      <td>christmas tree pizza Italian veg: pizza dough ...</td>\n",
       "    </tr>\n",
       "  </tbody>\n",
       "</table>\n",
       "</div>"
      ],
      "text/plain": [
       "   Unnamed: 0  User_ID  Food_ID  Rating                        Name    C_Type  \\\n",
       "0           0      1.0     88.0     4.0     peri peri chicken satay     Snack   \n",
       "1           1      1.0     46.0     3.0     steam bunny chicken bao  Japanese   \n",
       "2           2      1.0     24.0     5.0  green lentil dessert fudge   Dessert   \n",
       "3           3      1.0     25.0     4.0          cashew nut cookies   Dessert   \n",
       "4           4      2.0     49.0     1.0        christmas tree pizza   Italian   \n",
       "\n",
       "   Veg_Non                                           Describe  \\\n",
       "0  non-veg  boneless skinless chicken thigh (trimmed), sal...   \n",
       "1  non-veg  buns, all purpose white flour, dry yeast, suga...   \n",
       "2      veg  whole moong beans, cow ghee, raisins, whole mi...   \n",
       "3      veg  cashew paste, ghee, khaand (a sweetening agent...   \n",
       "4      veg  pizza dough (2 boules), red pepper, red onion,...   \n",
       "\n",
       "                                                text  \n",
       "0  peri peri chicken satay Snack non-veg: boneles...  \n",
       "1  steam bunny chicken bao Japanese non-veg: buns...  \n",
       "2  green lentil dessert fudge Dessert veg: whole ...  \n",
       "3  cashew nut cookies Dessert veg: cashew paste, ...  \n",
       "4  christmas tree pizza Italian veg: pizza dough ...  "
      ]
     },
     "execution_count": 9,
     "metadata": {},
     "output_type": "execute_result"
    }
   ],
   "source": [
    "df.head()"
   ]
  },
  {
   "cell_type": "code",
   "execution_count": 10,
   "metadata": {},
   "outputs": [],
   "source": []
  },
  {
   "cell_type": "markdown",
   "metadata": {},
   "source": [
    "___\n",
    "\n",
    "To improve accuracy, we should include both numerical and string representations of ratings. First, add a new column, rating_str, containing the string values for each rating. Then, append both the numerical and string ratings to the text column. This approach increases the chances of achieving better accuracy.\n",
    "this kind of trick exp you need to do for improving your accuracy\n",
    "___"
   ]
  },
  {
   "cell_type": "code",
   "execution_count": 13,
   "metadata": {},
   "outputs": [],
   "source": [
    "#to str values\n",
    "\n",
    "# Create a mapping from numbers to strings\n",
    "num_to_string = {\n",
    "    0.0: 'zero', 1.0: 'one', 2.0: 'two', 3.0: 'three', 4.0: 'four',\n",
    "    5.0: 'five', 6.0: 'six', 7.0: 'seven', 8.0: 'eight', 9.0: 'nine', 10.0: 'ten'\n",
    "}\n",
    "# Replace numerical ratings with their string equivalents\n",
    "df['Rating_str'] = df['Rating'].map(num_to_string)"
   ]
  },
  {
   "cell_type": "code",
   "execution_count": 14,
   "metadata": {},
   "outputs": [],
   "source": [
    "df['Rating'] = df['Rating'].astype(int)\n"
   ]
  },
  {
   "cell_type": "code",
   "execution_count": 15,
   "metadata": {},
   "outputs": [
    {
     "data": {
      "text/html": [
       "<div>\n",
       "<style scoped>\n",
       "    .dataframe tbody tr th:only-of-type {\n",
       "        vertical-align: middle;\n",
       "    }\n",
       "\n",
       "    .dataframe tbody tr th {\n",
       "        vertical-align: top;\n",
       "    }\n",
       "\n",
       "    .dataframe thead th {\n",
       "        text-align: right;\n",
       "    }\n",
       "</style>\n",
       "<table border=\"1\" class=\"dataframe\">\n",
       "  <thead>\n",
       "    <tr style=\"text-align: right;\">\n",
       "      <th></th>\n",
       "      <th>Unnamed: 0</th>\n",
       "      <th>User_ID</th>\n",
       "      <th>Food_ID</th>\n",
       "      <th>Rating</th>\n",
       "      <th>Name</th>\n",
       "      <th>C_Type</th>\n",
       "      <th>Veg_Non</th>\n",
       "      <th>Describe</th>\n",
       "      <th>text</th>\n",
       "      <th>Rating_str</th>\n",
       "    </tr>\n",
       "  </thead>\n",
       "  <tbody>\n",
       "    <tr>\n",
       "      <th>0</th>\n",
       "      <td>0</td>\n",
       "      <td>1.0</td>\n",
       "      <td>88.0</td>\n",
       "      <td>4</td>\n",
       "      <td>peri peri chicken satay</td>\n",
       "      <td>Snack</td>\n",
       "      <td>non-veg</td>\n",
       "      <td>boneless skinless chicken thigh (trimmed), sal...</td>\n",
       "      <td>peri peri chicken satay Snack non-veg: boneles...</td>\n",
       "      <td>four</td>\n",
       "    </tr>\n",
       "    <tr>\n",
       "      <th>1</th>\n",
       "      <td>1</td>\n",
       "      <td>1.0</td>\n",
       "      <td>46.0</td>\n",
       "      <td>3</td>\n",
       "      <td>steam bunny chicken bao</td>\n",
       "      <td>Japanese</td>\n",
       "      <td>non-veg</td>\n",
       "      <td>buns, all purpose white flour, dry yeast, suga...</td>\n",
       "      <td>steam bunny chicken bao Japanese non-veg: buns...</td>\n",
       "      <td>three</td>\n",
       "    </tr>\n",
       "    <tr>\n",
       "      <th>2</th>\n",
       "      <td>2</td>\n",
       "      <td>1.0</td>\n",
       "      <td>24.0</td>\n",
       "      <td>5</td>\n",
       "      <td>green lentil dessert fudge</td>\n",
       "      <td>Dessert</td>\n",
       "      <td>veg</td>\n",
       "      <td>whole moong beans, cow ghee, raisins, whole mi...</td>\n",
       "      <td>green lentil dessert fudge Dessert veg: whole ...</td>\n",
       "      <td>five</td>\n",
       "    </tr>\n",
       "    <tr>\n",
       "      <th>3</th>\n",
       "      <td>3</td>\n",
       "      <td>1.0</td>\n",
       "      <td>25.0</td>\n",
       "      <td>4</td>\n",
       "      <td>cashew nut cookies</td>\n",
       "      <td>Dessert</td>\n",
       "      <td>veg</td>\n",
       "      <td>cashew paste, ghee, khaand (a sweetening agent...</td>\n",
       "      <td>cashew nut cookies Dessert veg: cashew paste, ...</td>\n",
       "      <td>four</td>\n",
       "    </tr>\n",
       "    <tr>\n",
       "      <th>4</th>\n",
       "      <td>4</td>\n",
       "      <td>2.0</td>\n",
       "      <td>49.0</td>\n",
       "      <td>1</td>\n",
       "      <td>christmas tree pizza</td>\n",
       "      <td>Italian</td>\n",
       "      <td>veg</td>\n",
       "      <td>pizza dough (2 boules), red pepper, red onion,...</td>\n",
       "      <td>christmas tree pizza Italian veg: pizza dough ...</td>\n",
       "      <td>one</td>\n",
       "    </tr>\n",
       "  </tbody>\n",
       "</table>\n",
       "</div>"
      ],
      "text/plain": [
       "   Unnamed: 0  User_ID  Food_ID  Rating                        Name    C_Type  \\\n",
       "0           0      1.0     88.0       4     peri peri chicken satay     Snack   \n",
       "1           1      1.0     46.0       3     steam bunny chicken bao  Japanese   \n",
       "2           2      1.0     24.0       5  green lentil dessert fudge   Dessert   \n",
       "3           3      1.0     25.0       4          cashew nut cookies   Dessert   \n",
       "4           4      2.0     49.0       1        christmas tree pizza   Italian   \n",
       "\n",
       "   Veg_Non                                           Describe  \\\n",
       "0  non-veg  boneless skinless chicken thigh (trimmed), sal...   \n",
       "1  non-veg  buns, all purpose white flour, dry yeast, suga...   \n",
       "2      veg  whole moong beans, cow ghee, raisins, whole mi...   \n",
       "3      veg  cashew paste, ghee, khaand (a sweetening agent...   \n",
       "4      veg  pizza dough (2 boules), red pepper, red onion,...   \n",
       "\n",
       "                                                text Rating_str  \n",
       "0  peri peri chicken satay Snack non-veg: boneles...       four  \n",
       "1  steam bunny chicken bao Japanese non-veg: buns...      three  \n",
       "2  green lentil dessert fudge Dessert veg: whole ...       five  \n",
       "3  cashew nut cookies Dessert veg: cashew paste, ...       four  \n",
       "4  christmas tree pizza Italian veg: pizza dough ...        one  "
      ]
     },
     "execution_count": 15,
     "metadata": {},
     "output_type": "execute_result"
    }
   ],
   "source": [
    "df.head()"
   ]
  },
  {
   "cell_type": "code",
   "execution_count": 16,
   "metadata": {},
   "outputs": [],
   "source": [
    "df['text'] = df.apply(lambda row: f\"{row['text']} rating: {row['Rating']} {row['Rating_str']}\", axis=1)"
   ]
  },
  {
   "cell_type": "code",
   "execution_count": 17,
   "metadata": {},
   "outputs": [
    {
     "data": {
      "text/html": [
       "<div>\n",
       "<style scoped>\n",
       "    .dataframe tbody tr th:only-of-type {\n",
       "        vertical-align: middle;\n",
       "    }\n",
       "\n",
       "    .dataframe tbody tr th {\n",
       "        vertical-align: top;\n",
       "    }\n",
       "\n",
       "    .dataframe thead th {\n",
       "        text-align: right;\n",
       "    }\n",
       "</style>\n",
       "<table border=\"1\" class=\"dataframe\">\n",
       "  <thead>\n",
       "    <tr style=\"text-align: right;\">\n",
       "      <th></th>\n",
       "      <th>Unnamed: 0</th>\n",
       "      <th>User_ID</th>\n",
       "      <th>Food_ID</th>\n",
       "      <th>Rating</th>\n",
       "      <th>Name</th>\n",
       "      <th>C_Type</th>\n",
       "      <th>Veg_Non</th>\n",
       "      <th>Describe</th>\n",
       "      <th>text</th>\n",
       "      <th>Rating_str</th>\n",
       "    </tr>\n",
       "  </thead>\n",
       "  <tbody>\n",
       "    <tr>\n",
       "      <th>0</th>\n",
       "      <td>0</td>\n",
       "      <td>1.0</td>\n",
       "      <td>88.0</td>\n",
       "      <td>4</td>\n",
       "      <td>peri peri chicken satay</td>\n",
       "      <td>Snack</td>\n",
       "      <td>non-veg</td>\n",
       "      <td>boneless skinless chicken thigh (trimmed), sal...</td>\n",
       "      <td>peri peri chicken satay Snack non-veg: boneles...</td>\n",
       "      <td>four</td>\n",
       "    </tr>\n",
       "    <tr>\n",
       "      <th>1</th>\n",
       "      <td>1</td>\n",
       "      <td>1.0</td>\n",
       "      <td>46.0</td>\n",
       "      <td>3</td>\n",
       "      <td>steam bunny chicken bao</td>\n",
       "      <td>Japanese</td>\n",
       "      <td>non-veg</td>\n",
       "      <td>buns, all purpose white flour, dry yeast, suga...</td>\n",
       "      <td>steam bunny chicken bao Japanese non-veg: buns...</td>\n",
       "      <td>three</td>\n",
       "    </tr>\n",
       "    <tr>\n",
       "      <th>2</th>\n",
       "      <td>2</td>\n",
       "      <td>1.0</td>\n",
       "      <td>24.0</td>\n",
       "      <td>5</td>\n",
       "      <td>green lentil dessert fudge</td>\n",
       "      <td>Dessert</td>\n",
       "      <td>veg</td>\n",
       "      <td>whole moong beans, cow ghee, raisins, whole mi...</td>\n",
       "      <td>green lentil dessert fudge Dessert veg: whole ...</td>\n",
       "      <td>five</td>\n",
       "    </tr>\n",
       "    <tr>\n",
       "      <th>3</th>\n",
       "      <td>3</td>\n",
       "      <td>1.0</td>\n",
       "      <td>25.0</td>\n",
       "      <td>4</td>\n",
       "      <td>cashew nut cookies</td>\n",
       "      <td>Dessert</td>\n",
       "      <td>veg</td>\n",
       "      <td>cashew paste, ghee, khaand (a sweetening agent...</td>\n",
       "      <td>cashew nut cookies Dessert veg: cashew paste, ...</td>\n",
       "      <td>four</td>\n",
       "    </tr>\n",
       "    <tr>\n",
       "      <th>4</th>\n",
       "      <td>4</td>\n",
       "      <td>2.0</td>\n",
       "      <td>49.0</td>\n",
       "      <td>1</td>\n",
       "      <td>christmas tree pizza</td>\n",
       "      <td>Italian</td>\n",
       "      <td>veg</td>\n",
       "      <td>pizza dough (2 boules), red pepper, red onion,...</td>\n",
       "      <td>christmas tree pizza Italian veg: pizza dough ...</td>\n",
       "      <td>one</td>\n",
       "    </tr>\n",
       "  </tbody>\n",
       "</table>\n",
       "</div>"
      ],
      "text/plain": [
       "   Unnamed: 0  User_ID  Food_ID  Rating                        Name    C_Type  \\\n",
       "0           0      1.0     88.0       4     peri peri chicken satay     Snack   \n",
       "1           1      1.0     46.0       3     steam bunny chicken bao  Japanese   \n",
       "2           2      1.0     24.0       5  green lentil dessert fudge   Dessert   \n",
       "3           3      1.0     25.0       4          cashew nut cookies   Dessert   \n",
       "4           4      2.0     49.0       1        christmas tree pizza   Italian   \n",
       "\n",
       "   Veg_Non                                           Describe  \\\n",
       "0  non-veg  boneless skinless chicken thigh (trimmed), sal...   \n",
       "1  non-veg  buns, all purpose white flour, dry yeast, suga...   \n",
       "2      veg  whole moong beans, cow ghee, raisins, whole mi...   \n",
       "3      veg  cashew paste, ghee, khaand (a sweetening agent...   \n",
       "4      veg  pizza dough (2 boules), red pepper, red onion,...   \n",
       "\n",
       "                                                text Rating_str  \n",
       "0  peri peri chicken satay Snack non-veg: boneles...       four  \n",
       "1  steam bunny chicken bao Japanese non-veg: buns...      three  \n",
       "2  green lentil dessert fudge Dessert veg: whole ...       five  \n",
       "3  cashew nut cookies Dessert veg: cashew paste, ...       four  \n",
       "4  christmas tree pizza Italian veg: pizza dough ...        one  "
      ]
     },
     "execution_count": 17,
     "metadata": {},
     "output_type": "execute_result"
    }
   ],
   "source": [
    "df.head()"
   ]
  },
  {
   "cell_type": "code",
   "execution_count": 19,
   "metadata": {},
   "outputs": [],
   "source": [
    "df = df.drop(['User_ID', 'Describe','Unnamed: 0','Rating_str'], axis=1)"
   ]
  },
  {
   "cell_type": "code",
   "execution_count": 24,
   "metadata": {},
   "outputs": [
    {
     "data": {
      "text/html": [
       "<div>\n",
       "<style scoped>\n",
       "    .dataframe tbody tr th:only-of-type {\n",
       "        vertical-align: middle;\n",
       "    }\n",
       "\n",
       "    .dataframe tbody tr th {\n",
       "        vertical-align: top;\n",
       "    }\n",
       "\n",
       "    .dataframe thead th {\n",
       "        text-align: right;\n",
       "    }\n",
       "</style>\n",
       "<table border=\"1\" class=\"dataframe\">\n",
       "  <thead>\n",
       "    <tr style=\"text-align: right;\">\n",
       "      <th></th>\n",
       "      <th>Food_ID</th>\n",
       "      <th>Rating</th>\n",
       "      <th>Name</th>\n",
       "      <th>C_Type</th>\n",
       "      <th>Veg_Non</th>\n",
       "      <th>text</th>\n",
       "    </tr>\n",
       "  </thead>\n",
       "  <tbody>\n",
       "    <tr>\n",
       "      <th>0</th>\n",
       "      <td>88.0</td>\n",
       "      <td>4</td>\n",
       "      <td>peri peri chicken satay</td>\n",
       "      <td>Snack</td>\n",
       "      <td>non-veg</td>\n",
       "      <td>peri peri chicken satay Snack non-veg: boneles...</td>\n",
       "    </tr>\n",
       "    <tr>\n",
       "      <th>1</th>\n",
       "      <td>46.0</td>\n",
       "      <td>3</td>\n",
       "      <td>steam bunny chicken bao</td>\n",
       "      <td>Japanese</td>\n",
       "      <td>non-veg</td>\n",
       "      <td>steam bunny chicken bao Japanese non-veg: buns...</td>\n",
       "    </tr>\n",
       "    <tr>\n",
       "      <th>2</th>\n",
       "      <td>24.0</td>\n",
       "      <td>5</td>\n",
       "      <td>green lentil dessert fudge</td>\n",
       "      <td>Dessert</td>\n",
       "      <td>veg</td>\n",
       "      <td>green lentil dessert fudge Dessert veg: whole ...</td>\n",
       "    </tr>\n",
       "    <tr>\n",
       "      <th>3</th>\n",
       "      <td>25.0</td>\n",
       "      <td>4</td>\n",
       "      <td>cashew nut cookies</td>\n",
       "      <td>Dessert</td>\n",
       "      <td>veg</td>\n",
       "      <td>cashew nut cookies Dessert veg: cashew paste, ...</td>\n",
       "    </tr>\n",
       "    <tr>\n",
       "      <th>4</th>\n",
       "      <td>49.0</td>\n",
       "      <td>1</td>\n",
       "      <td>christmas tree pizza</td>\n",
       "      <td>Italian</td>\n",
       "      <td>veg</td>\n",
       "      <td>christmas tree pizza Italian veg: pizza dough ...</td>\n",
       "    </tr>\n",
       "  </tbody>\n",
       "</table>\n",
       "</div>"
      ],
      "text/plain": [
       "   Food_ID  Rating                        Name    C_Type  Veg_Non  \\\n",
       "0     88.0       4     peri peri chicken satay     Snack  non-veg   \n",
       "1     46.0       3     steam bunny chicken bao  Japanese  non-veg   \n",
       "2     24.0       5  green lentil dessert fudge   Dessert      veg   \n",
       "3     25.0       4          cashew nut cookies   Dessert      veg   \n",
       "4     49.0       1        christmas tree pizza   Italian      veg   \n",
       "\n",
       "                                                text  \n",
       "0  peri peri chicken satay Snack non-veg: boneles...  \n",
       "1  steam bunny chicken bao Japanese non-veg: buns...  \n",
       "2  green lentil dessert fudge Dessert veg: whole ...  \n",
       "3  cashew nut cookies Dessert veg: cashew paste, ...  \n",
       "4  christmas tree pizza Italian veg: pizza dough ...  "
      ]
     },
     "execution_count": 24,
     "metadata": {},
     "output_type": "execute_result"
    }
   ],
   "source": [
    "df.head()"
   ]
  },
  {
   "cell_type": "code",
   "execution_count": 101,
   "metadata": {},
   "outputs": [
    {
     "data": {
      "text/plain": [
       "array(['Snack', 'Japanese', 'Dessert', 'Italian', 'Indian', 'Beverage',\n",
       "       'Healthy Food', 'Chinese', 'Mexican', 'Thai', 'French'],\n",
       "      dtype=object)"
      ]
     },
     "execution_count": 101,
     "metadata": {},
     "output_type": "execute_result"
    }
   ],
   "source": [
    "# diff types of food category\n",
    "df['C_Type'].unique()"
   ]
  },
  {
   "cell_type": "code",
   "execution_count": 96,
   "metadata": {},
   "outputs": [],
   "source": [
    "df.to_csv('final_food_rec_data.csv')"
   ]
  },
  {
   "cell_type": "code",
   "execution_count": 21,
   "metadata": {},
   "outputs": [],
   "source": [
    "# your openai api key for embedding model\n",
    "import os\n",
    "os.environ['OPENAI_API_KEY'] = 'sk-proj-'"
   ]
  },
  {
   "cell_type": "code",
   "execution_count": 25,
   "metadata": {},
   "outputs": [
    {
     "data": {
      "text/html": [
       "<div>\n",
       "<style scoped>\n",
       "    .dataframe tbody tr th:only-of-type {\n",
       "        vertical-align: middle;\n",
       "    }\n",
       "\n",
       "    .dataframe tbody tr th {\n",
       "        vertical-align: top;\n",
       "    }\n",
       "\n",
       "    .dataframe thead th {\n",
       "        text-align: right;\n",
       "    }\n",
       "</style>\n",
       "<table border=\"1\" class=\"dataframe\">\n",
       "  <thead>\n",
       "    <tr style=\"text-align: right;\">\n",
       "      <th></th>\n",
       "      <th>Food_ID</th>\n",
       "      <th>Name</th>\n",
       "      <th>Rating</th>\n",
       "      <th>C_Type</th>\n",
       "      <th>Veg_Non</th>\n",
       "      <th>vector</th>\n",
       "      <th>text</th>\n",
       "      <th>_relevance_score</th>\n",
       "    </tr>\n",
       "  </thead>\n",
       "  <tbody>\n",
       "    <tr>\n",
       "      <th>0</th>\n",
       "      <td>98</td>\n",
       "      <td>chicken potli</td>\n",
       "      <td>6</td>\n",
       "      <td>Chinese</td>\n",
       "      <td>non-veg</td>\n",
       "      <td>[-0.0150908325, -0.025236268, -0.006724534, 0....</td>\n",
       "      <td>chicken potli Chinese non-veg: chicken, onion,...</td>\n",
       "      <td>0.694098</td>\n",
       "    </tr>\n",
       "    <tr>\n",
       "      <th>1</th>\n",
       "      <td>132</td>\n",
       "      <td>coffee marinated mutton chops</td>\n",
       "      <td>6</td>\n",
       "      <td>Thai</td>\n",
       "      <td>non-veg</td>\n",
       "      <td>[-0.0150908325, -0.025236268, -0.006724534, 0....</td>\n",
       "      <td>coffee marinated mutton chops Thai non-veg: mu...</td>\n",
       "      <td>0.670877</td>\n",
       "    </tr>\n",
       "    <tr>\n",
       "      <th>2</th>\n",
       "      <td>136</td>\n",
       "      <td>malabari fish curry</td>\n",
       "      <td>6</td>\n",
       "      <td>Indian</td>\n",
       "      <td>non-veg</td>\n",
       "      <td>[-0.0150908325, -0.025236268, -0.006724534, 0....</td>\n",
       "      <td>malabari fish curry Indian non-veg: sear fish,...</td>\n",
       "      <td>0.670778</td>\n",
       "    </tr>\n",
       "    <tr>\n",
       "      <th>3</th>\n",
       "      <td>128</td>\n",
       "      <td>thai lamb balls</td>\n",
       "      <td>6</td>\n",
       "      <td>Thai</td>\n",
       "      <td>non-veg</td>\n",
       "      <td>[-0.015052188, -0.025198676, -0.0067218808, 0....</td>\n",
       "      <td>thai lamb balls Thai non-veg: lamb (minced), c...</td>\n",
       "      <td>0.668333</td>\n",
       "    </tr>\n",
       "  </tbody>\n",
       "</table>\n",
       "</div>"
      ],
      "text/plain": [
       "  Food_ID                           Name Rating   C_Type  Veg_Non  \\\n",
       "0      98                  chicken potli      6  Chinese  non-veg   \n",
       "1     132  coffee marinated mutton chops      6     Thai  non-veg   \n",
       "2     136            malabari fish curry      6   Indian  non-veg   \n",
       "3     128                thai lamb balls      6     Thai  non-veg   \n",
       "\n",
       "                                              vector  \\\n",
       "0  [-0.0150908325, -0.025236268, -0.006724534, 0....   \n",
       "1  [-0.0150908325, -0.025236268, -0.006724534, 0....   \n",
       "2  [-0.0150908325, -0.025236268, -0.006724534, 0....   \n",
       "3  [-0.015052188, -0.025198676, -0.0067218808, 0....   \n",
       "\n",
       "                                                text  _relevance_score  \n",
       "0  chicken potli Chinese non-veg: chicken, onion,...          0.694098  \n",
       "1  coffee marinated mutton chops Thai non-veg: mu...          0.670877  \n",
       "2  malabari fish curry Indian non-veg: sear fish,...          0.670778  \n",
       "3  thai lamb balls Thai non-veg: lamb (minced), c...          0.668333  "
      ]
     },
     "execution_count": 25,
     "metadata": {},
     "output_type": "execute_result"
    }
   ],
   "source": [
    "import lancedb\n",
    "from lancedb.embeddings import EmbeddingFunctionRegistry\n",
    "from lancedb.rerankers import LinearCombinationReranker\n",
    "import numpy\n",
    "import lancedb\n",
    "from lancedb.embeddings import get_registry\n",
    "from lancedb.pydantic import LanceModel, Vector\n",
    "from lancedb.rerankers import ColbertReranker\n",
    "from lancedb.rerankers import JinaReranker\n",
    "from lancedb.rerankers import CohereReranker\n",
    "\n",
    "\n",
    "db = lancedb.connect(\"/tmp/foods\")\n",
    "\n",
    "# HF sentence transformer embeddings\n",
    "registry = EmbeddingFunctionRegistry.get_instance()\n",
    "func = registry.get(\"sentence-transformers\").create(device=\"cpu\")\n",
    "\n",
    "# openai embeddings \n",
    "# func = get_registry().get(\"openai\").create(name=\"text-embedding-ada-002\")\n",
    "\n",
    "class Words(LanceModel):\n",
    "\n",
    "    text: str = func.SourceField()\n",
    "    Food_ID: str = func.SourceField()   # food id is food store name\n",
    "    Name: str = func.SourceField()\n",
    "    Rating : str = func.SourceField()\n",
    "    C_Type: str = func.SourceField()   #category type of food\n",
    "    Veg_Non:str = func.SourceField()\n",
    "    vector: Vector(func.ndims()) = func.VectorField()\n",
    "\n",
    "table = db.create_table(\"food_recommandations\", schema=Words, mode=\"overwrite\")\n",
    "table.add(data=df)\n",
    "\n",
    "#Full text search support\n",
    "table.create_fts_index(\"text\",replace=True)\n",
    "\n",
    "# check our guidance for othe for reranker  models https://lancedb.github.io/lancedb/reranking/ \n",
    "\n",
    "reranker = ColbertReranker()\n",
    "\n",
    "query  = ' 6 rating non-veg meal ' \n",
    "\n",
    "#lance_reranker_hybrid = table.search(query, query_type=\"hybrid\").rerank(reranker=reranker).limit(5).to_pandas()  \n",
    "lance_reranker_fts = table.search(query, query_type=\"fts\").rerank(reranker=reranker).limit(4).to_pandas() \n",
    "\n",
    "lance_reranker_fts"
   ]
  },
  {
   "cell_type": "code",
   "execution_count": 76,
   "metadata": {},
   "outputs": [
    {
     "name": "stdout",
     "output_type": "stream",
     "text": [
      "  Food_ID                      Name        C_Type Veg_Non Rating\n",
      "0     303                  red rice  Healthy Food     veg      6\n",
      "1      10  broccoli and almond soup  Healthy Food     veg      6\n",
      "2      10  broccoli and almond soup  Healthy Food     veg      6\n",
      "3      36     spicy watermelon soup  Healthy Food     veg      6\n"
     ]
    }
   ],
   "source": [
    "#recommendations\n",
    "def get_recommendations(query):\n",
    "    results = table.search(query, query_type=\"fts\").rerank(reranker=reranker).limit(4).to_pandas()\n",
    "    return results[['Food_ID', 'Name','C_Type', 'Veg_Non','Rating']]\n",
    "\n",
    "# Example usage\n",
    "query = 'give me rating 6 non-veg food '\n",
    "recommendations = get_recommendations(query)\n",
    "print(recommendations)"
   ]
  },
  {
   "cell_type": "code",
   "execution_count": 77,
   "metadata": {},
   "outputs": [
    {
     "name": "stdout",
     "output_type": "stream",
     "text": [
      "  Food_ID                                      Name        C_Type  Veg_Non  \\\n",
      "0     247                   microwave chicken steak  Healthy Food  non-veg   \n",
      "1      87  roasted spring chicken with root veggies  Healthy Food  non-veg   \n",
      "2      86         roast turkey with cranberry sauce  Healthy Food  non-veg   \n",
      "3      86         roast turkey with cranberry sauce  Healthy Food  non-veg   \n",
      "\n",
      "  Rating  \n",
      "0      5  \n",
      "1      8  \n",
      "2      4  \n",
      "3      4  \n"
     ]
    }
   ],
   "source": [
    "# Example usage\n",
    "query = 'Non veg food near me '\n",
    "recommendations = get_recommendations(query)\n",
    "print(recommendations)"
   ]
  },
  {
   "cell_type": "code",
   "execution_count": 79,
   "metadata": {},
   "outputs": [
    {
     "name": "stdout",
     "output_type": "stream",
     "text": [
      "  Food_ID                          Name    C_Type  Veg_Non Rating\n",
      "0      81             fruit infused tea  Beverage      veg      8\n",
      "1     232         apple and walnut cake   Dessert      veg      8\n",
      "2     292                 chicken tikka    Indian  non-veg      8\n",
      "3      69  banana and maple ice lollies   Dessert      veg      8\n"
     ]
    }
   ],
   "source": [
    "query = ' rating 8 '\n",
    "recommendations = get_recommendations(query)\n",
    "print(recommendations)"
   ]
  },
  {
   "cell_type": "code",
   "execution_count": 95,
   "metadata": {},
   "outputs": [
    {
     "name": "stdout",
     "output_type": "stream",
     "text": [
      "  Food_ID                                               Name   C_Type  \\\n",
      "0     185                red wine braised mushroom flatbread  Italian   \n",
      "1     142  fish skewers with coriander and red wine vineg...     Thai   \n",
      "2      85  garlic and pinenut soup with burnt butter essence   French   \n",
      "3      85  garlic and pinenut soup with burnt butter essence   French   \n",
      "\n",
      "   Veg_Non Rating  \n",
      "0      veg      7  \n",
      "1  non-veg      6  \n",
      "2      veg     10  \n",
      "3      veg      3  \n"
     ]
    }
   ],
   "source": [
    "\n",
    "query = 'red wine with chicken'\n",
    "recommendations = get_recommendations(query)\n",
    "print(recommendations)\n",
    "#here we have only one non veg with rating 9 so getting"
   ]
  },
  {
   "cell_type": "code",
   "execution_count": 99,
   "metadata": {},
   "outputs": [
    {
     "name": "stdout",
     "output_type": "stream",
     "text": [
      "  Food_ID                                               Name        C_Type  \\\n",
      "0     303                                           red rice  Healthy Food   \n",
      "1      10                           broccoli and almond soup  Healthy Food   \n",
      "2      36                              spicy watermelon soup  Healthy Food   \n",
      "3     221  amaranthus granola with lemon yogurt, berries ...  Healthy Food   \n",
      "\n",
      "  Veg_Non Rating  \n",
      "0     veg      6  \n",
      "1     veg      6  \n",
      "2     veg      6  \n",
      "3     veg      6  \n"
     ]
    }
   ],
   "source": [
    "\n",
    "query = 'veg food with rating 6'\n",
    "recommendations = get_recommendations(query)\n",
    "print(recommendations)\n",
    "#here we have only one non veg with rating 9 so getting"
   ]
  },
  {
   "cell_type": "code",
   "execution_count": 100,
   "metadata": {},
   "outputs": [
    {
     "name": "stdout",
     "output_type": "stream",
     "text": [
      "  Food_ID                     Name        C_Type Veg_Non Rating\n",
      "0     301               brown rice  Healthy Food     veg      1\n",
      "1     300               black rice  Healthy Food     veg      9\n",
      "2     270  jalapeno cheese fingers       Mexican     veg      3\n",
      "3     270  jalapeno cheese fingers       Mexican     veg      5\n"
     ]
    }
   ],
   "source": [
    "query = ' veg  food menu only'\n",
    "recommendations = get_recommendations(query)\n",
    "print(recommendations)"
   ]
  },
  {
   "cell_type": "code",
   "execution_count": 87,
   "metadata": {},
   "outputs": [
    {
     "name": "stdout",
     "output_type": "stream",
     "text": [
      "  Food_ID                            Name    C_Type  Veg_Non Rating\n",
      "0     100             spicy chicken curry    Indian  non-veg      3\n",
      "1     100             spicy chicken curry    Indian  non-veg      4\n",
      "2     100             spicy chicken curry    Indian  non-veg      1\n",
      "3      93  buldak (hot and spicy chicken)  Japanese  non-veg      7\n"
     ]
    }
   ],
   "source": [
    "# Example usage\n",
    "query = 'rice with chicken spicy  '\n",
    "recommendations = get_recommendations(query)\n",
    "print(recommendations)"
   ]
  },
  {
   "cell_type": "code",
   "execution_count": 84,
   "metadata": {},
   "outputs": [
    {
     "name": "stdout",
     "output_type": "stream",
     "text": [
      "  Food_ID           Name    C_Type Veg_Non Rating\n",
      "0      83  spiced coffee  Beverage     veg      9\n",
      "1      84  filter coffee  Beverage     veg     10\n",
      "2      84  filter coffee  Beverage     veg     10\n",
      "3      84  filter coffee  Beverage     veg      2\n"
     ]
    }
   ],
   "source": [
    "# Example usage\n",
    "query = 'coffee '\n",
    "recommendations = get_recommendations(query)\n",
    "print(recommendations)"
   ]
  },
  {
   "cell_type": "code",
   "execution_count": 86,
   "metadata": {},
   "outputs": [
    {
     "name": "stdout",
     "output_type": "stream",
     "text": [
      "  Food_ID                           Name        C_Type  Veg_Non Rating\n",
      "0     162              prawn potato soup          Thai      veg      9\n",
      "1      79  beetroot and green apple soup  Healthy Food      veg      1\n",
      "2     302                 koldil chicken       Chinese  non-veg      5\n",
      "3     298                     chicken 65       Chinese  non-veg      4\n"
     ]
    }
   ],
   "source": [
    "# Example usage\n",
    "query = 'soup chinese please'\n",
    "recommendations = get_recommendations(query)\n",
    "print(recommendations)"
   ]
  },
  {
   "cell_type": "markdown",
   "metadata": {},
   "source": [
    "\n",
    "---\n",
    "\n",
    "Due to limited data, there may be instances where mixed results are returned, especially with a recommendation limit set to 4. The key to achieving better results lies in how you prepare your text data and optimize various hyperparameters, such as query types (hybrid, FTS, vector search). Additionally, experiment with different reranker methods. For further improvements, refer to our vector recipe repository for enhancing RAG methods and consult the LanceDB documentation for more details.\n",
    "docs: https://lancedb.github.io/lancedb/search/\n",
    "more such genai projects:https://github.com/lancedb/vectordb-recipes\n",
    "\n",
    "---"
   ]
  },
  {
   "cell_type": "markdown",
   "metadata": {},
   "source": []
  }
 ],
 "metadata": {
  "kernelspec": {
   "display_name": "qdrant_music",
   "language": "python",
   "name": "python3"
  },
  "language_info": {
   "codemirror_mode": {
    "name": "ipython",
    "version": 3
   },
   "file_extension": ".py",
   "mimetype": "text/x-python",
   "name": "python",
   "nbconvert_exporter": "python",
   "pygments_lexer": "ipython3",
   "version": "3.10.0"
  }
 },
 "nbformat": 4,
 "nbformat_minor": 2
}

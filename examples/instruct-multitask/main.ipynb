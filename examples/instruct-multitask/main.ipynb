{
 "cells": [
  {
   "cell_type": "markdown",
   "id": "58b30d1f-28e7-4e27-b256-f7c7bbcfbf4b",
   "metadata": {},
   "source": [
    "## InstructOR - A multitask custom embedding model for task based applications, made easier with LanceDB\n",
    "![instruct](embeddings11.png)"
   ]
  },
  {
   "cell_type": "markdown",
   "id": "2506f81b-cf52-41f2-9f0d-6b20836b15b6",
   "metadata": {},
   "source": [
    "### Installing all dependencies"
   ]
  },
  {
   "cell_type": "code",
   "execution_count": 51,
   "id": "d8c13226-8a68-485a-86ba-6243eb1ed26e",
   "metadata": {},
   "outputs": [
    {
     "name": "stdout",
     "output_type": "stream",
     "text": [
      "Collecting git+https://github.com/lancedb/lancedb.git@main#subdirectory=python\n",
      "  Cloning https://github.com/lancedb/lancedb.git (to revision main) to c:\\users\\lenovo\\appdata\\local\\temp\\pip-req-build-yk610zm1\n",
      "  Resolved https://github.com/lancedb/lancedb.git to commit 479f471c145abc9818a85ceee32b7e364fd4abd2\n",
      "  Installing build dependencies: started\n",
      "  Installing build dependencies: finished with status 'done'\n",
      "  Getting requirements to build wheel: started\n",
      "  Getting requirements to build wheel: finished with status 'done'\n",
      "  Preparing metadata (pyproject.toml): started\n",
      "  Preparing metadata (pyproject.toml): finished with status 'done'\n",
      "Requirement already satisfied: deprecation in c:\\users\\lenovo\\documents\\instruct\\lenv\\lib\\site-packages (from lancedb==0.3.3) (2.1.0)\n",
      "Requirement already satisfied: pylance==0.8.10 in c:\\users\\lenovo\\documents\\instruct\\lenv\\lib\\site-packages (from lancedb==0.3.3) (0.8.10)\n",
      "Requirement already satisfied: ratelimiter~=1.0 in c:\\users\\lenovo\\documents\\instruct\\lenv\\lib\\site-packages (from lancedb==0.3.3) (1.2.0.post0)\n",
      "Requirement already satisfied: retry>=0.9.2 in c:\\users\\lenovo\\documents\\instruct\\lenv\\lib\\site-packages (from lancedb==0.3.3) (0.9.2)\n",
      "Requirement already satisfied: tqdm>=4.1.0 in c:\\users\\lenovo\\documents\\instruct\\lenv\\lib\\site-packages (from lancedb==0.3.3) (4.66.1)\n",
      "Requirement already satisfied: aiohttp in c:\\users\\lenovo\\documents\\instruct\\lenv\\lib\\site-packages (from lancedb==0.3.3) (3.8.6)\n",
      "Requirement already satisfied: pydantic>=1.10 in c:\\users\\lenovo\\documents\\instruct\\lenv\\lib\\site-packages (from lancedb==0.3.3) (2.4.2)\n",
      "Requirement already satisfied: attrs>=21.3.0 in c:\\users\\lenovo\\documents\\instruct\\lenv\\lib\\site-packages (from lancedb==0.3.3) (23.1.0)\n",
      "Requirement already satisfied: semver>=3.0 in c:\\users\\lenovo\\documents\\instruct\\lenv\\lib\\site-packages (from lancedb==0.3.3) (3.0.2)\n",
      "Requirement already satisfied: cachetools in c:\\users\\lenovo\\documents\\instruct\\lenv\\lib\\site-packages (from lancedb==0.3.3) (5.3.2)\n",
      "Requirement already satisfied: pyyaml>=6.0 in c:\\users\\lenovo\\documents\\instruct\\lenv\\lib\\site-packages (from lancedb==0.3.3) (6.0.1)\n",
      "Requirement already satisfied: click>=8.1.7 in c:\\users\\lenovo\\documents\\instruct\\lenv\\lib\\site-packages (from lancedb==0.3.3) (8.1.7)\n",
      "Requirement already satisfied: requests>=2.31.0 in c:\\users\\lenovo\\documents\\instruct\\lenv\\lib\\site-packages (from lancedb==0.3.3) (2.31.0)\n",
      "Requirement already satisfied: overrides>=0.7 in c:\\users\\lenovo\\documents\\instruct\\lenv\\lib\\site-packages (from lancedb==0.3.3) (7.4.0)\n",
      "Requirement already satisfied: pyarrow>=10 in c:\\users\\lenovo\\documents\\instruct\\lenv\\lib\\site-packages (from pylance==0.8.10->lancedb==0.3.3) (14.0.1)\n",
      "Requirement already satisfied: numpy>=1.22 in c:\\users\\lenovo\\documents\\instruct\\lenv\\lib\\site-packages (from pylance==0.8.10->lancedb==0.3.3) (1.26.1)\n",
      "Requirement already satisfied: colorama in c:\\users\\lenovo\\documents\\instruct\\lenv\\lib\\site-packages (from click>=8.1.7->lancedb==0.3.3) (0.4.6)\n",
      "Requirement already satisfied: annotated-types>=0.4.0 in c:\\users\\lenovo\\documents\\instruct\\lenv\\lib\\site-packages (from pydantic>=1.10->lancedb==0.3.3) (0.6.0)\n",
      "Requirement already satisfied: pydantic-core==2.10.1 in c:\\users\\lenovo\\documents\\instruct\\lenv\\lib\\site-packages (from pydantic>=1.10->lancedb==0.3.3) (2.10.1)\n",
      "Requirement already satisfied: typing-extensions>=4.6.1 in c:\\users\\lenovo\\documents\\instruct\\lenv\\lib\\site-packages (from pydantic>=1.10->lancedb==0.3.3) (4.8.0)\n",
      "Requirement already satisfied: charset-normalizer<4,>=2 in c:\\users\\lenovo\\documents\\instruct\\lenv\\lib\\site-packages (from requests>=2.31.0->lancedb==0.3.3) (3.3.2)\n",
      "Requirement already satisfied: idna<4,>=2.5 in c:\\users\\lenovo\\documents\\instruct\\lenv\\lib\\site-packages (from requests>=2.31.0->lancedb==0.3.3) (3.4)\n",
      "Requirement already satisfied: urllib3<3,>=1.21.1 in c:\\users\\lenovo\\documents\\instruct\\lenv\\lib\\site-packages (from requests>=2.31.0->lancedb==0.3.3) (2.0.7)\n",
      "Requirement already satisfied: certifi>=2017.4.17 in c:\\users\\lenovo\\documents\\instruct\\lenv\\lib\\site-packages (from requests>=2.31.0->lancedb==0.3.3) (2023.7.22)\n",
      "Requirement already satisfied: decorator>=3.4.2 in c:\\users\\lenovo\\documents\\instruct\\lenv\\lib\\site-packages (from retry>=0.9.2->lancedb==0.3.3) (5.1.1)\n",
      "Requirement already satisfied: py<2.0.0,>=1.4.26 in c:\\users\\lenovo\\documents\\instruct\\lenv\\lib\\site-packages (from retry>=0.9.2->lancedb==0.3.3) (1.11.0)\n",
      "Requirement already satisfied: multidict<7.0,>=4.5 in c:\\users\\lenovo\\documents\\instruct\\lenv\\lib\\site-packages (from aiohttp->lancedb==0.3.3) (6.0.4)\n",
      "Requirement already satisfied: async-timeout<5.0,>=4.0.0a3 in c:\\users\\lenovo\\documents\\instruct\\lenv\\lib\\site-packages (from aiohttp->lancedb==0.3.3) (4.0.3)\n",
      "Requirement already satisfied: yarl<2.0,>=1.0 in c:\\users\\lenovo\\documents\\instruct\\lenv\\lib\\site-packages (from aiohttp->lancedb==0.3.3) (1.9.2)\n",
      "Requirement already satisfied: frozenlist>=1.1.1 in c:\\users\\lenovo\\documents\\instruct\\lenv\\lib\\site-packages (from aiohttp->lancedb==0.3.3) (1.4.0)\n",
      "Requirement already satisfied: aiosignal>=1.1.2 in c:\\users\\lenovo\\documents\\instruct\\lenv\\lib\\site-packages (from aiohttp->lancedb==0.3.3) (1.3.1)\n",
      "Requirement already satisfied: packaging in c:\\users\\lenovo\\documents\\instruct\\lenv\\lib\\site-packages (from deprecation->lancedb==0.3.3) (23.2)\n"
     ]
    },
    {
     "name": "stderr",
     "output_type": "stream",
     "text": [
      "  Running command git clone --filter=blob:none --quiet https://github.com/lancedb/lancedb.git 'C:\\Users\\Lenovo\\AppData\\Local\\Temp\\pip-req-build-yk610zm1'\n"
     ]
    }
   ],
   "source": [
    "!pip install git+https://github.com/lancedb/lancedb.git@main#subdirectory=python"
   ]
  },
  {
   "cell_type": "code",
   "execution_count": 5,
   "id": "9bb0ec2f-9953-427b-b358-c9af1a78a61e",
   "metadata": {},
   "outputs": [
    {
     "name": "stdout",
     "output_type": "stream",
     "text": [
      "Requirement already satisfied: InstructorEmbedding in c:\\users\\lenovo\\documents\\instruct\\lenv\\lib\\site-packages (1.0.1)\n"
     ]
    }
   ],
   "source": [
    "!pip install InstructorEmbedding sentence-transformers torch pandas"
   ]
  },
  {
   "cell_type": "markdown",
   "id": "b4ce6fbd-75fb-4663-b68f-716295ae3720",
   "metadata": {},
   "source": [
    "If you want to calculate customized embeddings for specific sentences, you may follow the unified template to write instructions:\n",
    "\n",
    "\"Represent the [**domain**] [**text_type**] for [**task_objective**]:\"\n",
    "\n",
    "Here are some examples:\n",
    "\n",
    "- \"Represent the **Science** **sentence**:\"\n",
    "- \"Represent the **Financial** **statement**:\"\n",
    "- \"Represent the **Wikipedia** **document** for **retrieval**:\"\n",
    "- \"Represent the **Wikipedia** **question** for **retrieving supporting documents**:\""
   ]
  },
  {
   "cell_type": "markdown",
   "id": "7be2cd8c-710f-4eca-b93e-2b5f5876198a",
   "metadata": {},
   "source": [
    "### Importing neccessary functionalities"
   ]
  },
  {
   "cell_type": "code",
   "execution_count": 1,
   "id": "63f36f93-cf85-4548-a66c-5e4c8b8f9401",
   "metadata": {},
   "outputs": [],
   "source": [
    "import lancedb\n",
    "from lancedb.pydantic import LanceModel, Vector\n",
    "from lancedb.embeddings import get_registry\n",
    "from lancedb.embeddings import InstructorEmbeddingFunction"
   ]
  },
  {
   "cell_type": "markdown",
   "id": "c3258997-580c-4231-b578-65db806425ef",
   "metadata": {},
   "source": [
    "### Calling the embedding model from LanceDB embedding's API"
   ]
  },
  {
   "cell_type": "code",
   "execution_count": 2,
   "id": "9aaa6835-fa7c-4197-b86b-e25efd7a7eb3",
   "metadata": {},
   "outputs": [
    {
     "name": "stderr",
     "output_type": "stream",
     "text": [
      "C:\\Users\\Lenovo\\Documents\\instruct\\lenv\\Lib\\site-packages\\InstructorEmbedding\\instructor.py:7: TqdmExperimentalWarning: Using `tqdm.autonotebook.tqdm` in notebook mode. Use `tqdm.tqdm` instead to force console mode (e.g. in jupyter console)\n",
      "  from tqdm.autonotebook import trange\n"
     ]
    },
    {
     "name": "stdout",
     "output_type": "stream",
     "text": [
      "load INSTRUCTOR_Transformer\n",
      "max_seq_length  512\n"
     ]
    }
   ],
   "source": [
    "instructor = get_registry().get(\"instructor\").create(\n",
    "                            source_instruction=\"represent the document for retreival\",\n",
    "                            query_instruction=\"represent the document for most similar definition\"\n",
    "                            )\n",
    "\n",
    "class Schema(LanceModel):\n",
    "    vector: Vector(instructor.ndims()) = instructor.VectorField()\n",
    "    text: str = instructor.SourceField()\n",
    "\n",
    "# Creating LanceDB table\n",
    "db = lancedb.connect(\"~/.lancedb\")\n",
    "tbl = db.create_table(\"intruct-multitask\", schema=Schema, mode=\"overwrite\")"
   ]
  },
  {
   "cell_type": "markdown",
   "id": "c6912dbd-66b6-4a8f-a1aa-78c78536dec0",
   "metadata": {},
   "source": [
    "### Adding Data to the Table"
   ]
  },
  {
   "cell_type": "code",
   "execution_count": 3,
   "id": "a4959ee0-2e84-470d-aa95-cec459e2bb1b",
   "metadata": {},
   "outputs": [
    {
     "data": {
      "application/vnd.jupyter.widget-view+json": {
       "model_id": "2ae3887b9f014646b1e0d4619fcea217",
       "version_major": 2,
       "version_minor": 0
      },
      "text/plain": [
       "Batches:   0%|          | 0/1 [00:00<?, ?it/s]"
      ]
     },
     "metadata": {},
     "output_type": "display_data"
    }
   ],
   "source": [
    "data_f1= [\n",
    "    {\"text\": \"Aspirin is a widely-used over-the-counter medication known for its anti-inflammatory and analgesic properties. It is commonly used to relieve pain, reduce fever, and alleviate minor aches and pains.\"},\n",
    "    {\"text\": \"Amoxicillin is an antibiotic medication commonly prescribed to treat various bacterial infections, such as respiratory, ear, throat, and urinary tract infections. It belongs to the penicillin class of antibiotics and works by inhibiting bacterial cell wall synthesis.\"},\n",
    "    {\"text\": \"Atorvastatin is a lipid-lowering medication used to manage high cholesterol levels and reduce the risk of cardiovascular events. It belongs to the statin class of drugs and works by inhibiting an enzyme involved in cholesterol production in the liver.\"},\n",
    "    {\"text\": \"The Theory of Relativity is a fundamental physics theory developed by Albert Einstein, consisting of the special theory of relativity and the general theory of relativity. It revolutionized our understanding of space, time, and gravity.\"},\n",
    "    {\"text\": \"Photosynthesis is a vital biological process by which green plants, algae, and some bacteria convert light energy into chemical energy in the form of glucose, using carbon dioxide and water.\"},\n",
    "    {\"text\": \"The Big Bang Theory is the prevailing cosmological model that describes the origin of the universe. It suggests that the universe began as a singularity and has been expanding for billions of years.\"},\n",
    "    {\"text\": \"Compound Interest is the addition of interest to the principal sum of a loan or investment, resulting in the interest on interest effect over time.\"},\n",
    "    {\"text\": \"Stock Market is a financial marketplace where buyers and sellers trade ownership in companies, typically in the form of stocks or shares.\"},\n",
    "    {\"text\": \"Inflation is the rate at which the general level of prices for goods and services is rising and subsequently purchasing power is falling.\"},\n",
    "    {\"text\": \"Diversification is an investment strategy that involves spreading your investments across different asset classes to reduce risk.\"},\n",
    "    {\"text\": \"Liquidity refers to how easily an asset can be converted into cash without a significant loss of value. It's a key consideration in financial management.\"},\n",
    "    {\"text\": \"401(k) is a retirement savings plan offered by employers, allowing employees to save and invest a portion of their paycheck before taxes.\"},\n",
    "    {\"text\": \"Ballet is a classical dance form that originated in the Italian Renaissance courts of the 15th century and later developed into a highly technical art.\"},\n",
    "    {\"text\": \"Rock and Roll is a genre of popular music that originated and evolved in the United States during the late 1940s and early 1950s, characterized by a strong rhythm and amplified instruments.\"},\n",
    "    {\"text\": \"Cuisine is a style or method of cooking, especially as characteristic of a particular country, region, or establishment.\"},\n",
    "    {\"text\": \"Renaissance was a cultural, artistic, and intellectual movement that\"},\n",
    "    {\"text\": \"Neutrino is subatomic particles with very little mass and no electric charge. They are produced in various nuclear reactions, including those in the Sun, and play a significant role in astrophysics and particle physics.\"},\n",
    "    {\"text\": \"Higgs Boson is a subatomic particle that gives mass to other elementary particles. Its discovery was a significant achievement in particle physics.\"},\n",
    "    {\"text\": \"Quantum Entanglement is a quantum physics phenomenon where two or more particles become connected in such a way that the state of one particle is dependent on the state of the other(s), even when they are separated by large distances.\"},\n",
    "    {\"text\": \"Genome Sequencing is the process of determining the complete DNA sequence of an organism's genome. It has numerous applications in genetics, biology, and medicine.\"},\n",
    "]\n",
    "\n",
    "tbl.add(data_f1)"
   ]
  },
  {
   "cell_type": "markdown",
   "id": "81a5eca6-cdb3-46e6-b2d4-5d9a55b65783",
   "metadata": {},
   "source": [
    "## First use case - Semantic Search with LanceDB"
   ]
  },
  {
   "cell_type": "code",
   "execution_count": 4,
   "id": "6111c40b-588f-401d-af8a-1c729e51d0b8",
   "metadata": {},
   "outputs": [
    {
     "data": {
      "application/vnd.jupyter.widget-view+json": {
       "model_id": "552ad38ba9a149bf8082944ad831091d",
       "version_major": 2,
       "version_minor": 0
      },
      "text/plain": [
       "Batches:   0%|          | 0/1 [00:00<?, ?it/s]"
      ]
     },
     "metadata": {},
     "output_type": "display_data"
    }
   ],
   "source": [
    "#LanceDB supports full text search, so there is no need of embedding the Query\n",
    "query = \"amoxicillin\"\n",
    "result = tbl.search(query).limit(1).to_pandas()"
   ]
  },
  {
   "cell_type": "code",
   "execution_count": 5,
   "id": "72fedb02-c63a-4d25-86bc-1c3c4f7ca8e9",
   "metadata": {},
   "outputs": [
    {
     "name": "stdout",
     "output_type": "stream",
     "text": [
      "                                              vector  \\\n",
      "0  [-0.024510665, 0.0005563133, 0.0288403, 0.0807...   \n",
      "\n",
      "                                                text  _distance  \n",
      "0  Amoxicillin is an antibiotic medication common...   0.163671  \n"
     ]
    }
   ],
   "source": [
    "#printing the output\n",
    "print(result)"
   ]
  },
  {
   "cell_type": "markdown",
   "id": "98ea9ebd-5301-43c2-8149-9506f10bfd3b",
   "metadata": {},
   "source": [
    "## Same Input Data with Different Instruction Pair"
   ]
  },
  {
   "cell_type": "code",
   "execution_count": 6,
   "id": "54481449-cc7b-4b62-ae40-9bd5e91eb0af",
   "metadata": {},
   "outputs": [
    {
     "name": "stdout",
     "output_type": "stream",
     "text": [
      "load INSTRUCTOR_Transformer\n",
      "max_seq_length  512\n"
     ]
    }
   ],
   "source": [
    "instructor = get_registry().get(\"instructor\").create(\n",
    "                            source_instruction=\"represent the captions\",\n",
    "                            query_instruction=\"represent the captions for retrieving duplicate captions\"\n",
    "                            )\n",
    "\n",
    "class Schema(LanceModel):\n",
    "    vector: Vector(instructor.ndims()) = instructor.VectorField()\n",
    "    text: str = instructor.SourceField()\n",
    "\n",
    "db = lancedb.connect(\"~/.lancedb\")\n",
    "tbl = db.create_table(\"intruct-multitask\", schema=Schema, mode=\"overwrite\")"
   ]
  },
  {
   "cell_type": "code",
   "execution_count": 7,
   "id": "e1c5fdab-5a0b-47ce-826e-2fb899570431",
   "metadata": {},
   "outputs": [
    {
     "data": {
      "application/vnd.jupyter.widget-view+json": {
       "model_id": "19421fc5c5e641dd821268d7af6369f4",
       "version_major": 2,
       "version_minor": 0
      },
      "text/plain": [
       "Batches:   0%|          | 0/1 [00:00<?, ?it/s]"
      ]
     },
     "metadata": {},
     "output_type": "display_data"
    }
   ],
   "source": [
    "data_f2 = [\n",
    "    {\"text\": \"Aspirin is a widely-used over-the-counter medication known for its anti-inflammatory and analgesic properties. It is commonly used to relieve pain, reduce fever, and alleviate minor aches and pains.\"},\n",
    "    {\"text\": \"Amoxicillin is an antibiotic medication commonly prescribed to treat various bacterial infections, such as respiratory, ear, throat, and urinary tract infections. It belongs to the penicillin class of antibiotics and works by inhibiting bacterial cell wall synthesis.\"},\n",
    "    {\"text\": \"Atorvastatin is a lipid-lowering medication used to manage high cholesterol levels and reduce the risk of cardiovascular events. It belongs to the statin class of drugs and works by inhibiting an enzyme involved in cholesterol production in the liver.\"},\n",
    "    {\"text\": \"The Theory of Relativity is a fundamental physics theory developed by Albert Einstein, consisting of the special theory of relativity and the general theory of relativity. It revolutionized our understanding of space, time, and gravity.\"},\n",
    "    {\"text\": \"Photosynthesis is a vital biological process by which green plants, algae, and some bacteria convert light energy into chemical energy in the form of glucose, using carbon dioxide and water.\"},\n",
    "    {\"text\": \"The Big Bang Theory is the prevailing cosmological model that describes the origin of the universe. It suggests that the universe began as a singularity and has been expanding for billions of years.\"},\n",
    "    {\"text\": \"Compound Interest is the addition of interest to the principal sum of a loan or investment, resulting in the interest on interest effect over time.\"},\n",
    "    {\"text\": \"Stock Market is a financial marketplace where buyers and sellers trade ownership in companies, typically in the form of stocks or shares.\"},\n",
    "    {\"text\": \"Inflation is the rate at which the general level of prices for goods and services is rising and subsequently purchasing power is falling.\"},\n",
    "    {\"text\": \"Diversification is an investment strategy that involves spreading your investments across different asset classes to reduce risk.\"},\n",
    "    {\"text\": \"Liquidity refers to how easily an asset can be converted into cash without a significant loss of value. It's a key consideration in financial management.\"},\n",
    "    {\"text\": \"401(k) is a retirement savings plan offered by employers, allowing employees to save and invest a portion of their paycheck before taxes.\"},\n",
    "    {\"text\": \"Ballet is a classical dance form that originated in the Italian Renaissance courts of the 15th century and later developed into a highly technical art.\"},\n",
    "    {\"text\": \"Rock and Roll is a genre of popular music that originated and evolved in the United States during the late 1940s and early 1950s, characterized by a strong rhythm and amplified instruments.\"},\n",
    "    {\"text\": \"Cuisine is a style or method of cooking, especially as characteristic of a particular country, region, or establishment.\"},\n",
    "    {\"text\": \"Renaissance was a cultural, artistic, and intellectual movement that\"},\n",
    "    {\"text\": \"Neutrino is subatomic particles with very little mass and no electric charge. They are produced in various nuclear reactions, including those in the Sun, and play a significant role in astrophysics and particle physics.\"},\n",
    "    {\"text\": \"Higgs Boson is a subatomic particle that gives mass to other elementary particles. Its discovery was a significant achievement in particle physics.\"},\n",
    "    {\"text\": \"Quantum Entanglement is a quantum physics phenomenon where two or more particles become connected in such a way that the state of one particle is dependent on the state of the other(s), even when they are separated by large distances.\"},\n",
    "    {\"text\": \"Genome Sequencing is the process of determining the complete DNA sequence of an organism's genome. It has numerous applications in genetics, biology, and medicine.\"},\n",
    "]\n",
    "\n",
    "tbl.add(data_f2)"
   ]
  },
  {
   "cell_type": "code",
   "execution_count": 8,
   "id": "b6bcee5e-192f-4eeb-9ad0-c4c6e60f936d",
   "metadata": {},
   "outputs": [
    {
     "data": {
      "application/vnd.jupyter.widget-view+json": {
       "model_id": "2b6e510344d543b38fddf4c6f424e38d",
       "version_major": 2,
       "version_minor": 0
      },
      "text/plain": [
       "Batches:   0%|          | 0/1 [00:00<?, ?it/s]"
      ]
     },
     "metadata": {},
     "output_type": "display_data"
    }
   ],
   "source": [
    "#same query, but for the differently embed data\n",
    "query = \"amoxicillin\"\n",
    "result = tbl.search(query).limit(1).to_pandas()"
   ]
  },
  {
   "cell_type": "code",
   "execution_count": 9,
   "id": "895ddc86-ecec-4403-acc8-0b51cb04178c",
   "metadata": {},
   "outputs": [
    {
     "name": "stdout",
     "output_type": "stream",
     "text": [
      "                                              vector  \\\n",
      "0  [-0.024483299, 0.000932854, 0.033273745, 0.077...   \n",
      "\n",
      "                                                text  _distance  \n",
      "0  Amoxicillin is an antibiotic medication common...    0.18135  \n"
     ]
    }
   ],
   "source": [
    "#showing the result\n",
    "print(result)"
   ]
  },
  {
   "cell_type": "markdown",
   "id": "5ac26b83-a13f-4fc7-baaf-ff6817baab3d",
   "metadata": {},
   "source": [
    "### We can see that the **_distance** value for different instructions are different, this clearly indicates that the instructions have some effect on the embedding"
   ]
  },
  {
   "cell_type": "markdown",
   "id": "ae29780a-7bc7-4baf-94e3-561835e18b8f",
   "metadata": {},
   "source": [
    "## Second use case - Question Answering with Pinecone"
   ]
  },
  {
   "cell_type": "markdown",
   "id": "a08ec791-bd1f-47d9-96f7-70bdbaf24769",
   "metadata": {},
   "source": [
    "### Calling embedding model with different instruction pair"
   ]
  },
  {
   "cell_type": "code",
   "execution_count": 10,
   "id": "14a33b32-1adb-4b94-a460-3d6ba1f566af",
   "metadata": {},
   "outputs": [
    {
     "name": "stdout",
     "output_type": "stream",
     "text": [
      "load INSTRUCTOR_Transformer\n",
      "max_seq_length  512\n"
     ]
    }
   ],
   "source": [
    "instructor = get_registry().get(\"instructor\").create(\n",
    "                            source_instruction=\"represent the docuement for retreival\",\n",
    "                            query_instruction=\"represent the query for retrieval\"\n",
    "                            )\n",
    "\n",
    "class Schema(LanceModel):\n",
    "    vector: Vector(instructor.ndims()) = instructor.VectorField()\n",
    "    text: str = instructor.SourceField()\n",
    "\n",
    "db = lancedb.connect(\"~/.lancedb-qa\")\n",
    "tbl = db.create_table(\"intruct-multitask-qa\", schema=Schema, mode=\"overwrite\")"
   ]
  },
  {
   "cell_type": "code",
   "execution_count": 11,
   "id": "72ff5950-1c17-4890-9faf-ea15d2ccb585",
   "metadata": {},
   "outputs": [
    {
     "data": {
      "application/vnd.jupyter.widget-view+json": {
       "model_id": "618509aef04548c3bca6bdf6c64106ae",
       "version_major": 2,
       "version_minor": 0
      },
      "text/plain": [
       "Batches:   0%|          | 0/1 [00:00<?, ?it/s]"
      ]
     },
     "metadata": {},
     "output_type": "display_data"
    }
   ],
   "source": [
    "data_qa = [ { \"text\": \"A canvas painting is artwork created on a canvas surface using various painting techniques and mediums like oil, acrylic, or watercolor. It is popular in traditional and contemporary art, displayed in galleries, museums, and homes.\"},\n",
    "    { \"text\": \"A cinema, also known as a movie theater or movie house, is a venue where films are shown to an audience for entertainment. It typically consists of a large screen, seating arrangements, and audio-visual equipment to project and play movies.\"},\n",
    "    { \"text\": \"A pocket watch is a small, portable timekeeping device with a clock face and hands, designed to be carried in a pocket or attached to a chain. It is typically made of materials such as metal, gold, or silver and was popular during the 18th and 19th centuries.\"},\n",
    "    { \"text\": \"A laptop is a compact and portable computer with a keyboard and screen, ideal for various tasks on the go. It offers versatility for browsing, word processing, multimedia, gaming, and professional work.\"}\n",
    "]\n",
    "\n",
    "tbl.add(data_qa)"
   ]
  },
  {
   "cell_type": "code",
   "execution_count": 12,
   "id": "e330fd10-c7a2-4fa5-99f9-ca616858f206",
   "metadata": {},
   "outputs": [
    {
     "data": {
      "application/vnd.jupyter.widget-view+json": {
       "model_id": "768b2591b8e74e49a559d35b41585970",
       "version_major": 2,
       "version_minor": 0
      },
      "text/plain": [
       "Batches:   0%|          | 0/1 [00:00<?, ?it/s]"
      ]
     },
     "metadata": {},
     "output_type": "display_data"
    }
   ],
   "source": [
    "query = \"what is a cinema\"\n",
    "result = tbl.search(query).limit(1).to_pandas()"
   ]
  },
  {
   "cell_type": "code",
   "execution_count": 13,
   "id": "cbc5340a-41a6-4958-a037-e60f249f7012",
   "metadata": {},
   "outputs": [
    {
     "name": "stdout",
     "output_type": "stream",
     "text": [
      "                                              vector  \\\n",
      "0  [0.021844529, 0.0017777127, 0.022723941, 0.049...   \n",
      "\n",
      "                                                text  _distance  \n",
      "0  A cinema, also known as a movie theater or mov...   0.131036  \n"
     ]
    }
   ],
   "source": [
    "print(result)"
   ]
  },
  {
   "cell_type": "markdown",
   "id": "11fa2672-8b9b-4a32-a3a6-a5074c2f9a94",
   "metadata": {},
   "source": [
    "Thanks, for more such examples, please visit [LanceDB](https://github.com/lancedb/vectordb-recipes/tree/main)"
   ]
  }
 ],
 "metadata": {
  "kernelspec": {
   "display_name": "Python 3 (ipykernel)",
   "language": "python",
   "name": "python3"
  },
  "language_info": {
   "codemirror_mode": {
    "name": "ipython",
    "version": 3
   },
   "file_extension": ".py",
   "mimetype": "text/x-python",
   "name": "python",
   "nbconvert_exporter": "python",
   "pygments_lexer": "ipython3",
   "version": "3.11.5"
  }
 },
 "nbformat": 4,
 "nbformat_minor": 5
}

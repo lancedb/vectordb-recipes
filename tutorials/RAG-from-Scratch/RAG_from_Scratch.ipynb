{
 "nbformat": 4,
 "nbformat_minor": 0,
 "metadata": {
  "colab": {
   "provenance": []
  },
  "kernelspec": {
   "name": "python3",
   "display_name": "Python 3"
  },
  "language_info": {
   "name": "python"
  },
  "widgets": {
   "application/vnd.jupyter.widget-state+json": {
    "e4c6e5d0090e436cb885385e8e68f357": {
     "model_module": "@jupyter-widgets/controls",
     "model_name": "HBoxModel",
     "model_module_version": "1.5.0",
     "state": {
      "_dom_classes": [],
      "_model_module": "@jupyter-widgets/controls",
      "_model_module_version": "1.5.0",
      "_model_name": "HBoxModel",
      "_view_count": null,
      "_view_module": "@jupyter-widgets/controls",
      "_view_module_version": "1.5.0",
      "_view_name": "HBoxView",
      "box_style": "",
      "children": [
       "IPY_MODEL_35d8e64a2e674ed3959626670ff09853",
       "IPY_MODEL_dc4a003d97de4b37a141257473a3b59a",
       "IPY_MODEL_0d02407716aa4837860a2ff0ad882ac1"
      ],
      "layout": "IPY_MODEL_68a3d158238e4896a7943fccd549dbd5"
     }
    },
    "35d8e64a2e674ed3959626670ff09853": {
     "model_module": "@jupyter-widgets/controls",
     "model_name": "HTMLModel",
     "model_module_version": "1.5.0",
     "state": {
      "_dom_classes": [],
      "_model_module": "@jupyter-widgets/controls",
      "_model_module_version": "1.5.0",
      "_model_name": "HTMLModel",
      "_view_count": null,
      "_view_module": "@jupyter-widgets/controls",
      "_view_module_version": "1.5.0",
      "_view_name": "HTMLView",
      "description": "",
      "description_tooltip": null,
      "layout": "IPY_MODEL_4ca5db02add34e33ad9b3ba0e87a9d26",
      "placeholder": "​",
      "style": "IPY_MODEL_ee33d0cd81234d94847d2b8c6535ee39",
      "value": "tokenizer_config.json: 100%"
     }
    },
    "dc4a003d97de4b37a141257473a3b59a": {
     "model_module": "@jupyter-widgets/controls",
     "model_name": "FloatProgressModel",
     "model_module_version": "1.5.0",
     "state": {
      "_dom_classes": [],
      "_model_module": "@jupyter-widgets/controls",
      "_model_module_version": "1.5.0",
      "_model_name": "FloatProgressModel",
      "_view_count": null,
      "_view_module": "@jupyter-widgets/controls",
      "_view_module_version": "1.5.0",
      "_view_name": "ProgressView",
      "bar_style": "success",
      "description": "",
      "description_tooltip": null,
      "layout": "IPY_MODEL_9e91359e22d7489c8f1701ba6dbb7787",
      "max": 48,
      "min": 0,
      "orientation": "horizontal",
      "style": "IPY_MODEL_3c9f94e4b37f4147948be5b0eb5242db",
      "value": 48
     }
    },
    "0d02407716aa4837860a2ff0ad882ac1": {
     "model_module": "@jupyter-widgets/controls",
     "model_name": "HTMLModel",
     "model_module_version": "1.5.0",
     "state": {
      "_dom_classes": [],
      "_model_module": "@jupyter-widgets/controls",
      "_model_module_version": "1.5.0",
      "_model_name": "HTMLModel",
      "_view_count": null,
      "_view_module": "@jupyter-widgets/controls",
      "_view_module_version": "1.5.0",
      "_view_name": "HTMLView",
      "description": "",
      "description_tooltip": null,
      "layout": "IPY_MODEL_eb22c54b877f4c33b96c403f0e596518",
      "placeholder": "​",
      "style": "IPY_MODEL_0aab614b9920447bbd7d67de4f3485e7",
      "value": " 48.0/48.0 [00:00&lt;00:00, 2.72kB/s]"
     }
    },
    "68a3d158238e4896a7943fccd549dbd5": {
     "model_module": "@jupyter-widgets/base",
     "model_name": "LayoutModel",
     "model_module_version": "1.2.0",
     "state": {
      "_model_module": "@jupyter-widgets/base",
      "_model_module_version": "1.2.0",
      "_model_name": "LayoutModel",
      "_view_count": null,
      "_view_module": "@jupyter-widgets/base",
      "_view_module_version": "1.2.0",
      "_view_name": "LayoutView",
      "align_content": null,
      "align_items": null,
      "align_self": null,
      "border": null,
      "bottom": null,
      "display": null,
      "flex": null,
      "flex_flow": null,
      "grid_area": null,
      "grid_auto_columns": null,
      "grid_auto_flow": null,
      "grid_auto_rows": null,
      "grid_column": null,
      "grid_gap": null,
      "grid_row": null,
      "grid_template_areas": null,
      "grid_template_columns": null,
      "grid_template_rows": null,
      "height": null,
      "justify_content": null,
      "justify_items": null,
      "left": null,
      "margin": null,
      "max_height": null,
      "max_width": null,
      "min_height": null,
      "min_width": null,
      "object_fit": null,
      "object_position": null,
      "order": null,
      "overflow": null,
      "overflow_x": null,
      "overflow_y": null,
      "padding": null,
      "right": null,
      "top": null,
      "visibility": null,
      "width": null
     }
    },
    "4ca5db02add34e33ad9b3ba0e87a9d26": {
     "model_module": "@jupyter-widgets/base",
     "model_name": "LayoutModel",
     "model_module_version": "1.2.0",
     "state": {
      "_model_module": "@jupyter-widgets/base",
      "_model_module_version": "1.2.0",
      "_model_name": "LayoutModel",
      "_view_count": null,
      "_view_module": "@jupyter-widgets/base",
      "_view_module_version": "1.2.0",
      "_view_name": "LayoutView",
      "align_content": null,
      "align_items": null,
      "align_self": null,
      "border": null,
      "bottom": null,
      "display": null,
      "flex": null,
      "flex_flow": null,
      "grid_area": null,
      "grid_auto_columns": null,
      "grid_auto_flow": null,
      "grid_auto_rows": null,
      "grid_column": null,
      "grid_gap": null,
      "grid_row": null,
      "grid_template_areas": null,
      "grid_template_columns": null,
      "grid_template_rows": null,
      "height": null,
      "justify_content": null,
      "justify_items": null,
      "left": null,
      "margin": null,
      "max_height": null,
      "max_width": null,
      "min_height": null,
      "min_width": null,
      "object_fit": null,
      "object_position": null,
      "order": null,
      "overflow": null,
      "overflow_x": null,
      "overflow_y": null,
      "padding": null,
      "right": null,
      "top": null,
      "visibility": null,
      "width": null
     }
    },
    "ee33d0cd81234d94847d2b8c6535ee39": {
     "model_module": "@jupyter-widgets/controls",
     "model_name": "DescriptionStyleModel",
     "model_module_version": "1.5.0",
     "state": {
      "_model_module": "@jupyter-widgets/controls",
      "_model_module_version": "1.5.0",
      "_model_name": "DescriptionStyleModel",
      "_view_count": null,
      "_view_module": "@jupyter-widgets/base",
      "_view_module_version": "1.2.0",
      "_view_name": "StyleView",
      "description_width": ""
     }
    },
    "9e91359e22d7489c8f1701ba6dbb7787": {
     "model_module": "@jupyter-widgets/base",
     "model_name": "LayoutModel",
     "model_module_version": "1.2.0",
     "state": {
      "_model_module": "@jupyter-widgets/base",
      "_model_module_version": "1.2.0",
      "_model_name": "LayoutModel",
      "_view_count": null,
      "_view_module": "@jupyter-widgets/base",
      "_view_module_version": "1.2.0",
      "_view_name": "LayoutView",
      "align_content": null,
      "align_items": null,
      "align_self": null,
      "border": null,
      "bottom": null,
      "display": null,
      "flex": null,
      "flex_flow": null,
      "grid_area": null,
      "grid_auto_columns": null,
      "grid_auto_flow": null,
      "grid_auto_rows": null,
      "grid_column": null,
      "grid_gap": null,
      "grid_row": null,
      "grid_template_areas": null,
      "grid_template_columns": null,
      "grid_template_rows": null,
      "height": null,
      "justify_content": null,
      "justify_items": null,
      "left": null,
      "margin": null,
      "max_height": null,
      "max_width": null,
      "min_height": null,
      "min_width": null,
      "object_fit": null,
      "object_position": null,
      "order": null,
      "overflow": null,
      "overflow_x": null,
      "overflow_y": null,
      "padding": null,
      "right": null,
      "top": null,
      "visibility": null,
      "width": null
     }
    },
    "3c9f94e4b37f4147948be5b0eb5242db": {
     "model_module": "@jupyter-widgets/controls",
     "model_name": "ProgressStyleModel",
     "model_module_version": "1.5.0",
     "state": {
      "_model_module": "@jupyter-widgets/controls",
      "_model_module_version": "1.5.0",
      "_model_name": "ProgressStyleModel",
      "_view_count": null,
      "_view_module": "@jupyter-widgets/base",
      "_view_module_version": "1.2.0",
      "_view_name": "StyleView",
      "bar_color": null,
      "description_width": ""
     }
    },
    "eb22c54b877f4c33b96c403f0e596518": {
     "model_module": "@jupyter-widgets/base",
     "model_name": "LayoutModel",
     "model_module_version": "1.2.0",
     "state": {
      "_model_module": "@jupyter-widgets/base",
      "_model_module_version": "1.2.0",
      "_model_name": "LayoutModel",
      "_view_count": null,
      "_view_module": "@jupyter-widgets/base",
      "_view_module_version": "1.2.0",
      "_view_name": "LayoutView",
      "align_content": null,
      "align_items": null,
      "align_self": null,
      "border": null,
      "bottom": null,
      "display": null,
      "flex": null,
      "flex_flow": null,
      "grid_area": null,
      "grid_auto_columns": null,
      "grid_auto_flow": null,
      "grid_auto_rows": null,
      "grid_column": null,
      "grid_gap": null,
      "grid_row": null,
      "grid_template_areas": null,
      "grid_template_columns": null,
      "grid_template_rows": null,
      "height": null,
      "justify_content": null,
      "justify_items": null,
      "left": null,
      "margin": null,
      "max_height": null,
      "max_width": null,
      "min_height": null,
      "min_width": null,
      "object_fit": null,
      "object_position": null,
      "order": null,
      "overflow": null,
      "overflow_x": null,
      "overflow_y": null,
      "padding": null,
      "right": null,
      "top": null,
      "visibility": null,
      "width": null
     }
    },
    "0aab614b9920447bbd7d67de4f3485e7": {
     "model_module": "@jupyter-widgets/controls",
     "model_name": "DescriptionStyleModel",
     "model_module_version": "1.5.0",
     "state": {
      "_model_module": "@jupyter-widgets/controls",
      "_model_module_version": "1.5.0",
      "_model_name": "DescriptionStyleModel",
      "_view_count": null,
      "_view_module": "@jupyter-widgets/base",
      "_view_module_version": "1.2.0",
      "_view_name": "StyleView",
      "description_width": ""
     }
    },
    "4bee37ac3b7d4c78b4ba060a81db0058": {
     "model_module": "@jupyter-widgets/controls",
     "model_name": "HBoxModel",
     "model_module_version": "1.5.0",
     "state": {
      "_dom_classes": [],
      "_model_module": "@jupyter-widgets/controls",
      "_model_module_version": "1.5.0",
      "_model_name": "HBoxModel",
      "_view_count": null,
      "_view_module": "@jupyter-widgets/controls",
      "_view_module_version": "1.5.0",
      "_view_name": "HBoxView",
      "box_style": "",
      "children": [
       "IPY_MODEL_164b86b6d6694aff95e1266a1885efbd",
       "IPY_MODEL_afbcb78432e0404a999a4d51261bfa85",
       "IPY_MODEL_3e781910d0fd45469b4bbc69b148504f"
      ],
      "layout": "IPY_MODEL_19d74cef120a496298393b06d6715e32"
     }
    },
    "164b86b6d6694aff95e1266a1885efbd": {
     "model_module": "@jupyter-widgets/controls",
     "model_name": "HTMLModel",
     "model_module_version": "1.5.0",
     "state": {
      "_dom_classes": [],
      "_model_module": "@jupyter-widgets/controls",
      "_model_module_version": "1.5.0",
      "_model_name": "HTMLModel",
      "_view_count": null,
      "_view_module": "@jupyter-widgets/controls",
      "_view_module_version": "1.5.0",
      "_view_name": "HTMLView",
      "description": "",
      "description_tooltip": null,
      "layout": "IPY_MODEL_745947ded8144803aeeebe36eb40c4c4",
      "placeholder": "​",
      "style": "IPY_MODEL_2bdc1e2bd613491b9342420e87b50b54",
      "value": "config.json: 100%"
     }
    },
    "afbcb78432e0404a999a4d51261bfa85": {
     "model_module": "@jupyter-widgets/controls",
     "model_name": "FloatProgressModel",
     "model_module_version": "1.5.0",
     "state": {
      "_dom_classes": [],
      "_model_module": "@jupyter-widgets/controls",
      "_model_module_version": "1.5.0",
      "_model_name": "FloatProgressModel",
      "_view_count": null,
      "_view_module": "@jupyter-widgets/controls",
      "_view_module_version": "1.5.0",
      "_view_name": "ProgressView",
      "bar_style": "success",
      "description": "",
      "description_tooltip": null,
      "layout": "IPY_MODEL_bcc9786aa0514c7a876a8065de0f5fdb",
      "max": 570,
      "min": 0,
      "orientation": "horizontal",
      "style": "IPY_MODEL_8d3450b98af642f4822158194cf4a503",
      "value": 570
     }
    },
    "3e781910d0fd45469b4bbc69b148504f": {
     "model_module": "@jupyter-widgets/controls",
     "model_name": "HTMLModel",
     "model_module_version": "1.5.0",
     "state": {
      "_dom_classes": [],
      "_model_module": "@jupyter-widgets/controls",
      "_model_module_version": "1.5.0",
      "_model_name": "HTMLModel",
      "_view_count": null,
      "_view_module": "@jupyter-widgets/controls",
      "_view_module_version": "1.5.0",
      "_view_name": "HTMLView",
      "description": "",
      "description_tooltip": null,
      "layout": "IPY_MODEL_6f0f67e242da46f8959dd88bfad3a49c",
      "placeholder": "​",
      "style": "IPY_MODEL_82d1f9c1f8374747b44b09575a780a7b",
      "value": " 570/570 [00:00&lt;00:00, 32.2kB/s]"
     }
    },
    "19d74cef120a496298393b06d6715e32": {
     "model_module": "@jupyter-widgets/base",
     "model_name": "LayoutModel",
     "model_module_version": "1.2.0",
     "state": {
      "_model_module": "@jupyter-widgets/base",
      "_model_module_version": "1.2.0",
      "_model_name": "LayoutModel",
      "_view_count": null,
      "_view_module": "@jupyter-widgets/base",
      "_view_module_version": "1.2.0",
      "_view_name": "LayoutView",
      "align_content": null,
      "align_items": null,
      "align_self": null,
      "border": null,
      "bottom": null,
      "display": null,
      "flex": null,
      "flex_flow": null,
      "grid_area": null,
      "grid_auto_columns": null,
      "grid_auto_flow": null,
      "grid_auto_rows": null,
      "grid_column": null,
      "grid_gap": null,
      "grid_row": null,
      "grid_template_areas": null,
      "grid_template_columns": null,
      "grid_template_rows": null,
      "height": null,
      "justify_content": null,
      "justify_items": null,
      "left": null,
      "margin": null,
      "max_height": null,
      "max_width": null,
      "min_height": null,
      "min_width": null,
      "object_fit": null,
      "object_position": null,
      "order": null,
      "overflow": null,
      "overflow_x": null,
      "overflow_y": null,
      "padding": null,
      "right": null,
      "top": null,
      "visibility": null,
      "width": null
     }
    },
    "745947ded8144803aeeebe36eb40c4c4": {
     "model_module": "@jupyter-widgets/base",
     "model_name": "LayoutModel",
     "model_module_version": "1.2.0",
     "state": {
      "_model_module": "@jupyter-widgets/base",
      "_model_module_version": "1.2.0",
      "_model_name": "LayoutModel",
      "_view_count": null,
      "_view_module": "@jupyter-widgets/base",
      "_view_module_version": "1.2.0",
      "_view_name": "LayoutView",
      "align_content": null,
      "align_items": null,
      "align_self": null,
      "border": null,
      "bottom": null,
      "display": null,
      "flex": null,
      "flex_flow": null,
      "grid_area": null,
      "grid_auto_columns": null,
      "grid_auto_flow": null,
      "grid_auto_rows": null,
      "grid_column": null,
      "grid_gap": null,
      "grid_row": null,
      "grid_template_areas": null,
      "grid_template_columns": null,
      "grid_template_rows": null,
      "height": null,
      "justify_content": null,
      "justify_items": null,
      "left": null,
      "margin": null,
      "max_height": null,
      "max_width": null,
      "min_height": null,
      "min_width": null,
      "object_fit": null,
      "object_position": null,
      "order": null,
      "overflow": null,
      "overflow_x": null,
      "overflow_y": null,
      "padding": null,
      "right": null,
      "top": null,
      "visibility": null,
      "width": null
     }
    },
    "2bdc1e2bd613491b9342420e87b50b54": {
     "model_module": "@jupyter-widgets/controls",
     "model_name": "DescriptionStyleModel",
     "model_module_version": "1.5.0",
     "state": {
      "_model_module": "@jupyter-widgets/controls",
      "_model_module_version": "1.5.0",
      "_model_name": "DescriptionStyleModel",
      "_view_count": null,
      "_view_module": "@jupyter-widgets/base",
      "_view_module_version": "1.2.0",
      "_view_name": "StyleView",
      "description_width": ""
     }
    },
    "bcc9786aa0514c7a876a8065de0f5fdb": {
     "model_module": "@jupyter-widgets/base",
     "model_name": "LayoutModel",
     "model_module_version": "1.2.0",
     "state": {
      "_model_module": "@jupyter-widgets/base",
      "_model_module_version": "1.2.0",
      "_model_name": "LayoutModel",
      "_view_count": null,
      "_view_module": "@jupyter-widgets/base",
      "_view_module_version": "1.2.0",
      "_view_name": "LayoutView",
      "align_content": null,
      "align_items": null,
      "align_self": null,
      "border": null,
      "bottom": null,
      "display": null,
      "flex": null,
      "flex_flow": null,
      "grid_area": null,
      "grid_auto_columns": null,
      "grid_auto_flow": null,
      "grid_auto_rows": null,
      "grid_column": null,
      "grid_gap": null,
      "grid_row": null,
      "grid_template_areas": null,
      "grid_template_columns": null,
      "grid_template_rows": null,
      "height": null,
      "justify_content": null,
      "justify_items": null,
      "left": null,
      "margin": null,
      "max_height": null,
      "max_width": null,
      "min_height": null,
      "min_width": null,
      "object_fit": null,
      "object_position": null,
      "order": null,
      "overflow": null,
      "overflow_x": null,
      "overflow_y": null,
      "padding": null,
      "right": null,
      "top": null,
      "visibility": null,
      "width": null
     }
    },
    "8d3450b98af642f4822158194cf4a503": {
     "model_module": "@jupyter-widgets/controls",
     "model_name": "ProgressStyleModel",
     "model_module_version": "1.5.0",
     "state": {
      "_model_module": "@jupyter-widgets/controls",
      "_model_module_version": "1.5.0",
      "_model_name": "ProgressStyleModel",
      "_view_count": null,
      "_view_module": "@jupyter-widgets/base",
      "_view_module_version": "1.2.0",
      "_view_name": "StyleView",
      "bar_color": null,
      "description_width": ""
     }
    },
    "6f0f67e242da46f8959dd88bfad3a49c": {
     "model_module": "@jupyter-widgets/base",
     "model_name": "LayoutModel",
     "model_module_version": "1.2.0",
     "state": {
      "_model_module": "@jupyter-widgets/base",
      "_model_module_version": "1.2.0",
      "_model_name": "LayoutModel",
      "_view_count": null,
      "_view_module": "@jupyter-widgets/base",
      "_view_module_version": "1.2.0",
      "_view_name": "LayoutView",
      "align_content": null,
      "align_items": null,
      "align_self": null,
      "border": null,
      "bottom": null,
      "display": null,
      "flex": null,
      "flex_flow": null,
      "grid_area": null,
      "grid_auto_columns": null,
      "grid_auto_flow": null,
      "grid_auto_rows": null,
      "grid_column": null,
      "grid_gap": null,
      "grid_row": null,
      "grid_template_areas": null,
      "grid_template_columns": null,
      "grid_template_rows": null,
      "height": null,
      "justify_content": null,
      "justify_items": null,
      "left": null,
      "margin": null,
      "max_height": null,
      "max_width": null,
      "min_height": null,
      "min_width": null,
      "object_fit": null,
      "object_position": null,
      "order": null,
      "overflow": null,
      "overflow_x": null,
      "overflow_y": null,
      "padding": null,
      "right": null,
      "top": null,
      "visibility": null,
      "width": null
     }
    },
    "82d1f9c1f8374747b44b09575a780a7b": {
     "model_module": "@jupyter-widgets/controls",
     "model_name": "DescriptionStyleModel",
     "model_module_version": "1.5.0",
     "state": {
      "_model_module": "@jupyter-widgets/controls",
      "_model_module_version": "1.5.0",
      "_model_name": "DescriptionStyleModel",
      "_view_count": null,
      "_view_module": "@jupyter-widgets/base",
      "_view_module_version": "1.2.0",
      "_view_name": "StyleView",
      "description_width": ""
     }
    },
    "284ffc0c8c264984a5f495080f791eca": {
     "model_module": "@jupyter-widgets/controls",
     "model_name": "HBoxModel",
     "model_module_version": "1.5.0",
     "state": {
      "_dom_classes": [],
      "_model_module": "@jupyter-widgets/controls",
      "_model_module_version": "1.5.0",
      "_model_name": "HBoxModel",
      "_view_count": null,
      "_view_module": "@jupyter-widgets/controls",
      "_view_module_version": "1.5.0",
      "_view_name": "HBoxView",
      "box_style": "",
      "children": [
       "IPY_MODEL_a4d33c5d7797493eba3cf066d3e8451d",
       "IPY_MODEL_85d075b7d8a84a1794f929ddf16f11e2",
       "IPY_MODEL_88970a7bcaff461f801efd843ee4a8db"
      ],
      "layout": "IPY_MODEL_ff3be2d8cecd49a0aba64264e6869f26"
     }
    },
    "a4d33c5d7797493eba3cf066d3e8451d": {
     "model_module": "@jupyter-widgets/controls",
     "model_name": "HTMLModel",
     "model_module_version": "1.5.0",
     "state": {
      "_dom_classes": [],
      "_model_module": "@jupyter-widgets/controls",
      "_model_module_version": "1.5.0",
      "_model_name": "HTMLModel",
      "_view_count": null,
      "_view_module": "@jupyter-widgets/controls",
      "_view_module_version": "1.5.0",
      "_view_name": "HTMLView",
      "description": "",
      "description_tooltip": null,
      "layout": "IPY_MODEL_e3631128e4be4a11bdf0ebcaf2993f61",
      "placeholder": "​",
      "style": "IPY_MODEL_55d3c015ec2e4ee185590601a1cf8d4e",
      "value": "vocab.txt: 100%"
     }
    },
    "85d075b7d8a84a1794f929ddf16f11e2": {
     "model_module": "@jupyter-widgets/controls",
     "model_name": "FloatProgressModel",
     "model_module_version": "1.5.0",
     "state": {
      "_dom_classes": [],
      "_model_module": "@jupyter-widgets/controls",
      "_model_module_version": "1.5.0",
      "_model_name": "FloatProgressModel",
      "_view_count": null,
      "_view_module": "@jupyter-widgets/controls",
      "_view_module_version": "1.5.0",
      "_view_name": "ProgressView",
      "bar_style": "success",
      "description": "",
      "description_tooltip": null,
      "layout": "IPY_MODEL_7b82144162044815b6a060fde1518904",
      "max": 231508,
      "min": 0,
      "orientation": "horizontal",
      "style": "IPY_MODEL_999d4b0010904b189713b60fe1209842",
      "value": 231508
     }
    },
    "88970a7bcaff461f801efd843ee4a8db": {
     "model_module": "@jupyter-widgets/controls",
     "model_name": "HTMLModel",
     "model_module_version": "1.5.0",
     "state": {
      "_dom_classes": [],
      "_model_module": "@jupyter-widgets/controls",
      "_model_module_version": "1.5.0",
      "_model_name": "HTMLModel",
      "_view_count": null,
      "_view_module": "@jupyter-widgets/controls",
      "_view_module_version": "1.5.0",
      "_view_name": "HTMLView",
      "description": "",
      "description_tooltip": null,
      "layout": "IPY_MODEL_0a29a69c9008437082e94cfbd5d689a0",
      "placeholder": "​",
      "style": "IPY_MODEL_7366b19dc1e0421a82d6dd579435137d",
      "value": " 232k/232k [00:00&lt;00:00, 4.02MB/s]"
     }
    },
    "ff3be2d8cecd49a0aba64264e6869f26": {
     "model_module": "@jupyter-widgets/base",
     "model_name": "LayoutModel",
     "model_module_version": "1.2.0",
     "state": {
      "_model_module": "@jupyter-widgets/base",
      "_model_module_version": "1.2.0",
      "_model_name": "LayoutModel",
      "_view_count": null,
      "_view_module": "@jupyter-widgets/base",
      "_view_module_version": "1.2.0",
      "_view_name": "LayoutView",
      "align_content": null,
      "align_items": null,
      "align_self": null,
      "border": null,
      "bottom": null,
      "display": null,
      "flex": null,
      "flex_flow": null,
      "grid_area": null,
      "grid_auto_columns": null,
      "grid_auto_flow": null,
      "grid_auto_rows": null,
      "grid_column": null,
      "grid_gap": null,
      "grid_row": null,
      "grid_template_areas": null,
      "grid_template_columns": null,
      "grid_template_rows": null,
      "height": null,
      "justify_content": null,
      "justify_items": null,
      "left": null,
      "margin": null,
      "max_height": null,
      "max_width": null,
      "min_height": null,
      "min_width": null,
      "object_fit": null,
      "object_position": null,
      "order": null,
      "overflow": null,
      "overflow_x": null,
      "overflow_y": null,
      "padding": null,
      "right": null,
      "top": null,
      "visibility": null,
      "width": null
     }
    },
    "e3631128e4be4a11bdf0ebcaf2993f61": {
     "model_module": "@jupyter-widgets/base",
     "model_name": "LayoutModel",
     "model_module_version": "1.2.0",
     "state": {
      "_model_module": "@jupyter-widgets/base",
      "_model_module_version": "1.2.0",
      "_model_name": "LayoutModel",
      "_view_count": null,
      "_view_module": "@jupyter-widgets/base",
      "_view_module_version": "1.2.0",
      "_view_name": "LayoutView",
      "align_content": null,
      "align_items": null,
      "align_self": null,
      "border": null,
      "bottom": null,
      "display": null,
      "flex": null,
      "flex_flow": null,
      "grid_area": null,
      "grid_auto_columns": null,
      "grid_auto_flow": null,
      "grid_auto_rows": null,
      "grid_column": null,
      "grid_gap": null,
      "grid_row": null,
      "grid_template_areas": null,
      "grid_template_columns": null,
      "grid_template_rows": null,
      "height": null,
      "justify_content": null,
      "justify_items": null,
      "left": null,
      "margin": null,
      "max_height": null,
      "max_width": null,
      "min_height": null,
      "min_width": null,
      "object_fit": null,
      "object_position": null,
      "order": null,
      "overflow": null,
      "overflow_x": null,
      "overflow_y": null,
      "padding": null,
      "right": null,
      "top": null,
      "visibility": null,
      "width": null
     }
    },
    "55d3c015ec2e4ee185590601a1cf8d4e": {
     "model_module": "@jupyter-widgets/controls",
     "model_name": "DescriptionStyleModel",
     "model_module_version": "1.5.0",
     "state": {
      "_model_module": "@jupyter-widgets/controls",
      "_model_module_version": "1.5.0",
      "_model_name": "DescriptionStyleModel",
      "_view_count": null,
      "_view_module": "@jupyter-widgets/base",
      "_view_module_version": "1.2.0",
      "_view_name": "StyleView",
      "description_width": ""
     }
    },
    "7b82144162044815b6a060fde1518904": {
     "model_module": "@jupyter-widgets/base",
     "model_name": "LayoutModel",
     "model_module_version": "1.2.0",
     "state": {
      "_model_module": "@jupyter-widgets/base",
      "_model_module_version": "1.2.0",
      "_model_name": "LayoutModel",
      "_view_count": null,
      "_view_module": "@jupyter-widgets/base",
      "_view_module_version": "1.2.0",
      "_view_name": "LayoutView",
      "align_content": null,
      "align_items": null,
      "align_self": null,
      "border": null,
      "bottom": null,
      "display": null,
      "flex": null,
      "flex_flow": null,
      "grid_area": null,
      "grid_auto_columns": null,
      "grid_auto_flow": null,
      "grid_auto_rows": null,
      "grid_column": null,
      "grid_gap": null,
      "grid_row": null,
      "grid_template_areas": null,
      "grid_template_columns": null,
      "grid_template_rows": null,
      "height": null,
      "justify_content": null,
      "justify_items": null,
      "left": null,
      "margin": null,
      "max_height": null,
      "max_width": null,
      "min_height": null,
      "min_width": null,
      "object_fit": null,
      "object_position": null,
      "order": null,
      "overflow": null,
      "overflow_x": null,
      "overflow_y": null,
      "padding": null,
      "right": null,
      "top": null,
      "visibility": null,
      "width": null
     }
    },
    "999d4b0010904b189713b60fe1209842": {
     "model_module": "@jupyter-widgets/controls",
     "model_name": "ProgressStyleModel",
     "model_module_version": "1.5.0",
     "state": {
      "_model_module": "@jupyter-widgets/controls",
      "_model_module_version": "1.5.0",
      "_model_name": "ProgressStyleModel",
      "_view_count": null,
      "_view_module": "@jupyter-widgets/base",
      "_view_module_version": "1.2.0",
      "_view_name": "StyleView",
      "bar_color": null,
      "description_width": ""
     }
    },
    "0a29a69c9008437082e94cfbd5d689a0": {
     "model_module": "@jupyter-widgets/base",
     "model_name": "LayoutModel",
     "model_module_version": "1.2.0",
     "state": {
      "_model_module": "@jupyter-widgets/base",
      "_model_module_version": "1.2.0",
      "_model_name": "LayoutModel",
      "_view_count": null,
      "_view_module": "@jupyter-widgets/base",
      "_view_module_version": "1.2.0",
      "_view_name": "LayoutView",
      "align_content": null,
      "align_items": null,
      "align_self": null,
      "border": null,
      "bottom": null,
      "display": null,
      "flex": null,
      "flex_flow": null,
      "grid_area": null,
      "grid_auto_columns": null,
      "grid_auto_flow": null,
      "grid_auto_rows": null,
      "grid_column": null,
      "grid_gap": null,
      "grid_row": null,
      "grid_template_areas": null,
      "grid_template_columns": null,
      "grid_template_rows": null,
      "height": null,
      "justify_content": null,
      "justify_items": null,
      "left": null,
      "margin": null,
      "max_height": null,
      "max_width": null,
      "min_height": null,
      "min_width": null,
      "object_fit": null,
      "object_position": null,
      "order": null,
      "overflow": null,
      "overflow_x": null,
      "overflow_y": null,
      "padding": null,
      "right": null,
      "top": null,
      "visibility": null,
      "width": null
     }
    },
    "7366b19dc1e0421a82d6dd579435137d": {
     "model_module": "@jupyter-widgets/controls",
     "model_name": "DescriptionStyleModel",
     "model_module_version": "1.5.0",
     "state": {
      "_model_module": "@jupyter-widgets/controls",
      "_model_module_version": "1.5.0",
      "_model_name": "DescriptionStyleModel",
      "_view_count": null,
      "_view_module": "@jupyter-widgets/base",
      "_view_module_version": "1.2.0",
      "_view_name": "StyleView",
      "description_width": ""
     }
    },
    "36955454f0bf46ce92b0fa77dea2a07a": {
     "model_module": "@jupyter-widgets/controls",
     "model_name": "HBoxModel",
     "model_module_version": "1.5.0",
     "state": {
      "_dom_classes": [],
      "_model_module": "@jupyter-widgets/controls",
      "_model_module_version": "1.5.0",
      "_model_name": "HBoxModel",
      "_view_count": null,
      "_view_module": "@jupyter-widgets/controls",
      "_view_module_version": "1.5.0",
      "_view_name": "HBoxView",
      "box_style": "",
      "children": [
       "IPY_MODEL_364885da6664490bbe1541043b9178e4",
       "IPY_MODEL_d43d8a93a4904b40ab4d308ab285cf02",
       "IPY_MODEL_b893410f3edc40af8e0863df97c86ae5"
      ],
      "layout": "IPY_MODEL_b8ad205864b64f1daae7604f0ba08133"
     }
    },
    "364885da6664490bbe1541043b9178e4": {
     "model_module": "@jupyter-widgets/controls",
     "model_name": "HTMLModel",
     "model_module_version": "1.5.0",
     "state": {
      "_dom_classes": [],
      "_model_module": "@jupyter-widgets/controls",
      "_model_module_version": "1.5.0",
      "_model_name": "HTMLModel",
      "_view_count": null,
      "_view_module": "@jupyter-widgets/controls",
      "_view_module_version": "1.5.0",
      "_view_name": "HTMLView",
      "description": "",
      "description_tooltip": null,
      "layout": "IPY_MODEL_54186ef93d90443dbcf3e722565d4096",
      "placeholder": "​",
      "style": "IPY_MODEL_55a5f7deeab14d1cacd1fa04be22b95d",
      "value": "tokenizer.json: 100%"
     }
    },
    "d43d8a93a4904b40ab4d308ab285cf02": {
     "model_module": "@jupyter-widgets/controls",
     "model_name": "FloatProgressModel",
     "model_module_version": "1.5.0",
     "state": {
      "_dom_classes": [],
      "_model_module": "@jupyter-widgets/controls",
      "_model_module_version": "1.5.0",
      "_model_name": "FloatProgressModel",
      "_view_count": null,
      "_view_module": "@jupyter-widgets/controls",
      "_view_module_version": "1.5.0",
      "_view_name": "ProgressView",
      "bar_style": "success",
      "description": "",
      "description_tooltip": null,
      "layout": "IPY_MODEL_118cf8575e6c4952b3b33ea4ec1a1e9b",
      "max": 466062,
      "min": 0,
      "orientation": "horizontal",
      "style": "IPY_MODEL_5a5c3c397dd44d478249c0295a16f238",
      "value": 466062
     }
    },
    "b893410f3edc40af8e0863df97c86ae5": {
     "model_module": "@jupyter-widgets/controls",
     "model_name": "HTMLModel",
     "model_module_version": "1.5.0",
     "state": {
      "_dom_classes": [],
      "_model_module": "@jupyter-widgets/controls",
      "_model_module_version": "1.5.0",
      "_model_name": "HTMLModel",
      "_view_count": null,
      "_view_module": "@jupyter-widgets/controls",
      "_view_module_version": "1.5.0",
      "_view_name": "HTMLView",
      "description": "",
      "description_tooltip": null,
      "layout": "IPY_MODEL_c38ed191048e4a328ff591d133371e3c",
      "placeholder": "​",
      "style": "IPY_MODEL_c86cdc05d3db41a1904d7aafd03eeab3",
      "value": " 466k/466k [00:00&lt;00:00, 25.3MB/s]"
     }
    },
    "b8ad205864b64f1daae7604f0ba08133": {
     "model_module": "@jupyter-widgets/base",
     "model_name": "LayoutModel",
     "model_module_version": "1.2.0",
     "state": {
      "_model_module": "@jupyter-widgets/base",
      "_model_module_version": "1.2.0",
      "_model_name": "LayoutModel",
      "_view_count": null,
      "_view_module": "@jupyter-widgets/base",
      "_view_module_version": "1.2.0",
      "_view_name": "LayoutView",
      "align_content": null,
      "align_items": null,
      "align_self": null,
      "border": null,
      "bottom": null,
      "display": null,
      "flex": null,
      "flex_flow": null,
      "grid_area": null,
      "grid_auto_columns": null,
      "grid_auto_flow": null,
      "grid_auto_rows": null,
      "grid_column": null,
      "grid_gap": null,
      "grid_row": null,
      "grid_template_areas": null,
      "grid_template_columns": null,
      "grid_template_rows": null,
      "height": null,
      "justify_content": null,
      "justify_items": null,
      "left": null,
      "margin": null,
      "max_height": null,
      "max_width": null,
      "min_height": null,
      "min_width": null,
      "object_fit": null,
      "object_position": null,
      "order": null,
      "overflow": null,
      "overflow_x": null,
      "overflow_y": null,
      "padding": null,
      "right": null,
      "top": null,
      "visibility": null,
      "width": null
     }
    },
    "54186ef93d90443dbcf3e722565d4096": {
     "model_module": "@jupyter-widgets/base",
     "model_name": "LayoutModel",
     "model_module_version": "1.2.0",
     "state": {
      "_model_module": "@jupyter-widgets/base",
      "_model_module_version": "1.2.0",
      "_model_name": "LayoutModel",
      "_view_count": null,
      "_view_module": "@jupyter-widgets/base",
      "_view_module_version": "1.2.0",
      "_view_name": "LayoutView",
      "align_content": null,
      "align_items": null,
      "align_self": null,
      "border": null,
      "bottom": null,
      "display": null,
      "flex": null,
      "flex_flow": null,
      "grid_area": null,
      "grid_auto_columns": null,
      "grid_auto_flow": null,
      "grid_auto_rows": null,
      "grid_column": null,
      "grid_gap": null,
      "grid_row": null,
      "grid_template_areas": null,
      "grid_template_columns": null,
      "grid_template_rows": null,
      "height": null,
      "justify_content": null,
      "justify_items": null,
      "left": null,
      "margin": null,
      "max_height": null,
      "max_width": null,
      "min_height": null,
      "min_width": null,
      "object_fit": null,
      "object_position": null,
      "order": null,
      "overflow": null,
      "overflow_x": null,
      "overflow_y": null,
      "padding": null,
      "right": null,
      "top": null,
      "visibility": null,
      "width": null
     }
    },
    "55a5f7deeab14d1cacd1fa04be22b95d": {
     "model_module": "@jupyter-widgets/controls",
     "model_name": "DescriptionStyleModel",
     "model_module_version": "1.5.0",
     "state": {
      "_model_module": "@jupyter-widgets/controls",
      "_model_module_version": "1.5.0",
      "_model_name": "DescriptionStyleModel",
      "_view_count": null,
      "_view_module": "@jupyter-widgets/base",
      "_view_module_version": "1.2.0",
      "_view_name": "StyleView",
      "description_width": ""
     }
    },
    "118cf8575e6c4952b3b33ea4ec1a1e9b": {
     "model_module": "@jupyter-widgets/base",
     "model_name": "LayoutModel",
     "model_module_version": "1.2.0",
     "state": {
      "_model_module": "@jupyter-widgets/base",
      "_model_module_version": "1.2.0",
      "_model_name": "LayoutModel",
      "_view_count": null,
      "_view_module": "@jupyter-widgets/base",
      "_view_module_version": "1.2.0",
      "_view_name": "LayoutView",
      "align_content": null,
      "align_items": null,
      "align_self": null,
      "border": null,
      "bottom": null,
      "display": null,
      "flex": null,
      "flex_flow": null,
      "grid_area": null,
      "grid_auto_columns": null,
      "grid_auto_flow": null,
      "grid_auto_rows": null,
      "grid_column": null,
      "grid_gap": null,
      "grid_row": null,
      "grid_template_areas": null,
      "grid_template_columns": null,
      "grid_template_rows": null,
      "height": null,
      "justify_content": null,
      "justify_items": null,
      "left": null,
      "margin": null,
      "max_height": null,
      "max_width": null,
      "min_height": null,
      "min_width": null,
      "object_fit": null,
      "object_position": null,
      "order": null,
      "overflow": null,
      "overflow_x": null,
      "overflow_y": null,
      "padding": null,
      "right": null,
      "top": null,
      "visibility": null,
      "width": null
     }
    },
    "5a5c3c397dd44d478249c0295a16f238": {
     "model_module": "@jupyter-widgets/controls",
     "model_name": "ProgressStyleModel",
     "model_module_version": "1.5.0",
     "state": {
      "_model_module": "@jupyter-widgets/controls",
      "_model_module_version": "1.5.0",
      "_model_name": "ProgressStyleModel",
      "_view_count": null,
      "_view_module": "@jupyter-widgets/base",
      "_view_module_version": "1.2.0",
      "_view_name": "StyleView",
      "bar_color": null,
      "description_width": ""
     }
    },
    "c38ed191048e4a328ff591d133371e3c": {
     "model_module": "@jupyter-widgets/base",
     "model_name": "LayoutModel",
     "model_module_version": "1.2.0",
     "state": {
      "_model_module": "@jupyter-widgets/base",
      "_model_module_version": "1.2.0",
      "_model_name": "LayoutModel",
      "_view_count": null,
      "_view_module": "@jupyter-widgets/base",
      "_view_module_version": "1.2.0",
      "_view_name": "LayoutView",
      "align_content": null,
      "align_items": null,
      "align_self": null,
      "border": null,
      "bottom": null,
      "display": null,
      "flex": null,
      "flex_flow": null,
      "grid_area": null,
      "grid_auto_columns": null,
      "grid_auto_flow": null,
      "grid_auto_rows": null,
      "grid_column": null,
      "grid_gap": null,
      "grid_row": null,
      "grid_template_areas": null,
      "grid_template_columns": null,
      "grid_template_rows": null,
      "height": null,
      "justify_content": null,
      "justify_items": null,
      "left": null,
      "margin": null,
      "max_height": null,
      "max_width": null,
      "min_height": null,
      "min_width": null,
      "object_fit": null,
      "object_position": null,
      "order": null,
      "overflow": null,
      "overflow_x": null,
      "overflow_y": null,
      "padding": null,
      "right": null,
      "top": null,
      "visibility": null,
      "width": null
     }
    },
    "c86cdc05d3db41a1904d7aafd03eeab3": {
     "model_module": "@jupyter-widgets/controls",
     "model_name": "DescriptionStyleModel",
     "model_module_version": "1.5.0",
     "state": {
      "_model_module": "@jupyter-widgets/controls",
      "_model_module_version": "1.5.0",
      "_model_name": "DescriptionStyleModel",
      "_view_count": null,
      "_view_module": "@jupyter-widgets/base",
      "_view_module_version": "1.2.0",
      "_view_name": "StyleView",
      "description_width": ""
     }
    },
    "e56605bc1f084f5994509839b10e85b3": {
     "model_module": "@jupyter-widgets/controls",
     "model_name": "HBoxModel",
     "model_module_version": "1.5.0",
     "state": {
      "_dom_classes": [],
      "_model_module": "@jupyter-widgets/controls",
      "_model_module_version": "1.5.0",
      "_model_name": "HBoxModel",
      "_view_count": null,
      "_view_module": "@jupyter-widgets/controls",
      "_view_module_version": "1.5.0",
      "_view_name": "HBoxView",
      "box_style": "",
      "children": [
       "IPY_MODEL_83d2c50e80744755b572a3022a3a6f2f",
       "IPY_MODEL_6db50c93fc764ac093829a76070e7c62",
       "IPY_MODEL_38d9c91b5d0b4a509058886d039a217f"
      ],
      "layout": "IPY_MODEL_be79d8c5fb464923941a29955f261235"
     }
    },
    "83d2c50e80744755b572a3022a3a6f2f": {
     "model_module": "@jupyter-widgets/controls",
     "model_name": "HTMLModel",
     "model_module_version": "1.5.0",
     "state": {
      "_dom_classes": [],
      "_model_module": "@jupyter-widgets/controls",
      "_model_module_version": "1.5.0",
      "_model_name": "HTMLModel",
      "_view_count": null,
      "_view_module": "@jupyter-widgets/controls",
      "_view_module_version": "1.5.0",
      "_view_name": "HTMLView",
      "description": "",
      "description_tooltip": null,
      "layout": "IPY_MODEL_f690a39dd19e4a8a95ab61b3d33e07a7",
      "placeholder": "​",
      "style": "IPY_MODEL_9dd411b76d1045ea9e3e887d265580ab",
      "value": "model.safetensors: 100%"
     }
    },
    "6db50c93fc764ac093829a76070e7c62": {
     "model_module": "@jupyter-widgets/controls",
     "model_name": "FloatProgressModel",
     "model_module_version": "1.5.0",
     "state": {
      "_dom_classes": [],
      "_model_module": "@jupyter-widgets/controls",
      "_model_module_version": "1.5.0",
      "_model_name": "FloatProgressModel",
      "_view_count": null,
      "_view_module": "@jupyter-widgets/controls",
      "_view_module_version": "1.5.0",
      "_view_name": "ProgressView",
      "bar_style": "success",
      "description": "",
      "description_tooltip": null,
      "layout": "IPY_MODEL_321776a1a0b34e4c8134cbec97e5d88a",
      "max": 440449768,
      "min": 0,
      "orientation": "horizontal",
      "style": "IPY_MODEL_1901462b19d448288b696a55d337a228",
      "value": 440449768
     }
    },
    "38d9c91b5d0b4a509058886d039a217f": {
     "model_module": "@jupyter-widgets/controls",
     "model_name": "HTMLModel",
     "model_module_version": "1.5.0",
     "state": {
      "_dom_classes": [],
      "_model_module": "@jupyter-widgets/controls",
      "_model_module_version": "1.5.0",
      "_model_name": "HTMLModel",
      "_view_count": null,
      "_view_module": "@jupyter-widgets/controls",
      "_view_module_version": "1.5.0",
      "_view_name": "HTMLView",
      "description": "",
      "description_tooltip": null,
      "layout": "IPY_MODEL_eb9e260e53964c71a21f3ce0622394e6",
      "placeholder": "​",
      "style": "IPY_MODEL_27713d358d9347259c6ffee8acfd3a92",
      "value": " 440M/440M [00:02&lt;00:00, 202MB/s]"
     }
    },
    "be79d8c5fb464923941a29955f261235": {
     "model_module": "@jupyter-widgets/base",
     "model_name": "LayoutModel",
     "model_module_version": "1.2.0",
     "state": {
      "_model_module": "@jupyter-widgets/base",
      "_model_module_version": "1.2.0",
      "_model_name": "LayoutModel",
      "_view_count": null,
      "_view_module": "@jupyter-widgets/base",
      "_view_module_version": "1.2.0",
      "_view_name": "LayoutView",
      "align_content": null,
      "align_items": null,
      "align_self": null,
      "border": null,
      "bottom": null,
      "display": null,
      "flex": null,
      "flex_flow": null,
      "grid_area": null,
      "grid_auto_columns": null,
      "grid_auto_flow": null,
      "grid_auto_rows": null,
      "grid_column": null,
      "grid_gap": null,
      "grid_row": null,
      "grid_template_areas": null,
      "grid_template_columns": null,
      "grid_template_rows": null,
      "height": null,
      "justify_content": null,
      "justify_items": null,
      "left": null,
      "margin": null,
      "max_height": null,
      "max_width": null,
      "min_height": null,
      "min_width": null,
      "object_fit": null,
      "object_position": null,
      "order": null,
      "overflow": null,
      "overflow_x": null,
      "overflow_y": null,
      "padding": null,
      "right": null,
      "top": null,
      "visibility": null,
      "width": null
     }
    },
    "f690a39dd19e4a8a95ab61b3d33e07a7": {
     "model_module": "@jupyter-widgets/base",
     "model_name": "LayoutModel",
     "model_module_version": "1.2.0",
     "state": {
      "_model_module": "@jupyter-widgets/base",
      "_model_module_version": "1.2.0",
      "_model_name": "LayoutModel",
      "_view_count": null,
      "_view_module": "@jupyter-widgets/base",
      "_view_module_version": "1.2.0",
      "_view_name": "LayoutView",
      "align_content": null,
      "align_items": null,
      "align_self": null,
      "border": null,
      "bottom": null,
      "display": null,
      "flex": null,
      "flex_flow": null,
      "grid_area": null,
      "grid_auto_columns": null,
      "grid_auto_flow": null,
      "grid_auto_rows": null,
      "grid_column": null,
      "grid_gap": null,
      "grid_row": null,
      "grid_template_areas": null,
      "grid_template_columns": null,
      "grid_template_rows": null,
      "height": null,
      "justify_content": null,
      "justify_items": null,
      "left": null,
      "margin": null,
      "max_height": null,
      "max_width": null,
      "min_height": null,
      "min_width": null,
      "object_fit": null,
      "object_position": null,
      "order": null,
      "overflow": null,
      "overflow_x": null,
      "overflow_y": null,
      "padding": null,
      "right": null,
      "top": null,
      "visibility": null,
      "width": null
     }
    },
    "9dd411b76d1045ea9e3e887d265580ab": {
     "model_module": "@jupyter-widgets/controls",
     "model_name": "DescriptionStyleModel",
     "model_module_version": "1.5.0",
     "state": {
      "_model_module": "@jupyter-widgets/controls",
      "_model_module_version": "1.5.0",
      "_model_name": "DescriptionStyleModel",
      "_view_count": null,
      "_view_module": "@jupyter-widgets/base",
      "_view_module_version": "1.2.0",
      "_view_name": "StyleView",
      "description_width": ""
     }
    },
    "321776a1a0b34e4c8134cbec97e5d88a": {
     "model_module": "@jupyter-widgets/base",
     "model_name": "LayoutModel",
     "model_module_version": "1.2.0",
     "state": {
      "_model_module": "@jupyter-widgets/base",
      "_model_module_version": "1.2.0",
      "_model_name": "LayoutModel",
      "_view_count": null,
      "_view_module": "@jupyter-widgets/base",
      "_view_module_version": "1.2.0",
      "_view_name": "LayoutView",
      "align_content": null,
      "align_items": null,
      "align_self": null,
      "border": null,
      "bottom": null,
      "display": null,
      "flex": null,
      "flex_flow": null,
      "grid_area": null,
      "grid_auto_columns": null,
      "grid_auto_flow": null,
      "grid_auto_rows": null,
      "grid_column": null,
      "grid_gap": null,
      "grid_row": null,
      "grid_template_areas": null,
      "grid_template_columns": null,
      "grid_template_rows": null,
      "height": null,
      "justify_content": null,
      "justify_items": null,
      "left": null,
      "margin": null,
      "max_height": null,
      "max_width": null,
      "min_height": null,
      "min_width": null,
      "object_fit": null,
      "object_position": null,
      "order": null,
      "overflow": null,
      "overflow_x": null,
      "overflow_y": null,
      "padding": null,
      "right": null,
      "top": null,
      "visibility": null,
      "width": null
     }
    },
    "1901462b19d448288b696a55d337a228": {
     "model_module": "@jupyter-widgets/controls",
     "model_name": "ProgressStyleModel",
     "model_module_version": "1.5.0",
     "state": {
      "_model_module": "@jupyter-widgets/controls",
      "_model_module_version": "1.5.0",
      "_model_name": "ProgressStyleModel",
      "_view_count": null,
      "_view_module": "@jupyter-widgets/base",
      "_view_module_version": "1.2.0",
      "_view_name": "StyleView",
      "bar_color": null,
      "description_width": ""
     }
    },
    "eb9e260e53964c71a21f3ce0622394e6": {
     "model_module": "@jupyter-widgets/base",
     "model_name": "LayoutModel",
     "model_module_version": "1.2.0",
     "state": {
      "_model_module": "@jupyter-widgets/base",
      "_model_module_version": "1.2.0",
      "_model_name": "LayoutModel",
      "_view_count": null,
      "_view_module": "@jupyter-widgets/base",
      "_view_module_version": "1.2.0",
      "_view_name": "LayoutView",
      "align_content": null,
      "align_items": null,
      "align_self": null,
      "border": null,
      "bottom": null,
      "display": null,
      "flex": null,
      "flex_flow": null,
      "grid_area": null,
      "grid_auto_columns": null,
      "grid_auto_flow": null,
      "grid_auto_rows": null,
      "grid_column": null,
      "grid_gap": null,
      "grid_row": null,
      "grid_template_areas": null,
      "grid_template_columns": null,
      "grid_template_rows": null,
      "height": null,
      "justify_content": null,
      "justify_items": null,
      "left": null,
      "margin": null,
      "max_height": null,
      "max_width": null,
      "min_height": null,
      "min_width": null,
      "object_fit": null,
      "object_position": null,
      "order": null,
      "overflow": null,
      "overflow_x": null,
      "overflow_y": null,
      "padding": null,
      "right": null,
      "top": null,
      "visibility": null,
      "width": null
     }
    },
    "27713d358d9347259c6ffee8acfd3a92": {
     "model_module": "@jupyter-widgets/controls",
     "model_name": "DescriptionStyleModel",
     "model_module_version": "1.5.0",
     "state": {
      "_model_module": "@jupyter-widgets/controls",
      "_model_module_version": "1.5.0",
      "_model_name": "DescriptionStyleModel",
      "_view_count": null,
      "_view_module": "@jupyter-widgets/base",
      "_view_module_version": "1.2.0",
      "_view_name": "StyleView",
      "description_width": ""
     }
    }
   }
  }
 },
 "cells": [
  {
   "cell_type": "markdown",
   "source": [
    "# Retrieval-Augmented Generation(RAG) from Scratch"
   ],
   "metadata": {
    "id": "CVjHcUsRyM7I"
   }
  },
  {
   "cell_type": "markdown",
   "source": [
    "In this notebook, we will build a Retrieval-Augmented Generation(RAG) pipeline from scratch without using any popular libraries such as Langchain or Llamaindex.\n",
    "\n",
    "RAG is a technique that retrieves related documents to the user's question, combines them with LLM-base prompt, and sends them to LLMs like GPT to produce more factually accurate generation."
   ],
   "metadata": {
    "id": "WjJnK8VHx4r1"
   }
  },
  {
   "cell_type": "markdown",
   "source": [
    "Lets Split RAG Pipeline into 5 parts:\n",
    "\n",
    "1. Data loading\n",
    "2. Chunking and Embedding\n",
    "3. Vector Store\n",
    "4. Retrieval & Prompt preparation\n",
    "5. Answer Generation"
   ],
   "metadata": {
    "id": "pvGgyVYb7JNs"
   }
  },
  {
   "cell_type": "markdown",
   "source": [
    "Here is an image illustrating the RAG process\n",
    "\n",
    "![flow](data:image/png;base64,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)"
   ],
   "metadata": {
    "id": "DTE0cKVh7oES"
   }
  },
  {
   "cell_type": "markdown",
   "source": [
    "## Install Dependencies"
   ],
   "metadata": {
    "id": "rmiiI22M4aPK"
   }
  },
  {
   "cell_type": "code",
   "source": [
    "# Install\n",
    "!pip install transformers scikit-learn docx2txt datasets nltk lancedb openai==0.28 -q"
   ],
   "metadata": {
    "id": "aGP9H97ghb9-",
    "colab": {
     "base_uri": "https://localhost:8080/"
    },
    "outputId": "7b3c4d2a-c2ab-4b4d-8019-b83d0af518bf"
   },
   "execution_count": null,
   "outputs": [
    {
     "output_type": "stream",
     "name": "stdout",
     "text": [
      "  Preparing metadata (setup.py) ... \u001b[?25l\u001b[?25hdone\n",
      "\u001b[2K     \u001b[90m━━━━━━━━━━━━━━━━━━━━━━━━━━━━━━━━━━━━━━━━\u001b[0m \u001b[32m510.5/510.5 kB\u001b[0m \u001b[31m3.4 MB/s\u001b[0m eta \u001b[36m0:00:00\u001b[0m\n",
      "\u001b[2K     \u001b[90m━━━━━━━━━━━━━━━━━━━━━━━━━━━━━━━━━━━━━━━━\u001b[0m \u001b[32m21.3/21.3 MB\u001b[0m \u001b[31m43.0 MB/s\u001b[0m eta \u001b[36m0:00:00\u001b[0m\n",
      "\u001b[2K     \u001b[90m━━━━━━━━━━━━━━━━━━━━━━━━━━━━━━━━━━━━━━━━\u001b[0m \u001b[32m76.5/76.5 kB\u001b[0m \u001b[31m10.7 MB/s\u001b[0m eta \u001b[36m0:00:00\u001b[0m\n",
      "\u001b[2K     \u001b[90m━━━━━━━━━━━━━━━━━━━━━━━━━━━━━━━━━━━━━━━━\u001b[0m \u001b[32m116.3/116.3 kB\u001b[0m \u001b[31m14.0 MB/s\u001b[0m eta \u001b[36m0:00:00\u001b[0m\n",
      "\u001b[2K     \u001b[90m━━━━━━━━━━━━━━━━━━━━━━━━━━━━━━━━━━━━━━━━\u001b[0m \u001b[32m134.8/134.8 kB\u001b[0m \u001b[31m19.2 MB/s\u001b[0m eta \u001b[36m0:00:00\u001b[0m\n",
      "\u001b[2K     \u001b[90m━━━━━━━━━━━━━━━━━━━━━━━━━━━━━━━━━━━━━━━━\u001b[0m \u001b[32m21.5/21.5 MB\u001b[0m \u001b[31m51.0 MB/s\u001b[0m eta \u001b[36m0:00:00\u001b[0m\n",
      "\u001b[2K     \u001b[90m━━━━━━━━━━━━━━━━━━━━━━━━━━━━━━━━━━━━━━━━\u001b[0m \u001b[32m98.7/98.7 kB\u001b[0m \u001b[31m14.4 MB/s\u001b[0m eta \u001b[36m0:00:00\u001b[0m\n",
      "\u001b[?25h  Building wheel for docx2txt (setup.py) ... \u001b[?25l\u001b[?25hdone\n"
     ]
    }
   ]
  },
  {
   "cell_type": "markdown",
   "source": [
    "### Set OPENAI API KEY as env variable"
   ],
   "metadata": {
    "id": "ygbayCQH6tlr"
   }
  },
  {
   "cell_type": "code",
   "source": [
    "# Set OPENAI_API_KEY\n",
    "\n",
    "import os\n",
    "\n",
    "os.environ[\"OPENAI_API_KEY\"] = \"sk-...\""
   ],
   "metadata": {
    "id": "hOP0kua_q2lp"
   },
   "execution_count": null,
   "outputs": []
  },
  {
   "cell_type": "markdown",
   "source": [
    "## Data Loading"
   ],
   "metadata": {
    "id": "BcX8B04yCp7x"
   }
  },
  {
   "cell_type": "code",
   "source": [
    "# Load text\n",
    "\n",
    "# !wget link\n",
    "with open(\"lease.txt\", \"r\") as file:\n",
    "    text_data = file.read()"
   ],
   "metadata": {
    "id": "GNdKH6GuOuo3"
   },
   "execution_count": null,
   "outputs": []
  },
  {
   "cell_type": "markdown",
   "source": [
    "## Data Chunking and Embedding"
   ],
   "metadata": {
    "id": "J9ZADS66CuK9"
   }
  },
  {
   "cell_type": "code",
   "source": [
    "# Recursive Text Splitter\n",
    "\n",
    "import nltk\n",
    "\n",
    "nltk.download(\"punkt\")\n",
    "from nltk.tokenize import sent_tokenize\n",
    "import re\n",
    "\n",
    "\n",
    "def recursive_text_splitter(text, max_chunk_length=1000, overlap=100):\n",
    "    \"\"\"\n",
    "    Helper function for chunking text recursively\n",
    "    \"\"\"\n",
    "    # Initialize result\n",
    "    result = []\n",
    "\n",
    "    current_chunk_count = 0\n",
    "    separator = [\"\\n\", \" \"]\n",
    "    _splits = re.split(f\"({separator})\", text)\n",
    "    splits = [_splits[i] + _splits[i + 1] for i in range(1, len(_splits), 2)]\n",
    "\n",
    "    for i in range(len(splits)):\n",
    "        if current_chunk_count != 0:\n",
    "            chunk = \"\".join(\n",
    "                splits[\n",
    "                    current_chunk_count\n",
    "                    - overlap : current_chunk_count\n",
    "                    + max_chunk_length\n",
    "                ]\n",
    "            )\n",
    "        else:\n",
    "            chunk = \"\".join(splits[0:max_chunk_length])\n",
    "\n",
    "        if len(chunk) > 0:\n",
    "            result.append(\"\".join(chunk))\n",
    "        current_chunk_count += max_chunk_length\n",
    "\n",
    "    return result"
   ],
   "metadata": {
    "colab": {
     "base_uri": "https://localhost:8080/"
    },
    "id": "n_O8DxuqGPKx",
    "outputId": "db3b9321-7ecf-401b-e54e-3e962c041bd5"
   },
   "execution_count": null,
   "outputs": [
    {
     "output_type": "stream",
     "name": "stderr",
     "text": [
      "[nltk_data] Downloading package punkt to /root/nltk_data...\n",
      "[nltk_data]   Unzipping tokenizers/punkt.zip.\n"
     ]
    }
   ]
  },
  {
   "cell_type": "code",
   "source": [
    "# Split the text using the recursive character text splitter\n",
    "chunks = recursive_text_splitter(text_data, max_chunk_length=100, overlap=10)\n",
    "print(\"Number of Chunks: \", len(chunks))"
   ],
   "metadata": {
    "colab": {
     "base_uri": "https://localhost:8080/"
    },
    "id": "kQ9MggTd1nQU",
    "outputId": "791d6cae-73fb-4b2a-9536-592b49346835"
   },
   "execution_count": null,
   "outputs": [
    {
     "output_type": "stream",
     "name": "stdout",
     "text": [
      "Number of Chunks:  11\n"
     ]
    }
   ]
  },
  {
   "cell_type": "markdown",
   "source": [
    "### Embedder"
   ],
   "metadata": {
    "id": "HoGDypAnC5ZS"
   }
  },
  {
   "cell_type": "code",
   "source": [
    "from transformers import AutoTokenizer, AutoModel\n",
    "import torch\n",
    "\n",
    "# Choose a pre-trained model (e.g., BERT, RoBERTa, etc.)\n",
    "# Load the tokenizer and model\n",
    "model_name = \"bert-base-uncased\"\n",
    "tokenizer = AutoTokenizer.from_pretrained(model_name)\n",
    "model = AutoModel.from_pretrained(model_name)\n",
    "\n",
    "\n",
    "def embedder(chunk):\n",
    "    \"\"\"\n",
    "    Helper function to embed chunk of text\n",
    "    \"\"\"\n",
    "    # Tokenize the input text\n",
    "    tokens = tokenizer(chunk, return_tensors=\"pt\", padding=True, truncation=True)\n",
    "\n",
    "    # Get the model's output (including embeddings)\n",
    "    with torch.no_grad():\n",
    "        model_output = model(**tokens)\n",
    "\n",
    "    # Extract the embeddings\n",
    "    embeddings = model_output.last_hidden_state[:, 0, :]\n",
    "    embed = embeddings[0].numpy()\n",
    "    return embed"
   ],
   "metadata": {
    "colab": {
     "base_uri": "https://localhost:8080/",
     "height": 301,
     "referenced_widgets": [
      "e4c6e5d0090e436cb885385e8e68f357",
      "35d8e64a2e674ed3959626670ff09853",
      "dc4a003d97de4b37a141257473a3b59a",
      "0d02407716aa4837860a2ff0ad882ac1",
      "68a3d158238e4896a7943fccd549dbd5",
      "4ca5db02add34e33ad9b3ba0e87a9d26",
      "ee33d0cd81234d94847d2b8c6535ee39",
      "9e91359e22d7489c8f1701ba6dbb7787",
      "3c9f94e4b37f4147948be5b0eb5242db",
      "eb22c54b877f4c33b96c403f0e596518",
      "0aab614b9920447bbd7d67de4f3485e7",
      "4bee37ac3b7d4c78b4ba060a81db0058",
      "164b86b6d6694aff95e1266a1885efbd",
      "afbcb78432e0404a999a4d51261bfa85",
      "3e781910d0fd45469b4bbc69b148504f",
      "19d74cef120a496298393b06d6715e32",
      "745947ded8144803aeeebe36eb40c4c4",
      "2bdc1e2bd613491b9342420e87b50b54",
      "bcc9786aa0514c7a876a8065de0f5fdb",
      "8d3450b98af642f4822158194cf4a503",
      "6f0f67e242da46f8959dd88bfad3a49c",
      "82d1f9c1f8374747b44b09575a780a7b",
      "284ffc0c8c264984a5f495080f791eca",
      "a4d33c5d7797493eba3cf066d3e8451d",
      "85d075b7d8a84a1794f929ddf16f11e2",
      "88970a7bcaff461f801efd843ee4a8db",
      "ff3be2d8cecd49a0aba64264e6869f26",
      "e3631128e4be4a11bdf0ebcaf2993f61",
      "55d3c015ec2e4ee185590601a1cf8d4e",
      "7b82144162044815b6a060fde1518904",
      "999d4b0010904b189713b60fe1209842",
      "0a29a69c9008437082e94cfbd5d689a0",
      "7366b19dc1e0421a82d6dd579435137d",
      "36955454f0bf46ce92b0fa77dea2a07a",
      "364885da6664490bbe1541043b9178e4",
      "d43d8a93a4904b40ab4d308ab285cf02",
      "b893410f3edc40af8e0863df97c86ae5",
      "b8ad205864b64f1daae7604f0ba08133",
      "54186ef93d90443dbcf3e722565d4096",
      "55a5f7deeab14d1cacd1fa04be22b95d",
      "118cf8575e6c4952b3b33ea4ec1a1e9b",
      "5a5c3c397dd44d478249c0295a16f238",
      "c38ed191048e4a328ff591d133371e3c",
      "c86cdc05d3db41a1904d7aafd03eeab3",
      "e56605bc1f084f5994509839b10e85b3",
      "83d2c50e80744755b572a3022a3a6f2f",
      "6db50c93fc764ac093829a76070e7c62",
      "38d9c91b5d0b4a509058886d039a217f",
      "be79d8c5fb464923941a29955f261235",
      "f690a39dd19e4a8a95ab61b3d33e07a7",
      "9dd411b76d1045ea9e3e887d265580ab",
      "321776a1a0b34e4c8134cbec97e5d88a",
      "1901462b19d448288b696a55d337a228",
      "eb9e260e53964c71a21f3ce0622394e6",
      "27713d358d9347259c6ffee8acfd3a92"
     ]
    },
    "id": "YGuX1MAjIsA0",
    "outputId": "2a019b68-268f-4fc3-eb30-e172139b6e11"
   },
   "execution_count": null,
   "outputs": [
    {
     "output_type": "stream",
     "name": "stderr",
     "text": [
      "/usr/local/lib/python3.10/dist-packages/huggingface_hub/utils/_token.py:88: UserWarning: \n",
      "The secret `HF_TOKEN` does not exist in your Colab secrets.\n",
      "To authenticate with the Hugging Face Hub, create a token in your settings tab (https://huggingface.co/settings/tokens), set it as secret in your Google Colab and restart your session.\n",
      "You will be able to reuse this secret in all of your notebooks.\n",
      "Please note that authentication is recommended but still optional to access public models or datasets.\n",
      "  warnings.warn(\n"
     ]
    },
    {
     "output_type": "display_data",
     "data": {
      "text/plain": [
       "tokenizer_config.json:   0%|          | 0.00/48.0 [00:00<?, ?B/s]"
      ],
      "application/vnd.jupyter.widget-view+json": {
       "version_major": 2,
       "version_minor": 0,
       "model_id": "e4c6e5d0090e436cb885385e8e68f357"
      }
     },
     "metadata": {}
    },
    {
     "output_type": "display_data",
     "data": {
      "text/plain": [
       "config.json:   0%|          | 0.00/570 [00:00<?, ?B/s]"
      ],
      "application/vnd.jupyter.widget-view+json": {
       "version_major": 2,
       "version_minor": 0,
       "model_id": "4bee37ac3b7d4c78b4ba060a81db0058"
      }
     },
     "metadata": {}
    },
    {
     "output_type": "display_data",
     "data": {
      "text/plain": [
       "vocab.txt:   0%|          | 0.00/232k [00:00<?, ?B/s]"
      ],
      "application/vnd.jupyter.widget-view+json": {
       "version_major": 2,
       "version_minor": 0,
       "model_id": "284ffc0c8c264984a5f495080f791eca"
      }
     },
     "metadata": {}
    },
    {
     "output_type": "display_data",
     "data": {
      "text/plain": [
       "tokenizer.json:   0%|          | 0.00/466k [00:00<?, ?B/s]"
      ],
      "application/vnd.jupyter.widget-view+json": {
       "version_major": 2,
       "version_minor": 0,
       "model_id": "36955454f0bf46ce92b0fa77dea2a07a"
      }
     },
     "metadata": {}
    },
    {
     "output_type": "display_data",
     "data": {
      "text/plain": [
       "model.safetensors:   0%|          | 0.00/440M [00:00<?, ?B/s]"
      ],
      "application/vnd.jupyter.widget-view+json": {
       "version_major": 2,
       "version_minor": 0,
       "model_id": "e56605bc1f084f5994509839b10e85b3"
      }
     },
     "metadata": {}
    }
   ]
  },
  {
   "cell_type": "code",
   "source": [
    "# Embed all the chunks of text\n",
    "embeds = []\n",
    "for chunk in chunks:\n",
    "    embed = embedder(chunks)\n",
    "    embeds.append(embed)"
   ],
   "metadata": {
    "id": "rCVdPLYm_oig"
   },
   "execution_count": null,
   "outputs": []
  },
  {
   "cell_type": "markdown",
   "source": [
    "## Vector Store"
   ],
   "metadata": {
    "id": "frV9INBTDAsf"
   }
  },
  {
   "cell_type": "code",
   "source": [
    "# Insert text chunks with their embeddings\n",
    "\n",
    "import lancedb\n",
    "\n",
    "\n",
    "def prepare_data(chunks, embeddings):\n",
    "    \"\"\"\n",
    "    Helper function to prepare data to insert in LanceDB\n",
    "    \"\"\"\n",
    "    data = []\n",
    "    for chunk, embed in zip(chunks, embeddings):\n",
    "        temp = {}\n",
    "        temp[\"text\"] = chunk\n",
    "        temp[\"vector\"] = embed\n",
    "        data.append(temp)\n",
    "    return data\n",
    "\n",
    "\n",
    "def lanceDBConnection(chunks, embeddings):\n",
    "    \"\"\"\n",
    "    LanceDB insertion\n",
    "    \"\"\"\n",
    "    db = lancedb.connect(\"/tmp/lancedb\")\n",
    "    data = prepare_data(chunks, embeddings)\n",
    "    table = db.create_table(\n",
    "        \"scratch\",\n",
    "        data=data,\n",
    "        mode=\"overwrite\",\n",
    "    )\n",
    "    return table\n",
    "\n",
    "\n",
    "table = lanceDBConnection(chunks, embeds)"
   ],
   "metadata": {
    "id": "c1IqsxywNt3t"
   },
   "execution_count": null,
   "outputs": []
  },
  {
   "cell_type": "markdown",
   "source": [
    "## Retriever & Prompt preparation"
   ],
   "metadata": {
    "id": "7nzycQrJDEc4"
   }
  },
  {
   "cell_type": "code",
   "source": [
    "# Retriever\n",
    "k = 5\n",
    "question = \"What is issue date of lease?\"\n",
    "\n",
    "# Embed Question\n",
    "query_embedding = embedder(question)\n",
    "# Semantic Search\n",
    "result = table.search(query_embedding).limit(5).to_list()"
   ],
   "metadata": {
    "id": "uEUUo1Jko05R"
   },
   "execution_count": null,
   "outputs": []
  },
  {
   "cell_type": "code",
   "source": [
    "context = [r[\"text\"] for r in result]\n",
    "context"
   ],
   "metadata": {
    "colab": {
     "base_uri": "https://localhost:8080/"
    },
    "id": "LeOo_JkFwyqY",
    "outputId": "6752cfcb-2b0b-486e-971b-57e5516c140a"
   },
   "execution_count": null,
   "outputs": [
    {
     "output_type": "execute_result",
     "data": {
      "text/plain": [
       "[' 2 elmonteleaseforfiling.htm MATERIAL CONTRACT\\nCOMMERCIAL LEASE AGREEMENT\\n\\n\\n\\nTHIS LEASE AGREEMENT is made and entered into on December 1, 2013, by and between Temple CB, LLC, whose address is 4350 Temple City Boulevard, El Monte, California 91731 (hereinafter referred to as \"Landlord\"), and Okra Energy, Inc., whose address is 4350 Temple City Boulevard, El Monte, California 91731 (hereinafter referred to as \"Tenant\").\\n\\n\\n\\nARTICLE I - GRANT OF LEASE\\n\\n\\n\\nLandlord, in consideration of the rents to be paid and the covenants',\n",
       " ' consideration of the rents to be paid and the covenants and agreements to be performed and observed by the Tenant, does hereby lease to the Tenant and the Tenant does hereby lease and take from the Landlord the property described in Exhibit \"A\" attached hereto and by reference made a part hereof (the \"Leased Premises\"), together with, as part of the parcel, all improvements located thereon.\\n\\n\\n\\nARTICLE II - LEASE TERM\\n\\n\\n\\nSection l.  Term of Lease.  The term of this Lease shall begin on the Commencement Date, as defined in Section 2 of this Article II,',\n",
       " ' as defined in Section 2 of this Article II, and shall terminate on May 31, 2020 (\"the Termination Date\"); provided, however, that at the option of Tenant, Tenant may renew this Lease for five additional successive one- year terms at a Monthly Rent of $100,000 per month, provided that notice of such renewal is given in writing no less than 120 days prior to the Termination Date or the expiration of any one-year renewal term. Tenant may at any time cancel this Lease and terminate all of its obligations hereunder by the payment of $300,000, plus all other amounts then due',\n",
       " ' of $300,000, plus all other amounts then due under this Lease.\\n\\n\\n\\nSection 2.  Commencement Date. The \"Commencement Date\" shall mean  December 1, 2013.\\n\\n\\n\\nARTICLE III - EXTENSIONS\\n\\n\\n\\nThe parties hereto may elect to extend this Agreement upon such terms and conditions as may be agreed upon in writing and signed by the parties at the time of any such extension.\\n\\n\\n\\nARTICLE IV - DETERMINATION OF RENT\\n\\n\\n\\nSection 1. Monthly Rent: The Tenant agrees to pay the Landlord and the Landlord agrees to accept, during the term hereof, at',\n",
       " ' agrees to accept, during the term hereof, at such place as the Landlord shall from time to time direct by notice to the Tenant, monthly rent of $40,000.\\n\\n\\nSection 2.  Late Fee.  A late fee in the amount of 5% of the Monthly Rent shall be assessed if payment is not postmarked or received by Landlord on or before the tenth day of each month.\\n\\n\\n\\nARTICLE V - SECURITY DEPOSIT\\n\\n\\n\\nThe Tenant has deposited with the Landlord the sum of Twenty Thousand Dollars ($20,000.00) as security for the full and faithful performance by the Tenant']"
      ]
     },
     "metadata": {},
     "execution_count": 13
    }
   ]
  },
  {
   "cell_type": "code",
   "source": [
    "# Context Prompt\n",
    "\n",
    "base_prompt = \"\"\"You are an AI assistant. Your task is to understand the user question, and provide an answer using the provided contexts. Every answer you generate should have citations in this pattern  \"Answer [position].\", for example: \"Earth is round [1][2].,\" if it's relevant.\n",
    "\n",
    "Your answers are correct, high-quality, and written by an domain expert. If the provided context does not contain the answer, simply state, \"The provided context does not have the answer.\"\n",
    "\n",
    "User question: {}\n",
    "\n",
    "Contexts:\n",
    "{}\n",
    "\"\"\""
   ],
   "metadata": {
    "id": "3AoAKFBdFrCt"
   },
   "execution_count": null,
   "outputs": []
  },
  {
   "cell_type": "markdown",
   "source": [
    "## Answer Generation"
   ],
   "metadata": {
    "id": "txqygIfrDSQD"
   }
  },
  {
   "cell_type": "code",
   "source": [
    "import openai\n",
    "\n",
    "# llm\n",
    "prompt = f\"{base_prompt.format(question, context)}\"\n",
    "response = openai.ChatCompletion.create(\n",
    "    model=\"gpt-3.5-turbo-16k-0613\",\n",
    "    temperature=0,\n",
    "    messages=[\n",
    "        {\"role\": \"system\", \"content\": prompt},\n",
    "    ],\n",
    ")\n",
    "\n",
    "print(response.choices[0].message.content)"
   ],
   "metadata": {
    "colab": {
     "base_uri": "https://localhost:8080/"
    },
    "id": "4hhdqV9PqbA0",
    "outputId": "e7a82253-a615-4396-e0b9-ef631c7be51b"
   },
   "execution_count": null,
   "outputs": [
    {
     "output_type": "stream",
     "name": "stdout",
     "text": [
      "The issue date of the lease is December 1, 2013 [1].\n"
     ]
    }
   ]
  }
 ]
}
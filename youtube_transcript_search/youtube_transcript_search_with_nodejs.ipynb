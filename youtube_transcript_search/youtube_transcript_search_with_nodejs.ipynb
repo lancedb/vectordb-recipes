{
 "cells": [
  {
   "attachments": {},
   "cell_type": "markdown",
   "metadata": {},
   "source": [
    "# YouTube transcript QA bot with NodeJS\n",
    "\n",
    "## use LanceDB's Javascript API and OpenAI to build a QA bot for YouTube transcripts\n",
    "\n",
    "<img id=\"splash\" width=\"400\" alt=\"nodejs\" src=\"https://github.com/lancedb/lancedb/assets/917119/3a140e75-bf8e-438a-a1e4-af14a72bcf98\">\n",
    "\n",
    "This Q&A bot will allow you to search through youtube transcripts using natural language! We'll introduce how to use LanceDB's Javascript API to store and manage your data easily."
   ]
  },
  {
   "cell_type": "code",
   "execution_count": null,
   "metadata": {
    "vscode": {
     "languageId": "plaintext"
    }
   },
   "outputs": [],
   "source": [
    "%%bash\n",
    "npm install vectordb"
   ]
  },
  {
   "attachments": {},
   "cell_type": "markdown",
   "metadata": {},
   "source": [
    "## Download the data\n",
    "\n",
    "For this example, we're using a sample of a HuggingFace dataset that contains YouTube transcriptions: `jamescalam/youtube-transcriptions`. Download and extract this file under the `data` folder:"
   ]
  },
  {
   "cell_type": "code",
   "execution_count": null,
   "metadata": {
    "vscode": {
     "languageId": "plaintext"
    }
   },
   "outputs": [],
   "source": [
    "%%bash\n",
    "wget -c https://eto-public.s3.us-west-2.amazonaws.com/datasets/youtube_transcript/youtube-transcriptions_sample.jsonl"
   ]
  },
  {
   "attachments": {},
   "cell_type": "markdown",
   "metadata": {},
   "source": [
    "## Prepare Context\n",
    "\n",
    "Each item in the dataset contains just a short chunk of text. We'll need to merge a bunch of these chunks together on a rolling basis. For this demo, we'll look back 20 records to create a more complete context for each sentence.\n",
    "\n",
    "First, we need to read and parse the input file.\n"
   ]
  },
  {
   "cell_type": "code",
   "execution_count": null,
   "metadata": {
    "vscode": {
     "languageId": "javascript"
    }
   },
   "outputs": [],
   "source": [
    "const lines = (await fs.readFile(INPUT_FILE_NAME, 'utf-8'))\n",
    "  .toString()\n",
    "  .split('\\n')\n",
    "  .filter(line => line.length > 0)\n",
    "  .map(line => JSON.parse(line))\n",
    "\n",
    "const data = contextualize(lines, 20, 'video_id')"
   ]
  },
  {
   "attachments": {},
   "cell_type": "markdown",
   "metadata": {},
   "source": [
    "The contextualize function groups the transcripts by video_id and then creates the expanded context for each item."
   ]
  },
  {
   "cell_type": "code",
   "execution_count": null,
   "metadata": {
    "vscode": {
     "languageId": "javascript"
    }
   },
   "outputs": [],
   "source": [
    "function contextualize (rows, contextSize, groupColumn) {\n",
    "  const grouped = []\n",
    "  rows.forEach(row => {\n",
    "    if (!grouped[row[groupColumn]]) {\n",
    "      grouped[row[groupColumn]] = []\n",
    "    }\n",
    "    grouped[row[groupColumn]].push(row)\n",
    "  })\n",
    "\n",
    "  const data = []\n",
    "  Object.keys(grouped).forEach(key => {\n",
    "    for (let i = 0; i < grouped[key].length; i++) {\n",
    "      const start = i - contextSize > 0 ? i - contextSize : 0\n",
    "      grouped[key][i].context = grouped[key].slice(start, i + 1).map(r => r.text).join(' ')\n",
    "    }\n",
    "    data.push(...grouped[key])\n",
    "  })\n",
    "  return data\n",
    "}"
   ]
  },
  {
   "attachments": {},
   "cell_type": "markdown",
   "metadata": {},
   "source": [
    "## Create the LanceDB Table\n",
    "\n",
    "To load our data into LanceDB, we need to create embedding (vectors) for each item. For this example, we will use the OpenAI embedding functions, which have a native integration with LanceDB."
   ]
  },
  {
   "cell_type": "code",
   "execution_count": null,
   "metadata": {
    "vscode": {
     "languageId": "javascript"
    }
   },
   "outputs": [],
   "source": [
    "// You need to provide an OpenAI API key, here we read it from the OPENAI_API_KEY environment variable\n",
    "const apiKey = process.env.OPENAI_API_KEY\n",
    "// The embedding function will create embeddings for the 'context' column\n",
    "const embedFunction = new lancedb.OpenAIEmbeddingFunction('context', apiKey)\n",
    "// Connects to LanceDB\n",
    "const db = await lancedb.connect('data/youtube-lancedb')\n",
    "const tbl = await db.createTable('vectors', data, embedFunction)"
   ]
  },
  {
   "attachments": {},
   "cell_type": "markdown",
   "metadata": {},
   "source": [
    "## Create and answer the prompt\n",
    "\n",
    "We will accept questions in natural language and use our corpus stored in LanceDB to answer them. First, we need to set up the OpenAI client:"
   ]
  },
  {
   "cell_type": "code",
   "execution_count": null,
   "metadata": {
    "vscode": {
     "languageId": "javascript"
    }
   },
   "outputs": [],
   "source": [
    "const configuration = new Configuration({ apiKey })\n",
    "const openai = new OpenAIApi(configuration)"
   ]
  },
  {
   "attachments": {},
   "cell_type": "markdown",
   "metadata": {},
   "source": [
    "Then we can prompt questions and use LanceDB to retrieve the three most relevant transcripts for this prompt."
   ]
  },
  {
   "cell_type": "code",
   "execution_count": null,
   "metadata": {
    "vscode": {
     "languageId": "javascript"
    }
   },
   "outputs": [],
   "source": [
    "const query = await rl.question('Prompt: ')\n",
    "const results = await tbl\n",
    "  .search(query)\n",
    "  .select(['title', 'text', 'context'])\n",
    "  .limit(3)\n",
    "  .execute()"
   ]
  },
  {
   "attachments": {},
   "cell_type": "markdown",
   "metadata": {},
   "source": [
    "The query and the transcripts' context are appended together in a single prompt:"
   ]
  },
  {
   "cell_type": "code",
   "execution_count": null,
   "metadata": {
    "vscode": {
     "languageId": "javascript"
    }
   },
   "outputs": [],
   "source": [
    "function createPrompt (query, context) {\n",
    "  let prompt =\n",
    "      'Answer the question based on the context below.\\n\\n' +\n",
    "      'Context:\\n'\n",
    "\n",
    "  // need to make sure our prompt is not larger than max size\n",
    "  prompt = prompt + context.map(c => c.context).join('\\n\\n---\\n\\n').substring(0, 3750)\n",
    "  prompt = prompt + `\\n\\nQuestion: ${query}\\nAnswer:`\n",
    "  return prompt\n",
    "}"
   ]
  },
  {
   "attachments": {},
   "cell_type": "markdown",
   "metadata": {},
   "source": [
    "We can now use the OpenAI Completion API to process our custom prompt and give us an answer."
   ]
  },
  {
   "cell_type": "code",
   "execution_count": null,
   "metadata": {
    "vscode": {
     "languageId": "javascript"
    }
   },
   "outputs": [],
   "source": [
    "const response = await openai.createCompletion({\n",
    "  model: 'text-davinci-003',\n",
    "  prompt: createPrompt(query, results),\n",
    "  max_tokens: 400,\n",
    "  temperature: 0,\n",
    "  top_p: 1,\n",
    "  frequency_penalty: 0,\n",
    "  presence_penalty: 0\n",
    "})\n",
    "console.log(response.data.choices[0].text)"
   ]
  },
  {
   "attachments": {},
   "cell_type": "markdown",
   "metadata": {},
   "source": [
    "## Let's put it all together now\n",
    "\n",
    "Now we can provide queries and have them answered based on your local LanceDB data.\n"
   ]
  },
  {
   "cell_type": "raw",
   "metadata": {},
   "source": [
    "%%bash\n",
    "Prompt: who was the 12th person on the moon and when did they land?\n",
    " The 12th person on the moon was Harrison Schmitt and he landed on December 11, 1972.\n",
    "Prompt: Which training method should I use for sentence transformers when I only have pairs of related sentences?\n",
    " NLI with multiple negative ranking loss."
   ]
  },
  {
   "attachments": {},
   "cell_type": "markdown",
   "metadata": {},
   "source": [
    "## That's a wrap\n",
    "\n",
    "In this example, you learned how to use LanceDB to store and query embedding representations of your local data. The complete example code is on [GitHub](https://github.com/lancedb/lancedb/tree/main/node/examples), and you can also download the LanceDB dataset using [this link](https://eto-public.s3.us-west-2.amazonaws.com/datasets/youtube_transcript/youtube-lancedb.zip)."
   ]
  }
 ],
 "metadata": {
  "language_info": {
   "name": "python"
  },
  "orig_nbformat": 4
 },
 "nbformat": 4,
 "nbformat_minor": 2
}
